{
 "cells": [
  {
   "cell_type": "code",
   "execution_count": 1,
   "metadata": {
    "execution": {
     "iopub.execute_input": "2025-06-13T04:48:41.866185Z",
     "iopub.status.busy": "2025-06-13T04:48:41.865580Z",
     "iopub.status.idle": "2025-06-13T04:48:41.887081Z",
     "shell.execute_reply": "2025-06-13T04:48:41.886364Z",
     "shell.execute_reply.started": "2025-06-13T04:48:41.866160Z"
    },
    "trusted": true
   },
   "outputs": [],
   "source": [
    "import warnings\n",
    "warnings.filterwarnings(\"ignore\")"
   ]
  },
  {
   "cell_type": "code",
   "execution_count": 2,
   "metadata": {
    "_cell_guid": "b1076dfc-b9ad-4769-8c92-a6c4dae69d19",
    "_uuid": "8f2839f25d086af736a60e9eeb907d3b93b6e0e5",
    "execution": {
     "iopub.execute_input": "2025-06-13T04:48:57.521664Z",
     "iopub.status.busy": "2025-06-13T04:48:57.520821Z",
     "iopub.status.idle": "2025-06-13T04:48:57.525956Z",
     "shell.execute_reply": "2025-06-13T04:48:57.525346Z",
     "shell.execute_reply.started": "2025-06-13T04:48:57.521636Z"
    },
    "trusted": true
   },
   "outputs": [],
   "source": [
    "import tensorflow as tf\n",
    "from tensorflow.keras.applications import EfficientNetB0\n",
    "from tensorflow.keras.applications.efficientnet import preprocess_input\n",
    "from tensorflow.keras.models import Model\n",
    "from tensorflow.keras.layers import Dense, GlobalAveragePooling2D, Dropout\n",
    "from tensorflow.keras.optimizers import Adam\n",
    "from tensorflow.keras.callbacks import ModelCheckpoint, EarlyStopping, ReduceLROnPlateau\n",
    "import numpy as np\n",
    "import os\n",
    "import matplotlib.pyplot as plt\n",
    "from PIL import Image\n",
    "from sklearn.utils.class_weight import compute_class_weight\n",
    "import glob"
   ]
  },
  {
   "cell_type": "code",
   "execution_count": 3,
   "metadata": {
    "execution": {
     "iopub.execute_input": "2025-06-13T04:48:59.624998Z",
     "iopub.status.busy": "2025-06-13T04:48:59.624211Z",
     "iopub.status.idle": "2025-06-13T04:48:59.628699Z",
     "shell.execute_reply": "2025-06-13T04:48:59.627885Z",
     "shell.execute_reply.started": "2025-06-13T04:48:59.624972Z"
    },
    "trusted": true
   },
   "outputs": [],
   "source": [
    "# Set random seed for reproducibility\n",
    "tf.random.set_seed(42)\n",
    "np.random.seed(42)"
   ]
  },
  {
   "cell_type": "code",
   "execution_count": 4,
   "metadata": {
    "execution": {
     "iopub.execute_input": "2025-06-13T04:49:01.270212Z",
     "iopub.status.busy": "2025-06-13T04:49:01.269881Z",
     "iopub.status.idle": "2025-06-13T04:49:01.274817Z",
     "shell.execute_reply": "2025-06-13T04:49:01.274031Z",
     "shell.execute_reply.started": "2025-06-13T04:49:01.270190Z"
    },
    "trusted": true
   },
   "outputs": [],
   "source": [
    "#Define the paths\n",
    "base_dir = '/kaggle/input/new-plant-diseases-dataset/New Plant Diseases Dataset(Augmented)/New Plant Diseases Dataset(Augmented)'\n",
    "train_dir = os.path.join(base_dir, 'train')\n",
    "valid_dir = os.path.join(base_dir, 'valid')\n",
    "test_dir = '/kaggle/input/new-plant-diseases-dataset/test/test'"
   ]
  },
  {
   "cell_type": "code",
   "execution_count": 5,
   "metadata": {
    "execution": {
     "iopub.execute_input": "2025-06-13T04:49:02.744928Z",
     "iopub.status.busy": "2025-06-13T04:49:02.744637Z",
     "iopub.status.idle": "2025-06-13T04:49:02.756149Z",
     "shell.execute_reply": "2025-06-13T04:49:02.755456Z",
     "shell.execute_reply.started": "2025-06-13T04:49:02.744905Z"
    },
    "trusted": true
   },
   "outputs": [
    {
     "name": "stdout",
     "output_type": "stream",
     "text": [
      "Base directory exists: False\n",
      "Train directory exists: False\n",
      "Validation directory exists: False\n",
      "Test directory exists: False\n"
     ]
    }
   ],
   "source": [
    "print(\"Base directory exists:\", os.path.exists(base_dir))\n",
    "print(\"Train directory exists:\", os.path.exists(train_dir))\n",
    "print(\"Validation directory exists:\", os.path.exists(valid_dir))\n",
    "print(\"Test directory exists:\", os.path.exists(test_dir))"
   ]
  },
  {
   "cell_type": "code",
   "execution_count": 7,
   "metadata": {
    "execution": {
     "iopub.execute_input": "2025-06-13T04:49:04.457468Z",
     "iopub.status.busy": "2025-06-13T04:49:04.456810Z",
     "iopub.status.idle": "2025-06-13T04:49:04.460982Z",
     "shell.execute_reply": "2025-06-13T04:49:04.460312Z",
     "shell.execute_reply.started": "2025-06-13T04:49:04.457443Z"
    },
    "trusted": true
   },
   "outputs": [],
   "source": [
    "IMG_SIZE = (224, 224)\n",
    "BATCH_SIZE = 32"
   ]
  },
  {
   "cell_type": "code",
   "execution_count": 8,
   "metadata": {
    "execution": {
     "iopub.execute_input": "2025-06-13T04:49:10.455817Z",
     "iopub.status.busy": "2025-06-13T04:49:10.455211Z",
     "iopub.status.idle": "2025-06-13T04:49:10.460868Z",
     "shell.execute_reply": "2025-06-13T04:49:10.460089Z",
     "shell.execute_reply.started": "2025-06-13T04:49:10.455793Z"
    },
    "trusted": true
   },
   "outputs": [],
   "source": [
    "# Verify and clean images\n",
    "def verify_images(directory):\n",
    "    valid_extensions = ('.jpg', '.jpeg', '.png')\n",
    "    corrupted = 0\n",
    "    for root, _, files in os.walk(directory):\n",
    "        for file in files:\n",
    "            if file.lower().endswith(valid_extensions):\n",
    "                try:\n",
    "                    img = Image.open(os.path.join(root, file))\n",
    "                    img.verify()\n",
    "                except (IOError, SyntaxError) as e:\n",
    "                    print(f\"Corrupted image removed: {file}\")\n",
    "                    os.remove(os.path.join(root, file))\n",
    "                    corrupted += 1\n",
    "    print(f\"Removed {corrupted} corrupted images from {directory}\")"
   ]
  },
  {
   "cell_type": "code",
   "execution_count": null,
   "metadata": {
    "execution": {
     "iopub.execute_input": "2025-06-13T04:51:48.782030Z",
     "iopub.status.busy": "2025-06-13T04:51:48.781793Z"
    },
    "trusted": true
   },
   "outputs": [],
   "source": [
    "verify_images(train_dir)"
   ]
  },
  {
   "cell_type": "code",
   "execution_count": 28,
   "metadata": {
    "execution": {
     "iopub.execute_input": "2025-06-13T04:32:06.654436Z",
     "iopub.status.busy": "2025-06-13T04:32:06.654150Z",
     "iopub.status.idle": "2025-06-13T04:32:17.361365Z",
     "shell.execute_reply": "2025-06-13T04:32:17.360766Z",
     "shell.execute_reply.started": "2025-06-13T04:32:06.654413Z"
    },
    "trusted": true
   },
   "outputs": [
    {
     "name": "stdout",
     "output_type": "stream",
     "text": [
      "Removed 0 corrupted images from /kaggle/input/new-plant-diseases-dataset/New Plant Diseases Dataset(Augmented)/New Plant Diseases Dataset(Augmented)/valid\n"
     ]
    }
   ],
   "source": [
    "verify_images(valid_dir)"
   ]
  },
  {
   "cell_type": "code",
   "execution_count": 30,
   "metadata": {
    "execution": {
     "iopub.execute_input": "2025-06-13T04:32:34.028162Z",
     "iopub.status.busy": "2025-06-13T04:32:34.027924Z",
     "iopub.status.idle": "2025-06-13T04:32:34.033834Z",
     "shell.execute_reply": "2025-06-13T04:32:34.033111Z",
     "shell.execute_reply.started": "2025-06-13T04:32:34.028147Z"
    },
    "trusted": true
   },
   "outputs": [
    {
     "name": "stdout",
     "output_type": "stream",
     "text": [
      "Found 38 classes: ['Apple___Apple_scab', 'Apple___Black_rot', 'Apple___Cedar_apple_rust', 'Apple___healthy', 'Blueberry___healthy', 'Cherry_(including_sour)___Powdery_mildew', 'Cherry_(including_sour)___healthy', 'Corn_(maize)___Cercospora_leaf_spot Gray_leaf_spot', 'Corn_(maize)___Common_rust_', 'Corn_(maize)___Northern_Leaf_Blight', 'Corn_(maize)___healthy', 'Grape___Black_rot', 'Grape___Esca_(Black_Measles)', 'Grape___Leaf_blight_(Isariopsis_Leaf_Spot)', 'Grape___healthy', 'Orange___Haunglongbing_(Citrus_greening)', 'Peach___Bacterial_spot', 'Peach___healthy', 'Pepper,_bell___Bacterial_spot', 'Pepper,_bell___healthy', 'Potato___Early_blight', 'Potato___Late_blight', 'Potato___healthy', 'Raspberry___healthy', 'Soybean___healthy', 'Squash___Powdery_mildew', 'Strawberry___Leaf_scorch', 'Strawberry___healthy', 'Tomato___Bacterial_spot', 'Tomato___Early_blight', 'Tomato___Late_blight', 'Tomato___Leaf_Mold', 'Tomato___Septoria_leaf_spot', 'Tomato___Spider_mites Two-spotted_spider_mite', 'Tomato___Target_Spot', 'Tomato___Tomato_Yellow_Leaf_Curl_Virus', 'Tomato___Tomato_mosaic_virus', 'Tomato___healthy']\n"
     ]
    }
   ],
   "source": [
    "# Get class names and check for imbalance\n",
    "class_names = sorted(os.listdir(train_dir))\n",
    "NUM_CLASSES = len(class_names)\n",
    "print(f\"Found {NUM_CLASSES} classes: {class_names}\")"
   ]
  },
  {
   "cell_type": "code",
   "execution_count": 31,
   "metadata": {
    "execution": {
     "iopub.execute_input": "2025-06-13T04:32:55.527455Z",
     "iopub.status.busy": "2025-06-13T04:32:55.526921Z",
     "iopub.status.idle": "2025-06-13T04:32:55.826521Z",
     "shell.execute_reply": "2025-06-13T04:32:55.825798Z",
     "shell.execute_reply.started": "2025-06-13T04:32:55.527433Z"
    },
    "trusted": true
   },
   "outputs": [
    {
     "name": "stdout",
     "output_type": "stream",
     "text": [
      "Class weights: {0: 0.917593462823726, 1: 0.9309856170370566, 2: 1.0510616028708133, 3: 0.9212492136716293, 4: 1.0186500115928587, 5: 1.0991493886230728, 6: 1.013071424453796, 7: 1.1265946535034297, 8: 0.9700411227334198, 9: 0.9695327154363897, 10: 0.9950879080433737, 11: 0.9798031891168599, 12: 0.9634731359649122, 13: 1.074255761354606, 14: 1.0933028493218864, 15: 0.9203325477873789, 16: 1.006457247580322, 17: 1.0705257066276803, 18: 0.9669986518832365, 19: 0.9305173144127925, 20: 0.9540321923943432, 21: 0.9540321923943432, 22: 1.0141822483841183, 23: 1.038668400366441, 24: 0.9148706335571868, 25: 1.065592408440456, 26: 1.0427668664332759, 27: 1.0141822483841183, 28: 1.0868792133094192, 29: 0.9634731359649122, 30: 0.9993886661548523, 31: 0.9829268974774875, 32: 1.0600965163625395, 33: 1.0625321200761813, 34: 1.012516924495146, 35: 0.9433291285327035, 36: 1.0334460452807999, 37: 0.9604716620210964}\n"
     ]
    }
   ],
   "source": [
    "# Compute class weights for imbalanced dataset\n",
    "train_labels = []\n",
    "for class_name in class_names:\n",
    "    class_path = os.path.join(train_dir, class_name)\n",
    "    train_labels.extend([class_name] * len(glob.glob(os.path.join(class_path, '*.*'))))\n",
    "class_weights = compute_class_weight('balanced', classes=class_names, y=train_labels)\n",
    "class_weight_dict = {i: class_weights[i] for i in range(len(class_weights))}\n",
    "print(f\"Class weights: {class_weight_dict}\")"
   ]
  },
  {
   "cell_type": "code",
   "execution_count": 34,
   "metadata": {
    "execution": {
     "iopub.execute_input": "2025-06-13T04:33:22.559457Z",
     "iopub.status.busy": "2025-06-13T04:33:22.558778Z",
     "iopub.status.idle": "2025-06-13T04:33:22.563176Z",
     "shell.execute_reply": "2025-06-13T04:33:22.562606Z",
     "shell.execute_reply.started": "2025-06-13T04:33:22.559433Z"
    },
    "trusted": true
   },
   "outputs": [],
   "source": [
    "# Data augmentation pipeline\n",
    "train_datagen = tf.keras.preprocessing.image.ImageDataGenerator(\n",
    "    preprocessing_function=preprocess_input,  # EfficientNet-specific preprocessing\n",
    "    rotation_range=30,\n",
    "    width_shift_range=0.2,\n",
    "    height_shift_range=0.2,\n",
    "    shear_range=0.2,\n",
    "    zoom_range=0.3,\n",
    "    horizontal_flip=True,\n",
    "    vertical_flip=True,\n",
    "    brightness_range=[0.8, 1.2],\n",
    "    fill_mode='nearest'\n",
    ")\n",
    "\n",
    "valid_datagen = tf.keras.preprocessing.image.ImageDataGenerator(\n",
    "    preprocessing_function=preprocess_input\n",
    ")"
   ]
  },
  {
   "cell_type": "code",
   "execution_count": 35,
   "metadata": {
    "execution": {
     "iopub.execute_input": "2025-06-13T04:33:49.706773Z",
     "iopub.status.busy": "2025-06-13T04:33:49.706503Z",
     "iopub.status.idle": "2025-06-13T04:33:54.999250Z",
     "shell.execute_reply": "2025-06-13T04:33:54.998724Z",
     "shell.execute_reply.started": "2025-06-13T04:33:49.706753Z"
    },
    "trusted": true
   },
   "outputs": [
    {
     "name": "stdout",
     "output_type": "stream",
     "text": [
      "Found 70295 images belonging to 38 classes.\n",
      "Found 17572 images belonging to 38 classes.\n"
     ]
    }
   ],
   "source": [
    "# Load data generators\n",
    "train_generator = train_datagen.flow_from_directory(\n",
    "    train_dir,\n",
    "    target_size=IMG_SIZE,\n",
    "    batch_size=BATCH_SIZE,\n",
    "    class_mode='categorical',\n",
    "    shuffle=True\n",
    ")\n",
    "\n",
    "valid_generator = valid_datagen.flow_from_directory(\n",
    "    valid_dir,\n",
    "    target_size=IMG_SIZE,\n",
    "    batch_size=BATCH_SIZE,\n",
    "    class_mode='categorical',\n",
    "    shuffle=False\n",
    ")"
   ]
  },
  {
   "cell_type": "code",
   "execution_count": 36,
   "metadata": {
    "execution": {
     "iopub.execute_input": "2025-06-13T04:34:06.070977Z",
     "iopub.status.busy": "2025-06-13T04:34:06.070477Z",
     "iopub.status.idle": "2025-06-13T04:34:06.074914Z",
     "shell.execute_reply": "2025-06-13T04:34:06.074148Z",
     "shell.execute_reply.started": "2025-06-13T04:34:06.070955Z"
    },
    "trusted": true
   },
   "outputs": [],
   "source": [
    "# Optimize data pipeline with tf.data\n",
    "def create_dataset(generator):\n",
    "    dataset = tf.data.Dataset.from_generator(\n",
    "        lambda: generator,\n",
    "        output_types=(tf.float32, tf.float32),\n",
    "        output_shapes=([None, *IMG_SIZE, 3], [None, NUM_CLASSES])\n",
    "    )\n",
    "    return dataset.cache().prefetch(tf.data.AUTOTUNE)"
   ]
  },
  {
   "cell_type": "code",
   "execution_count": 37,
   "metadata": {
    "execution": {
     "iopub.execute_input": "2025-06-13T04:34:12.723295Z",
     "iopub.status.busy": "2025-06-13T04:34:12.723035Z",
     "iopub.status.idle": "2025-06-13T04:34:14.090491Z",
     "shell.execute_reply": "2025-06-13T04:34:14.089683Z",
     "shell.execute_reply.started": "2025-06-13T04:34:12.723275Z"
    },
    "trusted": true
   },
   "outputs": [
    {
     "name": "stderr",
     "output_type": "stream",
     "text": [
      "I0000 00:00:1749789253.986627      35 gpu_device.cc:2022] Created device /job:localhost/replica:0/task:0/device:GPU:0 with 13942 MB memory:  -> device: 0, name: Tesla T4, pci bus id: 0000:00:04.0, compute capability: 7.5\n",
      "I0000 00:00:1749789253.987297      35 gpu_device.cc:2022] Created device /job:localhost/replica:0/task:0/device:GPU:1 with 13942 MB memory:  -> device: 1, name: Tesla T4, pci bus id: 0000:00:05.0, compute capability: 7.5\n"
     ]
    }
   ],
   "source": [
    "train_dataset = create_dataset(train_generator)\n",
    "valid_dataset = create_dataset(valid_generator)"
   ]
  },
  {
   "cell_type": "code",
   "execution_count": 38,
   "metadata": {
    "execution": {
     "iopub.execute_input": "2025-06-13T04:34:32.382878Z",
     "iopub.status.busy": "2025-06-13T04:34:32.382070Z",
     "iopub.status.idle": "2025-06-13T04:34:34.886366Z",
     "shell.execute_reply": "2025-06-13T04:34:34.885861Z",
     "shell.execute_reply.started": "2025-06-13T04:34:32.382852Z"
    },
    "trusted": true
   },
   "outputs": [
    {
     "name": "stdout",
     "output_type": "stream",
     "text": [
      "Downloading data from https://storage.googleapis.com/keras-applications/efficientnetb0_notop.h5\n",
      "\u001b[1m16705208/16705208\u001b[0m \u001b[32m━━━━━━━━━━━━━━━━━━━━\u001b[0m\u001b[37m\u001b[0m \u001b[1m0s\u001b[0m 0us/step\n"
     ]
    }
   ],
   "source": [
    "# Build model\n",
    "base_model = EfficientNetB0(weights='imagenet', include_top=False, input_shape=(*IMG_SIZE, 3))\n",
    "base_model.trainable = False  # Freeze base model initially"
   ]
  },
  {
   "cell_type": "code",
   "execution_count": 39,
   "metadata": {
    "execution": {
     "iopub.execute_input": "2025-06-13T04:34:51.120861Z",
     "iopub.status.busy": "2025-06-13T04:34:51.120356Z",
     "iopub.status.idle": "2025-06-13T04:34:51.148299Z",
     "shell.execute_reply": "2025-06-13T04:34:51.147813Z",
     "shell.execute_reply.started": "2025-06-13T04:34:51.120839Z"
    },
    "trusted": true
   },
   "outputs": [],
   "source": [
    "x = base_model.output\n",
    "x = GlobalAveragePooling2D()(x)\n",
    "x = Dense(512, activation='relu')(x)\n",
    "x = Dropout(0.5)(x)\n",
    "predictions = Dense(NUM_CLASSES, activation='softmax')(x)"
   ]
  },
  {
   "cell_type": "code",
   "execution_count": 40,
   "metadata": {
    "execution": {
     "iopub.execute_input": "2025-06-13T04:34:57.082751Z",
     "iopub.status.busy": "2025-06-13T04:34:57.082196Z",
     "iopub.status.idle": "2025-06-13T04:34:57.097233Z",
     "shell.execute_reply": "2025-06-13T04:34:57.096466Z",
     "shell.execute_reply.started": "2025-06-13T04:34:57.082727Z"
    },
    "trusted": true
   },
   "outputs": [],
   "source": [
    "model = Model(inputs=base_model.input, outputs=predictions)"
   ]
  },
  {
   "cell_type": "code",
   "execution_count": 41,
   "metadata": {
    "execution": {
     "iopub.execute_input": "2025-06-13T04:35:18.701009Z",
     "iopub.status.busy": "2025-06-13T04:35:18.700489Z",
     "iopub.status.idle": "2025-06-13T04:35:18.722970Z",
     "shell.execute_reply": "2025-06-13T04:35:18.722248Z",
     "shell.execute_reply.started": "2025-06-13T04:35:18.700989Z"
    },
    "trusted": true
   },
   "outputs": [],
   "source": [
    "# Compile model\n",
    "model.compile(optimizer=Adam(learning_rate=0.001),\n",
    "              loss='categorical_crossentropy',\n",
    "              metrics=['accuracy', tf.keras.metrics.Precision(), tf.keras.metrics.Recall()])"
   ]
  },
  {
   "cell_type": "code",
   "execution_count": 42,
   "metadata": {
    "execution": {
     "iopub.execute_input": "2025-06-13T04:35:29.382609Z",
     "iopub.status.busy": "2025-06-13T04:35:29.382314Z",
     "iopub.status.idle": "2025-06-13T04:35:29.386900Z",
     "shell.execute_reply": "2025-06-13T04:35:29.386201Z",
     "shell.execute_reply.started": "2025-06-13T04:35:29.382588Z"
    },
    "trusted": true
   },
   "outputs": [],
   "source": [
    "# Define callbacks\n",
    "checkpoint = ModelCheckpoint('best_model.keras', monitor='val_accuracy', save_best_only=True, mode='max')\n",
    "early_stop = EarlyStopping(monitor='val_loss', patience=7, restore_best_weights=True)\n",
    "reduce_lr = ReduceLROnPlateau(monitor='val_loss', factor=0.2, patience=3, min_lr=1e-6)"
   ]
  },
  {
   "cell_type": "code",
   "execution_count": null,
   "metadata": {
    "execution": {
     "execution_failed": "2025-06-13T04:46:52.495Z",
     "iopub.execute_input": "2025-06-13T04:46:04.027853Z",
     "iopub.status.busy": "2025-06-13T04:46:04.027182Z"
    },
    "trusted": true
   },
   "outputs": [
    {
     "name": "stdout",
     "output_type": "stream",
     "text": [
      "     83/Unknown \u001b[1m47s\u001b[0m 565ms/step - accuracy: 0.8987 - loss: 0.3209 - precision: 0.9266 - recall: 0.8681"
     ]
    }
   ],
   "source": [
    "# Train model (Phase 1: Transfer learning)\n",
    "history = model.fit(\n",
    "    train_dataset,\n",
    "    epochs=1,\n",
    "    validation_data=valid_dataset,\n",
    "    callbacks=[checkpoint, early_stop, reduce_lr],\n",
    "    class_weight=class_weight_dict\n",
    ")"
   ]
  },
  {
   "cell_type": "code",
   "execution_count": null,
   "metadata": {
    "trusted": true
   },
   "outputs": [],
   "source": [
    "# Fine-tuning\n",
    "base_model.trainable = True\n",
    "for layer in base_model.layers[:100]:\n",
    "    layer.trainable = False"
   ]
  },
  {
   "cell_type": "code",
   "execution_count": null,
   "metadata": {
    "trusted": true
   },
   "outputs": [],
   "source": [
    "model.compile(optimizer=Adam(learning_rate=1e-5),\n",
    "              loss='categorical_crossentropy',\n",
    "              metrics=['accuracy', tf.keras.metrics.Precision(), tf.keras.metrics.Recall()])"
   ]
  },
  {
   "cell_type": "code",
   "execution_count": null,
   "metadata": {
    "trusted": true
   },
   "outputs": [],
   "source": [
    "# Train model (Phase 2: Fine-tuning)\n",
    "history_fine = model.fit(\n",
    "    train_dataset,\n",
    "    epochs=10,\n",
    "    validation_data=valid_dataset,\n",
    "    callbacks=[checkpoint, early_stop, reduce_lr],\n",
    "    class_weight=class_weight_dict\n",
    ")"
   ]
  },
  {
   "cell_type": "code",
   "execution_count": null,
   "metadata": {
    "trusted": true
   },
   "outputs": [],
   "source": [
    "model.load_weights('best_model.keras')\n",
    "eval_metrics = model.evaluate(valid_dataset, return_dict=True)\n",
    "print(f\"Validation Metrics: {eval_metrics}\")"
   ]
  },
  {
   "cell_type": "code",
   "execution_count": null,
   "metadata": {
    "trusted": true
   },
   "outputs": [],
   "source": [
    "# Plot training history\n",
    "plt.figure(figsize=(12, 6))\n",
    "plt.subplot(1, 2, 1)\n",
    "plt.plot(history.history['accuracy'] + history_fine.history['accuracy'], label='Train Accuracy')\n",
    "plt.plot(history.history['val_accuracy'] + history_fine.history['val_accuracy'], label='Val Accuracy')\n",
    "plt.title('Model Accuracy')\n",
    "plt.xlabel('Epoch')\n",
    "plt.ylabel('Accuracy')\n",
    "plt.legend()\n",
    "\n",
    "plt.subplot(1, 2, 2)\n",
    "plt.plot(history.history['loss'] + history_fine.history['loss'], label='Train Loss')\n",
    "plt.plot(history.history['val_loss'] + history_fine.history['val_loss'], label='Val Loss')\n",
    "plt.title('Model Loss')\n",
    "plt.xlabel('Epoch')\n",
    "plt.ylabel('Loss')\n",
    "plt.legend()\n",
    "plt.show()"
   ]
  },
  {
   "cell_type": "code",
   "execution_count": null,
   "metadata": {
    "trusted": true
   },
   "outputs": [],
   "source": [
    "# Save final model\n",
    "model.save('plant_disease_model_final.keras')"
   ]
  },
  {
   "cell_type": "code",
   "execution_count": null,
   "metadata": {
    "trusted": true
   },
   "outputs": [],
   "source": [
    "# Prediction function\n",
    "def predict_disease(image_path):\n",
    "    try:\n",
    "        img = tf.keras.preprocessing.image.load_img(image_path, target_size=IMG_SIZE)\n",
    "        img_array = tf.keras.preprocessing.image.img_to_array(img)\n",
    "        img_array = preprocess_input(img_array)  # Apply EfficientNet preprocessing\n",
    "        img_array = np.expand_dims(img_array, axis=0)\n",
    "        prediction = model.predict(img_array)\n",
    "        class_idx = np.argmax(prediction[0])\n",
    "        class_labels = list(train_generator.class_indices.keys())\n",
    "        confidence = prediction[0][class_idx]\n",
    "        return class_labels[class_idx], confidence\n",
    "    except Exception as e:\n",
    "        print(f\"Prediction error: {e}\")\n",
    "        return None, 0.0"
   ]
  },
  {
   "cell_type": "code",
   "execution_count": null,
   "metadata": {
    "trusted": true
   },
   "outputs": [],
   "source": [
    "sample_image = 'path_to_test_image.jpg'\n",
    "disease, confidence = predict_disease(sample_image)\n",
    "if disease:\n",
    "    print(f\"Predicted disease: {disease} with confidence {confidence:.4f}\")\n"
   ]
  }
 ],
 "metadata": {
  "kaggle": {
   "accelerator": "nvidiaTeslaT4",
   "dataSources": [
    {
     "datasetId": 78313,
     "sourceId": 182633,
     "sourceType": "datasetVersion"
    }
   ],
   "dockerImageVersionId": 31041,
   "isGpuEnabled": true,
   "isInternetEnabled": true,
   "language": "python",
   "sourceType": "notebook"
  },
  "kernelspec": {
   "display_name": "gpu",
   "language": "python",
   "name": "python3"
  },
  "language_info": {
   "codemirror_mode": {
    "name": "ipython",
    "version": 3
   },
   "file_extension": ".py",
   "mimetype": "text/x-python",
   "name": "python",
   "nbconvert_exporter": "python",
   "pygments_lexer": "ipython3",
   "version": "3.9.13"
  }
 },
 "nbformat": 4,
 "nbformat_minor": 4
}
