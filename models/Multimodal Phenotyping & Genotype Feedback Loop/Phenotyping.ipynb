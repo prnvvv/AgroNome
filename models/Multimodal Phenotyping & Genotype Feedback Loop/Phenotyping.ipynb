{
<<<<<<< Updated upstream
<<<<<<< Updated upstream
  "nbformat": 4,
  "nbformat_minor": 0,
  "metadata": {
    "colab": {
      "provenance": [],
      "gpuType": "T4",
      "authorship_tag": "ABX9TyPdRXVebebwQfXsSqmNPh4d",
      "include_colab_link": true
    },
    "kernelspec": {
      "name": "python3",
      "display_name": "Python 3"
    },
    "language_info": {
      "name": "python"
    }
  },
=======
>>>>>>> Stashed changes
=======
>>>>>>> Stashed changes
  "cells": [
    {
      "cell_type": "markdown",
      "metadata": {
        "colab_type": "text",
        "id": "view-in-github"
      },
      "source": [
        "<a href=\"https://colab.research.google.com/github/prnvvv/AgroNome/blob/main/models/Multimodal%20Phenotyping%20%26%20Genotype%20Feedback%20Loop/Phenotyping.ipynb\" target=\"_parent\"><img src=\"https://colab.research.google.com/assets/colab-badge.svg\" alt=\"Open In Colab\"/></a>"
      ]
    },
    {
      "cell_type": "code",
      "execution_count": null,
      "metadata": {
        "id": "R91nxmZ4uF3-"
      },
      "outputs": [],
      "source": [
        "import pandas as pd\n",
        "import numpy as np\n",
        "import matplotlib.pyplot as plt\n",
        "import seaborn as sns"
      ]
    },
    {
      "cell_type": "code",
      "execution_count": 71,
      "metadata": {
        "id": "_6rQUgju501j"
      },
<<<<<<< Updated upstream
<<<<<<< Updated upstream
      "execution_count": null,
      "outputs": []
=======
=======
>>>>>>> Stashed changes
      "outputs": [],
      "source": [
        "df = pd.read_csv(\"/content/phenotyping_dataset.csv\")"
      ]
<<<<<<< Updated upstream
>>>>>>> Stashed changes
=======
>>>>>>> Stashed changes
    },
    {
      "cell_type": "code",
      "execution_count": 72,
      "metadata": {
        "id": "YqgHQmMHCcsJ"
      },
<<<<<<< Updated upstream
<<<<<<< Updated upstream
      "execution_count": null,
      "outputs": []
=======
=======
>>>>>>> Stashed changes
      "outputs": [],
      "source": [
        "pd.set_option('display.max_columns', None)"
      ]
<<<<<<< Updated upstream
>>>>>>> Stashed changes
=======
>>>>>>> Stashed changes
    },
    {
      "cell_type": "code",
      "execution_count": 73,
      "metadata": {
        "colab": {
          "base_uri": "https://localhost:8080/",
          "height": 313
        },
        "id": "S5sU4m3G_S15",
        "outputId": "b0c17d36-10a7-448e-db37-20f1b51363ee"
      },
<<<<<<< Updated upstream
<<<<<<< Updated upstream
      "execution_count": null,
=======
>>>>>>> Stashed changes
=======
>>>>>>> Stashed changes
      "outputs": [
        {
          "data": {
            "application/vnd.google.colaboratory.intrinsic+json": {
              "type": "dataframe",
              "variable_name": "df"
            },
            "text/html": [
              "\n",
              "  <div id=\"df-2740b958-4f73-4d15-a5ac-fb26b0ed8392\" class=\"colab-df-container\">\n",
              "    <div>\n",
              "<style scoped>\n",
              "    .dataframe tbody tr th:only-of-type {\n",
              "        vertical-align: middle;\n",
              "    }\n",
              "\n",
              "    .dataframe tbody tr th {\n",
              "        vertical-align: top;\n",
              "    }\n",
              "\n",
              "    .dataframe thead th {\n",
              "        text-align: right;\n",
              "    }\n",
              "</style>\n",
              "<table border=\"1\" class=\"dataframe\">\n",
              "  <thead>\n",
              "    <tr style=\"text-align: right;\">\n",
              "      <th></th>\n",
              "      <th>Image_ID</th>\n",
              "      <th>Timestamp</th>\n",
              "      <th>Genotype_ID</th>\n",
              "      <th>Plant_ID</th>\n",
              "      <th>Crop_Type</th>\n",
              "      <th>Region</th>\n",
              "      <th>Soil_Type</th>\n",
              "      <th>Soil_Moisture</th>\n",
              "      <th>Temperature</th>\n",
              "      <th>Humidity</th>\n",
              "      <th>Light_Intensity</th>\n",
              "      <th>Fertilizer_Used</th>\n",
              "      <th>Irrigation_Level</th>\n",
              "      <th>Leaf_Area</th>\n",
              "      <th>Stem_Thickness</th>\n",
              "      <th>Plant_Height</th>\n",
              "      <th>Leaf_Color_Index</th>\n",
              "      <th>Disease_Signs</th>\n",
              "      <th>Weed_Presence</th>\n",
              "      <th>Growth_Stage</th>\n",
              "      <th>Health_Score</th>\n",
              "      <th>Genotype_Performance_Score</th>\n",
              "      <th>Recommended_Action</th>\n",
              "      <th>Yield_Potential</th>\n",
              "    </tr>\n",
              "  </thead>\n",
              "  <tbody>\n",
              "    <tr>\n",
              "      <th>0</th>\n",
              "      <td>IMG_000001</td>\n",
              "      <td>2021-11-27</td>\n",
              "      <td>G009</td>\n",
              "      <td>P000001</td>\n",
              "      <td>Maize</td>\n",
              "      <td>West</td>\n",
              "      <td>Clay</td>\n",
              "      <td>27.88</td>\n",
              "      <td>31.3</td>\n",
              "      <td>44.0</td>\n",
              "      <td>42588.6</td>\n",
              "      <td>NPK</td>\n",
              "      <td>3.2</td>\n",
              "      <td>96.7</td>\n",
              "      <td>1.69</td>\n",
              "      <td>25.3</td>\n",
              "      <td>3.1</td>\n",
              "      <td>No</td>\n",
              "      <td>No</td>\n",
              "      <td>Fruiting</td>\n",
              "      <td>82.0</td>\n",
              "      <td>48.5</td>\n",
              "      <td>Increase irrigation</td>\n",
              "      <td>4.68</td>\n",
              "    </tr>\n",
              "    <tr>\n",
              "      <th>1</th>\n",
              "      <td>IMG_000002</td>\n",
              "      <td>2021-02-11</td>\n",
              "      <td>G015</td>\n",
              "      <td>P000002</td>\n",
              "      <td>Rice</td>\n",
              "      <td>Central</td>\n",
              "      <td>Clay</td>\n",
              "      <td>18.68</td>\n",
              "      <td>23.3</td>\n",
              "      <td>44.3</td>\n",
              "      <td>29938.9</td>\n",
              "      <td>NPK</td>\n",
              "      <td>10.9</td>\n",
              "      <td>96.2</td>\n",
              "      <td>2.40</td>\n",
              "      <td>116.6</td>\n",
              "      <td>2.0</td>\n",
              "      <td>No</td>\n",
              "      <td>No</td>\n",
              "      <td>Fruiting</td>\n",
              "      <td>77.1</td>\n",
              "      <td>33.9</td>\n",
              "      <td>No action</td>\n",
              "      <td>7.87</td>\n",
              "    </tr>\n",
              "    <tr>\n",
              "      <th>2</th>\n",
              "      <td>IMG_000003</td>\n",
              "      <td>2021-05-03</td>\n",
              "      <td>G008</td>\n",
              "      <td>P000003</td>\n",
              "      <td>Maize</td>\n",
              "      <td>North</td>\n",
              "      <td>Sandy</td>\n",
              "      <td>15.76</td>\n",
              "      <td>24.0</td>\n",
              "      <td>47.8</td>\n",
              "      <td>30529.1</td>\n",
              "      <td>DAP</td>\n",
              "      <td>3.3</td>\n",
              "      <td>106.2</td>\n",
              "      <td>1.75</td>\n",
              "      <td>43.0</td>\n",
              "      <td>2.3</td>\n",
              "      <td>No</td>\n",
              "      <td>No</td>\n",
              "      <td>Vegetative</td>\n",
              "      <td>82.8</td>\n",
              "      <td>52.1</td>\n",
              "      <td>Add fertilizer</td>\n",
              "      <td>5.43</td>\n",
              "    </tr>\n",
              "    <tr>\n",
              "      <th>3</th>\n",
              "      <td>IMG_000004</td>\n",
              "      <td>2021-11-23</td>\n",
              "      <td>G019</td>\n",
              "      <td>P000004</td>\n",
              "      <td>Wheat</td>\n",
              "      <td>West</td>\n",
              "      <td>Loamy</td>\n",
              "      <td>26.19</td>\n",
              "      <td>18.6</td>\n",
              "      <td>51.8</td>\n",
              "      <td>30870.1</td>\n",
              "      <td>DAP</td>\n",
              "      <td>5.3</td>\n",
              "      <td>51.6</td>\n",
              "      <td>1.04</td>\n",
              "      <td>65.3</td>\n",
              "      <td>2.5</td>\n",
              "      <td>Yes</td>\n",
              "      <td>Yes</td>\n",
              "      <td>Flowering</td>\n",
              "      <td>59.9</td>\n",
              "      <td>72.2</td>\n",
              "      <td>Add fertilizer</td>\n",
              "      <td>4.40</td>\n",
              "    </tr>\n",
              "    <tr>\n",
              "      <th>4</th>\n",
              "      <td>IMG_000005</td>\n",
              "      <td>2021-10-18</td>\n",
              "      <td>G009</td>\n",
              "      <td>P000005</td>\n",
              "      <td>Soybean</td>\n",
              "      <td>West</td>\n",
              "      <td>Clay</td>\n",
              "      <td>22.70</td>\n",
              "      <td>27.9</td>\n",
              "      <td>75.9</td>\n",
              "      <td>33996.9</td>\n",
              "      <td>Compost</td>\n",
              "      <td>4.8</td>\n",
              "      <td>46.2</td>\n",
              "      <td>1.31</td>\n",
              "      <td>83.0</td>\n",
              "      <td>2.6</td>\n",
              "      <td>No</td>\n",
              "      <td>Yes</td>\n",
              "      <td>Fruiting</td>\n",
              "      <td>79.0</td>\n",
              "      <td>39.6</td>\n",
              "      <td>No action</td>\n",
              "      <td>4.14</td>\n",
              "    </tr>\n",
              "  </tbody>\n",
              "</table>\n",
              "</div>\n",
              "    <div class=\"colab-df-buttons\">\n",
              "\n",
              "  <div class=\"colab-df-container\">\n",
              "    <button class=\"colab-df-convert\" onclick=\"convertToInteractive('df-2740b958-4f73-4d15-a5ac-fb26b0ed8392')\"\n",
              "            title=\"Convert this dataframe to an interactive table.\"\n",
              "            style=\"display:none;\">\n",
              "\n",
              "  <svg xmlns=\"http://www.w3.org/2000/svg\" height=\"24px\" viewBox=\"0 -960 960 960\">\n",
              "    <path d=\"M120-120v-720h720v720H120Zm60-500h600v-160H180v160Zm220 220h160v-160H400v160Zm0 220h160v-160H400v160ZM180-400h160v-160H180v160Zm440 0h160v-160H620v160ZM180-180h160v-160H180v160Zm440 0h160v-160H620v160Z\"/>\n",
              "  </svg>\n",
              "    </button>\n",
              "\n",
              "  <style>\n",
              "    .colab-df-container {\n",
              "      display:flex;\n",
              "      gap: 12px;\n",
              "    }\n",
              "\n",
              "    .colab-df-convert {\n",
              "      background-color: #E8F0FE;\n",
              "      border: none;\n",
              "      border-radius: 50%;\n",
              "      cursor: pointer;\n",
              "      display: none;\n",
              "      fill: #1967D2;\n",
              "      height: 32px;\n",
              "      padding: 0 0 0 0;\n",
              "      width: 32px;\n",
              "    }\n",
              "\n",
              "    .colab-df-convert:hover {\n",
              "      background-color: #E2EBFA;\n",
              "      box-shadow: 0px 1px 2px rgba(60, 64, 67, 0.3), 0px 1px 3px 1px rgba(60, 64, 67, 0.15);\n",
              "      fill: #174EA6;\n",
              "    }\n",
              "\n",
              "    .colab-df-buttons div {\n",
              "      margin-bottom: 4px;\n",
              "    }\n",
              "\n",
              "    [theme=dark] .colab-df-convert {\n",
              "      background-color: #3B4455;\n",
              "      fill: #D2E3FC;\n",
              "    }\n",
              "\n",
              "    [theme=dark] .colab-df-convert:hover {\n",
              "      background-color: #434B5C;\n",
              "      box-shadow: 0px 1px 3px 1px rgba(0, 0, 0, 0.15);\n",
              "      filter: drop-shadow(0px 1px 2px rgba(0, 0, 0, 0.3));\n",
              "      fill: #FFFFFF;\n",
              "    }\n",
              "  </style>\n",
              "\n",
              "    <script>\n",
              "      const buttonEl =\n",
              "        document.querySelector('#df-2740b958-4f73-4d15-a5ac-fb26b0ed8392 button.colab-df-convert');\n",
              "      buttonEl.style.display =\n",
              "        google.colab.kernel.accessAllowed ? 'block' : 'none';\n",
              "\n",
              "      async function convertToInteractive(key) {\n",
              "        const element = document.querySelector('#df-2740b958-4f73-4d15-a5ac-fb26b0ed8392');\n",
              "        const dataTable =\n",
              "          await google.colab.kernel.invokeFunction('convertToInteractive',\n",
              "                                                    [key], {});\n",
              "        if (!dataTable) return;\n",
              "\n",
              "        const docLinkHtml = 'Like what you see? Visit the ' +\n",
              "          '<a target=\"_blank\" href=https://colab.research.google.com/notebooks/data_table.ipynb>data table notebook</a>'\n",
              "          + ' to learn more about interactive tables.';\n",
              "        element.innerHTML = '';\n",
              "        dataTable['output_type'] = 'display_data';\n",
              "        await google.colab.output.renderOutput(dataTable, element);\n",
              "        const docLink = document.createElement('div');\n",
              "        docLink.innerHTML = docLinkHtml;\n",
              "        element.appendChild(docLink);\n",
              "      }\n",
              "    </script>\n",
              "  </div>\n",
              "\n",
              "\n",
              "    <div id=\"df-476eb0eb-eeb9-44de-9938-0c26df737850\">\n",
              "      <button class=\"colab-df-quickchart\" onclick=\"quickchart('df-476eb0eb-eeb9-44de-9938-0c26df737850')\"\n",
              "                title=\"Suggest charts\"\n",
              "                style=\"display:none;\">\n",
              "\n",
              "<svg xmlns=\"http://www.w3.org/2000/svg\" height=\"24px\"viewBox=\"0 0 24 24\"\n",
              "     width=\"24px\">\n",
              "    <g>\n",
              "        <path d=\"M19 3H5c-1.1 0-2 .9-2 2v14c0 1.1.9 2 2 2h14c1.1 0 2-.9 2-2V5c0-1.1-.9-2-2-2zM9 17H7v-7h2v7zm4 0h-2V7h2v10zm4 0h-2v-4h2v4z\"/>\n",
              "    </g>\n",
              "</svg>\n",
              "      </button>\n",
              "\n",
              "<style>\n",
              "  .colab-df-quickchart {\n",
              "      --bg-color: #E8F0FE;\n",
              "      --fill-color: #1967D2;\n",
              "      --hover-bg-color: #E2EBFA;\n",
              "      --hover-fill-color: #174EA6;\n",
              "      --disabled-fill-color: #AAA;\n",
              "      --disabled-bg-color: #DDD;\n",
              "  }\n",
              "\n",
              "  [theme=dark] .colab-df-quickchart {\n",
              "      --bg-color: #3B4455;\n",
              "      --fill-color: #D2E3FC;\n",
              "      --hover-bg-color: #434B5C;\n",
              "      --hover-fill-color: #FFFFFF;\n",
              "      --disabled-bg-color: #3B4455;\n",
              "      --disabled-fill-color: #666;\n",
              "  }\n",
              "\n",
              "  .colab-df-quickchart {\n",
              "    background-color: var(--bg-color);\n",
              "    border: none;\n",
              "    border-radius: 50%;\n",
              "    cursor: pointer;\n",
              "    display: none;\n",
              "    fill: var(--fill-color);\n",
              "    height: 32px;\n",
              "    padding: 0;\n",
              "    width: 32px;\n",
              "  }\n",
              "\n",
              "  .colab-df-quickchart:hover {\n",
              "    background-color: var(--hover-bg-color);\n",
              "    box-shadow: 0 1px 2px rgba(60, 64, 67, 0.3), 0 1px 3px 1px rgba(60, 64, 67, 0.15);\n",
              "    fill: var(--button-hover-fill-color);\n",
              "  }\n",
              "\n",
              "  .colab-df-quickchart-complete:disabled,\n",
              "  .colab-df-quickchart-complete:disabled:hover {\n",
              "    background-color: var(--disabled-bg-color);\n",
              "    fill: var(--disabled-fill-color);\n",
              "    box-shadow: none;\n",
              "  }\n",
              "\n",
              "  .colab-df-spinner {\n",
              "    border: 2px solid var(--fill-color);\n",
              "    border-color: transparent;\n",
              "    border-bottom-color: var(--fill-color);\n",
              "    animation:\n",
              "      spin 1s steps(1) infinite;\n",
              "  }\n",
              "\n",
              "  @keyframes spin {\n",
              "    0% {\n",
              "      border-color: transparent;\n",
              "      border-bottom-color: var(--fill-color);\n",
              "      border-left-color: var(--fill-color);\n",
              "    }\n",
              "    20% {\n",
              "      border-color: transparent;\n",
              "      border-left-color: var(--fill-color);\n",
              "      border-top-color: var(--fill-color);\n",
              "    }\n",
              "    30% {\n",
              "      border-color: transparent;\n",
              "      border-left-color: var(--fill-color);\n",
              "      border-top-color: var(--fill-color);\n",
              "      border-right-color: var(--fill-color);\n",
              "    }\n",
              "    40% {\n",
              "      border-color: transparent;\n",
              "      border-right-color: var(--fill-color);\n",
              "      border-top-color: var(--fill-color);\n",
              "    }\n",
              "    60% {\n",
              "      border-color: transparent;\n",
              "      border-right-color: var(--fill-color);\n",
              "    }\n",
              "    80% {\n",
              "      border-color: transparent;\n",
              "      border-right-color: var(--fill-color);\n",
              "      border-bottom-color: var(--fill-color);\n",
              "    }\n",
              "    90% {\n",
              "      border-color: transparent;\n",
              "      border-bottom-color: var(--fill-color);\n",
              "    }\n",
              "  }\n",
              "</style>\n",
              "\n",
              "      <script>\n",
              "        async function quickchart(key) {\n",
              "          const quickchartButtonEl =\n",
              "            document.querySelector('#' + key + ' button');\n",
              "          quickchartButtonEl.disabled = true;  // To prevent multiple clicks.\n",
              "          quickchartButtonEl.classList.add('colab-df-spinner');\n",
              "          try {\n",
              "            const charts = await google.colab.kernel.invokeFunction(\n",
              "                'suggestCharts', [key], {});\n",
              "          } catch (error) {\n",
              "            console.error('Error during call to suggestCharts:', error);\n",
              "          }\n",
              "          quickchartButtonEl.classList.remove('colab-df-spinner');\n",
              "          quickchartButtonEl.classList.add('colab-df-quickchart-complete');\n",
              "        }\n",
              "        (() => {\n",
              "          let quickchartButtonEl =\n",
              "            document.querySelector('#df-476eb0eb-eeb9-44de-9938-0c26df737850 button');\n",
              "          quickchartButtonEl.style.display =\n",
              "            google.colab.kernel.accessAllowed ? 'block' : 'none';\n",
              "        })();\n",
              "      </script>\n",
              "    </div>\n",
              "\n",
              "    </div>\n",
              "  </div>\n"
            ],
            "text/plain": [
              "     Image_ID   Timestamp Genotype_ID Plant_ID Crop_Type   Region Soil_Type  \\\n",
              "0  IMG_000001  2021-11-27        G009  P000001     Maize     West      Clay   \n",
              "1  IMG_000002  2021-02-11        G015  P000002      Rice  Central      Clay   \n",
              "2  IMG_000003  2021-05-03        G008  P000003     Maize    North     Sandy   \n",
              "3  IMG_000004  2021-11-23        G019  P000004     Wheat     West     Loamy   \n",
              "4  IMG_000005  2021-10-18        G009  P000005   Soybean     West      Clay   \n",
              "\n",
              "   Soil_Moisture  Temperature  Humidity  Light_Intensity Fertilizer_Used  \\\n",
              "0          27.88         31.3      44.0          42588.6             NPK   \n",
              "1          18.68         23.3      44.3          29938.9             NPK   \n",
              "2          15.76         24.0      47.8          30529.1             DAP   \n",
              "3          26.19         18.6      51.8          30870.1             DAP   \n",
              "4          22.70         27.9      75.9          33996.9         Compost   \n",
              "\n",
              "   Irrigation_Level  Leaf_Area  Stem_Thickness  Plant_Height  \\\n",
              "0               3.2       96.7            1.69          25.3   \n",
              "1              10.9       96.2            2.40         116.6   \n",
              "2               3.3      106.2            1.75          43.0   \n",
              "3               5.3       51.6            1.04          65.3   \n",
              "4               4.8       46.2            1.31          83.0   \n",
              "\n",
              "   Leaf_Color_Index Disease_Signs Weed_Presence Growth_Stage  Health_Score  \\\n",
              "0               3.1            No            No     Fruiting          82.0   \n",
              "1               2.0            No            No     Fruiting          77.1   \n",
              "2               2.3            No            No   Vegetative          82.8   \n",
              "3               2.5           Yes           Yes    Flowering          59.9   \n",
              "4               2.6            No           Yes     Fruiting          79.0   \n",
              "\n",
              "   Genotype_Performance_Score   Recommended_Action  Yield_Potential  \n",
              "0                        48.5  Increase irrigation             4.68  \n",
              "1                        33.9            No action             7.87  \n",
              "2                        52.1       Add fertilizer             5.43  \n",
              "3                        72.2       Add fertilizer             4.40  \n",
              "4                        39.6            No action             4.14  "
            ]
          },
          "execution_count": 73,
          "metadata": {},
          "output_type": "execute_result"
        }
      ],
      "source": [
        "df.head()"
      ]
    },
    {
      "cell_type": "code",
      "execution_count": 74,
      "metadata": {
        "colab": {
          "base_uri": "https://localhost:8080/"
        },
        "id": "XN8ruzgm_WRG",
        "outputId": "5fd0cd78-f336-44d7-ce7f-4280d264ecd9"
      },
<<<<<<< Updated upstream
<<<<<<< Updated upstream
      "execution_count": null,
=======
>>>>>>> Stashed changes
=======
>>>>>>> Stashed changes
      "outputs": [
        {
          "name": "stdout",
          "output_type": "stream",
          "text": [
            "<class 'pandas.core.frame.DataFrame'>\n",
            "RangeIndex: 5000 entries, 0 to 4999\n",
            "Data columns (total 24 columns):\n",
            " #   Column                      Non-Null Count  Dtype  \n",
            "---  ------                      --------------  -----  \n",
            " 0   Image_ID                    5000 non-null   object \n",
            " 1   Timestamp                   5000 non-null   object \n",
            " 2   Genotype_ID                 5000 non-null   object \n",
            " 3   Plant_ID                    5000 non-null   object \n",
            " 4   Crop_Type                   5000 non-null   object \n",
            " 5   Region                      5000 non-null   object \n",
            " 6   Soil_Type                   5000 non-null   object \n",
            " 7   Soil_Moisture               5000 non-null   float64\n",
            " 8   Temperature                 5000 non-null   float64\n",
            " 9   Humidity                    5000 non-null   float64\n",
            " 10  Light_Intensity             5000 non-null   float64\n",
            " 11  Fertilizer_Used             4763 non-null   object \n",
            " 12  Irrigation_Level            5000 non-null   float64\n",
            " 13  Leaf_Area                   5000 non-null   float64\n",
            " 14  Stem_Thickness              5000 non-null   float64\n",
            " 15  Plant_Height                5000 non-null   float64\n",
            " 16  Leaf_Color_Index            5000 non-null   float64\n",
            " 17  Disease_Signs               5000 non-null   object \n",
            " 18  Weed_Presence               5000 non-null   object \n",
            " 19  Growth_Stage                5000 non-null   object \n",
            " 20  Health_Score                5000 non-null   float64\n",
            " 21  Genotype_Performance_Score  5000 non-null   float64\n",
            " 22  Recommended_Action          5000 non-null   object \n",
            " 23  Yield_Potential             5000 non-null   float64\n",
            "dtypes: float64(12), object(12)\n",
            "memory usage: 937.6+ KB\n"
          ]
        }
      ],
      "source": [
        "df.info()"
      ]
    },
    {
      "cell_type": "code",
      "execution_count": 75,
      "metadata": {
        "colab": {
          "base_uri": "https://localhost:8080/",
          "height": 320
        },
        "id": "-5MCec7UCSPX",
        "outputId": "9591a32e-c019-46c4-f886-2d5e265c586f"
      },
<<<<<<< Updated upstream
<<<<<<< Updated upstream
      "execution_count": null,
=======
>>>>>>> Stashed changes
=======
>>>>>>> Stashed changes
      "outputs": [
        {
          "data": {
            "application/vnd.google.colaboratory.intrinsic+json": {
              "summary": "{\n  \"name\": \"df\",\n  \"rows\": 8,\n  \"fields\": [\n    {\n      \"column\": \"Soil_Moisture\",\n      \"properties\": {\n        \"dtype\": \"number\",\n        \"std\": 1759.9396314776843,\n        \"min\": 5.833795811013344,\n        \"max\": 5000.0,\n        \"num_unique_values\": 8,\n        \"samples\": [\n          24.926546,\n          24.895,\n          5000.0\n        ],\n        \"semantic_type\": \"\",\n        \"description\": \"\"\n      }\n    },\n    {\n      \"column\": \"Temperature\",\n      \"properties\": {\n        \"dtype\": \"number\",\n        \"std\": 1759.8817616395418,\n        \"min\": 4.652910882010841,\n        \"max\": 5000.0,\n        \"num_unique_values\": 8,\n        \"samples\": [\n          25.4432,\n          25.5,\n          5000.0\n        ],\n        \"semantic_type\": \"\",\n        \"description\": \"\"\n      }\n    },\n    {\n      \"column\": \"Humidity\",\n      \"properties\": {\n        \"dtype\": \"number\",\n        \"std\": 1749.1445659787246,\n        \"min\": 11.546664976642294,\n        \"max\": 5000.0,\n        \"num_unique_values\": 8,\n        \"samples\": [\n          59.99046,\n          59.9,\n          5000.0\n        ],\n        \"semantic_type\": \"\",\n        \"description\": \"\"\n      }\n    },\n    {\n      \"column\": \"Light_Intensity\",\n      \"properties\": {\n        \"dtype\": \"number\",\n        \"std\": 14048.098058257065,\n        \"min\": 5000.0,\n        \"max\": 44995.0,\n        \"num_unique_values\": 8,\n        \"samples\": [\n          30074.207280000002,\n          30132.05,\n          5000.0\n        ],\n        \"semantic_type\": \"\",\n        \"description\": \"\"\n      }\n    },\n    {\n      \"column\": \"Irrigation_Level\",\n      \"properties\": {\n        \"dtype\": \"number\",\n        \"std\": 1765.3706809051585,\n        \"min\": 2.6081838455512423,\n        \"max\": 5000.0,\n        \"num_unique_values\": 8,\n        \"samples\": [\n          7.49282,\n          7.4,\n          5000.0\n        ],\n        \"semantic_type\": \"\",\n        \"description\": \"\"\n      }\n    },\n    {\n      \"column\": \"Leaf_Area\",\n      \"properties\": {\n        \"dtype\": \"number\",\n        \"std\": 1734.715397661982,\n        \"min\": 37.21108489632404,\n        \"max\": 5000.0,\n        \"num_unique_values\": 8,\n        \"samples\": [\n          104.74492,\n          105.2,\n          5000.0\n        ],\n        \"semantic_type\": \"\",\n        \"description\": \"\"\n      }\n    },\n    {\n      \"column\": \"Stem_Thickness\",\n      \"properties\": {\n        \"dtype\": \"number\",\n        \"std\": 1767.191199545102,\n        \"min\": 0.5784950482140393,\n        \"max\": 5000.0,\n        \"num_unique_values\": 8,\n        \"samples\": [\n          1.803864,\n          1.81,\n          5000.0\n        ],\n        \"semantic_type\": \"\",\n        \"description\": \"\"\n      }\n    },\n    {\n      \"column\": \"Plant_Height\",\n      \"properties\": {\n        \"dtype\": \"number\",\n        \"std\": 1743.1390473984063,\n        \"min\": 25.0,\n        \"max\": 5000.0,\n        \"num_unique_values\": 8,\n        \"samples\": [\n          77.41982,\n          77.4,\n          5000.0\n        ],\n        \"semantic_type\": \"\",\n        \"description\": \"\"\n      }\n    },\n    {\n      \"column\": \"Leaf_Color_Index\",\n      \"properties\": {\n        \"dtype\": \"number\",\n        \"std\": 1766.6958005483962,\n        \"min\": 0.8130917771368822,\n        \"max\": 5000.0,\n        \"num_unique_values\": 8,\n        \"samples\": [\n          3.4031599999999997,\n          3.4,\n          5000.0\n        ],\n        \"semantic_type\": \"\",\n        \"description\": \"\"\n      }\n    },\n    {\n      \"column\": \"Health_Score\",\n      \"properties\": {\n        \"dtype\": \"number\",\n        \"std\": 1744.6477112578175,\n        \"min\": 9.373680082318646,\n        \"max\": 5000.0,\n        \"num_unique_values\": 8,\n        \"samples\": [\n          78.1683,\n          77.9,\n          5000.0\n        ],\n        \"semantic_type\": \"\",\n        \"description\": \"\"\n      }\n    },\n    {\n      \"column\": \"Genotype_Performance_Score\",\n      \"properties\": {\n        \"dtype\": \"number\",\n        \"std\": 1748.0964920200736,\n        \"min\": 18.69097095842467,\n        \"max\": 5000.0,\n        \"num_unique_values\": 8,\n        \"samples\": [\n          62.37848,\n          62.1,\n          5000.0\n        ],\n        \"semantic_type\": \"\",\n        \"description\": \"\"\n      }\n    },\n    {\n      \"column\": \"Yield_Potential\",\n      \"properties\": {\n        \"dtype\": \"number\",\n        \"std\": 1765.8597807857375,\n        \"min\": 1.7149920810113342,\n        \"max\": 5000.0,\n        \"num_unique_values\": 8,\n        \"samples\": [\n          6.015694,\n          6.0,\n          5000.0\n        ],\n        \"semantic_type\": \"\",\n        \"description\": \"\"\n      }\n    }\n  ]\n}",
              "type": "dataframe"
            },
            "text/html": [
              "\n",
              "  <div id=\"df-a3679759-1037-4030-a903-f84aa02fc7ed\" class=\"colab-df-container\">\n",
              "    <div>\n",
              "<style scoped>\n",
              "    .dataframe tbody tr th:only-of-type {\n",
              "        vertical-align: middle;\n",
              "    }\n",
              "\n",
              "    .dataframe tbody tr th {\n",
              "        vertical-align: top;\n",
              "    }\n",
              "\n",
              "    .dataframe thead th {\n",
              "        text-align: right;\n",
              "    }\n",
              "</style>\n",
              "<table border=\"1\" class=\"dataframe\">\n",
              "  <thead>\n",
              "    <tr style=\"text-align: right;\">\n",
              "      <th></th>\n",
              "      <th>Soil_Moisture</th>\n",
              "      <th>Temperature</th>\n",
              "      <th>Humidity</th>\n",
              "      <th>Light_Intensity</th>\n",
              "      <th>Irrigation_Level</th>\n",
              "      <th>Leaf_Area</th>\n",
              "      <th>Stem_Thickness</th>\n",
              "      <th>Plant_Height</th>\n",
              "      <th>Leaf_Color_Index</th>\n",
              "      <th>Health_Score</th>\n",
              "      <th>Genotype_Performance_Score</th>\n",
              "      <th>Yield_Potential</th>\n",
              "    </tr>\n",
              "  </thead>\n",
              "  <tbody>\n",
              "    <tr>\n",
              "      <th>count</th>\n",
              "      <td>5000.000000</td>\n",
              "      <td>5000.000000</td>\n",
              "      <td>5000.000000</td>\n",
              "      <td>5000.000000</td>\n",
              "      <td>5000.000000</td>\n",
              "      <td>5000.000000</td>\n",
              "      <td>5000.000000</td>\n",
              "      <td>5000.000000</td>\n",
              "      <td>5000.000000</td>\n",
              "      <td>5000.00000</td>\n",
              "      <td>5000.000000</td>\n",
              "      <td>5000.000000</td>\n",
              "    </tr>\n",
              "    <tr>\n",
              "      <th>mean</th>\n",
              "      <td>24.926546</td>\n",
              "      <td>25.443200</td>\n",
              "      <td>59.990460</td>\n",
              "      <td>30074.207280</td>\n",
              "      <td>7.492820</td>\n",
              "      <td>104.744920</td>\n",
              "      <td>1.803864</td>\n",
              "      <td>77.419820</td>\n",
              "      <td>3.403160</td>\n",
              "      <td>78.16830</td>\n",
              "      <td>62.378480</td>\n",
              "      <td>6.015694</td>\n",
              "    </tr>\n",
              "    <tr>\n",
              "      <th>std</th>\n",
              "      <td>5.833796</td>\n",
              "      <td>4.652911</td>\n",
              "      <td>11.546665</td>\n",
              "      <td>8713.155334</td>\n",
              "      <td>2.608184</td>\n",
              "      <td>37.211085</td>\n",
              "      <td>0.578495</td>\n",
              "      <td>30.320541</td>\n",
              "      <td>0.813092</td>\n",
              "      <td>9.37368</td>\n",
              "      <td>18.690971</td>\n",
              "      <td>1.714992</td>\n",
              "    </tr>\n",
              "    <tr>\n",
              "      <th>min</th>\n",
              "      <td>15.000000</td>\n",
              "      <td>15.000000</td>\n",
              "      <td>40.000000</td>\n",
              "      <td>15002.300000</td>\n",
              "      <td>3.000000</td>\n",
              "      <td>40.000000</td>\n",
              "      <td>0.800000</td>\n",
              "      <td>25.000000</td>\n",
              "      <td>2.000000</td>\n",
              "      <td>45.00000</td>\n",
              "      <td>30.000000</td>\n",
              "      <td>3.000000</td>\n",
              "    </tr>\n",
              "    <tr>\n",
              "      <th>25%</th>\n",
              "      <td>19.870000</td>\n",
              "      <td>21.800000</td>\n",
              "      <td>49.800000</td>\n",
              "      <td>22367.675000</td>\n",
              "      <td>5.200000</td>\n",
              "      <td>72.100000</td>\n",
              "      <td>1.310000</td>\n",
              "      <td>51.000000</td>\n",
              "      <td>2.700000</td>\n",
              "      <td>70.90000</td>\n",
              "      <td>46.500000</td>\n",
              "      <td>4.550000</td>\n",
              "    </tr>\n",
              "    <tr>\n",
              "      <th>50%</th>\n",
              "      <td>24.895000</td>\n",
              "      <td>25.500000</td>\n",
              "      <td>59.900000</td>\n",
              "      <td>30132.050000</td>\n",
              "      <td>7.400000</td>\n",
              "      <td>105.200000</td>\n",
              "      <td>1.810000</td>\n",
              "      <td>77.400000</td>\n",
              "      <td>3.400000</td>\n",
              "      <td>77.90000</td>\n",
              "      <td>62.100000</td>\n",
              "      <td>6.000000</td>\n",
              "    </tr>\n",
              "    <tr>\n",
              "      <th>75%</th>\n",
              "      <td>29.910000</td>\n",
              "      <td>29.200000</td>\n",
              "      <td>69.900000</td>\n",
              "      <td>37724.025000</td>\n",
              "      <td>9.800000</td>\n",
              "      <td>137.025000</td>\n",
              "      <td>2.300000</td>\n",
              "      <td>103.700000</td>\n",
              "      <td>4.100000</td>\n",
              "      <td>85.60000</td>\n",
              "      <td>78.225000</td>\n",
              "      <td>7.510000</td>\n",
              "    </tr>\n",
              "    <tr>\n",
              "      <th>max</th>\n",
              "      <td>34.990000</td>\n",
              "      <td>35.000000</td>\n",
              "      <td>80.000000</td>\n",
              "      <td>44995.000000</td>\n",
              "      <td>12.000000</td>\n",
              "      <td>169.900000</td>\n",
              "      <td>2.800000</td>\n",
              "      <td>129.900000</td>\n",
              "      <td>4.800000</td>\n",
              "      <td>95.00000</td>\n",
              "      <td>95.000000</td>\n",
              "      <td>9.000000</td>\n",
              "    </tr>\n",
              "  </tbody>\n",
              "</table>\n",
              "</div>\n",
              "    <div class=\"colab-df-buttons\">\n",
              "\n",
              "  <div class=\"colab-df-container\">\n",
              "    <button class=\"colab-df-convert\" onclick=\"convertToInteractive('df-a3679759-1037-4030-a903-f84aa02fc7ed')\"\n",
              "            title=\"Convert this dataframe to an interactive table.\"\n",
              "            style=\"display:none;\">\n",
              "\n",
              "  <svg xmlns=\"http://www.w3.org/2000/svg\" height=\"24px\" viewBox=\"0 -960 960 960\">\n",
              "    <path d=\"M120-120v-720h720v720H120Zm60-500h600v-160H180v160Zm220 220h160v-160H400v160Zm0 220h160v-160H400v160ZM180-400h160v-160H180v160Zm440 0h160v-160H620v160ZM180-180h160v-160H180v160Zm440 0h160v-160H620v160Z\"/>\n",
              "  </svg>\n",
              "    </button>\n",
              "\n",
              "  <style>\n",
              "    .colab-df-container {\n",
              "      display:flex;\n",
              "      gap: 12px;\n",
              "    }\n",
              "\n",
              "    .colab-df-convert {\n",
              "      background-color: #E8F0FE;\n",
              "      border: none;\n",
              "      border-radius: 50%;\n",
              "      cursor: pointer;\n",
              "      display: none;\n",
              "      fill: #1967D2;\n",
              "      height: 32px;\n",
              "      padding: 0 0 0 0;\n",
              "      width: 32px;\n",
              "    }\n",
              "\n",
              "    .colab-df-convert:hover {\n",
              "      background-color: #E2EBFA;\n",
              "      box-shadow: 0px 1px 2px rgba(60, 64, 67, 0.3), 0px 1px 3px 1px rgba(60, 64, 67, 0.15);\n",
              "      fill: #174EA6;\n",
              "    }\n",
              "\n",
              "    .colab-df-buttons div {\n",
              "      margin-bottom: 4px;\n",
              "    }\n",
              "\n",
              "    [theme=dark] .colab-df-convert {\n",
              "      background-color: #3B4455;\n",
              "      fill: #D2E3FC;\n",
              "    }\n",
              "\n",
              "    [theme=dark] .colab-df-convert:hover {\n",
              "      background-color: #434B5C;\n",
              "      box-shadow: 0px 1px 3px 1px rgba(0, 0, 0, 0.15);\n",
              "      filter: drop-shadow(0px 1px 2px rgba(0, 0, 0, 0.3));\n",
              "      fill: #FFFFFF;\n",
              "    }\n",
              "  </style>\n",
              "\n",
              "    <script>\n",
              "      const buttonEl =\n",
              "        document.querySelector('#df-a3679759-1037-4030-a903-f84aa02fc7ed button.colab-df-convert');\n",
              "      buttonEl.style.display =\n",
              "        google.colab.kernel.accessAllowed ? 'block' : 'none';\n",
              "\n",
              "      async function convertToInteractive(key) {\n",
              "        const element = document.querySelector('#df-a3679759-1037-4030-a903-f84aa02fc7ed');\n",
              "        const dataTable =\n",
              "          await google.colab.kernel.invokeFunction('convertToInteractive',\n",
              "                                                    [key], {});\n",
              "        if (!dataTable) return;\n",
              "\n",
              "        const docLinkHtml = 'Like what you see? Visit the ' +\n",
              "          '<a target=\"_blank\" href=https://colab.research.google.com/notebooks/data_table.ipynb>data table notebook</a>'\n",
              "          + ' to learn more about interactive tables.';\n",
              "        element.innerHTML = '';\n",
              "        dataTable['output_type'] = 'display_data';\n",
              "        await google.colab.output.renderOutput(dataTable, element);\n",
              "        const docLink = document.createElement('div');\n",
              "        docLink.innerHTML = docLinkHtml;\n",
              "        element.appendChild(docLink);\n",
              "      }\n",
              "    </script>\n",
              "  </div>\n",
              "\n",
              "\n",
              "    <div id=\"df-f364bf41-dd11-454f-a51b-e74b0909c5a8\">\n",
              "      <button class=\"colab-df-quickchart\" onclick=\"quickchart('df-f364bf41-dd11-454f-a51b-e74b0909c5a8')\"\n",
              "                title=\"Suggest charts\"\n",
              "                style=\"display:none;\">\n",
              "\n",
              "<svg xmlns=\"http://www.w3.org/2000/svg\" height=\"24px\"viewBox=\"0 0 24 24\"\n",
              "     width=\"24px\">\n",
              "    <g>\n",
              "        <path d=\"M19 3H5c-1.1 0-2 .9-2 2v14c0 1.1.9 2 2 2h14c1.1 0 2-.9 2-2V5c0-1.1-.9-2-2-2zM9 17H7v-7h2v7zm4 0h-2V7h2v10zm4 0h-2v-4h2v4z\"/>\n",
              "    </g>\n",
              "</svg>\n",
              "      </button>\n",
              "\n",
              "<style>\n",
              "  .colab-df-quickchart {\n",
              "      --bg-color: #E8F0FE;\n",
              "      --fill-color: #1967D2;\n",
              "      --hover-bg-color: #E2EBFA;\n",
              "      --hover-fill-color: #174EA6;\n",
              "      --disabled-fill-color: #AAA;\n",
              "      --disabled-bg-color: #DDD;\n",
              "  }\n",
              "\n",
              "  [theme=dark] .colab-df-quickchart {\n",
              "      --bg-color: #3B4455;\n",
              "      --fill-color: #D2E3FC;\n",
              "      --hover-bg-color: #434B5C;\n",
              "      --hover-fill-color: #FFFFFF;\n",
              "      --disabled-bg-color: #3B4455;\n",
              "      --disabled-fill-color: #666;\n",
              "  }\n",
              "\n",
              "  .colab-df-quickchart {\n",
              "    background-color: var(--bg-color);\n",
              "    border: none;\n",
              "    border-radius: 50%;\n",
              "    cursor: pointer;\n",
              "    display: none;\n",
              "    fill: var(--fill-color);\n",
              "    height: 32px;\n",
              "    padding: 0;\n",
              "    width: 32px;\n",
              "  }\n",
              "\n",
              "  .colab-df-quickchart:hover {\n",
              "    background-color: var(--hover-bg-color);\n",
              "    box-shadow: 0 1px 2px rgba(60, 64, 67, 0.3), 0 1px 3px 1px rgba(60, 64, 67, 0.15);\n",
              "    fill: var(--button-hover-fill-color);\n",
              "  }\n",
              "\n",
              "  .colab-df-quickchart-complete:disabled,\n",
              "  .colab-df-quickchart-complete:disabled:hover {\n",
              "    background-color: var(--disabled-bg-color);\n",
              "    fill: var(--disabled-fill-color);\n",
              "    box-shadow: none;\n",
              "  }\n",
              "\n",
              "  .colab-df-spinner {\n",
              "    border: 2px solid var(--fill-color);\n",
              "    border-color: transparent;\n",
              "    border-bottom-color: var(--fill-color);\n",
              "    animation:\n",
              "      spin 1s steps(1) infinite;\n",
              "  }\n",
              "\n",
              "  @keyframes spin {\n",
              "    0% {\n",
              "      border-color: transparent;\n",
              "      border-bottom-color: var(--fill-color);\n",
              "      border-left-color: var(--fill-color);\n",
              "    }\n",
              "    20% {\n",
              "      border-color: transparent;\n",
              "      border-left-color: var(--fill-color);\n",
              "      border-top-color: var(--fill-color);\n",
              "    }\n",
              "    30% {\n",
              "      border-color: transparent;\n",
              "      border-left-color: var(--fill-color);\n",
              "      border-top-color: var(--fill-color);\n",
              "      border-right-color: var(--fill-color);\n",
              "    }\n",
              "    40% {\n",
              "      border-color: transparent;\n",
              "      border-right-color: var(--fill-color);\n",
              "      border-top-color: var(--fill-color);\n",
              "    }\n",
              "    60% {\n",
              "      border-color: transparent;\n",
              "      border-right-color: var(--fill-color);\n",
              "    }\n",
              "    80% {\n",
              "      border-color: transparent;\n",
              "      border-right-color: var(--fill-color);\n",
              "      border-bottom-color: var(--fill-color);\n",
              "    }\n",
              "    90% {\n",
              "      border-color: transparent;\n",
              "      border-bottom-color: var(--fill-color);\n",
              "    }\n",
              "  }\n",
              "</style>\n",
              "\n",
              "      <script>\n",
              "        async function quickchart(key) {\n",
              "          const quickchartButtonEl =\n",
              "            document.querySelector('#' + key + ' button');\n",
              "          quickchartButtonEl.disabled = true;  // To prevent multiple clicks.\n",
              "          quickchartButtonEl.classList.add('colab-df-spinner');\n",
              "          try {\n",
              "            const charts = await google.colab.kernel.invokeFunction(\n",
              "                'suggestCharts', [key], {});\n",
              "          } catch (error) {\n",
              "            console.error('Error during call to suggestCharts:', error);\n",
              "          }\n",
              "          quickchartButtonEl.classList.remove('colab-df-spinner');\n",
              "          quickchartButtonEl.classList.add('colab-df-quickchart-complete');\n",
              "        }\n",
              "        (() => {\n",
              "          let quickchartButtonEl =\n",
              "            document.querySelector('#df-f364bf41-dd11-454f-a51b-e74b0909c5a8 button');\n",
              "          quickchartButtonEl.style.display =\n",
              "            google.colab.kernel.accessAllowed ? 'block' : 'none';\n",
              "        })();\n",
              "      </script>\n",
              "    </div>\n",
              "\n",
              "    </div>\n",
              "  </div>\n"
            ],
            "text/plain": [
              "       Soil_Moisture  Temperature     Humidity  Light_Intensity  \\\n",
              "count    5000.000000  5000.000000  5000.000000      5000.000000   \n",
              "mean       24.926546    25.443200    59.990460     30074.207280   \n",
              "std         5.833796     4.652911    11.546665      8713.155334   \n",
              "min        15.000000    15.000000    40.000000     15002.300000   \n",
              "25%        19.870000    21.800000    49.800000     22367.675000   \n",
              "50%        24.895000    25.500000    59.900000     30132.050000   \n",
              "75%        29.910000    29.200000    69.900000     37724.025000   \n",
              "max        34.990000    35.000000    80.000000     44995.000000   \n",
              "\n",
              "       Irrigation_Level    Leaf_Area  Stem_Thickness  Plant_Height  \\\n",
              "count       5000.000000  5000.000000     5000.000000   5000.000000   \n",
              "mean           7.492820   104.744920        1.803864     77.419820   \n",
              "std            2.608184    37.211085        0.578495     30.320541   \n",
              "min            3.000000    40.000000        0.800000     25.000000   \n",
              "25%            5.200000    72.100000        1.310000     51.000000   \n",
              "50%            7.400000   105.200000        1.810000     77.400000   \n",
              "75%            9.800000   137.025000        2.300000    103.700000   \n",
              "max           12.000000   169.900000        2.800000    129.900000   \n",
              "\n",
              "       Leaf_Color_Index  Health_Score  Genotype_Performance_Score  \\\n",
              "count       5000.000000    5000.00000                 5000.000000   \n",
              "mean           3.403160      78.16830                   62.378480   \n",
              "std            0.813092       9.37368                   18.690971   \n",
              "min            2.000000      45.00000                   30.000000   \n",
              "25%            2.700000      70.90000                   46.500000   \n",
              "50%            3.400000      77.90000                   62.100000   \n",
              "75%            4.100000      85.60000                   78.225000   \n",
              "max            4.800000      95.00000                   95.000000   \n",
              "\n",
              "       Yield_Potential  \n",
              "count      5000.000000  \n",
              "mean          6.015694  \n",
              "std           1.714992  \n",
              "min           3.000000  \n",
              "25%           4.550000  \n",
              "50%           6.000000  \n",
              "75%           7.510000  \n",
              "max           9.000000  "
            ]
          },
          "execution_count": 75,
          "metadata": {},
          "output_type": "execute_result"
        }
      ],
      "source": [
        "df.describe()"
      ]
    },
    {
      "cell_type": "code",
      "execution_count": 76,
      "metadata": {
        "colab": {
          "base_uri": "https://localhost:8080/"
        },
        "id": "GzEfZrY8DdZF",
        "outputId": "e47d74fe-24a8-4cdf-80e5-bf51e85356b7"
      },
<<<<<<< Updated upstream
<<<<<<< Updated upstream
      "execution_count": null,
=======
>>>>>>> Stashed changes
=======
>>>>>>> Stashed changes
      "outputs": [
        {
          "name": "stdout",
          "output_type": "stream",
          "text": [
            "Number of rows: 5000\n",
            "Number of columns: 24\n"
          ]
        }
      ],
      "source": [
        "#Number of rows and columns\n",
        "\n",
        "rows = df.shape[0]\n",
        "columns = df.shape[1]\n",
        "print(\"Number of rows:\", rows)\n",
        "print(\"Number of columns:\", columns)"
      ]
    },
    {
      "cell_type": "code",
      "execution_count": 77,
      "metadata": {
        "colab": {
          "base_uri": "https://localhost:8080/"
        },
        "id": "BGNywhOBCUG0",
        "outputId": "0b1ff6e3-4de9-4e9a-b1fb-09ddfb0a0f18"
      },
<<<<<<< Updated upstream
<<<<<<< Updated upstream
      "execution_count": null,
=======
>>>>>>> Stashed changes
=======
>>>>>>> Stashed changes
      "outputs": [
        {
          "name": "stdout",
          "output_type": "stream",
          "text": [
            "Index(['Image_ID', 'Timestamp', 'Genotype_ID', 'Plant_ID', 'Crop_Type',\n",
            "       'Region', 'Soil_Type', 'Soil_Moisture', 'Temperature', 'Humidity',\n",
            "       'Light_Intensity', 'Fertilizer_Used', 'Irrigation_Level', 'Leaf_Area',\n",
            "       'Stem_Thickness', 'Plant_Height', 'Leaf_Color_Index', 'Disease_Signs',\n",
            "       'Weed_Presence', 'Growth_Stage', 'Health_Score',\n",
            "       'Genotype_Performance_Score', 'Recommended_Action', 'Yield_Potential'],\n",
            "      dtype='object')\n"
          ]
        }
      ],
      "source": [
        "#Display all the column names\n",
        "\n",
        "columns = df.columns\n",
        "print(columns)"
      ]
    },
    {
      "cell_type": "code",
      "execution_count": 78,
      "metadata": {
        "colab": {
          "base_uri": "https://localhost:8080/"
        },
        "id": "ZXlupDj7C0sw",
        "outputId": "03cca17d-7515-45e9-dcd5-e87d218e1f0c"
      },
<<<<<<< Updated upstream
<<<<<<< Updated upstream
      "execution_count": null,
=======
>>>>>>> Stashed changes
=======
>>>>>>> Stashed changes
      "outputs": [
        {
          "name": "stdout",
          "output_type": "stream",
          "text": [
            "Index(['Image_ID', 'Timestamp', 'Genotype_ID', 'Plant_ID', 'Crop_Type',\n",
            "       'Region', 'Soil_Type', 'Fertilizer_Used', 'Disease_Signs',\n",
            "       'Weed_Presence', 'Growth_Stage', 'Recommended_Action'],\n",
            "      dtype='object')\n"
          ]
        }
      ],
      "source": [
        "#Display all the object datatype columns\n",
        "\n",
        "object_columns = df.select_dtypes(include = [\"object\"]).columns\n",
        "print(object_columns)"
      ]
    },
    {
      "cell_type": "code",
      "execution_count": 79,
      "metadata": {
        "colab": {
          "base_uri": "https://localhost:8080/"
        },
        "id": "UZLoifFPDHen",
        "outputId": "c655e02b-aa32-4fb2-e415-dbdafc2d0a4d"
      },
<<<<<<< Updated upstream
<<<<<<< Updated upstream
      "execution_count": null,
=======
>>>>>>> Stashed changes
=======
>>>>>>> Stashed changes
      "outputs": [
        {
          "name": "stdout",
          "output_type": "stream",
          "text": [
            "Index(['Soil_Moisture', 'Temperature', 'Humidity', 'Light_Intensity',\n",
            "       'Irrigation_Level', 'Leaf_Area', 'Stem_Thickness', 'Plant_Height',\n",
            "       'Leaf_Color_Index', 'Health_Score', 'Genotype_Performance_Score',\n",
            "       'Yield_Potential'],\n",
            "      dtype='object')\n"
          ]
        }
      ],
      "source": [
        "#Display all the numeric datatype columns\n",
        "\n",
        "numeric_columns = df.select_dtypes(include = [np.number]).columns\n",
        "print(numeric_columns)"
      ]
    },
    {
      "cell_type": "code",
<<<<<<< Updated upstream
<<<<<<< Updated upstream
      "source": [],
      "metadata": {
        "id": "Ra_msKsSHc-X"
      },
      "execution_count": null,
      "outputs": []
    },
    {
      "cell_type": "code",
      "source": [
        "#Display all the unique values along with its count for object datatype columns\n",
        "\n",
        "for i in object_columns:\n",
        "  print(df[i])\n",
        "  print(df[i].value_counts())\n",
        "  print()\n",
        "  print()"
      ],
=======
      "execution_count": 80,
>>>>>>> Stashed changes
=======
      "execution_count": 80,
>>>>>>> Stashed changes
      "metadata": {
        "colab": {
          "base_uri": "https://localhost:8080/"
        },
        "id": "oI6yQXZyDU_i",
        "outputId": "1872ab96-4ad0-44fc-c4db-9c841b8fa2b1"
      },
<<<<<<< Updated upstream
<<<<<<< Updated upstream
      "execution_count": null,
=======
>>>>>>> Stashed changes
=======
>>>>>>> Stashed changes
      "outputs": [
        {
          "name": "stdout",
          "output_type": "stream",
          "text": [
            "0       IMG_000001\n",
            "1       IMG_000002\n",
            "2       IMG_000003\n",
            "3       IMG_000004\n",
            "4       IMG_000005\n",
            "           ...    \n",
            "4995    IMG_004996\n",
            "4996    IMG_004997\n",
            "4997    IMG_004998\n",
            "4998    IMG_004999\n",
            "4999    IMG_005000\n",
            "Name: Image_ID, Length: 5000, dtype: object\n",
            "Image_ID\n",
            "IMG_005000    1\n",
            "IMG_000001    1\n",
            "IMG_000002    1\n",
            "IMG_000003    1\n",
            "IMG_000004    1\n",
            "             ..\n",
            "IMG_000013    1\n",
            "IMG_000012    1\n",
            "IMG_000011    1\n",
            "IMG_000010    1\n",
            "IMG_000009    1\n",
            "Name: count, Length: 5000, dtype: int64\n",
            "\n",
            "\n",
            "0       2021-11-27\n",
            "1       2021-02-11\n",
            "2       2021-05-03\n",
            "3       2021-11-23\n",
            "4       2021-10-18\n",
            "           ...    \n",
            "4995    2021-03-26\n",
            "4996    2021-02-09\n",
            "4997    2021-02-15\n",
            "4998    2021-09-27\n",
            "4999    2021-02-05\n",
            "Name: Timestamp, Length: 5000, dtype: object\n",
            "Timestamp\n",
            "2021-05-06    25\n",
            "2021-09-28    25\n",
            "2021-04-24    25\n",
            "2021-08-07    25\n",
            "2021-10-27    24\n",
            "              ..\n",
            "2021-03-08     6\n",
            "2021-07-14     6\n",
            "2021-05-18     6\n",
            "2021-08-17     6\n",
            "2021-02-03     5\n",
            "Name: count, Length: 366, dtype: int64\n",
            "\n",
            "\n",
            "0       G009\n",
            "1       G015\n",
            "2       G008\n",
            "3       G019\n",
            "4       G009\n",
            "        ... \n",
            "4995    G010\n",
            "4996    G010\n",
            "4997    G019\n",
            "4998    G019\n",
            "4999    G015\n",
            "Name: Genotype_ID, Length: 5000, dtype: object\n",
            "Genotype_ID\n",
            "G019    285\n",
            "G004    278\n",
            "G015    263\n",
            "G010    261\n",
            "G008    260\n",
            "G005    258\n",
            "G002    258\n",
            "G007    257\n",
            "G014    257\n",
            "G003    256\n",
            "G001    251\n",
            "G012    243\n",
            "G011    243\n",
            "G018    242\n",
            "G016    242\n",
            "G020    237\n",
            "G006    235\n",
            "G009    230\n",
            "G013    225\n",
            "G017    219\n",
            "Name: count, dtype: int64\n",
            "\n",
            "\n",
            "0       P000001\n",
            "1       P000002\n",
            "2       P000003\n",
            "3       P000004\n",
            "4       P000005\n",
            "         ...   \n",
            "4995    P004996\n",
            "4996    P004997\n",
            "4997    P004998\n",
            "4998    P004999\n",
            "4999    P005000\n",
            "Name: Plant_ID, Length: 5000, dtype: object\n",
            "Plant_ID\n",
            "P005000    1\n",
            "P000001    1\n",
            "P000002    1\n",
            "P000003    1\n",
            "P000004    1\n",
            "          ..\n",
            "P000013    1\n",
            "P000012    1\n",
            "P000011    1\n",
            "P000010    1\n",
            "P000009    1\n",
            "Name: count, Length: 5000, dtype: int64\n",
            "\n",
            "\n",
            "0         Maize\n",
            "1          Rice\n",
            "2         Maize\n",
            "3         Wheat\n",
            "4       Soybean\n",
            "         ...   \n",
            "4995      Maize\n",
            "4996      Wheat\n",
            "4997       Rice\n",
            "4998      Maize\n",
            "4999      Wheat\n",
            "Name: Crop_Type, Length: 5000, dtype: object\n",
            "Crop_Type\n",
            "Wheat      1500\n",
            "Rice       1491\n",
            "Soybean    1009\n",
            "Maize      1000\n",
            "Name: count, dtype: int64\n",
            "\n",
            "\n",
            "0          West\n",
            "1       Central\n",
            "2         North\n",
            "3          West\n",
            "4          West\n",
            "         ...   \n",
            "4995      South\n",
            "4996      South\n",
            "4997      North\n",
            "4998      North\n",
            "4999    Central\n",
            "Name: Region, Length: 5000, dtype: object\n",
            "Region\n",
            "North      1049\n",
            "Central    1005\n",
            "West        999\n",
            "East        987\n",
            "South       960\n",
            "Name: count, dtype: int64\n",
            "\n",
            "\n",
            "0        Clay\n",
            "1        Clay\n",
            "2       Sandy\n",
            "3       Loamy\n",
            "4        Clay\n",
            "        ...  \n",
            "4995    Loamy\n",
            "4996    Loamy\n",
            "4997     Clay\n",
            "4998    Loamy\n",
            "4999    Sandy\n",
            "Name: Soil_Type, Length: 5000, dtype: object\n",
            "Soil_Type\n",
            "Loamy    1969\n",
            "Clay     1586\n",
            "Sandy     992\n",
            "Silty     453\n",
            "Name: count, dtype: int64\n",
            "\n",
            "\n",
            "0           NPK\n",
            "1           NPK\n",
            "2           DAP\n",
            "3           DAP\n",
            "4       Compost\n",
            "         ...   \n",
            "4995        DAP\n",
            "4996        NaN\n",
            "4997       Urea\n",
            "4998        DAP\n",
            "4999        NPK\n",
            "Name: Fertilizer_Used, Length: 5000, dtype: object\n",
            "Fertilizer_Used\n",
            "NPK        1501\n",
            "Urea       1447\n",
            "DAP        1044\n",
            "Compost     771\n",
            "Name: count, dtype: int64\n",
            "\n",
            "\n",
            "0        No\n",
            "1        No\n",
            "2        No\n",
            "3       Yes\n",
            "4        No\n",
            "       ... \n",
            "4995     No\n",
            "4996     No\n",
            "4997     No\n",
            "4998    Yes\n",
            "4999     No\n",
            "Name: Disease_Signs, Length: 5000, dtype: object\n",
            "Disease_Signs\n",
            "No     4576\n",
            "Yes     424\n",
            "Name: count, dtype: int64\n",
            "\n",
            "\n",
            "0        No\n",
            "1        No\n",
            "2        No\n",
            "3       Yes\n",
            "4       Yes\n",
            "       ... \n",
            "4995     No\n",
            "4996     No\n",
            "4997     No\n",
            "4998     No\n",
            "4999     No\n",
            "Name: Weed_Presence, Length: 5000, dtype: object\n",
            "Weed_Presence\n",
            "No     4217\n",
            "Yes     783\n",
            "Name: count, dtype: int64\n",
            "\n",
            "\n",
            "0         Fruiting\n",
            "1         Fruiting\n",
            "2       Vegetative\n",
            "3        Flowering\n",
            "4         Fruiting\n",
            "           ...    \n",
            "4995     Flowering\n",
            "4996      Fruiting\n",
            "4997    Vegetative\n",
            "4998    Vegetative\n",
            "4999     Flowering\n",
            "Name: Growth_Stage, Length: 5000, dtype: object\n",
            "Growth_Stage\n",
            "Vegetative     1527\n",
            "Flowering      1282\n",
            "Fruiting        947\n",
            "Maturity        753\n",
            "Germination     491\n",
            "Name: count, dtype: int64\n",
            "\n",
            "\n",
            "0       Increase irrigation\n",
            "1                 No action\n",
            "2            Add fertilizer\n",
            "3            Add fertilizer\n",
            "4                 No action\n",
            "               ...         \n",
            "4995        Apply pesticide\n",
            "4996    Increase irrigation\n",
            "4997              No action\n",
            "4998         Add fertilizer\n",
            "4999        Apply pesticide\n",
            "Name: Recommended_Action, Length: 5000, dtype: object\n",
            "Recommended_Action\n",
            "Add fertilizer         1030\n",
            "Weed control           1012\n",
            "No action              1010\n",
            "Apply pesticide        1010\n",
            "Increase irrigation     938\n",
            "Name: count, dtype: int64\n",
            "\n",
            "\n"
          ]
        }
      ],
      "source": [
        "#Display all the unique values along with its count for object datatype columns\n",
        "\n",
        "for i in object_columns:\n",
        "  print(df[i])\n",
        "  print(df[i].value_counts())\n",
        "  print()\n",
        "  print()"
      ]
    },
    {
      "cell_type": "code",
      "execution_count": 81,
      "metadata": {
        "colab": {
          "base_uri": "https://localhost:8080/"
        },
        "id": "wXHFToDHHB5W",
        "outputId": "29033d41-7dc8-4e63-f0a4-5cff89ca486c"
      },
      "outputs": [
        {
          "name": "stdout",
          "output_type": "stream",
          "text": [
            "Fertilizer_Used : 237\n",
            "\n"
          ]
        }
      ],
      "source": [
        "#Find the number of null values\n",
        "\n",
        "for i in columns:\n",
        "  if (df[i].isnull().sum() > 0):\n",
        "    print(i, \":\", df[i].isnull().sum())\n",
        "    print()"
<<<<<<< Updated upstream
<<<<<<< Updated upstream
      ],
      "metadata": {
        "id": "wXHFToDHHB5W",
        "colab": {
          "base_uri": "https://localhost:8080/"
        },
        "outputId": "29033d41-7dc8-4e63-f0a4-5cff89ca486c"
      },
      "execution_count": null,
      "outputs": [
        {
          "output_type": "stream",
          "name": "stdout",
          "text": [
            "Fertilizer_Used : 237\n",
            "\n"
          ]
        }
=======
>>>>>>> Stashed changes
=======
>>>>>>> Stashed changes
      ]
    },
    {
      "cell_type": "code",
      "execution_count": 82,
      "metadata": {
        "colab": {
          "base_uri": "https://localhost:8080/"
        },
        "id": "GSchBXXeQO2P",
        "outputId": "653bc585-f872-46c0-8791-fe9c2a59a48a"
      },
<<<<<<< Updated upstream
<<<<<<< Updated upstream
      "execution_count": null,
=======
>>>>>>> Stashed changes
=======
>>>>>>> Stashed changes
      "outputs": [
        {
          "name": "stdout",
          "output_type": "stream",
          "text": [
            "Fertilizer_Used\n",
            "NPK        1501\n",
            "Urea       1447\n",
            "DAP        1044\n",
            "Compost     771\n",
            "Name: count, dtype: int64\n"
          ]
        }
      ],
      "source": [
        "#Value Counts of Fertilizer_Used\n",
        "\n",
        "value_counts = df['Fertilizer_Used'].value_counts()\n",
        "print(value_counts)"
      ]
    },
    {
      "cell_type": "code",
      "execution_count": 83,
      "metadata": {
        "colab": {
          "base_uri": "https://localhost:8080/"
        },
        "id": "hBo8B-oFQYz2",
        "outputId": "e3c60b9d-ae90-460f-a5fc-2caed9a23f4f"
      },
<<<<<<< Updated upstream
<<<<<<< Updated upstream
      "execution_count": null,
=======
>>>>>>> Stashed changes
=======
>>>>>>> Stashed changes
      "outputs": [
        {
          "name": "stdout",
          "output_type": "stream",
          "text": [
            "Fertilizer_Used\n",
            "NPK        0.315138\n",
            "Urea       0.303800\n",
            "DAP        0.219190\n",
            "Compost    0.161873\n",
            "Name: count, dtype: float64\n"
          ]
        }
      ],
      "source": [
        "#Replace the null values in the Fertilizer_Used column with the help of probability\n",
        "\n",
        "probabilities = value_counts / value_counts.sum()\n",
        "print(probabilities)\n",
        "null_count = df['Fertilizer_Used'].isnull().sum()\n",
        "fill_values = np.random.choice(probabilities.index, size=null_count, p=probabilities.values)\n",
        "df.loc[df['Fertilizer_Used'].isnull(), 'Fertilizer_Used'] = fill_values"
      ]
    },
    {
      "cell_type": "code",
      "execution_count": 84,
      "metadata": {
        "id": "orCjxAZpRe12"
      },
      "outputs": [],
      "source": [
        "#Remove duplicates\n",
        "\n",
        "if (df.duplicated().any()):\n",
        "  df.drop_duplicates(inplace = True)"
<<<<<<< Updated upstream
<<<<<<< Updated upstream
      ],
      "metadata": {
        "id": "orCjxAZpRe12"
      },
      "execution_count": null,
      "outputs": []
=======
      ]
>>>>>>> Stashed changes
=======
      ]
>>>>>>> Stashed changes
    },
    {
      "cell_type": "code",
      "execution_count": 85,
      "metadata": {
        "colab": {
          "base_uri": "https://localhost:8080/",
          "height": 659
        },
        "id": "ZCb2m4dgRr_c",
        "outputId": "e5cd3ae8-938d-403f-ac85-95047d17f035"
      },
<<<<<<< Updated upstream
<<<<<<< Updated upstream
      "execution_count": null,
=======
>>>>>>> Stashed changes
=======
>>>>>>> Stashed changes
      "outputs": [
        {
          "data": {
            "text/plain": [
              "<Figure size 1500x800 with 0 Axes>"
            ]
          },
          "metadata": {},
          "output_type": "display_data"
        },
        {
          "data": {
            "image/png": "iVBORw0KGgoAAAANSUhEUgAABv4AAAPzCAYAAAB/VXtRAAAAOnRFWHRTb2Z0d2FyZQBNYXRwbG90bGliIHZlcnNpb24zLjEwLjAsIGh0dHBzOi8vbWF0cGxvdGxpYi5vcmcvlHJYcgAAAAlwSFlzAAAPYQAAD2EBqD+naQABAABJREFUeJzs3Xt8z/X///H7e2MHm43JNmNYyHmOYVGRMZJDVlHSnOODYuWwcpZIxShRyPhESR98ihArJJOFoRyKaPrYQcVmY8P2/v3Rb6+vd9uw43t7u10vl/elvZ7P5+v5erzee6/Lw/vxej1fJrPZbBYAAAAAAAAAAACAUs3O2gEAAAAAAAAAAAAAKDgKfwAAAAAAAAAAAIANoPAHAAAAAAAAAAAA2AAKfwAAAAAAAAAAAIANoPAHAAAAAAAAAAAA2AAKfwAAAAAAAAAAAIANoPAHAAAAAAAAAAAA2AAKfwAAAAAAAAAAAIANoPAHAAAAAAAAAAAA2AAKfwAAAICkmjVrymQyZXu5urqqSZMmCgsL059//mntMPMlIiJCJpNJAwYMsHYo+bZixQq1bNlSLi4uxu/m7Nmz1g7LkJCQIAcHB5lMJrVo0eK247M+b/88hwEDBshkMikiIuKOj71z507jPfH29lZqamqO437//Xdj3N3q7NmzMplMqlmzZrEd89y5c5o0aZLatGmjypUrq2zZsqpQoYKaN2+uF198UdHR0YVyHFv4OwcAAABQcBT+AAAAgJu0bdtWISEhCgkJUf/+/dWmTRv98ssvmjNnjvz9/fXrr79aO0SrmzZtmkwmk6ZNm1Ysx9u8ebMGDRqkn376SY888ojx+3F1dS2W49+JVatW6fr165KkgwcP6vDhw1aJIyEhQW+//bZVjo3s5s6dq9q1a2vWrFn66aef1KRJEz355JN68MEH9ddff2nhwoVq1aqVxo8fb+1QAQAAANiIMtYOAAAAAChJhgwZku2Omfj4eD388MP6+eefNX78eH322WfWCe4utW7dOknSwoULNXToUCtHk7MPP/xQklS1alX973//0/Lly7Vw4cJijcHZ2VlpaWl66623NGLECFWuXLlYj18aVK1aVcePH1fZsmWL/FgTJ07UG2+8obJly+qtt97SqFGj5OjoaDFm3759evXVV/Xzzz8XeTwAAAAA7g7c8QcAAADchre3t8aNGydJioyMtHI0d5/Y2FhJUp06dawcSc6+++47nThxQhUrVjQKgKtXr1Z6enqxxuHj46MnnnhCly9f1muvvVasxy4typYtq3r16qlWrVpFepzIyEi98cYbkqS1a9fqpZdeylb0k6Q2bdpox44deumll4o0HgAAAAB3Dwp/AAAAwB3w9vaWJN24cSPH/itXrmjOnDlq3ry5ypcvr3Llyqlhw4aaNGmSLl68aDH2s88+k8lkUuXKlfX7779nm2vbtm2yt7eXu7u7fvnlF6P95ue/HT58WL1791blypXl7Owsf39/LViwQBkZGXk+t/379+upp56Sj4+PHBwc5Onpqe7du2v79u3ZxppMJk2fPl2SNH36dIvnId58p2RcXJxefPFF3XfffXJyclK5cuXk6+urjh076q233rqjuLLO95tvvpEkdejQIcdj5fUcbp47IiJCP/74o/r06aMqVarI3t4+z0uYLlu2TJLUr18/derUSbVr19Zff/2lDRs25GmewjBr1iyVKVNGS5Ys0ZkzZ+54v9s9+699+/YymUzauXNnru379u1Tt27dVKlSJZUvX14PP/ywvv32W2Ps1q1b1bFjR1WsWFGurq7q1KmTDh48mOsxL168qKlTp6pp06bG31Tjxo312muv6cqVK9nG37wEbWxsrAYPHixfX1+VLVvW+Lzc7hl/V65cUXh4uNq1a6eKFSvK0dFRNWrUUPfu3bVmzZrc38B/yCq89ujRQ48//vgtx5pMJj344IPZ2k+cOKGBAweqRo0acnR0lIeHhzp27KhPP/30juOQbv/sv9zek5vbMzMztXDhQvn7+6tcuXKqUqWKhg8frr/++kuSlJ6erpkzZ6pevXpydnaWj4+PXnzxxRyfN3nz7+nChQsaOXKkfH195eDgIF9fX40ePVqXLl3KMdZ169YpMDBQlSpVUtmyZVWpUiU1aNBAQ4cO1ZEjR/L0vgAAAAC2isIfAAAAcAf2798vSWrYsGG2vr/++ktt27ZVWFiYTp8+rUceeUSPPvqoEhMTNWvWLLVo0UJnz541xj/xxBMaPXq0/vjjDz399NMWxcT//e9/6t+/vzIzM7V06dIc73Lbv3+/2rRpo0OHDqljx4566KGHdPLkSY0ZM0Z9+/aV2Wy+4/NaunSpAgICtG7dOnl7e+uJJ55QnTp1tGnTJnXu3Nko8mUJCQlRkyZNJElNmjQxnrcXEhKidu3aSfp7adSWLVtq4cKFSk9PV5cuXdSjRw/5+fkpJibmju9Ga9eunUJCQuTl5SVJCgoKynas/JzDzfbu3auWLVtq//79euihh9StWzeVL1/+jt+/y5cvG0uRDho0SCaTSQMHDpT0f8t/Fqc6depo6NChunbtmiZNmlRsx928ebMefPBBxcXFGcXP3bt3q1OnTtq7d68WLVqkbt26KS0tTZ07d1bVqlW1Y8cOPfzwwzp16lS2+Y4dO6YmTZpoxowZSkxMVLt27RQYGKgLFy5o8uTJatu2rZKSknKM5ZdfflGzZs305ZdfqnXr1urRo4fuueee257DuXPndP/992vs2LE6dOiQ7r//fvXu3Vs1atTQt99+q1deeeWO3otLly5p9+7dkv7+e8mPzZs3q1mzZoqIiJCzs7N69+6tZs2aadeuXerTp48GDx6cr3nz69lnn9XEiRNVtWpVBQUFKTMzU++//74CAwOVmpqqwMBAvfXWW6pbt64CAwN15coVLVy4UE8++WSuc547d07NmzfXf/7zH7Vq1UqdOnXS5cuX9e6776pz587GMzOzzJgxQ0899ZR27dqlRo0a6cknn1SbNm1kb2+v5cuX6+uvvy7qtwEAAAAoHcwAAAAAzDVq1DBLMq9YscJoy8jIMP/+++/md955x+zo6Gi2t7c3f/HFF9n27dOnj1mSuXXr1uY//vjDaL98+bK5a9euZknmBx54wGKf9PR0c6tWrcySzBMmTDCbzWbz9evXze3atTNLMo8cOTLbcUJCQsySzJLM//rXv8zXr183+n788Udz5cqVzZLMS5YssdhvxYoVZknmkJAQi/YjR46Yy5QpYzaZTOZVq1ZZ9H355ZdmBwcHsyTzV199ZdE3depUsyTz1KlTs7+RZrN5+vTpZknmYcOGmTMzMy36rl27Zt6xY0eO++Xm4YcfNksyf/PNN9n68nsON7+XEydONGdkZOQppiwffPCBWZK5adOmRtvvv/9utre3N9vZ2ZnPnj2b435Zn7czZ87kGNfNn8Pb+eabb8ySzLVq1TKbzWZzXFyc2cXFxWwymcyHDh0yxp07d84453/KrT1Lbr+DrHaTyWT+97//bdEXGhpqlmSuW7eu2dXV1eL3fuPGDXNwcLBZknnIkCEW+125csVcq1YtsyTzpEmTzOnp6UZfamqq+emnnzZLMg8cONBiv6zPpSTzs88+a05LS8t2HmfOnDFLMteoUcOiPSMjw9yyZUuzJHPnzp3NiYmJFv1Xr141b968Odf352aRkZFGHLGxsXe0z83i4+PN7u7uZknm1157zeJvKDo62lyxYkWzJPMHH3xgsV9uf+e5tWfJ7T3Jas/6bN38Wf7jjz/MderUMUsyN27c2NyqVSuL//f9+uuvRpx79uyxmPfm39OAAQMsfk+xsbHmqlWrmiWZ16xZY7SnpaWZnZ2dza6uruYTJ05kO4ezZ8+ajx8/nuP5AQAAAHcb7vgDAAAAbjJw4EBj2UN7e3tVq1ZNo0ePlr+/v3bt2qXHHnvMYnxsbKzWrVsnk8mkDz74QJUqVTL6XF1dtXTpUjk5OWnv3r3au3ev0efg4KC1a9eqYsWKmjt3rr788ku9+uqr2rNnj1q0aKG333471xirVKmit99+W2XKlDHaGjZsqClTpkjSLfe92YIFC3Tjxg09/vjj6t+/v0Vf165dNWzYMEnSm2++eUfzZUlISJAkdenSJdvykWXLllXHjh3zNN+tFPQc7rvvPr322muys8vfP42WL18uSRZ3YN18V9SKFSvyNW9BeHt7a+zYsTKbzZo4cWKxHPOJJ57Qs88+a9H26quvSpJOnjypESNGWPze7e3tjTvo/vnczJUrV+r06dN67LHHNHPmTDk4OBh95cqV0wcffCBPT0/9+9//zraMriR5eHjo3XffzfGZern54osv9MMPP6hKlSr6z3/+o8qVK1v0Ozk56dFHH72juS5cuGD87OnpeccxZFm6dKmSkpLUokULvfrqqxZ/Qy1btjTe17z+XRbEwoULVaNGDWO7UqVKGjFihCTpxx9/1PLlyy3+3+fn52d8HnJ7Lmq1atW0aNEii99T1lKfkrRjxw6jPTk5WVevXtW9996runXrZpurRo0aqlevXgHOEAAAALAdFP4AAACAm7Rt29Zi+cpu3brJ19dX0dHRGjt2rMUz9yRp9+7dyszMVLNmzeTv759tvqwikCTjWXVZatasqYiICEnS008/rTfffFPu7u769NNPb1m0eOqpp+Tk5JStPWtZwV9++UXnz5+/7blmPa8tt2d/ZRWzvv322zw9O7BVq1aSpIkTJ2r9+vVKSUm5433zqqDn0KtXL9nb2+fr2D/++KO+//57OTo6ql+/fhZ9gwYNkvT389UyMzPzNX9BjBs3Tvfcc4+2bduW7XNXFHIqinl4eBjFoJz6s5ax/edndfPmzZKkPn365HgsV1dXtWzZUjdu3FB0dHS2/sDAQLm7u+cp/q1bt0qSnnnmGbm6uuZp38KW9ZnObZnQrM/0nf6dF1SZMmXUuXPnbO1Zv7/q1aurUaNGufbnFmPHjh1Vrly5bO3169eX9Peyx1kqV66smjVr6siRI3rppZd07NixvJ8IAAAAcJeg8AcAAADcZMiQIYqIiDBemzZt0q+//qqwsDBFR0fr4Ycf1uXLl43xWV9O+/n55TpnrVq1LMberEePHhoyZIiSk5NlNpv1wQcf6N57771ljLkdq3z58kah5ffff7/1id5B7Flxp6Wl6c8//7ztfFn69++vfv366eeff1ZwcLAqVKggf39//etf/yr053AV9Bxq1qyZ72Nn3e3Xq1cvVaxY0aIv67lyv/32W653PBUlNzc34xl/EyZMyNNzH/OjevXqObZnFdFy6s96lmJ6erpF+6+//irp789R1t23/3x9+eWXkizvrsuSn9/pb7/9JkmFctfYzXcLJiYm5nn/232mK1SoIA8PD0l39ndeUFWqVLG4uzjLrX630v/9ftPS0nLsz20/Nze3HPdbtWqVPD09NW/ePDVs2FCVKlXSo48+qvnz5+uPP/64s5MBAAAA7gLZs3cAAAAAFsqUKaPXXntNS5cuVVxcnFatWqWRI0cWytx//vmntmzZYmzv27dPTz31VIHnLepCz63Y2dnpo48+0iuvvKLNmzfru+++03fffafFixdr8eLF6t69uzZs2JDvO+0Kk7Ozc772u3btmj766CNJUnR0tNq1a5dtTNYdhsuXL1enTp3yH2Q+jRgxQuHh4YqOjtZnn32mgICAfM91u7sWb7dUal6WUs06VpcuXeTl5XXLsTcvP5klv7/TwtKsWTPZ2dkpMzNT0dHR8vX1tWo8t1Ocv9uC7Pfggw/q7Nmz2rx5s3bt2qW9e/dq27Zt2rJli6ZOnaoNGzYU6jLCAAAAQGlF4Q8AAAC4A3Z2dqpZs6b++OMPHT9+3GivWrWqpP+7SyknWX1ZY7OYzWb1799fv//+u3r16qXdu3dr/vz5at++vXr06JHrfGfOnMmx/fLly8ZdbdWqVbvtOVWtWlWnT5/Wr7/+muNSfVlxOzk5GXcY5UWDBg3UoEEDjRs3TmazWV9//bWeeeYZffHFF1q1apUGDhyY5zmL+xxy89///te4y+jXX3+95e9/48aN+uuvvwr1+HfCwcFBM2fOVP/+/fXqq6/qq6++ynVs2bJldf36dV2+fNm4U+tmWXfEFQdfX1+dOHFCgwcP1hNPPFEsx8y6++zEiRMFnqtixYp68MEHtWvXLq1cuVK9e/fO0/5Vq1bViRMncv1MJSUl6a+//jLG3k7WMxJvvlP5ZsX5uy0oZ2dnPfHEE8bn4sKFC5o0aZI++OADDRo0qFSdCwAAAFBUWOoTAAAAuAOZmZk6e/asJFk8A+yhhx6SnZ2dYmJidPjw4Wz7xcXFGc8P69Chg0XfnDlztGXLFtWvX18fffSRVq5cKZPJpAEDBtzyC+x169ZlWx5Rkv79739LkmrXrn1HBYH27dtLkvGcwX/68MMPJf19p83NS/1lFRJu3Lhx22NkMZlM6tixo5555hlJUkxMzB3veyv5PYeCWrZsmaT/W0Yzt1erVq2Unp5u3B1Y3Pr166cmTZrol19+0dKlS3Mdl/V5ubmoneXIkSM6d+5ckcX4T127dpUkffrpp8V2zC5dukiSPv74Y6WmphZ4vldffVWS9Pnnn2vDhg23HGs2m7Vnzx5jO+szvXLlyhzHZ32m69Spc0d/51ljcitqZj1TsTSqXLmy5s6dK0mKjY3VxYsXrRwRAAAAYH0U/gAAAIDbuHHjhiZNmmTc4XXz3XjVq1fXk08+KbPZrOeff97iOXKpqakaNmyY0tLS9MADD+iBBx4w+nbv3q3JkyerXLlyWrdunVxcXPTYY4/ppZde0sWLF/XUU0/p+vXrOcZz/vx5vfzyy8ZSktLfBZsZM2ZIksaOHXtH5/Xiiy+qTJky2rhxY7bC1FdffaX3339fkvTyyy9b9GXdTfjTTz/lOO+qVat04MCBbO2XL1/Wzp07JeW8RGN+5PccCiI2NlY7duyQJIWEhNxy7HPPPSfp/4o1xc1kMmn27NmSpPDw8FzHBQYGSpKmT59uUVQ+e/asQkJCinXp2GHDhqlGjRpat26dJkyYkOOdavHx8bcsZOZVjx491KxZM50/f15PPvlktudBpqWlWSzJezudOnXSSy+9JEnq27ev5s2bl2Ox/sCBAwoKCtJbb71ltA0dOlRubm46ePCgXn/9dYv3/tChQ3rttdckSePGjbujWFq1aiU3NzcdO3bMuDggy7p167Rw4cI7Pi9r+e2337Rs2TIlJydn6/viiy8k/X2nZdbzAQEAAIC7GUt9AgAAADdZtmyZUZyS/n4G3+HDh407nl599VWLAp4kLVq0SCdOnND333+vWrVqqUOHDipTpox27dqlCxcuyM/PT6tXrzbGX7hwQU8//bQyMjK0aNEiNWzY0Oh7/fXXtWfPHu3bt0/jx4/X/Pnzs8U4fPhwLVu2TJs3b1br1q118eJFffPNN7p27Zoef/xxjRgx4o7OtXHjxlq0aJFGjBih/v37a/78+apXr55+++037d27V2azWdOmTVPnzp0t9gsKCpKLi4s2btyodu3aqU6dOrK3t1fbtm01cOBArV+/XiEhIfLx8VHTpk1VsWJFXbx4Ud99952SkpLUqFEjDR069I5iLKpzKIgVK1YoMzNT999/v+rXr3/LsX379lVoaKgOHz6sAwcOqEWLFoUWx53q2rWr2rdvb/G5/qdXXnlFn332mb788kvdd999uv/++3XhwgVFR0erbdu2euCBB7R3795iidfFxUWbN2/WY489prlz5+qDDz6Qv7+/qlWrpitXrujnn3/W8ePH5enpWWifIzs7O23YsEFBQUHasmWLqlevrnbt2qlSpUr63//+p8OHD6tChQrGXb934q233pKHh4emTZuml156SdOmTVPr1q3l6emplJQUHTlyxJhvwoQJxn5eXl5avXq1nnzySb366qv697//rWbNmikxMVG7du3SjRs3NHDgwDs+d2dnZ02fPl1jx47Vc889p8WLF6tq1ao6fvy4jh07pkmTJmnmzJl5ebuK3cWLFzV06FD961//UtOmTeXn5ydJ+uWXX3To0CGZTCa9+eabJeK5oQAAAIC1UfgDAAAAbvLdd9/pu+++M7YdHBxUpUoV9enTR8OHDzeW4btZpUqVtHfvXi1cuFBr167VV199pczMTPn5+Wno0KF6+eWXVbFiRUl/Lxn67LPP6vz58woJCdGAAQMs5ipbtqzWrl2rZs2aKTw8XA8//LB69eplMaZ169YaNmyYpk6dqu3btyslJUV16tTR4MGDNXr0aJlMpjs+32HDhqlJkyZ66623tGfPHh05ckTu7u569NFH9eKLL6pTp07Z9vHy8tKWLVs0Y8YMHThwQFFRUcrMzDQKEi+99JL8/Py0d+9eHTx40Hi+XYMGDfTMM89o4MCBcnFxueMYi+Ic8stsNmvFihWSbn+3n/T3Z+PRRx/Vxo0btXz5cqsU/iTpjTfeUOvWrXPtz/p9TZo0Sd988402bdqkmjVr6tVXX9X48eML9T28Ew0bNtSRI0e0ZMkSbdiwQUeOHFFUVJTuueceVatWTS+//LIef/zxQj1mjRo19MMPP+i9997TZ599pqioKF27dk3e3t56+OGHjWVq8+KVV15Rv3799P7772vHjh06dOiQkpKS5OLionvvvVc9e/ZUSEiImjVrZrHfY489poMHD+qNN95QZGSkPvvsM7m4uOjBBx/U888/rz59+uQpjjFjxsjDw0MLFizQoUOH9NNPP6lly5YKDw9X7dq1S3zhr1atWgoPD9euXbv0448/6ssvv5TZbFbVqlX13HPP6YUXXrDa3xYAAABQ0pjMxblmCwAAAIB8GzBggFauXKkVK1ZkKxgCAAAAAADwjD8AAAAAAAAAAADABlD4AwAAAAAAAAAAAGwAhT8AAAAAAAAAAADABvCMPwAAAAAAAAAAAMAGcMcfAAAAAAAAAAAAYAMo/AEAAAAAAAAAAAA2gMIfAAAAAAAAAAAAYAMo/AEAAAAAAAAAAAA2gMIfAAAAAAAAAAAAYAMo/AEAAAAAAAAAAAA2gMIfAAAAAAAAAAAAYAMo/AEAAAAAAAAAAAA2gMIfAAAAAAAAAAAAYAMo/AEAAAAAAAAAAAA2gMIfAAAAAAAAAAAAYAMo/AEAAAAAAAAAAAA2gMIfAAAAAAAAAAAAYAMo/AEAAAAAAAAAAAA2gMIfAAAAAAAAAAAAYAMo/AEAAAAAAAAAAAA2gMIfAAAAAAAAAAAAYAPKWDsAa8rMzNT58+dVvnx5mUwma4cDAABsiNls1uXLl+Xj4yM7u9J9rRU5EwAAKCrkTAAAALeXl5zpri78nT9/Xr6+vtYOAwAA2LBz586pWrVq1g6jQMiZAABAUSNnAgAAuL07yZnu6sJf+fLlJf39Rrm5uVk5GgAAYEuSk5Pl6+tr5BulGTkTAAAoKuRMAAAAt5eXnOmuLvxlLbvg5uZGQgYAAIqELSzzRM4EAACKGjkTAADA7d1JzlS6F08HAAAAAAAAAAAAIInCHwAAAAAAAAAAAGATSmThb/HixfL39zeWRggICNCWLVuM/vbt28tkMlm8hg8fbsWIAQAArIO8CQAA4PYyMjI0efJk+fn5ydnZWbVq1dLMmTNlNpuNMWazWVOmTFGVKlXk7OyswMBA/fLLL1aMGgAAIO9K5DP+qlWrpjlz5qhOnToym81auXKlevbsqUOHDqlhw4aSpKFDh2rGjBnGPuXKlbNWuAAAAFZD3gQAAHB7b7zxhhYvXqyVK1eqYcOG+uGHHzRw4EC5u7vrhRdekCTNnTtXCxcu1MqVK+Xn56fJkycrKChIx44dk5OTk5XPAAAA4M6UyMJf9+7dLbZnzZqlxYsXa9++fcYXWOXKlZO3t7c1wgMAACgxyJsAAABub+/everZs6e6desmSapZs6Y+/vhj7d+/X9Lfd/uFh4dr0qRJ6tmzpyRp1apV8vLy0saNG9W3b1+rxQ4AAJAXJbLwd7OMjAytW7dOqampCggIMNpXr16tjz76SN7e3urevbsmT55826vX09PTlZ6ebmwnJycXWdwArOvqtQydvpBSqHOmXc/Q7xevqlpFZzmVtS+0eWtVdpWzQ+HNB+DuVVh5EzkTcHcp7LyJnAlASfTAAw/ogw8+0M8//6z77rtPhw8f1p49ezRv3jxJ0pkzZxQfH6/AwEBjH3d3d7Vu3VpRUVE5Fv7ImYC7CzkTgNKixBb+jh49qoCAAKWlpcnV1VUbNmxQgwYNJEnPPPOMatSoIR8fHx05ckQTJkzQyZMntX79+lvOOXv2bE2fPr04wgdgZacvpOixd/ZYO4w7sml0OzWq6m7tMACUYoWdN5EzAXeX0pI3kTMBKIiJEycqOTlZ9erVk729vTIyMjRr1iz169dPkhQfHy9J8vLystjPy8vL6Psncibg7kLOBKC0MJlvfopxCXLt2jXFxsYqKSlJn332mZYtW6Zdu3YZX2Ld7Ouvv1bHjh116tQp1apVK9c5c7oSy9fXV0lJSXJzcyuS8wBgHUVxx9+pxBSNWRuj8D5NVdvTtdDm5UoswDYlJyfL3d29WPKMws6byJmAu0th503kTADyorhypk8++UTjxo3Tm2++qYYNGyomJkZjxozRvHnzFBISor1796pt27Y6f/68qlSpYuz31FNPyWQyae3atdnmJGcC7i7kTACsKS85U4m948/BwUG1a9eWJLVo0ULR0dFasGCB3n///WxjW7duLUm3Lfw5OjrK0dGxaAIGUKI4O9gX2dVNtT1duXIKQIlS2HkTORNwdymqvImcCUBJMm7cOE2cONFYsrNx48b67bffNHv2bIWEhBjPQ05ISLAo/CUkJKhp06Y5zknOBNxdyJkAlBZ21g7gTmVmZlpcRXWzmJgYSbJIzAAAAO5W5E0AAACWrly5Ijs7y6/B7O3tlZmZKUny8/OTt7e3IiMjjf7k5GR9//33Fs9OBgAAKOlK5B1/YWFh6tq1q6pXr67Lly9rzZo12rlzp7Zt26bTp09rzZo1evTRR1WpUiUdOXJEY8eO1UMPPSR/f39rhw4AAFCsyJsAAABur3v37po1a5aqV6+uhg0b6tChQ5o3b54GDRokSTKZTBozZoxee+011alTR35+fpo8ebJ8fHzUq1cv6wYPAACQByWy8JeYmKjnnntOcXFxcnd3l7+/v7Zt26ZOnTrp3Llz2rFjh8LDw5WamipfX18FBwdr0qRJ1g4bAACg2JE3AQAA3N4777yjyZMn61//+pcSExPl4+Oj559/XlOmTDHGjB8/XqmpqRo2bJguXbqkdu3aaevWrXJycrJi5AAAAHlTIgt/y5cvz7XP19dXu3btKsZoAAAASi7yJgAAgNsrX768wsPDFR4enusYk8mkGTNmaMaMGcUXGAAAQCErNc/4AwAAAAAAAAAAAJA7Cn8AAAAAAAAAAACADaDwBwAAAAAAAAAAANgACn8AAAAAAAAAAACADaDwBwAAAAAAAAAAANgACn8AAAAAAAAAAACADaDwBwAAAAAAAAAAANgACn8AAAAAAAAAAACADaDwBwAAAAAAAAAAANgACn8AAAAAAAAAAACADaDwBwAAAAAAAAAAANgACn8AAAAAAAAAAACADaDwBwAAAAAAAAAAANgACn8AAAAAAAAAAACADaDwBwAAAAAAAAAAANgACn8AAAAAAAAAAACADaDwBwAAAAAAAAAAANgACn8AAAAAAAAAAACADaDwBwAAAAAAAAAAANgACn8AAAAAAAAAAACADaDwBwAAAAAAAAAAANgACn8AAAAAAAAAAACADaDwBwAAAAAAAAAAANgACn8AAAAAAAAAAACADaDwBwAAAAAAAAAAANgACn8AAAAAAAAAAACADaDwBwAAAAAAAAAAANgACn8AAAAAAAAAAACADaDwBwAAAAAAAAAAANgACn8AAAAAAAAAAACADaDwBwAAAAAAAAAAANgACn8AAAAAAAAAAACADaDwBwAAAAAAAAAAANgACn8AAAAAAAAAAACADaDwBwAAAAAAAAAAANiAEln4W7x4sfz9/eXm5iY3NzcFBARoy5YtRn9aWppGjhypSpUqydXVVcHBwUpISLBixAAAANZB3gQAAHB7NWvWlMlkyvYaOXKkJHImAABgO0pk4a9atWqaM2eODhw4oB9++EGPPPKIevbsqZ9++kmSNHbsWH3xxRdat26ddu3apfPnz6t3795WjhoAAKD4kTcBAADcXnR0tOLi4ozX9u3bJUlPPvmkJHImAABgO8pYO4CcdO/e3WJ71qxZWrx4sfbt26dq1app+fLlWrNmjR555BFJ0ooVK1S/fn3t27dPbdq0sUbIAAAAVkHeBAAAcHuVK1e22J4zZ45q1aqlhx9+WElJSeRMAADAZpTIO/5ulpGRoU8++USpqakKCAjQgQMHdP36dQUGBhpj6tWrp+rVqysqKuqWc6Wnpys5OdniBQAAYCsKK28iZwIAALbs2rVr+uijjzRo0CCZTCZyJgAAYFNK5B1/knT06FEFBAQoLS1Nrq6u2rBhgxo0aKCYmBg5ODioQoUKFuO9vLwUHx9/yzlnz56t6dOnF2HUAArizB+pSk2/Ye0wcnUqMcXivyWRi2MZ+d3jYu0wABSzws6byJkAAIAt27hxoy5duqQBAwZIkuLj48mZABtVkr9r4nsmAEWlxBb+6tatq5iYGCUlJemzzz5TSEiIdu3aVaA5w8LCFBoaamwnJyfL19e3oKECKARn/khVh7d2WjuMOzJmbYy1Q7ilb15uT1IG3GUKO28iZwIAALZs+fLl6tq1q3x8fAo0DzkTULKVlu+a+J4JQGErsYU/BwcH1a5dW5LUokULRUdHa8GCBerTp4+uXbumS5cuWVyJlZCQIG9v71vO6ejoKEdHx6IMG0A+ZV19Fd6nqWp7ulo5mpylXc/Q7xevqlpFZzmVtbd2ONmcSkzRmLUxJfZKNgBFp7DzJnImAABgq3777Tft2LFD69evN9q8vb3JmQAbVNK/a+J7JgBFpcQW/v4pMzNT6enpatGihcqWLavIyEgFBwdLkk6ePKnY2FgFBARYOUoABVXb01WNqrpbO4xctaxp7QgA4PbImwAAAHK2YsUKeXp6qlu3bkYbORNg20ryd018zwSgKJTIwl9YWJi6du2q6tWr6/Lly1qzZo127typbdu2yd3dXYMHD1ZoaKg8PDzk5uam0aNHKyAgQG3atLF26AAAAMWKvAkAAODOZGZmasWKFQoJCVGZMv/3lRg5EwAAsCUlsvCXmJio5557TnFxcXJ3d5e/v7+2bdumTp06SZLmz58vOzs7BQcHKz09XUFBQXrvvfesHDUAAEDxI28CAAC4Mzt27FBsbKwGDRqUrY+cCQAA2IoSWfhbvnz5LfudnJy0aNEiLVq0qJgiAgAAKJnImwAAAO5M586dZTabc+wjZwIAALaiRBb+AAAAAAC5O/NHqlLTb1g7jBydSkyx+G9J5OJYRn73uFg7DAAAAAAodBT+AAAAAKAUOfNHqjq8tdPaYdzWmLUx1g7hlr55uT3FPwAAAAA2h8IfAAAAAJQiWXf6hfdpqtqerlaOJru06xn6/eJVVavoLKey9tYOJ5tTiSkaszamxN4xCQAAAAAFQeEPAAAAAEqh2p6ualTV3dph5KhlTWtHAAAAAAB3JztrBwAAAAAAAAAAAACg4Cj8AQAAAAAAAAAAADaAwh8AAAAAAAAAAABgAyj8AQAAAAAAAAAAADaAwh8AAAAAAAAAAABgAyj8AQAAAAAAAAAAADaAwh8AAAAAAAAAAABgAyj8AQAAAAAAAAAAADaAwh8AAAAAAAAAAABgAyj8AQAAAAAAAAAAADaAwh8AAAAAAAAAAABgAyj8AQAAAAAAAAAAADaAwh8AAAAAAAAAAABgAyj8AQAAAAAAAAAAADaAwh8AAAAAAAAAAABgAyj8AQAAAAAAAAAAADaAwh8AAAAAAAAAAABgAyj8AQAAAAAAAAAAADaAwh8AAAAAAAAAAABgAyj8AQAAAAAAAAAAADaAwh8AAAAAAAAAAABgAyj8AQAAAAAAAAAAADaAwh8AAAAAAAAAAABgAyj8AQAAAAAAAAAAADaAwh8AAAAAAAAAAABgAyj8AQAAAAAAAAAAADaAwh8AAAAAAAAAAABgAyj8AQAAAAAAAAAAADaAwh8AAAAAAAAAAABgAyj8AQAAAAAAAAAAADagjLUDAAAAAADkjalMss4kn5Sdk6u1Qyl1ziSnyFQm2dphAAAAAECRKJGFv9mzZ2v9+vU6ceKEnJ2d9cADD+iNN95Q3bp1jTHt27fXrl27LPZ7/vnntWTJkuIOFwAAwGrIm4C7U9kK3+uV/a9bO4xSq2yFjpIetXYYAIrZ//73P02YMEFbtmzRlStXVLt2ba1YsUItW7aUJJnNZk2dOlVLly7VpUuX1LZtWy1evFh16tSxcuQAAAB3rkQW/nbt2qWRI0fq/vvv140bN/TKK6+oc+fOOnbsmFxcXIxxQ4cO1YwZM4ztcuXKWSNcAAAAqyFvAu5O1y+11tvdnlEtT+74y6vTiSl6YfVpa4cBoJhdvHhRbdu2VYcOHbRlyxZVrlxZv/zyiypWrGiMmTt3rhYuXKiVK1fKz89PkydPVlBQkI4dOyYnJycrRg8AAHDnSmThb+vWrRbbERER8vT01IEDB/TQQw8Z7eXKlZO3t3dxhwcAAFBikDcBdyfzDTf5udVVg0ru1g6l1MlMS5L5xgVrhwGgmL3xxhvy9fXVihUrjDY/Pz/jZ7PZrPDwcE2aNEk9e/aUJK1atUpeXl7auHGj+vbtW+wxAwAA5IedtQO4E0lJSZIkDw8Pi/bVq1frnnvuUaNGjRQWFqYrV67ccp709HQlJydbvAAAAGxJYeRN5EwAAMDWfP7552rZsqWefPJJeXp6qlmzZlq6dKnRf+bMGcXHxyswMNBoc3d3V+vWrRUVFZXjnORMAACgJCqRd/zdLDMzU2PGjFHbtm3VqFEjo/2ZZ55RjRo15OPjoyNHjmjChAk6efKk1q9fn+tcs2fP1vTp04sjbAD5YCqTrDPJJ2XnxJJV+XEmOUWmMvxDE7ibFVbeRM4EAABsza+//qrFixcrNDRUr7zyiqKjo/XCCy/IwcFBISEhio+PlyR5eXlZ7Ofl5WX0/RM5E1Dy8V1T/vE9E1B6lfjC38iRI/Xjjz9qz549Fu3Dhg0zfm7cuLGqVKmijh076vTp06pVq1aOc4WFhSk0NNTYTk5Olq+vb9EEDiDPylb4Xq/sf93aYZRqZSt0lPSotcMAYCWFlTeRMwEAAFuTmZmpli1b6vXX//43Z7NmzfTjjz9qyZIlCgkJydec5ExAycd3TQXD90xA6VSiC3+jRo3Spk2btHv3blWrVu2WY1u3bi1JOnXqVK6FP0dHRzk6OhZ6nAAKx/VLrfV2t2dUy5OrsPLjdGKKXlh92tphALCSwsybyJkAAICtqVKliho0aGDRVr9+ff3nP/+RJONZyAkJCapSpYoxJiEhQU2bNs1xTnImoOTju6b843smoPQqkYU/s9ms0aNHa8OGDdq5c6fFw5ZzExMTI0kWyRmA0sV8w01+bnXVoJK7tUMplTLTkmS+ccHaYQAoZuRNAAAAt9e2bVudPHnSou3nn39WjRo1JEl+fn7y9vZWZGSkUehLTk7W999/rxEjRhR3uAAKCd815R/fMwGlV4ks/I0cOVJr1qzRf//7X5UvX95YS93d3V3Ozs46ffq01qxZo0cffVSVKlXSkSNHNHbsWD300EPy9/e3cvQAAADFh7wJAADg9saOHasHHnhAr7/+up566int379fH3zwgT744ANJkslk0pgxY/Taa6+pTp068vPz0+TJk+Xj46NevXpZN3gAAIA8KJGFv8WLF0uS2rdvb9G+YsUKDRgwQA4ODtqxY4fCw8OVmpoqX19fBQcHa9KkSVaIFgAAwHrImwAAAG7v/vvv14YNGxQWFqYZM2bIz89P4eHh6tevnzFm/PjxSk1N1bBhw3Tp0iW1a9dOW7dulZOTkxUjBwAAyJsSWfgzm8237Pf19dWuXbuKKRoAAICSi7wJAADgzjz22GN67LHHcu03mUyaMWOGZsyYUYxRAQAAFC47awcAAAAAAAAAAAAAoOAo/AEAAAAAAAAAAAA2gMIfAAAAAAAAAAAAYAMo/AEAAAAAAAAAAAA2gMIfAAAAAAAAAAAAYAMo/AEAAAAAAAAAAAA2gMIfAAAAAAAAAAAAYAMo/AEAAAAAAAAAAAA2gMIfAAAAAAAAAAAAYAMo/AEAAAAAAAAAAAA2gMIfAAAAAAAAAAAAYAMo/AEAAAAAAAAAAAA2gMIfAAAAAAAAAAAAYAMo/AEAAAAAAAAAAAA2gMIfAAAAAAAAAAAAYAMo/AEAAAAAAAAAAAA2gMIfAAAAAAAAAAAAYAMo/AEAAAAAAAAAAAA2gMIfAAAAAAAAAAAAYAMo/AEAAAAAAAAAAAA2gMIfAAAAAAAAAAAAYAMo/AEAAAAAAAAAAAA2oIy1AwAAAAAA3Lmr1zMkST/+L8nKkeQs7XqGfr94VdUqOsuprL21w8nmVGKKtUMAAAAAgCJD4Q8AAAAASpHT/79wNXH9UStHUrq5OPLPYQAAAAC2h3/pAAAAAEAp0rmhtySplqernEvoHXVj1sYovE9T1fZ0tXY4OXJxLCO/e1ysHQYAAAAAFDoKfwAAAABQini4OKhvq+rWDuO2anu6qlFVd2uHAQAAAAB3FTtrBwAAAAAAAAAAAACg4Cj8AQAAAAAAAAAAADaAwh8AAAAAAAAAAABgAyj8AQAAAAAAAAAAADaAwh8AAAAAAAAAAABgAyj8AQAAAAAAAAAAADaAwh8AAAAAAAAAAABgAyj8AQAAAAAAAAAAADaAwh8AAAAAAAAAAABgA0pk4W/27Nm6//77Vb58eXl6eqpXr146efKkxZi0tDSNHDlSlSpVkqurq4KDg5WQkGCliAEAAKyDvAkAAOD2pk2bJpPJZPGqV6+e0U++BAAAbEWJLPzt2rVLI0eO1L59+7R9+3Zdv35dnTt3VmpqqjFm7Nix+uKLL7Ru3Trt2rVL58+fV+/eva0YNQAAQPEjbwIAALgzDRs2VFxcnPHas2eP0Ue+BAAAbEUZaweQk61bt1psR0REyNPTUwcOHNBDDz2kpKQkLV++XGvWrNEjjzwiSVqxYoXq16+vffv2qU2bNtYIGwAAoNiRNwEAANyZMmXKyNvbO1s7+RIAALAlJfKOv39KSkqSJHl4eEiSDhw4oOvXryswMNAYU69ePVWvXl1RUVG5zpOenq7k5GSLFwAAgC0pjLyJnAkAANiiX375RT4+Prr33nvVr18/xcbGSuJ7JgAAYFtK5B1/N8vMzNSYMWPUtm1bNWrUSJIUHx8vBwcHVahQwWKsl5eX4uPjc51r9uzZmj59elGGCwAAYDWFlTeRMwEAAFvTunVrRUREqG7duoqLi9P06dP14IMP6scff+R7JsBGXb2eIUn68X9JVo4kZ2nXM/T7xauqVtFZTmXtrR1ONqcSU6wdAoB8KvGFv5EjR+rHH3+0WHc9v8LCwhQaGmpsJycny9fXt8DzAii4kp6MSSRkAEq+wsqbyJkAAICt6dq1q/Gzv7+/WrdurRo1aujTTz+Vs7NzvuYkZwJKttP//3uSieuPWjmS0s3FscSXEAD8Q4n+qx01apQ2bdqk3bt3q1q1aka7t7e3rl27pkuXLllcjZWQkJDjWu1ZHB0d5ejoWJQhA8gnkrHCQ0IG3J0KM28iZwIAALauQoUKuu+++3Tq1Cl16tSJ75kAG9S54d9/v7U8XeVcQi/gHrM2RuF9mqq2p6u1w8mRi2MZ+d3jYu0wAORRifx22Gw2a/To0dqwYYN27twpPz8/i/4WLVqobNmyioyMVHBwsCTp5MmTio2NVUBAgDVCBlBAJT0Zk0jIAJRM5E0AAAB5l5KSotOnT6t///7kS4CN8nBxUN9W1a0dxm3V9nRVo6ru1g4DgA0pkYW/kSNHas2aNfrvf/+r8uXLG+upu7u7y9nZWe7u7ho8eLBCQ0Pl4eEhNzc3jR49WgEBAWrTpo2VoweQH6UlGZNIyACULORNAAAAt/fyyy+re/fuqlGjhs6fP6+pU6fK3t5eTz/9NPkSAACwKSWy8Ld48WJJUvv27S3aV6xYoQEDBkiS5s+fLzs7OwUHBys9PV1BQUF67733ijlSAAAA6yJvAgAAuL3ff/9dTz/9tP78809VrlxZ7dq10759+1S5cmVJ5EsAAMB2lMjCn9lsvu0YJycnLVq0SIsWLSqGiAAAAEom8iYAAIDb++STT27ZT74EAABshZ21AwAAAAAAAAAAAABQcBT+AAAAAAAAAAAAABtA4Q8AAAAAAAAAAACwART+AAAAAAAAAAAAABtA4Q8AAAAAAAAAAACwART+AAAAAAAAAAAAABtA4Q8AAAAAAAAAAACwART+AAAAAAAAAAAAABtA4Q8AAAAAAAAAAACwART+AAAAAAAAAAAAABtA4Q8AAAAAAAAAAACwART+AAAAAAAAAAAAABtA4Q8AAAAAAAAAAACwART+AAAAAAAAAAAAABtA4Q8AAAAAAAAAAACwART+AAAAAAAAAAAAABtA4Q8AAAAAAAAAAACwART+AAAAAAAAAAAAABtA4Q8AAAAAAAAAAACwART+AAAAAAAAAAAAABtA4Q8AAAAAAAAAAACwART+AAAAAAAAAAAAABtA4Q8AAAAAAAAAAACwART+AAAAAAAAAAAAABtA4Q8AAAAAAAAAAACwART+AAAAAAAAAAAAABtA4Q8AAAAAAAAAAACwART+AAAAAAAAAAAAABtA4Q8AAAAAAAAAAACwART+AAAAAAAAAAAAABtA4Q8AAAAAAAAAAACwART+AAAAAAAAAAAAABtA4Q8AAAAAAAAAAACwART+AAAAAAAAAAAAABtA4Q8AAAAAAAAAAACwASW28Ld79251795dPj4+MplM2rhxo0X/gAEDZDKZLF5dunSxTrAAAABWQs4EAACQN3PmzJHJZNKYMWOMtrS0NI0cOVKVKlWSq6urgoODlZCQYL0gAQAA8qnEFv5SU1PVpEkTLVq0KNcxXbp0UVxcnPH6+OOPizFCAAAA6yNnAgAAuHPR0dF6//335e/vb9E+duxYffHFF1q3bp127dql8+fPq3fv3laKEgAAIP/KWDuA3HTt2lVdu3a95RhHR0d5e3sXU0QAAAAlDzkTAADAnUlJSVG/fv20dOlSvfbaa0Z7UlKSli9frjVr1uiRRx6RJK1YsUL169fXvn371KZNG2uFDAAAkGcl9o6/O7Fz5055enqqbt26GjFihP78809rhwQAAFDikDMBAABII0eOVLdu3RQYGGjRfuDAAV2/ft2ivV69eqpevbqioqKKO0wAAIACKbF3/N1Oly5d1Lt3b/n5+en06dN65ZVX1LVrV0VFRcne3j7HfdLT05Wenm5sJycnF1e4AIrZ1WsZOn0hpVDnPJWYYvHfwlKrsqucHXL+/xYAFBQ5E4DbKey8iZwJQEn0ySef6ODBg4qOjs7WFx8fLwcHB1WoUMGi3cvLS/Hx8bnOSc4E3F3ImQCUFqW28Ne3b1/j58aNG8vf31+1atXSzp071bFjxxz3mT17tqZPn15cIQKwotMXUvTYO3uKZO4xa2MKdb5No9upUVX3Qp0TALKQMwG4naLKm8iZAJQU586d04svvqjt27fLycmp0OYlZwLuLuRMAEqLUlv4+6d7771X99xzj06dOpXrl1hhYWEKDQ01tpOTk+Xr61tcIQIoRrUqu2rT6HaFOmfa9Qz9fvGqqlV0llPZwrtyqlZl10KbCwBuh5wJwD8Vdt5EzgSgpDlw4IASExPVvHlzoy0jI0O7d+/Wu+++q23btunatWu6dOmSxV1/CQkJt3xOMjkTcHchZwJQWthM4e/333/Xn3/+qSpVquQ6xtHRUY6OjsUYFQBrcXawL5Krm1rWLPQpAaBYkTMB+KeiyJvImQCUJB07dtTRo0ct2gYOHKh69eppwoQJ8vX1VdmyZRUZGang4GBJ0smTJxUbG6uAgIBc5yVnAu4u5EwASosSW/hLSUnRqVOnjO0zZ84oJiZGHh4e8vDw0PTp0xUcHCxvb2+dPn1a48ePV+3atRUUFGTFqAEAAIoXORMAAMCtlS9fXo0aNbJoc3FxUaVKlYz2wYMHKzQ0VB4eHnJzc9Po0aMVEBCgNm3aWCNkAACAfCuxhb8ffvhBHTp0MLazlk4ICQnR4sWLdeTIEa1cuVKXLl2Sj4+POnfurJkzZ3KlFQAAuKuQMwEAABTc/PnzZWdnp+DgYKWnpysoKEjvvfeetcMCAADIM5PZbDZbOwhrSU5Olru7u5KSkuTm5mbtcAAAgA2xpTzDls4FAACULLaUZ9jSuQAAgJIlL3mGXTHFBAAAAAAAAAAAAKAIUfgDAAAAAAAAAAAAbECJfcZfccha5TQ5OdnKkQAAAFuTlV/Ywqrq5EwAAKCokDMBAADcXl5ypru68Hf58mVJkq+vr5UjAQAAtury5ctyd3e3dhgFQs4EAACKGjkTAADA7d1JzmQy28IlVfmUmZmp8+fPq3z58jKZTNYOB0AJl5ycLF9fX507d44HtQO4LbPZrMuXL8vHx0d2dqV7dXVyJgB5Qc4EIC/ImQDcrciZAORFXnKmu7rwBwB5kZycLHd3dyUlJZGQAQAA5IKcCQAA4PbImQAUldJ9KRUAAAAAAAAAAAAASRT+AAAAAAAAAAAAAJtA4Q8A7pCjo6OmTp0qR0dHa4cCAABQYpEzAQAA3B45E4CiwjP+AAAAAAAAAAAAABvAHX8AAAAAAAAAAACADaDwBwAAAAAAAAAAANgACn8AAAAAAAAAAACADaDwB6BUmzZtmpo2bWpsDxgwQL169bJKLDt37pTJZNKlS5escnwAAAAAAACULmfPnpXJZFJMTEyuY/75nVNERIQqVKhQLPEBKH0o/AGwqgsXLmjEiBGqXr26HB0d5e3traCgIH333Xd3tP/LL7+syMjIfB17wIABMplMGj58eLa+kSNHymQyacCAAXc83wMPPKC4uDi5u7vfdixFQgAAkBcmk+mWr2nTplk7xEJXs2ZNhYeHWzsMAABwF8jtQvLi+P7G19dXcXFxatSo0R3v06dPH/3888/G9j8vjAdwdytj7QAA3N2Cg4N17do1rVy5Uvfee68SEhIUGRmpP//88472d3V1laura76P7+vrq08++UTz58+Xs7OzJCktLU1r1qxR9erV8zSXg4ODvL298x1Lfl2/fl1ly5Yt9uMCAIDiExcXZ/y8du1aTZkyRSdPnjTaCpIPFSez2ayMjAyVKVN8/xS9du2aHBwciu14AAAAeWFvb5/n75OcnZ2N77EA4J+44w+A1Vy6dEnffvut3njjDXXo0EE1atRQq1atFBYWph49ekiSYmNj1bNnT7m6usrNzU1PPfWUEhISjDkKekVT8+bN5evrq/Xr1xtt69evV/Xq1dWsWTOLsenp6XrhhRfk6ekpJycntWvXTtHR0Ub/P68C++2339S9e3dVrFhRLi4uatiwob788kudPXtWHTp0kCRVrFjR4s7CnK5sb9q0qcVV/CaTSYsXL1aPHj3k4uKiWbNmSZL++9//qnnz5nJyctK9996r6dOn68aNG/l+bwAAQMnh7e1tvNzd3WUymSzaPvnkE9WvX19OTk6qV6+e3nvvPWPfrOWjPv30Uz344INydnbW/fffr59//lnR0dFq2bKlXF1d1bVrV124cMHYL+vK9+nTp6ty5cpyc3PT8OHDde3aNWNMZmamZs+eLT8/Pzk7O6tJkyb67LPPjP6s/GjLli1q0aKFHB0dtWfPHp0+fVo9e/aUl5eXXF1ddf/992vHjh3Gfu3bt9dvv/2msWPHGnc1SjnnfuHh4apZs2a2uGfNmiUfHx/VrVtXknTu3Dk99dRTqlChgjw8PNSzZ0+dPXu2MH49AADgLpCXPOT111+Xl5eXKlSooBkzZujGjRsaN26cPDw8VK1aNa1YscLYJ6elPr/88kvdd999cnZ2VocOHbLlLDcv9RkREaHp06fr8OHDRt4UERGhQYMG6bHHHrPY7/r16/L09NTy5csL4y0BUEJR+ANgNVl3623cuFHp6enZ+jMzM9WzZ0/99ddf2rVrl7Zv365ff/1Vffr0KdQ4Bg0aZJFwffjhhxo4cGC2cePHj9d//vMfrVy5UgcPHlTt2rUVFBSkv/76K8d5R44cqfT0dO3evVtHjx7VG2+8IVdXV/n6+uo///mPJOnkyZOKi4vTggUL8hTztGnT9Pjjj+vo0aMaNGiQvv32Wz333HN68cUXdezYMb3//vuKiIgwioIAAMB2rV69WlOmTNGsWbN0/Phxvf7665o8ebJWrlxpMW7q1KmaNGmSDh48qDJlyuiZZ57R+PHjtWDBAn377bc6deqUpkyZYrFPZGSkjh8/rp07d+rjjz/W+vXrNX36dKN/9uzZWrVqlZYsWaKffvpJY8eO1bPPPqtdu3ZZzDNx4kTNmTNHx48fl7+/v1JSUvToo48qMjJShw4dUpcuXdS9e3fFxsZK+vtCrGrVqmnGjBmKi4uzuOPxTkRGRurkyZPavn27Nm3apOvXrysoKEjly5fXt99+q++++06urq7q0qWLRSETAACgoL7++mudP39eu3fv1rx58zR16lQ99thjqlixor7//nsNHz5czz//vH7//fcc9z937px69+6t7t27KyYmRkOGDNHEiRNzPV6fPn300ksvqWHDhkbe1KdPHw0ZMkRbt261yKM2bdqkK1euFPp3awBKFpb6BGA1ZcqUUUREhIYOHaolS5aoefPmevjhh9W3b1/5+/srMjJSR48e1ZkzZ+Tr6ytJWrVqlRo2bKjo6Gjdf//9hRLHs88+q7CwMP3222+SpO+++06ffPKJdu7caYxJTU3V4sWLFRERoa5du0qSli5dqu3bt2v58uUaN25ctnljY2MVHBysxo0bS5Luvfdeo8/Dw0OS5Onpma+HMT/zzDMWxclBgwZp4sSJCgkJMY41c+ZMjR8/XlOnTs3z/AAAoPSYOnWq3n77bfXu3VuS5OfnZ1wIlJUbSH8/GzkoKEiS9OKLL+rpp59WZGSk2rZtK0kaPHiwIiIiLOZ2cHDQhx9+qHLlyqlhw4aaMWOGxo0bp5kzZ+r69et6/fXXtWPHDgUEBEj6OwfZs2eP3n//fT388MPGPDNmzFCnTp2MbQ8PDzVp0sTYnjlzpjZs2KDPP/9co0aNkoeHh+zt7VW+fPl8LaXu4uKiZcuWGUt8fvTRR8rMzNSyZcuMuwdXrFihChUqaOfOnercuXOejwEAAGzLpk2bsi2fnpGRked5PDw8tHDhQtnZ2alu3bqaO3eurly5oldeeUWSFBYWpjlz5mjPnj3q27dvtv0XL16sWrVq6e2335Yk1a1b17igPCfOzs5ydXVVmTJlLPKmBx54QHXr1tW///1vjR8/XtLf+c+TTz5ZapaJB5A/FP4AWFVwcLC6deumb7/9Vvv27dOWLVs0d+5cLVu2TMnJyfL19TWKfpLUoEEDVahQQcePHy+0wl/lypXVrVs3RUREyGw2q1u3brrnnnssxpw+fVrXr183vhiTpLJly6pVq1Y6fvx4jvO+8MILGjFihL766isFBgYqODhY/v7+hRJzy5YtLbYPHz6s7777zuIOv4yMDKWlpenKlSsqV65coRwXAACULKmpqTp9+rQGDx6soUOHGu03btyQu7u7xdib8xAvLy9JMi5QympLTEy02KdJkyYWeURAQIBSUlJ07tw5paSk6MqVKxYFPenvZ+r9c8n0f+YuKSkpmjZtmjZv3qy4uDjduHFDV69eNe74K6jGjRtbPNfv8OHDOnXqlMqXL28xLi0tTadPny6UYwIAgNKtQ4cOWrx4sUXb999/r2effTZP8zRs2FB2dv+30J6Xl5caNWpkbNvb26tSpUrZ8q4sx48fV+vWrS3asi6yyqshQ4bogw8+0Pjx45WQkKAtW7bo66+/ztdcAEoPCn8ArM7JyUmdOnVSp06dNHnyZA0ZMkRTp07VSy+9VGwxDBo0SKNGjZIkLVq0qFDmHDJkiIKCgrR582Z99dVXmj17tt5++22NHj06133s7OxkNpst2q5fv55tnIuLi8V2SkqKpk+fblzpfzMnJ6d8ngEAACjpUlJSJP29EsE/vyCyt7e32C5btqzxc9Zdb/9sy8zMzPOxN2/erKpVq1r0OTo6Wmz/M3d5+eWXtX37dr311luqXbu2nJ2d9cQTT9x22c2C5EotWrTQ6tWrs42tXLnyLY8JAADuDi4uLqpdu7ZF283Lcd5pHnJzfiX9nWPl1JaXvCu/nnvuOU2cOFFRUVHau3ev/Pz89OCDDxb5cQFYF4U/ACVOgwYNtHHjRtWvX1/nzp3TuXPnjLv+jh07pkuXLqlBgwaFesys57uYTCZjCayb1apVSw4ODvruu+9Uo0YNSX8nd9HR0RozZkyu8/r6+mr48OEaPny4wsLCtHTpUo0ePdq4Av2fS0ZUrlzZYu315ORknTlz5rbxN2/eXCdPnsyWoAIAANvm5eUlHx8f/frrr+rXr1+hz3/48GFdvXpVzs7OkqR9+/YZzyz28PCQo6OjYmNjLZb1vBPfffedBgwYoMcff1zS34W5s2fPWoxxcHDIMVeKj4+X2Ww2ipcxMTG3PV7z5s21du1aeXp6ys3NLU+xAgAASPnPQ/Kqfv36+vzzzy3a9u3bd8t9csqbJKlSpUrq1auXVqxYoaioKIvHxgCwXXa3HwIARePPP//UI488oo8++khHjhzRmTNntG7dOs2dO1c9e/ZUYGCgGjdurH79+ungwYPav3+/nnvuOT388MPZlosqKHt7ex0/flzHjh3LdnW89PdVXyNGjNC4ceO0detWHTt2TEOHDtWVK1c0ePDgHOccM2aMtm3bpjNnzujgwYP65ptvVL9+fUlSjRo1ZDKZtGnTJl24cMG4Yv6RRx7Rv//9b3377bc6evSoQkJCcoznn6ZMmaJVq1Zp+vTp+umnn3T8+HF98sknmjRpUgHeFQAAUBpMnz5ds2fP1sKFC/Xzzz/r6NGjWrFihebNm1fgua9du6bBgwfr2LFj+vLLLzV16lSNGjVKdnZ2Kl++vF5++WWNHTtWK1eu1OnTp3Xw4EG98847Wrly5S3nrVOnjtavX6+YmBgdPnxYzzzzTLar3mvWrKndu3frf//7n/744w9JUvv27XXhwgXNnTtXp0+f1qJFi7Rly5bbnke/fv10zz33qGfPnvr222915swZ7dy5Uy+88ILFlfwAAAC5yW8eklfDhw/XL7/8onHjxunkyZNas2ZNtucw/1PNmjV15swZxcTE6I8//lB6errRN2TIEK1cuVLHjx+3eP4zANtF4Q+A1bi6uqp169aaP3++HnroITVq1EiTJ0/W0KFD9e6778pkMum///2vKlasqIceekiBgYG69957tXbt2iKJx83N7ZZXgM+ZM0fBwcHq37+/mjdvrlOnTmnbtm2qWLFijuMzMjI0cuRI1a9fX126dNF9992n9957T5JUtWpVTZ8+XRMnTpSXl5exzGhYWJgefvhhPfbYY+rWrZt69eqlWrVq3Tb2oKAgbdq0SV999ZXuv/9+tWnTRvPnzzfuTgQAALZryJAhWrZsmVasWKHGjRvr4YcfVkREhPz8/Ao8d8eOHVWnTh099NBD6tOnj3r06KFp06YZ/TNnztTkyZM1e/ZsI+fZvHnzbY89b948VaxYUQ888IC6d++uoKAgNW/e3GLMjBkzdPbsWdWqVctYjrN+/fp67733tGjRIjVp0kT79+/Xyy+/fNvzKFeunHbv3q3q1aurd+/eql+/vgYPHqy0tDTuAAQAAHckv3lIXlWvXl3/+c9/tHHjRjVp0kRLlizR66+/fst9goOD1aVLF3Xo0EGVK1fWxx9/bPQFBgaqSpUqCgoKko+PT6HHC6DkMZn/uTAxAAAAAOCuN2DAAF26dEkbN260digAAADIp5SUFFWtWlUrVqxQ7969rR0OgGLAM/4AAAAAAAAAALAhmZmZ+uOPP/T222+rQoUK6tGjh7VDAlBMKPwBsEmxsbFq0KBBrv3Hjh1T9erVizEiAAAAAAAAoHjExsbKz89P1apVU0REhMqUoRQA3C1Y6hOATbpx44bOnj2ba3/NmjVJeAAAAAAAAAAANoXCHwAAAAAAAAAAAGAD7KwdAAAAAAAAAAAAAICCo/AHAAAAAAAAAAAA2AAKfwAAAAAAAAAAAIANoPAHAAAAAAAAAAAA2AAKfwAAAAAAAAAAAIANoPAHAAAAAAAAAAAA2AAKfwAAAAAAAAAAAIANoPAHAAAAAAAAAAAA2AAKfwAAAAAAAAAAAIANoPAHAAAAAAAAAAAA2AAKfwAAAAAAACi1du/ere7du8vHx0cmk0kbN2606DeZTDm+3nzzTWNMzZo1s/XPmTOnmM8EAACg4Cj8AQAAAAAAoNRKTU1VkyZNtGjRohz74+LiLF4ffvihTCaTgoODLcbNmDHDYtzo0aOLI3wAAIBCVcbaAVhTZmamzp8/r/Lly8tkMlk7HAAAYEPMZrMuX74sHx8f2dmV7mutyJkAAEBRKYycqWvXruratWuu/d7e3hbb//3vf9WhQwfde++9Fu3ly5fPNjYvyJkAAEBRyUvOdFcX/s6fPy9fX19rhwEAAGzYuXPnVK1aNWuHUSDkTAAAoKgVV86UkJCgzZs3a+XKldn65syZo5kzZ6p69ep65plnNHbsWJUpc+dfnZEzAQCAonYnOdNdXfgrX768pL/fKDc3NytHAwAAbElycrJ8fX2NfKM0I2cCAABFpbhzppUrV6p8+fLq3bu3RfsLL7yg5s2by8PDQ3v37lVYWJji4uI0b968XOdKT09Xenq6sW02myWRMwEAgMKXl5zpri78ZS274ObmRkIGAACKhC0s80TOBAAAilpx5Uwffvih+vXrJycnJ4v20NBQ42d/f385ODjo+eef1+zZs+Xo6JjjXLNnz9b06dOztZMzAQCAonInOVPpfuAMAAAAAAAAcAe+/fZbnTx5UkOGDLnt2NatW+vGjRs6e/ZsrmPCwsKUlJRkvM6dO1eI0QIAAORPgQp/c+bMkclk0pgxY4y29u3by2QyWbyGDx9usV9sbKy6deumcuXKydPTU+PGjdONGzcsxuzcuVPNmzeXo6OjateurYiIiGzHX7RokWrWrCknJye1bt1a+/fvL8jpAAAAlDq7d+9W9+7d5ePjI5PJpI0bNxp9169f14QJE9S4cWO5uLjIx8dHzz33nM6fP2+9gAEAAKxk+fLlatGihZo0aXLbsTExMbKzs5Onp2euYxwdHY27+7jLDwAAlBT5LvxFR0fr/fffl7+/f7a+oUOHKi4uznjNnTvX6MvIyFC3bt107do17d27VytXrlRERISmTJlijDlz5oy6deumDh06KCYmRmPGjNGQIUO0bds2Y8zatWsVGhqqqVOn6uDBg2rSpImCgoKUmJiY31MCAAAodVJTU9WkSRMtWrQoW9+VK1d08OBBTZ48WQcPHtT69et18uRJ9ejRwwqRAgAAFI2UlBTFxMQoJiZG0t/fK8XExCg2NtYYk5ycrHXr1uV4t19UVJTCw8N1+PBh/frrr1q9erXGjh2rZ599VhUrViyu0wAAACgUJnPWk4fzICUlRc2bN9d7772n1157TU2bNlV4eLikv+/4u3n7n7Zs2aLHHntM58+fl5eXlyRpyZIlmjBhgi5cuCAHBwdNmDBBmzdv1o8//mjs17dvX126dElbt26V9PeSC/fff7/effddSVJmZqZ8fX01evRoTZw48Y7OIzk5We7u7kpKSuKqLAAAUKiskWeYTCZt2LBBvXr1ynVMdHS0WrVqpd9++03Vq1e/o3nJmQAAQFEpjDxj586d6tChQ7b2kJAQYwWpDz74QGPGjFFcXJzc3d0txh08eFD/+te/dOLECaWnp8vPz0/9+/dXaGhors/3K6pzAQAAyEle8ox83fE3cuRIdevWTYGBgTn2r169Wvfcc48aNWqksLAwXblyxeiLiopS48aNjaKfJAUFBSk5OVk//fSTMeafcwcFBSkqKkqSdO3aNR04cMBijJ2dnQIDA40xAAAAyC4pKUkmk0kVKlSwdigAAACFon379jKbzdleNz82ZtiwYbpy5Uq2op8kNW/eXPv27dOlS5d09epVHTt2TGFhYXkq+gEAAJQUZfK6wyeffKKDBw8qOjo6x/5nnnlGNWrUkI+Pj44cOaIJEybo5MmTWr9+vSQpPj7eougnydiOj4+/5Zjk5GRdvXpVFy9eVEZGRo5jTpw4kWvs6enpSk9PN7aTk5Pv8KwBlDZXr2Xo9IWUQp0z7XqGfr94VdUqOsuprH2hzVursqucHQpvPgDITVpamiZMmKCnn376lleHkTMBd5fCzpvImQAAgC0iZwJQWuSp8Hfu3Dm9+OKL2r59u5ycnHIcM2zYMOPnxo0bq0qVKurYsaNOnz6tWrVqFSzaApo9e7amT59u1RgAFI/TF1L02Dt7rB3GHdk0up0aVc1+1SkAFKbr16/rqaeektls1uLFi285lpwJuLuUlryJnAkAAFgTOROA0iJPhb8DBw4oMTFRzZs3N9oyMjK0e/duvfvuu0pPT5e9veXVBK1bt5YknTp1SrVq1ZK3t7f2799vMSYhIUGS5O3tbfw3q+3mMW5ubnJ2dpa9vb3s7e1zHJM1R07CwsIUGhpqbCcnJ8vX1/dOTx9AKVKrsqs2jW5XqHOeSkzRmLUxCu/TVLU9XQtt3lqVC28uAMhJVtHvt99+09dff33bteDJmYC7S2HnTeRMAADAFpEzASgt8lT469ixo44ePWrRNnDgQNWrV08TJkzIVvSTpJiYGElSlSpVJEkBAQGaNWuWEhMT5enpKUnavn273Nzc1KBBA2PMl19+aTHP9u3bFRAQIElycHBQixYtFBkZqV69ekmSMjMzFRkZqVGjRuUav6OjI+uzA3cJZwf7Iru6qbanK1dOASg1sop+v/zyi7755htVqlTptvuQMwF3l6LKm8iZAACALSFnAlBa5KnwV758eTVq1MiizcXFRZUqVVKjRo10+vRprVmzRo8++qgqVaqkI0eOaOzYsXrooYfk7+8vSercubMaNGig/v37a+7cuYqPj9ekSZM0cuRI4wum4cOH691339X48eM1aNAgff311/r000+1efNm47ihoaEKCQlRy5Yt1apVK4WHhys1NVUDBw4s6HsCAABQaqSkpOjUqVPG9pkzZxQTEyMPDw9VqVJFTzzxhA4ePKhNmzYpIyPDeKayh4eHHBwcrBU2AAAAAAAAikCeCn+34+DgoB07dhhFOF9fXwUHB2vSpEnGGHt7e23atEkjRoxQQECAXFxcFBISohkzZhhj/Pz8tHnzZo0dO1YLFixQtWrVtGzZMgUFBRlj+vTpowsXLmjKlCmKj49X06ZNtXXrVnl5eRXmKQEAAJRoP/zwgzp06GBsZy3RGRISomnTpunzzz+XJDVt2tRiv2+++Ubt27cvrjABAAAAAABQDApc+Nu5c6fxs6+vr3bt2nXbfWrUqJFtKc9/at++vQ4dOnTLMaNGjbrl0p4AAAC2rn379jKbzbn236oPAAAAAAAAtsXO2gEAAAAAAAAAAAAAKDgKfwAAAAAAAAAAAIANoPAHAAAAAAAAAAAA2AAKfwAAAAAAAAAAAIANoPAHAAAAAAAAAAAA2AAKfwAAAAAAAAAAAIANoPAHAAAAAAAAAAAA2AAKfwAAAAAAAAAAAIANoPAHAAAAAAAAAAAA2AAKfwAAAAAAAAAAAIANoPAHAAAAAAAAAAAA2AAKfwAAAAAAAAAAAIANoPAHAAAAAAAAAAAA2AAKfwAAAAAAAAAAAIANoPAHAAAAAAAAAAAA2AAKfwAAAAAAAAAAAIANoPAHAAAAAAAAAAAA2AAKfwAAAAAAAAAAAIANoPAHAAAAAACAUmv37t3q3r27fHx8ZDKZtHHjRov+AQMGyGQyWby6dOliMeavv/5Sv3795ObmpgoVKmjw4MFKSUkpxrMAAAAoHBT+AAAAAAAAUGqlpqaqSZMmWrRoUa5junTpori4OOP18ccfW/T369dPP/30k7Zv365NmzZp9+7dGjZsWFGHDgAAUOgKVPibM2eOTCaTxowZY7SlpaVp5MiRqlSpklxdXRUcHKyEhASL/WJjY9WtWzeVK1dOnp6eGjdunG7cuGExZufOnWrevLkcHR1Vu3ZtRUREZDv+okWLVLNmTTk5Oal169bav39/QU4HAAAAAAAApUzXrl312muv6fHHH891jKOjo7y9vY1XxYoVjb7jx49r69atWrZsmVq3bq127drpnXfe0SeffKLz588XxykAAAAUmnwX/qKjo/X+++/L39/fon3s2LH64osvtG7dOu3atUvnz59X7969jf6MjAx169ZN165d0969e7Vy5UpFRERoypQpxpgzZ86oW7du6tChg2JiYjRmzBgNGTJE27ZtM8asXbtWoaGhmjp1qg4ePKgmTZooKChIiYmJ+T0lAAAAAAAA2KCdO3fK09NTdevW1YgRI/Tnn38afVFRUapQoYJatmxptAUGBsrOzk7ff/99rnOmp6crOTnZ4gUAAGBt+Sr8paSkqF+/flq6dKnFFVJJSUlavny55s2bp0ceeUQtWrTQihUrtHfvXu3bt0+S9NVXX+nYsWP66KOP1LRpU3Xt2lUzZ87UokWLdO3aNUnSkiVL5Ofnp7ffflv169fXqFGj9MQTT2j+/PnGsebNm6ehQ4dq4MCBatCggZYsWaJy5crpww8/LMj7AQAAAAAAABvSpUsXrVq1SpGRkXrjjTe0a9cude3aVRkZGZKk+Ph4eXp6WuxTpkwZeXh4KD4+Ptd5Z8+eLXd3d+Pl6+tbpOcBAABwJ/JV+Bs5cqS6deumwMBAi/YDBw7o+vXrFu316tVT9erVFRUVJenvq6gaN24sLy8vY0xQUJCSk5P1008/GWP+OXdQUJAxx7Vr13TgwAGLMXZ2dgoMDDTGAAAAAAAAAH379lWPHj3UuHFj9erVS5s2bVJ0dLR27txZoHnDwsKUlJRkvM6dO1c4AQMAABRAmbzu8Mknn+jgwYOKjo7O1hcfHy8HBwdVqFDBot3Ly8u4Qio+Pt6i6JfVn9V3qzHJycm6evWqLl68qIyMjBzHnDhxItfY09PTlZ6ebmyzBAMAAAAAAMDd5d5779U999yjU6dOqWPHjvL29s726JgbN27or7/+kre3d67zODo6ytHRsajDBQAAyJM83fF37tw5vfjii1q9erWcnJyKKqYiwxIMAAAAAAAAd7fff/9df/75p6pUqSJJCggI0KVLl3TgwAFjzNdff63MzEy1bt3aWmECAADkS54KfwcOHFBiYqKaN2+uMmXKqEyZMtq1a5cWLlyoMmXKyMvLS9euXdOlS5cs9ktISDCukPL29lZCQkK2/qy+W41xc3OTs7Oz7rnnHtnb2+c45lZXYrEEAwAAAAAAgG1JSUlRTEyMYmJiJElnzpxRTEyMYmNjlZKSonHjxmnfvn06e/asIiMj1bNnT9WuXVtBQUGSpPr166tLly4aOnSo9u/fr++++06jRo1S37595ePjY8UzAwAAyLs8Ff46duyoo0ePGslUTEyMWrZsqX79+hk/ly1bVpGRkcY+J0+eVGxsrAICAiT9fRXV0aNHLZZQ2L59u9zc3NSgQQNjzM1zZI3JmsPBwUEtWrSwGJOZmanIyEhjTE4cHR3l5uZm8QIAAAAAAEDp9cMPP6hZs2Zq1qyZJCk0NFTNmjXTlClTZG9vryNHjqhHjx667777NHjwYLVo0ULffvutxTKdq1evVr169dSxY0c9+uijateunT744ANrnRIAAEC+5ekZf+XLl1ejRo0s2lxcXFSpUiWjffDgwQoNDZWHh4fc3Nw0evRoBQQEqE2bNpKkzp07q0GDBurfv7/mzp2r+Ph4TZo0SSNHjjQSruHDh+vdd9/V+PHjNWjQIH399df69NNPtXnzZuO4oaGhCgkJUcuWLdWqVSuFh4crNTVVAwcOLNAbAgAAAAAAgNKjffv2MpvNufZv27bttnN4eHhozZo1hRkWAACAVeSp8Hcn5s+fLzs7OwUHBys9PV1BQUF67733jH57e3tt2rRJI0aMUEBAgFxcXBQSEqIZM2YYY/z8/LR582aNHTtWCxYsULVq1bRs2TJjCQZJ6tOnjy5cuKApU6YoPj5eTZs21datW+Xl5VXYpwQAAAAAAAAAAACUeAUu/O3cudNi28nJSYsWLdKiRYty3adGjRr68ssvbzlv+/btdejQoVuOGTVqlEaNGnXHsQIAANia3bt3680339SBAwcUFxenDRs2qFevXka/2WzW1KlTtXTpUl26dElt27bV4sWLVadOHesFDQAAAAAAgCKRp2f8AQAAoGRJTU1VkyZNcr3oau7cuVq4cKGWLFmi77//Xi4uLgoKClJaWloxRwoAAAAAAICiVuhLfQIAAKD4dO3aVV27ds2xz2w2Kzw8XJMmTVLPnj0lSatWrZKXl5c2btyovn37FmeoAAAAAAAAKGLc8QcAAGCjzpw5o/j4eAUGBhpt7u7uat26taKioqwYGQAAAAAAAIoCd/wBAADYqPj4eEmSl5eXRbuXl5fRl5P09HSlp6cb28nJyUUTIAAAAAAAAAoVd/wBAADAwuzZs+Xu7m68fH19rR0SAAAAAAAA7gCFPwAAABvl7e0tSUpISLBoT0hIMPpyEhYWpqSkJON17ty5Io0TAAAAAAAAhYPCHwAAgI3y8/OTt7e3IiMjjbbk5GR9//33CggIyHU/R0dHubm5WbwAAAAAAABQ8vGMPwAlxpk/UpWafsPaYeTqVGKKxX9LIhfHMvK7x8XaYQAoRikpKTp16pSxfebMGcXExMjDw0PVq1fXmDFj9Nprr6lOnTry8/PT5MmT5ePjo169elkvaAAFVpLzJnImAAAAALAeCn8ASoQzf6Sqw1s7rR3GHRmzNsbaIdzSNy+354ss4C7yww8/qEOHDsZ2aGioJCkkJEQREREaP368UlNTNWzYMF26dEnt2rXT1q1b5eTkZK2QARRQacmbyJkAAAAAoPhR+ANQImRdsR7ep6lqe7paOZqcpV3P0O8Xr6paRWc5lbW3djjZnEpM0Zi1MSX26n8ARaN9+/Yym8259ptMJs2YMUMzZswoxqgAFKWSnjeRMwEAgJKCVRIKhlUSgNKJwh+AEqW2p6saVXW3dhi5alnT2hEAAAD8rSTnTeRMAADA2lgloXCwSgJQ+lD4AwAAAAAAAADYFFZJKBhWSQBKLwp/AAAAAAAAAACbxCoJAO42dtYOAAAAAAAAAAAAAEDBUfgDAAAAAAAAAAAAbACFPwAAAAAAAAAAAMAGUPgDAAAAAAAAAAAAbACFPwAAAAAAAAAAAMAGUPgDAAAAAAAAAAAAbACFPwAAAAAAAAAAAMAG5Knwt3jxYvn7+8vNzU1ubm4KCAjQli1bjP727dvLZDJZvIYPH24xR2xsrLp166Zy5crJ09NT48aN040bNyzG7Ny5U82bN5ejo6Nq166tiIiIbLEsWrRINWvWlJOTk1q3bq39+/fn5VQAAAAAAAAAAAAAm5Knwl+1atU0Z84cHThwQD/88IMeeeQR9ezZUz/99JMxZujQoYqLizNec+fONfoyMjLUrVs3Xbt2TXv37tXKlSsVERGhKVOmGGPOnDmjbt26qUOHDoqJidGYMWM0ZMgQbdu2zRizdu1ahYaGaurUqTp48KCaNGmioKAgJSYmFuS9AAAAAAAAAAAAAEqtPBX+unfvrkcffVR16tTRfffdp1mzZsnV1VX79u0zxpQrV07e3t7Gy83Nzej76quvdOzYMX300Udq2rSpunbtqpkzZ2rRokW6du2aJGnJkiXy8/PT22+/rfr162vUqFF64oknNH/+fGOeefPmaejQoRo4cKAaNGigJUuWqFy5cvrwww8L+n4AAAAAAACgFNm9e7e6d+8uHx8fmUwmbdy40ei7fv26JkyYoMaNG8vFxUU+Pj567rnndP78eYs5atasmW0Vqzlz5hTzmQAAABRcvp/xl5GRoU8++USpqakKCAgw2levXq177rlHjRo1UlhYmK5cuWL0RUVFqXHjxvLy8jLagoKClJycbNw1GBUVpcDAQItjBQUFKSoqSpJ07do1HThwwGKMnZ2dAgMDjTG5SU9PV3JyssULAAAAAAAApVdqaqqaNGmiRYsWZeu7cuWKDh48qMmTJ+vgwYNav369Tp48qR49emQbO2PGDItVrEaPHl0c4QMAABSqMnnd4ejRowoICFBaWppcXV21YcMGNWjQQJL0zDPPqEaNGvLx8dGRI0c0YcIEnTx5UuvXr5ckxcfHWxT9JBnb8fHxtxyTnJysq1ev6uLFi8rIyMhxzIkTJ24Z++zZszV9+vS8njIAAAAAAABKqK5du6pr16459rm7u2v79u0Wbe+++65atWql2NhYVa9e3WgvX768vL29izRWAACAopbnO/7q1q2rmJgYff/99xoxYoRCQkJ07NgxSdKwYcMUFBSkxo0bq1+/flq1apU2bNig06dPF3rg+REWFqakpCTjde7cOWuHBAAAAAAAgGKUlJQkk8mkChUqWLTPmTNHlSpVUrNmzfTmm2/qxo0b1gkQAACgAPJ8x5+Dg4Nq164tSWrRooWio6O1YMECvf/++9nGtm7dWpJ06tQp1apVS97e3tq/f7/FmISEBEkyrqjy9vY22m4e4+bmJmdnZ9nb28ve3j7HMbe7KsvR0VGOjo55OFsAAAAAAADYirS0NE2YMEFPP/203NzcjPYXXnhBzZs3l4eHh/bu3auwsDDFxcVp3rx5uc6Vnp6u9PR0Y5tHygAAgJIg38/4y5KZmWmR5NwsJiZGklSlShVJUkBAgI4eParExERjzPbt2+Xm5mYsFxoQEKDIyEiLebZv3248R9DBwUEtWrSwGJOZmanIyEiLZw0CAAAAAAAAWa5fv66nnnpKZrNZixcvtugLDQ1V+/bt5e/vr+HDh+vtt9/WO++8k+t3XtLfj5Rxd3c3Xr6+vkV9CgAAALeVp8JfWFiYdu/erbNnz+ro0aMKCwvTzp071a9fP50+fVozZ87UgQMHdPbsWX3++ed67rnn9NBDD8nf31+S1LlzZzVo0ED9+/fX4cOHtW3bNk2aNEkjR4407sQbPny4fv31V40fP14nTpzQe++9p08//VRjx4414ggNDdXSpUu1cuVKHT9+XCNGjFBqaqoGDhxYiG8NAAAAAAAAbEFW0e+3334zLkK/ldatW+vGjRs6e/ZsrmN4pAwAACiJ8rTUZ2Jiop577jnFxcXJ3d1d/v7+2rZtmzp16qRz585px44dCg8PV2pqqnx9fRUcHKxJkyYZ+9vb22vTpk0aMWKEAgIC5OLiopCQEM2YMcMY4+fnp82bN2vs2LFasGCBqlWrpmXLlikoKMgY06dPH124cEFTpkxRfHy8mjZtqq1bt8rLy6sQ3hIAAAAAAADYiqyi3y+//KJvvvlGlSpVuu0+MTExsrOzk6enZ65jeKQMAAAoifJU+Fu+fHmufb6+vtq1a9dt56hRo4a+/PLLW45p3769Dh06dMsxo0aN0qhRo257PAAAAAAAANiulJQUnTp1ytg+c+aMYmJi5OHhoSpVquiJJ57QwYMHtWnTJmVkZCg+Pl6S5OHhIQcHB0VFRen7779Xhw4dVL58eUVFRWns2LF69tlnVbFiRWudFgAAQL7kqfAHAAAAAAAAlCQ//PCDOnToYGyHhoZKkkJCQjRt2jR9/vnnkqSmTZta7PfNN9+offv2cnR01CeffKJp06YpPT1dfn5+Gjt2rDEPAABAaULhDwAAAAAAAKVW+/btZTabc+2/VZ8kNW/eXPv27SvssAAAAKzCztoBAAAAAAAAAAAAACg4Cn8AAAAAAAAAAACADaDwBwAAAAAAAAAAANgACn8AAAAAAAAAAACADaDwBwAAAAAAAAAAANgACn8AAAAAAAAAAACADaDwBwAAAAAAAAAAANgACn8AAAA2LCMjQ5MnT5afn5+cnZ1Vq1YtzZw5U2az2dqhAQAAAAAAoJCVsXYAAAAAKDpvvPGGFi9erJUrV6phw4b64YcfNHDgQLm7u+uFF16wdngAAAAAAAAoRBT+AAAAbNjevXvVs2dPdevWTZJUs2ZNffzxx9q/f7+VIwMAAAAAAEBhY6lPAAAAG/bAAw8oMjJSP//8syTp8OHD2rNnj7p27WrlyAAAAAAAAFDYuOMPAADAhk2cOFHJycmqV6+e7O3tlZGRoVmzZqlfv3657pOenq709HRjOzk5uThCBQAAAAAAQAFxxx8AAIAN+/TTT7V69WqtWbNGBw8e1MqVK/XWW29p5cqVue4ze/Zsubu7Gy9fX99ijBgAAAAAAAD5ReEPAADAho0bN04TJ05U37591bhxY/Xv319jx47V7Nmzc90nLCxMSUlJxuvcuXPFGDEAAAAAAADyi6U+AQAAbNiVK1dkZ2d5rZe9vb0yMzNz3cfR0VGOjo5FHRoAAAAAAAAKGYU/AAAAG9a9e3fNmjVL1atXV8OGDXXo0CHNmzdPgwYNsnZoAAAAAAAAKGQU/gAAAGzYO++8o8mTJ+tf//qXEhMT5ePjo+eff15TpkyxdmgAAAAAAAAoZBT+AAAAbFj58uUVHh6u8PBwa4cCAAAAAACAImZ3+yH/Z/HixfL395ebm5vc3NwUEBCgLVu2GP1paWkaOXKkKlWqJFdXVwUHByshIcFijtjYWHXr1k3lypWTp6enxo0bpxs3bliM2blzp5o3by5HR0fVrl1bERER2WJZtGiRatasKScnJ7Vu3Vr79+/Py6kAAAAAAAAAAAAANiVPhb9q1appzpw5OnDggH744Qc98sgj6tmzp3766SdJ0tixY/XFF19o3bp12rVrl86fP6/evXsb+2dkZKhbt266du2a9u7dq5UrVyoiIsJiqakzZ86oW7du6tChg2JiYjRmzBgNGTJE27ZtM8asXbtWoaGhmjp1qg4ePKgmTZooKChIiYmJBX0/AAAAAAAAAAAAgFIpT0t9du/e3WJ71qxZWrx4sfbt26dq1app+fLlWrNmjR555BFJ0ooVK1S/fn3t27dPbdq00VdffaVjx45px44d8vLyUtOmTTVz5kxNmDBB06ZNk4ODg5YsWSI/Pz+9/fbbkqT69etrz549mj9/voKCgiRJ8+bN09ChQzVw4EBJ0pIlS7R582Z9+OGHmjhxYoHfFADWYSqTrDPJJ2Xn5GrtUEqlM8kpMpVJtnYYAAAAAAAAAAAryfcz/jIyMrRu3TqlpqYqICBABw4c0PXr1xUYGGiMqVevnqpXr66oqCi1adNGUVFRaty4sby8vIwxQUFBGjFihH766Sc1a9ZMUVFRFnNkjRkzZowk6dq1azpw4IDCwsKMfjs7OwUGBioqKuqWMaenpys9Pd3YTk7mC3KgJClb4Xu9sv91a4dRqpWt0FHSo9YOAwAAAAAAwOq4yDz/uMAcKL3yXPg7evSoAgIClJaWJldXV23YsEENGjRQTEyMHBwcVKFCBYvxXl5eio+PlyTFx8dbFP2y+rP6bjUmOTlZV69e1cWLF5WRkZHjmBMnTtwy9tmzZ2v69Ol5PWUAxeT6pdZ6u9szquVJMpYfpxNT9MLq09YOAwAAAAAAoETgIvOC4QJzoHTKc+Gvbt26iomJUVJSkj777DOFhIRo165dRRFboQsLC1NoaKixnZycLF9fXytGBOBm5htu8nOrqwaV3K0dSqmUmZYk840L1g4DAAAUA65ezz+uXgcA4O7BReb5xwXmQOmV58Kfg4ODateuLUlq0aKFoqOjtWDBAvXp00fXrl3TpUuXLO76S0hIkLe3tyTJ29tb+/fvt5gvISHB6Mv6b1bbzWPc3Nzk7Owse3t72dvb5zgma47cODo6ytHRMa+nDAAAAAAlClevFwxXrwMAcHfgIvP84wJzoPTK9zP+smRmZio9PV0tWrRQ2bJlFRkZqeDgYEnSyZMnFRsbq4CAAElSQECAZs2apcTERHl6ekqStm/fLjc3NzVo0MAY8+WXX1ocY/v27cYcDg4OatGihSIjI9WrVy8jhsjISI0aNaqgpwMAAAAAJR5Xr+cfV68Dtmf37t168803deDAAcXFxWnDhg3Gd0aSZDabNXXqVC1dulSXLl1S27ZttXjxYtWpU8cY89dff2n06NH64osvZGdnp+DgYC1YsECurvx/FgAAlC55KvyFhYWpa9euql69ui5fvqw1a9Zo586d2rZtm9zd3TV48GCFhobKw8NDbm5uGj16tAICAtSmTRtJUufOndWgQQP1799fc+fOVXx8vCZNmqSRI0cad+INHz5c7777rsaPH69Bgwbp66+/1qeffqrNmzcbcYSGhiokJEQtW7ZUq1atFB4ertTUVA0cOLAQ3xoAAAAAKJm4ej3/uHodsD2pqalq0qSJBg0apN69e2frnzt3rhYuXKiVK1fKz89PkydPVlBQkI4dOyYnJydJUr9+/RQXF6ft27fr+vXrGjhwoIYNG6Y1a9YU9+kAAAAUSJ4Kf4mJiXruuecUFxcnd3d3+fv7a9u2berUqZMkaf78+cZVUenp6QoKCtJ7771n7G9vb69NmzZpxIgRCggIkIuLi0JCQjRjxgxjjJ+fnzZv3qyxY8dqwYIFqlatmpYtW6agoCBjTJ8+fXThwgVNmTJF8fHxatq0qbZu3SovL6+Cvh8AAAAAAAAoRbp27aquXbvm2Gc2mxUeHq5JkyapZ8+ekqRVq1bJy8tLGzduVN++fXX8+HFt3bpV0dHRatmypSTpnXfe0aOPPqq33npLPj4+xXYuAAAABZWnwt/y5ctv2e/k5KRFixZp0aJFuY6pUaNGtqU8/6l9+/Y6dOjQLceMGjWKpT0BAAAAAACQqzNnzig+Pl6BgYFGm7u7u1q3bq2oqCj17dtXUVFRqlChglH0k6TAwEDZ2dnp+++/1+OPP57j3Onp6UpPTze2k5OTi+5EAAAA7pCdtQMAAAAAAAAAikJ8fLwkZVslysvLy+iLj4+Xp6enRX+ZMmXk4eFhjMnJ7Nmz5e7ubrx8fX0LOXoAAIC8o/AHAAAAAAAA5FFYWJiSkpKM17lz56wdEgAAAIU/AAAAAAAA2CZvb29JUkJCgkV7QkKC0eft7a3ExESL/hs3buivv/4yxuTE8f+xd+dhVdb5/8dfB5FFNpdkU0Ry3/cUdVySxCVHzdEyG5dcJgdKtNJozLUiK1PLcivFSsZycpnR1BBFS9EQxdSM0jGhAqxUEFNEuH9/9PN8OyMoKIcDx+fjuu4r78/9/nzO+z5ddb0973txdpanp6fFBgAAYGs0/gAAAAAAAGCXgoKC5Ovrq7i4OPNYdna2Dhw4oODgYElScHCwLly4oKSkJHPMzp07VVBQoI4dO5Z5zgAAAHfC0dYJAAAAAAAAALcrJydHJ0+eNO+fPn1aycnJql69uurUqaOIiAi9+OKLatCggYKCgvTCCy/I399fgwYNkiQ1adJEffr00fjx47V06VLl5eUpPDxcjzzyiPz9/W10VgAAALeHxh8AAAAAAAAqrIMHD6pnz57m/SlTpkiSRo0apejoaE2dOlWXLl3ShAkTdOHCBXXt2lXbtm2Ti4uLec6aNWsUHh6uXr16ycHBQUOGDNGbb75Z5ucCAABwp2j8AQAAAAAAoMLq0aOHDMMo8rjJZNKcOXM0Z86cImOqV6+umJgYa6QHAABQpnjHHwAAAAAAAAAAAGAHaPwBAAAAAAAAAAAAdoDGHwAAAAAAAAAAAGAHaPwBAAAAAAAAAAAAdoDGHwAAAAAAAAAAAGAHaPwBAAAAAAAAAAAAdoDGHwAAAAAAAAAAAGAHaPwBAAAAAAAAAAAAdoDGHwAAAAAAAAAAAGAHaPwBAAAAAAAAAAAAdoDGHwAAAAAAAAAAAGAHaPwBAAAAAAAAAAAAdqBEjb+oqCh16NBBHh4e8vb21qBBg5SSkmIR06NHD5lMJovtiSeesIhJTU1V//79VaVKFXl7e+vZZ5/VtWvXLGLi4+PVtm1bOTs7q379+oqOjr4hn7ffflt169aVi4uLOnbsqC+//LIkpwMAAHBX+PHHH/XYY4+pRo0acnV1VYsWLXTw4EFbpwUAAAAAAIBSVqLG3+7duxUWFqb9+/crNjZWeXl56t27ty5dumQRN378eKWnp5u3V1991XwsPz9f/fv319WrV7Vv3z6tXr1a0dHRmjFjhjnm9OnT6t+/v3r27Knk5GRFRERo3Lhx2r59uznmo48+0pQpUzRz5kwdOnRIrVq1UmhoqM6ePXu73wUAAIDdOX/+vLp06aLKlStr69at+vrrrzV//nxVq1bN1qkBAAAAAACglDmWJHjbtm0W+9HR0fL29lZSUpK6detmHq9SpYp8fX0LXeOzzz7T119/rR07dsjHx0etW7fW3LlzNW3aNM2aNUtOTk5aunSpgoKCNH/+fElSkyZN9MUXX2jBggUKDQ2VJL3xxhsaP368xowZI0launSptmzZopUrV+q5554ryWkBAADYrXnz5ikgIECrVq0yjwUFBdkwIwAAAAAAAFjLHb3jLysrS5JUvXp1i/E1a9bonnvuUfPmzRUZGanffvvNfCwhIUEtWrSQj4+PeSw0NFTZ2dk6fvy4OSYkJMRizdDQUCUkJEiSrl69qqSkJIsYBwcHhYSEmGMAAAAg/fvf/1b79u01dOhQeXt7q02bNlqxYoWt0wIAAAAAAIAVlOiOvz8qKChQRESEunTpoubNm5vHH330UQUGBsrf319fffWVpk2bppSUFK1fv16SlJGRYdH0k2Tez8jIuGlMdna2Ll++rPPnzys/P7/QmG+++abInHNzc5Wbm2vez87Ovo0zBwAAqDj++9//asmSJZoyZYqef/55JSYm6qmnnpKTk5NGjRpV6BxqJgAAAAAAgIrptht/YWFhOnbsmL744guL8QkTJpj/3KJFC/n5+alXr146deqU6tWrd/uZloKoqCjNnj3bpjkAAACUpYKCArVv314vv/yyJKlNmzY6duyYli5dWmTjj5oJAAAAAACgYrqtR32Gh4dr8+bN2rVrl2rXrn3T2I4dO0qSTp48KUny9fVVZmamRcz1/evvBSwqxtPTU66urrrnnntUqVKlQmOKeregJEVGRiorK8u8paWlFeNsAQAAKi4/Pz81bdrUYqxJkyZKTU0tcg41EwAAAAAAQMVUosafYRgKDw/Xhg0btHPnTgUFBd1yTnJysqTff3SSpODgYB09elRnz541x8TGxsrT09P8o1RwcLDi4uIs1omNjVVwcLAkycnJSe3atbOIKSgoUFxcnDmmMM7OzvL09LTYAAAA7FmXLl2UkpJiMfbtt98qMDCwyDnUTAAAAAAAABVTiRp/YWFh+vDDDxUTEyMPDw9lZGQoIyNDly9fliSdOnVKc+fOVVJSkr7//nv9+9//1siRI9WtWze1bNlSktS7d281bdpUf/3rX3XkyBFt375d06dPV1hYmJydnSVJTzzxhP773/9q6tSp+uabb/TOO+/o448/1uTJk825TJkyRStWrNDq1at14sQJTZw4UZcuXdKYMWNK67sBAACo8CZPnqz9+/fr5Zdf1smTJxUTE6Ply5crLCzM1qkBAAAAAACglJXoHX9LliyRJPXo0cNifNWqVRo9erScnJy0Y8cOLVy4UJcuXVJAQICGDBmi6dOnm2MrVaqkzZs3a+LEiQoODpabm5tGjRqlOXPmmGOCgoK0ZcsWTZ48WYsWLVLt2rX17rvvKjQ01Bzz8MMP6+eff9aMGTOUkZGh1q1ba9u2bfLx8bmd7wEAAMAudejQQRs2bFBkZKTmzJmjoKAgLVy4UCNGjLB1agAAAAAAAChlJWr8GYZx0+MBAQHavXv3LdcJDAzUp59+etOYHj166PDhwzeNCQ8PV3h4+C0/DwAA4G724IMP6sEHH7R1GgAAAAAAALCyEj3qEwAAAAAAAAAAAED5ROMPAAAAAAAAdq1u3boymUw3bNffe9yjR48bjj3xxBM2zhoAAKDkSvSoTwAAAAAAAKCiSUxMVH5+vnn/2LFjeuCBBzR06FDz2Pjx4zVnzhzzfpUqVco0RwAAgNJA4w8AAAAAAAB2rWbNmhb7r7zyiurVq6fu3bubx6pUqSJfX9+yTg0AAKBU8ahPAAAAAAAA3DWuXr2qDz/8UI8//rhMJpN5fM2aNbrnnnvUvHlzRUZG6rfffrNhlgAAALeHO/4AAAAAAABw19i4caMuXLig0aNHm8ceffRRBQYGyt/fX1999ZWmTZumlJQUrV+/vsh1cnNzlZuba97Pzs62ZtoAAADFQuMPAAAAAAAAd4333ntPffv2lb+/v3lswoQJ5j+3aNFCfn5+6tWrl06dOqV69eoVuk5UVJRmz55t9XwBAABKgkd9AgAAAAAA4K5w5swZ7dixQ+PGjbtpXMeOHSVJJ0+eLDImMjJSWVlZ5i0tLa1UcwUAALgd3PEHAAAAAACAu8KqVavk7e2t/v373zQuOTlZkuTn51dkjLOzs5ydnUszPQAAgDtG4w9AuXA5L1+SdOzHLBtnUrQrefn64fxl1a7mKpfKlWydzg1Ons2xdQoAAKAMlPe6iZoJQHlVUFCgVatWadSoUXJ0/L+fxE6dOqWYmBj169dPNWrU0FdffaXJkyerW7duatmypQ0zBnAnqJnuDDUTUHHR+ANQLpz6/8XEc+uP2jiTis/Nmf+1AwBgz6ibSgc1E3D32bFjh1JTU/X4449bjDs5OWnHjh1auHChLl26pICAAA0ZMkTTp0+3UaYASgM1U+mgZgIqHv6rBVAu9G7mK0mq5+0u13J4lZP0+5VOER8la+HDrVXf293W6RTKzdlRQfe42ToNAABgReW9bqJmAlBe9e7dW4Zh3DAeEBCg3bt32yAjANZEzXTnqJmAionGH4Byobqbkx65r46t0yiW+t7ual7Ly9ZpAACAu1RFqZuomQAAgC1RMwG4WznYOgEAAAAAAAAAAAAAd47GHwAAAAAAAAAAAGAHaPwBAAAAAAAAAAAAdoDGHwAAAAAAAAAAAGAHaPwBAAAAAAAAAAAAdoDGHwAAAAAAAAAAAGAHaPwBAAAAAAAAAAAAdqBEjb+oqCh16NBBHh4e8vb21qBBg5SSkmIRc+XKFYWFhalGjRpyd3fXkCFDlJmZaRGTmpqq/v37q0qVKvL29tazzz6ra9euWcTEx8erbdu2cnZ2Vv369RUdHX1DPm+//bbq1q0rFxcXdezYUV9++WVJTgcAAAAAAAAAAACwGyVq/O3evVthYWHav3+/YmNjlZeXp969e+vSpUvmmMmTJ+s///mP1q1bp927d+unn37SQw89ZD6en5+v/v376+rVq9q3b59Wr16t6OhozZgxwxxz+vRp9e/fXz179lRycrIiIiI0btw4bd++3Rzz0UcfacqUKZo5c6YOHTqkVq1aKTQ0VGfPnr2T7wMAAAAAAAAAAACokBxLErxt2zaL/ejoaHl7eyspKUndunVTVlaW3nvvPcXExOj++++XJK1atUpNmjTR/v371alTJ3322Wf6+uuvtWPHDvn4+Kh169aaO3eupk2bplmzZsnJyUlLly5VUFCQ5s+fL0lq0qSJvvjiCy1YsEChoaGSpDfeeEPjx4/XmDFjJElLly7Vli1btHLlSj333HN3/MUAAAAAAAAAAAAAFckdveMvKytLklS9enVJUlJSkvLy8hQSEmKOady4serUqaOEhARJUkJCglq0aCEfHx9zTGhoqLKzs3X8+HFzzB/XuB5zfY2rV68qKSnJIsbBwUEhISHmGAAAAAAAAAAAAOBuUqI7/v6ooKBAERER6tKli5o3by5JysjIkJOTk6pWrWoR6+Pjo4yMDHPMH5t+149fP3azmOzsbF2+fFnnz59Xfn5+oTHffPNNkTnn5uYqNzfXvJ+dnV2CMwYAAAAAAAAAAADKr9u+4y8sLEzHjh3T2rVrSzMfq4qKipKXl5d5CwgIsHVKAAAAAAAAAAAAQKm4rcZfeHi4Nm/erF27dql27drmcV9fX129elUXLlywiM/MzJSvr685JjMz84bj14/dLMbT01Ourq665557VKlSpUJjrq9RmMjISGVlZZm3tLS0kp04AAAAAAAAAAAAUE6VqPFnGIbCw8O1YcMG7dy5U0FBQRbH27Vrp8qVKysuLs48lpKSotTUVAUHB0uSgoODdfToUZ09e9YcExsbK09PTzVt2tQc88c1rsdcX8PJyUnt2rWziCkoKFBcXJw5pjDOzs7y9PS02AAAAAAAAAAAAAB7UKJ3/IWFhSkmJkabNm2Sh4eH+Z18Xl5ecnV1lZeXl8aOHaspU6aoevXq8vT01JNPPqng4GB16tRJktS7d281bdpUf/3rX/Xqq68qIyND06dPV1hYmJydnSVJTzzxhBYvXqypU6fq8ccf186dO/Xxxx9ry5Yt5lymTJmiUaNGqX379rrvvvu0cOFCXbp0SWPGjCmt7wYAAAAAAAAAAACoMErU+FuyZIkkqUePHhbjq1at0ujRoyVJCxYskIODg4YMGaLc3FyFhobqnXfeMcdWqlRJmzdv1sSJExUcHCw3NzeNGjVKc+bMMccEBQVpy5Ytmjx5shYtWqTatWvr3XffVWhoqDnm4Ycf1s8//6wZM2YoIyNDrVu31rZt2+Tj41PS7wAAAAAAAAAAAACo8ErU+DMM45YxLi4uevvtt/X2228XGRMYGKhPP/30puv06NFDhw8fvmlMeHi4wsPDb5kTAAAAfvfKK68oMjJSkyZN0sKFC22dDgAAAAAAAEpRid7xBwAAgIorMTFRy5YtU8uWLW2dCgAAAAAAAKyAxh8AAMBdICcnRyNGjNCKFStUrVo1W6cDAAAAAAAAK6DxBwAAcBcICwtT//79FRISYutUAAAAAAAAYCUlescfAAAAKp61a9fq0KFDSkxMLFZ8bm6ucnNzzfvZ2dnWSg0AAAAAAACliDv+AAAA7FhaWpomTZqkNWvWyMXFpVhzoqKi5OXlZd4CAgKsnCUAAAAAAABKA40/AAAAO5aUlKSzZ8+qbdu2cnR0lKOjo3bv3q0333xTjo6Oys/Pv2FOZGSksrKyzFtaWpoNMgcAAAAAAEBJ0fgDAACwY7169dLRo0eVnJxs3tq3b68RI0YoOTlZlSpVumGOs7OzPD09LTYAAICKbNasWTKZTBZb48aNzcevXLmisLAw1ahRQ+7u7hoyZIgyMzNtmDEAAMDt4R1/AAAAdszDw0PNmze3GHNzc1ONGjVuGAcAALBnzZo1044dO8z7jo7/97PY5MmTtWXLFq1bt05eXl4KDw/XQw89pL1799oiVQAAgNtG4w8AAAAAAAB2z9HRUb6+vjeMZ2Vl6b333lNMTIzuv/9+SdKqVavUpEkT7d+/X506dSrrVAEAAG4bjT8AAIC7THx8vK1TAAAAKHPfffed/P395eLiouDgYEVFRalOnTpKSkpSXl6eQkJCzLGNGzdWnTp1lJCQUGTjLzc3V7m5ueb97Oxsq58DAADArfCOPwAAAAAAANi1jh07Kjo6Wtu2bdOSJUt0+vRp/elPf9LFixeVkZEhJycnVa1a1WKOj4+PMjIyilwzKipKXl5e5i0gIMDKZwEAAHBr3PEHAAAAAAAAu9a3b1/zn1u2bKmOHTsqMDBQH3/8sVxdXW9rzcjISE2ZMsW8n52dTfMPAADYHHf8AQAAAAAA4K5StWpVNWzYUCdPnpSvr6+uXr2qCxcuWMRkZmYW+k7A65ydneXp6WmxAQAA2BqNPwAAAAAAANxVcnJydOrUKfn5+aldu3aqXLmy4uLizMdTUlKUmpqq4OBgG2YJAABQcjzqEwAAAAAAAHbtmWee0YABAxQYGKiffvpJM2fOVKVKlTR8+HB5eXlp7NixmjJliqpXry5PT089+eSTCg4OVqdOnWydOgAAQInQ+AMAAAAAAIBd++GHHzR8+HD9+uuvqlmzprp27ar9+/erZs2akqQFCxbIwcFBQ4YMUW5urkJDQ/XOO+/YOGsAAICSo/EHAAAAAAAAu7Z27dqbHndxcdHbb7+tt99+u4wyAgAAsA7e8QcAAAAAAAAAAADYARp/AAAAAAAAAAAAgB2g8QcAAAAAAAAAAADYgRI3/vbs2aMBAwbI399fJpNJGzdutDg+evRomUwmi61Pnz4WMefOndOIESPk6empqlWrauzYscrJybGI+eqrr/SnP/1JLi4uCggI0KuvvnpDLuvWrVPjxo3l4uKiFi1a6NNPPy3p6QAAAAAAAAAAAAB2ocSNv0uXLqlVq1Y3fdlxnz59lJ6ebt7++c9/WhwfMWKEjh8/rtjYWG3evFl79uzRhAkTzMezs7PVu3dvBQYGKikpSa+99ppmzZql5cuXm2P27dun4cOHa+zYsTp8+LAGDRqkQYMG6dixYyU9JQAAAAAAAAAAAKDCcyzphL59+6pv3743jXF2dpavr2+hx06cOKFt27YpMTFR7du3lyS99dZb6tevn15//XX5+/trzZo1unr1qlauXCknJyc1a9ZMycnJeuONN8wNwkWLFqlPnz569tlnJUlz585VbGysFi9erKVLl5b0tAAAAAAAAAAAAIAKrcSNv+KIj4+Xt7e3qlWrpvvvv18vvviiatSoIUlKSEhQ1apVzU0/SQoJCZGDg4MOHDigwYMHKyEhQd26dZOTk5M5JjQ0VPPmzdP58+dVrVo1JSQkaMqUKRafGxoaesOjR/8oNzdXubm55v3s7OxSOmMA5c3lq/k69XPOrQNL4OTZHIt/lpZ6Nd3l6lSpVNcEAAAortKum6iZAACAPaJmAlBRlHrjr0+fPnrooYcUFBSkU6dO6fnnn1ffvn2VkJCgSpUqKSMjQ97e3pZJODqqevXqysjIkCRlZGQoKCjIIsbHx8d8rFq1asrIyDCP/THm+hqFiYqK0uzZs0vjNAGUc6d+ztGDb31hlbUjPkou1fU2P9lVzWt5leqaAAAAxWWtuomaCQAA2BNqJgAVRak3/h555BHzn1u0aKGWLVuqXr16io+PV69evUr740okMjLS4i7B7OxsBQQE2DAjANZSr6a7Nj/ZtVTXvJKXrx/OX1btaq5yqVx6V07Vq+leamsBAACUVGnXTdRMAADAHlEzAagorPKozz+69957dc899+jkyZPq1auXfH19dfbsWYuYa9eu6dy5c+b3Avr6+iozM9Mi5vr+rWKKereg9Pu7B52dne/4nACUf65OlaxydVP7uqW+JAAAgE1Zo26iZgIAAPaGmglAReFg7Q/44Ycf9Ouvv8rPz0+SFBwcrAsXLigpKckcs3PnThUUFKhjx47mmD179igvL88cExsbq0aNGqlatWrmmLi4OIvPio2NVXBwsLVPCQAAAAAAAAAAACh3Stz4y8nJUXJyspKTkyVJp0+fVnJyslJTU5WTk6Nnn31W+/fv1/fff6+4uDgNHDhQ9evXV2hoqCSpSZMm6tOnj8aPH68vv/xSe/fuVXh4uB555BH5+/tLkh599FE5OTlp7NixOn78uD766CMtWrTI4jGdkyZN0rZt2zR//nx98803mjVrlg4ePKjw8PBS+FoAAAAAAAAAAACAiqXEjb+DBw+qTZs2atOmjSRpypQpatOmjWbMmKFKlSrpq6++0p///Gc1bNhQY8eOVbt27fT5559bPGJzzZo1aty4sXr16qV+/fqpa9euWr58ufm4l5eXPvvsM50+fVrt2rXT008/rRkzZmjChAnmmM6dOysmJkbLly9Xq1at9K9//UsbN25U8+bN7+T7AAAAAAAAAAAAACokk2EYhq2TsJXs7Gx5eXkpKytLnp6etk4HAADYEXuqM+zpXAAAQPliT3WGPZ0LAAAoX0pSZ1j9HX8AAAAAAAAAAAAArI/GHwAAAAAAAAAAAGAHHG2dgC1df8ppdna2jTMBAAD25np9YQ9PVadmAgAA1kLNBAAAcGslqZnu6sbfxYsXJUkBAQE2zgQAANirixcvysvLy9Zp3BFqJgAAYG3UTAAAALdWnJrJZNjDJVW3qaCgQD/99JM8PDxkMplsnQ6Aci47O1sBAQFKS0vjRe0AbskwDF28eFH+/v5ycKjYT1enZgJQEtRMAEqCmgnA3YqaCUBJlKRmuqsbfwBQEtnZ2fLy8lJWVhYFGQAAQBGomQAAAG6NmgmAtVTsS6kAAAAAAAAAAAAASKLxBwAAAAAAAAAAANgFGn8AUEzOzs6aOXOmnJ2dbZ0KAABAuUXNBAAAcGvUTACshXf8AQAAAAAAAAAAAHaAO/4AAAAAAAAAAAAAO0DjDwAAAAAAAAAAALADNP4AAAAAAAAAAAAAO0DjD4DNmUwmbdy4sdjx8fHxMplMunDhgtVyKs+io6NVtWpVW6cBAADKgVmzZql169Zl8lmjR4/WoEGDyuSzyosePXooIiLC1mkAAIAK6JtvvlGnTp3k4uJSZvUaAEg0/gCUkZv9UJSenq6+ffuW6ufdzo9gdevW1cKFC4sdb6sG5MMPP6xvv/3WvF+WP/gBAADruN2m2jPPPKO4uLhSzeX777+XyWRScnKyxfiiRYsUHR1dqp91M1zsBAAArMnaFzXNnDlTbm5uSklJKVG99re//U2VKlXSunXrrJYbAPtG4w+Azfn6+srZ2dnWaVQYrq6u8vb2tnUaAACgjFy9evWGMcMwdO3aNbm7u6tGjRplkoeXlxeNOAAAgGI6deqUunbtqsDAwGLXa7/99pvWrl2rqVOnauXKlbeML6xOBAAafwBs7n8f9blv3z61bt1aLi4uat++vTZu3FjoVedJSUlq3769qlSpos6dOyslJUXS71eHz549W0eOHJHJZJLJZLqtq9NNJpPeffddDR48WFWqVFGDBg3073//W9LvV8L37NlTklStWjWZTCaNHj1aklRQUKCoqCgFBQXJ1dVVrVq10r/+9S/zutfvFIyLiys0f0k6cuSIevbsKQ8PD3l6eqpdu3Y6ePCg+fyu/+hW1Lk+/vjjevDBBy3OJy8vT97e3nrvvfdK/F0AAICy06NHD4WHhysiIkL33HOPQkNDzfXD1q1b1a5dOzk7O+uLL7644c7/a9eu6amnnlLVqlVVo0YNTZs2TaNGjbK4mn3btm3q2rWrOebBBx/UqVOnzMeDgoIkSW3atJHJZFKPHj0k3XhVfG5urp566il5e3vLxcVFXbt2VWJiovl4cWqeO3HhwgWNGzdONWvWlKenp+6//34dOXJEkvTtt9/KZDLpm2++sZizYMEC1atXz7x/7Ngx9e3bV+7u7vLx8dFf//pX/fLLL6WSHwAAqLhuVSPcqp4ymUxKSkrSnDlzZDKZNGvWrGJ97rp169S0aVM999xz2rNnj9LS0iyOX6/HXnrpJfn7+6tRo0aSpLS0NA0bNkxVq1ZV9erVNXDgQH3//ffmeYmJiXrggQd0zz33yMvLS927d9ehQ4du/wsCUK7R+ANQrmRnZ2vAgAFq0aKFDh06pLlz52ratGmFxv7jH//Q/PnzdfDgQTk6Ourxxx+X9PujMJ9++mk1a9ZM6enpSk9P18MPP3xb+cyePVvDhg3TV199pX79+mnEiBE6d+6cAgIC9Mknn0iSUlJSlJ6erkWLFkmSoqKi9P7772vp0qU6fvy4Jk+erMcee0y7d+8uVv6SNGLECNWuXVuJiYlKSkrSc889p8qVK9+QX1HnOm7cOG3btk3p6enm2M2bN+u333677e8CAACUndWrV8vJyUl79+7V0qVLzePPPfecXnnlFZ04cUItW7a8Yd68efO0Zs0arVq1Snv37lV2dvYN71K+dOmSpkyZooMHDyouLk4ODg4aPHiwCgoKJElffvmlJGnHjh1KT0/X+vXrC81x6tSp+uSTT7R69WodOnRI9evXV2hoqM6dO2cRd7Oa504MHTpUZ8+e1datW5WUlKS2bduqV69eOnfunBo2bKj27dtrzZo1FnPWrFmjRx99VNLvjcP7779fbdq00cGDB7Vt2zZlZmZq2LBhpZIfAAComIpTI9yqnkpPT1ezZs309NNPKz09Xc8880yxPvu9997TY489Ji8vL/Xt27fQC9nj4uKUkpKi2NhYbd68WXl5eQoNDZWHh4c+//xz7d27V+7u7urTp4/5jsCLFy9q1KhR+uKLL7R//341aNBA/fr108WLF+/8CwNQ/hgAUAZGjRplDBw4sNBjkowNGzYYhmEYS5YsMWrUqGFcvnzZfHzFihWGJOPw4cOGYRjGrl27DEnGjh07zDFbtmwxJJnnzZw502jVqlWJcgwMDDQWLFhgkdf06dPN+zk5OYYkY+vWrRZ5nD9/3hxz5coVo0qVKsa+ffss1h47dqwxfPjwYufv4eFhREdHF5rnqlWrDC8vL/N+UefatGlTY968eeb9AQMGGKNHj775lwAAAGzij7VS9+7djTZt2lgcv14/bNy40WL8f+sAHx8f47XXXjPvX7t2zahTp06RdZhhGMbPP/9sSDKOHj1qGIZhnD592qL2KizHnJwco3LlysaaNWvMx69evWr4+/sbr776qkXON6t5buZ/a54/+vzzzw1PT0/jypUrFuP16tUzli1bZhiGYSxYsMCoV6+e+VhKSoohyThx4oRhGIYxd+5co3fv3hbz09LSDElGSkqKYRi//7uYNGnSLXMFAAAVT1G/VRWnRvhf/1tPGYZhtGrVypg5c2ax8/n222+NypUrGz///LNhGIaxYcMGIygoyCgoKLDI2cfHx8jNzTWPffDBB0ajRo0s4nJzcw1XV1dj+/bthX5Wfn6+4eHhYfznP/8pdn4AKg7u+ANQrqSkpKhly5ZycXExj913332Fxv7xKnc/Pz9J0tmzZ0s1nz9+hpubmzw9PW/6GSdPntRvv/2mBx54QO7u7ubt/ffft3jkw63ynzJlisaNG6eQkBC98sorN8wtjnHjxmnVqlWSpMzMTG3durXUrrAHAADW1a5du0LH27dvX+ScrKwsZWZmWtROlSpVumGt7777TsOHD9e9994rT09P1a1bV5KUmppa7PxOnTqlvLw8denSxTxWuXJl3XfffTpx4oRFrDVqtiNHjignJ0c1atSwqLlOnz5trpseeeQRff/999q/f7+k3+/2a9u2rRo3bmxeY9euXRbzrx+7ndoLAADYh+LUCKVRT/2vlStXKjQ0VPfcc48kqV+/fsrKytLOnTst4lq0aCEnJyeLfE+ePCkPDw9zvtWrV9eVK1fM+WZmZmr8+PFq0KCBvLy85OnpqZycnDvKF0D55WjrBADgdv3x0Zcmk0mSzI9UsMZnXP+cm31GTk6OJGnLli2qVauWxTFnZ+ci1/7f/GfNmqVHH31UW7Zs0datWzVz5kytXbtWgwcPLnbuI0eO1HPPPaeEhATt27dPQUFB+tOf/lTs+QAAwHbc3NxKNF4SAwYMUGBgoFasWCF/f38VFBSoefPm5kdBlTZr1Gw5OTny8/NTfHz8DceuvwvZ19dX999/v2JiYtSpUyfFxMRo4sSJFmsMGDBA8+bNu2GN6w1KAABw9ylOjVDa9VR+fr5Wr16tjIwMOTo6WoyvXLlSvXr1Mo/9bz2Yk5Ojdu3a3fCIc0mqWbOmJGnUqFH69ddftWjRIgUGBsrZ2VnBwcFWq/8A2BaNPwDlSqNGjfThhx8qNzfX3ChLTEws8TpOTk7Kz88v7fRu+AxJFp/TtGlTOTs7KzU1Vd27d7+j9Rs2bKiGDRtq8uTJGj58uFatWlVo46+oc61Ro4YGDRqkVatWKSEhQWPGjLmjfAAAQPnm5eUlHx8fJSYmqlu3bpJ+r1MOHTqk1q1bS5J+/fVXpaSkaMWKFeYLgr744guLdQqrcf5XvXr1zO8gDAwMlCTl5eUpMTFRERERpXxmN2rbtq35h7HrV9gXZsSIEZo6daqGDx+u//73v3rkkUcs1vjkk09Ut25dix/YAADA3e1WNUJx6qmS+vTTT3Xx4kUdPnxYlSpVMo8fO3ZMY8aM0YULF8wXNxWW70cffSRvb295enoWGrN3716988476tevnyQpLS1Nv/zyyx3lDKD84lGfAMpMVlaWkpOTLba0tDSLmEcffVQFBQWaMGGCTpw4oe3bt+v111+X9H9XiBdH3bp1dfr0aSUnJ+uXX35Rbm5uqZ6LJAUGBspkMmnz5s36+eeflZOTIw8PDz3zzDOaPHmyVq9erVOnTunQoUN66623tHr16mKte/nyZYWHhys+Pl5nzpzR3r17lZiYqCZNmhQaf7NzHTdunFavXq0TJ05o1KhRpXLeAACg/HryyScVFRWlTZs2KSUlRZMmTdL58+fNdVS1atVUo0YNLV++XCdPntTOnTs1ZcoUizW8vb3l6uqqbdu2KTMzU1lZWTd8jpubmyZOnKhnn31W27Zt09dff63x48frt99+09ixY0vtfPLz82+oH0+cOKGQkBAFBwdr0KBB+uyzz/T9999r3759+sc//qGDBw+a5z/00EO6ePGiJk6cqJ49e8rf3998LCwsTOfOndPw4cOVmJioU6dOafv27RozZozVLyADAADlQ2G/VU2YMOGmNUJx6qmSeu+999S/f3+1atVKzZs3N2/Dhg1T1apVC72b77oRI0bonnvu0cCBA/X555/r9OnTio+P11NPPaUffvhBktSgQQN98MEHOnHihA4cOKARI0bI1dX1jnIGUH7R+ANQZuLj49WmTRuLbfbs2RYxnp6e+s9//qPk5GS1bt1a//jHPzRjxgxJsnjv360MGTJEffr0Uc+ePVWzZk3985//LNVzkaRatWpp9uzZeu655+Tj46Pw8HBJ0ty5c/XCCy8oKipKTZo0UZ8+fbRlyxYFBQUVa91KlSrp119/1ciRI9WwYUMNGzZMffv2veG7uu5m5xoSEiI/Pz+FhoZa/NAFAADs07Rp0zR8+HCNHDlSwcHBcnd3V2hoqLmOcnBw0Nq1a5WUlKTmzZtr8uTJeu211yzWcHR01Jtvvqlly5bJ399fAwcOLPSzXnnlFQ0ZMkR//etf1bZtW508eVLbt29XtWrVSu18cnJybqgfBwwYIJPJpE8//VTdunXTmDFj1LBhQz3yyCM6c+aMfHx8zPM9PDw0YMAAHTlyRCNGjLBY29/fX3v37lV+fr569+6tFi1aKCIiQlWrVpWDA39VBgDgblDYb1Vz5869aY1QnHqqJDIzM7VlyxYNGTLkhmMODg4aPHiw3nvvvSLnV6lSRXv27FGdOnX00EMPqUmTJho7dqyuXLlivgPwvffe0/nz59W2bVv99a9/1VNPPSVvb+/bzhlA+WYyDMOwdRIAcDNr1qzRmDFjlJWVxdVIJZSTk6NatWpp1apVeuihh2ydDgAAKGMFBQVq0qSJhg0bprlz59o6HQAAAACAlfEiAwDlzvvvv697771XtWrV0pEjRzRt2jQNGzaMpl8JFBQU6JdfftH8+fNVtWpV/fnPf7Z1SgAAoAycOXNGn332mbp3767c3FwtXrxYp0+f1qOPPmrr1AAAAAAAZYDnlwAodzIyMvTYY4+pSZMmmjx5soYOHarly5ff0Zpr1qyRu7t7oVuzZs1KKfPyIzU1VT4+PoqJidHKlSsLfRk1AACwPw4ODoqOjlaHDh3UpUsXHT16VDt27CjyXcG21KxZsyLrs5u9xwYAAKCiefnll4use/r27Wvr9ADYGR71CeCucPHiRWVmZhZ6rHLlygoMDCzjjAAAAO5uZ86cUV5eXqHHfHx85OHhUcYZAQAAWMe5c+d07ty5Qo+5urqqVq1aZZwRAHtG4w8AAAAAAAAAAACwAzzqEwAAAAAAAAAAALADNP4AAAAAAAAAAAAAO0DjDwAAAAAAAAAAALADNP4AAAAAAAAAAAAAO0DjDwAAAAAAAAAAALADNP4AAAAAAAAAAAAAO0DjDwAAAAAAAAAAALADNP4AAAAAAAAAAAAAO0DjDwAAAAAAAAAAALADNP4AAAAAAAAAAAAAO0DjDwAAAAAAAAAAALADjrZOwJYKCgr0008/ycPDQyaTydbpAAAAO2IYhi5evCh/f385OFTsa62omQAAgLVQMwEAANxaSWqmu7rx99NPPykgIMDWaQAAADuWlpam2rVr2zqNO0LNBAAArI2aCQAA4NaKUzPd1Y0/Dw8PSb9/UZ6enjbOBgAA2JPs7GwFBASY642KjJoJAABYCzUTAADArZWkZrqrG3/XH7vg6elJQQYAAKzCHh7zRM0EAACsjZoJAADg1opTM1Xsh6cDAAAAAAAAAAAAkETjDwAAAAAAAAAAALALNP4AAAAAAAAAAAAAO0DjDwAAAAAAAAAAALADNP4AAAAAAAAAAAAAO0DjDwAAAAAAAAAAALADjrZOAACs4fLVfJ36OadU17ySl68fzl9W7WqucqlcqdTWrVfTXa5OpbceAABASZR23UTNBAAA7BE1E4CKgsYfALt06uccPfjWF7ZOo1g2P9lVzWt52ToNAABwl6oodRM1EwAAsCVqJgAVBY0/AHapXk13bX6ya6muefJsjiI+StbCh1urvrd7qa1br2bprQUAAFBSpV03UTMBAAB7RM0EoKKg8QfALrk6VbLa1U31vd25cgoAANgNa9VN1EwAAMCeUDMBqCgcbJ0AAAAAAAAAAAAAgDtH4w8AAAAAAAAAAACwAzT+AAAAAAAAAAAAADtA4w8AAAAAAAAAAACwAzT+AAAAAAAAAAAAADtA4w8AAAAAAAAAAACwAzT+AAAAAAAAAAAAADtA4w8AAAAAAAAAAACwAzT+AAAAAAAAAAAAADtA4w8AAAAAAAAAAACwAzT+AAAAyqk9e/ZowIAB8vf3l8lk0saNG83H8vLyNG3aNLVo0UJubm7y9/fXyJEj9dNPP1msce7cOY0YMUKenp6qWrWqxo4dq5ycnDI+EwAAAAAAAJQFGn8AAADl1KVLl9SqVSu9/fbbNxz77bffdOjQIb3wwgs6dOiQ1q9fr5SUFP35z3+2iBsxYoSOHz+u2NhYbd68WXv27NGECRPK6hQAAAAAAABQhmj8AQAAlFN9+/bViy++qMGDB99wzMvLS7GxsRo2bJgaNWqkTp06afHixUpKSlJqaqok6cSJE9q2bZveffdddezYUV27dtVbb72ltWvX3nBnIAAAgL165ZVXZDKZFBERUWRMdHS0TCaTxebi4lJ2SQIAAJQSR1snAAAAgNKRlZUlk8mkqlWrSpISEhJUtWpVtW/f3hwTEhIiBwcHHThwoNCGoiTl5uYqNzfXvJ+dnW3VvAEAAKwlMTFRy5YtU8uWLW8Z6+npqZSUFPO+yWSyZmoAAABWwR1/AAAAduDKlSuaNm2ahg8fLk9PT0lSRkaGvL29LeIcHR1VvXp1ZWRkFLlWVFSUvLy8zFtAQIBVcwcAALCGnJwcjRgxQitWrFC1atVuGW8ymeTr62vefHx8yiBLAACA0kXjDwAAoILLy8vTsGHDZBiGlixZcsfrRUZGKisry7ylpaWVQpYAAABlKywsTP3791dISEix4nNychQYGKiAgAANHDhQx48fv2l8bm6usrOzLTYAAABb41GfAAAAFdj1pt+ZM2e0c+dO891+kuTr66uzZ89axF+7dk3nzp2Tr69vkWs6OzvL2dnZajkDAABY29q1a3Xo0CElJiYWK75Ro0ZauXKlWrZsqaysLL3++uvq3Lmzjh8/rtq1axc6JyoqSrNnzy7NtAEAAO4Yd/wBAABUUNebft9995127NihGjVqWBwPDg7WhQsXlJSUZB7buXOnCgoK1LFjx7JOFwAAoEykpaVp0qRJWrNmjVxcXIo1Jzg4WCNHjlTr1q3VvXt3rV+/XjVr1tSyZcuKnMNTEgAAQHnEHX8AAADlVE5Ojk6ePGneP336tJKTk1W9enX5+fnpL3/5iw4dOqTNmzcrPz/f/N6+6tWry8nJSU2aNFGfPn00fvx4LV26VHl5eQoPD9cjjzwif39/W50WAACAVSUlJens2bNq27ateSw/P1979uzR4sWLlZubq0qVKt10jcqVK6tNmzYWtdj/4ikJAACgPKLxBwAAUE4dPHhQPXv2NO9PmTJFkjRq1CjNmjVL//73vyVJrVu3tpi3a9cu9ejRQ5K0Zs0ahYeHq1evXnJwcNCQIUP05ptvlkn+AAAAttCrVy8dPXrUYmzMmDFq3Lixpk2bdsumn/R7o/Do0aPq16+ftdIEAACwinLR+IuKitL69ev1zTffyNXVVZ07d9a8efPUqFGjIudER0drzJgxFmPOzs66cuWKtdMFAAAoEz169JBhGEUev9mx66pXr66YmJjSTAsAAKBc8/DwUPPmzS3G3NzcVKNGDfP4yJEjVatWLUVFRUmS5syZo06dOql+/fq6cOGCXnvtNZ05c0bjxo0r8/wBAADuRLlo/O3evVthYWHq0KGDrl27pueff169e/fW119/LTc3tyLneXp6KiUlxbxvMpnKIl0AAAAAAABUYKmpqXJwcDDvnz9/XuPHj1dGRoaqVaumdu3aad++fWratKkNswQAACi5ctH427Ztm8V+dHS0vL29lZSUpG7duhU5z2QyydfX19rpAQAAAAAAoAKLj4+/6f6CBQu0YMGCsksIAADAShxuHVL2srKyJP3+aKqbycnJUWBgoAICAjRw4EAdP378pvG5ubnKzs622AAAAAAAAAAAAAB7UO4afwUFBYqIiFCXLl1ueB77HzVq1EgrV67Upk2b9OGHH6qgoECdO3fWDz/8UOScqKgoeXl5mbeAgABrnAIAAAAAAAAAAABQ5spd4y8sLEzHjh3T2rVrbxoXHByskSNHqnXr1urevbvWr1+vmjVratmyZUXOiYyMVFZWlnlLS0sr7fQBAAAAAAAAAAAAmygX7/i7Ljw8XJs3b9aePXtUu3btEs2tXLmy2rRpo5MnTxYZ4+zsLGdn5ztNEwAAAAAAAAAAACh3ysUdf4ZhKDw8XBs2bNDOnTsVFBRU4jXy8/N19OhR+fn5WSFDAAAAAAAAAAAAoHwrF3f8hYWFKSYmRps2bZKHh4cyMjIkSV5eXnJ1dZUkjRw5UrVq1VJUVJQkac6cOerUqZPq16+vCxcu6LXXXtOZM2c0btw4m50HAAAAAAAAAAAAYCvlovG3ZMkSSVKPHj0sxletWqXRo0dLklJTU+Xg8H83KJ4/f17jx49XRkaGqlWrpnbt2mnfvn1q2rRpWaUNAAAAAAAAAAAAlBvlovFnGMYtY+Lj4y32FyxYoAULFlgpIwAAAAAAAAAAAKBiKRfv+AMAAAAAAAAAAABwZ2j8AQAAAAAAAAAAAHaAxh8AAAAAAAAAAABgB2j8AQAAAAAAAAAAAHaAxh8AAAAAAAAAAABgB2j8AQAAAAAAAAAAAHaAxh8AAAAAAAAAAABgB2j8AQAAAAAAAAAAAHaAxh8AAAAAAAAAAABgB2j8AQAAAAAAAAAAAHaAxh8AAAAAAAAAAABgBxxtnQAAXHf6l0u6lHvN1mkU6eTZHIt/lkduzo4KusfN1mkAAAArK891EzUTAAAoL6iZ7gw1E1Ax0fgDUC6c/uWSer4eb+s0iiXio2Rbp3BTu57pQVEGAIAdqyh1EzUTAACwJWqm0kHNBFQ8NP4AlAvXr75a+HBr1fd2t3E2hbuSl68fzl9W7Wqucqlcydbp3ODk2RxFfJRcbq9kAwAApaO8103UTAAAoDygZroz1ExAxUXjD0C5Ut/bXc1redk6jSK1r2vrDADcTfbs2aPXXntNSUlJSk9P14YNGzRo0CDzccMwNHPmTK1YsUIXLlxQly5dtGTJEjVo0MAcc+7cOT355JP6z3/+IwcHBw0ZMkSLFi2Su3v5+4svgJIpz3UTNROA8uSVV15RZGSkJk2apIULFxYZt27dOr3wwgv6/vvv1aBBA82bN0/9+vUru0QBWAU1E4C7jYOtEwAAAEDhLl26pFatWuntt98u9Pirr76qN998U0uXLtWBAwfk5uam0NBQXblyxRwzYsQIHT9+XLGxsdq8ebP27NmjCRMmlNUpAAAA2FRiYqKWLVumli1b3jRu3759Gj58uMaOHavDhw9r0KBBGjRokI4dO1ZGmQIAAJQOGn8AAADlVN++ffXiiy9q8ODBNxwzDEMLFy7U9OnTNXDgQLVs2VLvv/++fvrpJ23cuFGSdOLECW3btk3vvvuuOnbsqK5du+qtt97S2rVr9dNPP5Xx2QAAAJStnJwcjRgxQitWrFC1atVuGrto0SL16dNHzz77rJo0aaK5c+eqbdu2Wrx4cRllCwAAUDpo/AEAAFRAp0+fVkZGhkJCQsxjXl5e6tixoxISEiRJCQkJqlq1qtq3b2+OCQkJkYODgw4cOFDk2rm5ucrOzrbYAAAAKpqwsDD179/fol4qSkJCwg1xoaGh5rqqMNRMAACgPKLxBwAAUAFlZGRIknx8fCzGfXx8zMcyMjLk7e1tcdzR0VHVq1c3xxQmKipKXl5e5i0gIKCUswcAALCutWvX6tChQ4qKiipWfEZGxk3rqsJQMwEAgPKIxh8AAAAsREZGKisry7ylpaXZOiUAAIBiS0tL06RJk7RmzRq5uLhY7XOomQAAQHnkaOsEAAAAUHK+vr6SpMzMTPn5+ZnHMzMz1bp1a3PM2bNnLeZdu3ZN586dM88vjLOzs5ydnUs/aQAAgDKQlJSks2fPqm3btuax/Px87dmzR4sXL1Zubq4qVapkMcfX11eZmZkWY5mZmdRMAACgwuGOPwAAgAooKChIvr6+iouLM49lZ2frwIEDCg4OliQFBwfrwoULSkpKMsfs3LlTBQUF6tixY5nnDAAAUBZ69eqlo0ePKjk52by1b99eI0aMUHJy8g1NP+n3uumPdZUkxcbGmusqAACAioI7/gAAAMqpnJwcnTx50rx/+vRpJScnq3r16qpTp44iIiL04osvqkGDBgoKCtILL7wgf39/DRo0SJLUpEkT9enTR+PHj9fSpUuVl5en8PBwPfLII/L397fRWQEAAFiXh4eHmjdvbjHm5uamGjVqmMdHjhypWrVqmd8BOGnSJHXv3l3z589X//79tXbtWh08eFDLly8v8/wBAADuBI0/AACAcurgwYPq2bOneX/KlCmSpFGjRik6OlpTp07VpUuXNGHCBF24cEFdu3bVtm3bLN5ls2bNGoWHh6tXr15ycHDQkCFD9Oabb5b5uQAAAJQnqampcnD4vwdhde7cWTExMZo+fbqef/55NWjQQBs3bryhgQgAAFDe0fgDAAAop3r06CHDMIo8bjKZNGfOHM2ZM6fImOrVqysmJsYa6QEAAFQY8fHxN92XpKFDh2ro0KFlkxAAAICV8I4/AAAAAAAAAAAAwA7Q+AMAAAAAAAAAAADsAI0/AAAAAAAAAAAAwA7Q+AMAAAAAAAAAAADsAI0/AAAAAAAAAAAAwA7Q+AMAAAAAAAAAAADsAI0/AAAAAAAAAAAAwA7Q+AMAAAAAAAAAAADsAI0/AAAAAAAAAAAAwA7Q+AMAAAAAAAAAAADsQLlo/EVFRalDhw7y8PCQt7e3Bg0apJSUlFvOW7dunRo3biwXFxe1aNFCn376aRlkCwAAAAAAAAAAAJQ/5aLxt3v3boWFhWn//v2KjY1VXl6eevfurUuXLhU5Z9++fRo+fLjGjh2rw4cPa9CgQRo0aJCOHTtWhpkDAAAAAAAAAAAA5YOjrROQpG3btlnsR0dHy9vbW0lJSerWrVuhcxYtWqQ+ffro2WeflSTNnTtXsbGxWrx4sZYuXWr1nAEAAAAAAAAAAIDypFzc8fe/srKyJEnVq1cvMiYhIUEhISEWY6GhoUpISChyTm5urrKzsy02AAAAAAAAAAAAwB6Uu8ZfQUGBIiIi1KVLFzVv3rzIuIyMDPn4+FiM+fj4KCMjo8g5UVFR8vLyMm8BAQGlljcAAAAAAAAAAABgS+Wu8RcWFqZjx45p7dq1pb52ZGSksrKyzFtaWlqpfwYAAAAAAAAAAABgC+XiHX/XhYeHa/PmzdqzZ49q165901hfX19lZmZajGVmZsrX17fIOc7OznJ2di6VXAEAAAAAAAAAAIDypFzc8WcYhsLDw7Vhwwbt3LlTQUFBt5wTHBysuLg4i7HY2FgFBwdbK00AAAAAAAAAAACg3CoXd/yFhYUpJiZGmzZtkoeHh/k9fV5eXnJ1dZUkjRw5UrVq1VJUVJQkadKkSerevbvmz5+v/v37a+3atTp48KCWL19us/MAAAAAAAAAAAAAbKVc3PG3ZMkSZWVlqUePHvLz8zNvH330kTkmNTVV6enp5v3OnTsrJiZGy5cvV6tWrfSvf/1LGzduVPPmzW1xCgAAAAAAAAAAAIBNlYs7/gzDuGVMfHz8DWNDhw7V0KFDrZARAAAAAAAAAAAAULGUizv+AAAAAAAAAAAAANwZGn8AAAAAAACwG0uWLFHLli3l6ekpT09PBQcHa+vWrUXGR0dHy2QyWWwuLi5lmDEAAEDpKReP+gQAAAAAAABKQ+3atfXKK6+oQYMGMgxDq1ev1sCBA3X48GE1a9as0Dmenp5KSUkx75tMprJKFwAAoFRxxx8AAEAFlZ+frxdeeEFBQUFydXVVvXr1NHfuXIv3JxuGoRkzZsjPz0+urq4KCQnRd999Z8OsAQAArGvAgAHq16+fGjRooIYNG+qll16Su7u79u/fX+Qck8kkX19f8+bj41OGGQMAAJQeGn8AAAAV1Lx587RkyRItXrxYJ06c0Lx58/Tqq6/qrbfeMse8+uqrevPNN7V06VIdOHBAbm5uCg0N1ZUrV2yYOQAAQNnIz8/X2rVrdenSJQUHBxcZl5OTo8DAQAUEBGjgwIE6fvz4LdfOzc1Vdna2xQYAAGBrNP4AAAAqqH379mngwIHq37+/6tatq7/85S/q3bu3vvzyS0m/3+23cOFCTZ8+XQMHDlTLli31/vvv66efftLGjRttmzwAAIAVHT16VO7u7nJ2dtYTTzyhDRs2qGnTpoXGNmrUSCtXrtSmTZv04YcfqqCgQJ07d9YPP/xw08+IioqSl5eXeQsICLDGqQAAAJQIjT8AAIAKqnPnzoqLi9O3334rSTpy5Ii++OIL9e3bV5J0+vRpZWRkKCQkxDzHy8tLHTt2VEJCQpHrcvU6AACo6Bo1aqTk5GQdOHBAEydO1KhRo/T1118XGhscHKyRI0eqdevW6t69u9avX6+aNWtq2bJlN/2MyMhIZWVlmbe0tDRrnAoAAECJONo6AQAAANye5557TtnZ2WrcuLEqVaqk/Px8vfTSSxoxYoQkKSMjQ5JueEeNj4+P+VhhoqKiNHv2bOslDgAAYGVOTk6qX7++JKldu3ZKTEzUokWLbtnMk6TKlSurTZs2Onny5E3jnJ2d5ezsXCr5AgAAlBbu+AMAAKigPv74Y61Zs0YxMTE6dOiQVq9erddff12rV6++o3W5eh0AANibgoIC5ebmFis2Pz9fR48elZ+fn5WzAgAAKH3c8QcAAFBBPfvss3ruuef0yCOPSJJatGihM2fOKCoqSqNGjZKvr68kKTMz0+KHq8zMTLVu3brIdbl6HQAAVGSRkZHq27ev6tSpo4sXLyomJkbx8fHavn27JGnkyJGqVauWoqKiJElz5sxRp06dVL9+fV24cEGvvfaazpw5o3HjxtnyNAAAAG4LjT8A5YbJMVuns1Pk4OJu61QqpNPZOTI58h4u4G7y22+/ycHB8gEOlSpVUkFBgSQpKChIvr6+iouLMzf6srOzze+6AQAAsEdnz57VyJEjlZ6eLi8vL7Vs2VLbt2/XAw88IElKTU21qKHOnz+v8ePHKyMjQ9WqVVO7du20b98+NW3a1FanAAAAcNto/AEoNypXPaDnv3zZ1mlUaJWr9pLUz9ZpACgjAwYM0EsvvaQ6deqoWbNmOnz4sN544w09/vjjkiSTyaSIiAi9+OKLatCggYKCgvTCCy/I399fgwYNsm3yAO4IF0zdPi6WAuzfe++9d9Pj8fHxFvsLFizQggULrJgRAFuhZrp91ExAxUXjD0C5kXeho+b3f1T1vCnGbsepszl6as0pW6cBoAy99dZbeuGFF/T3v/9dZ8+elb+/v/72t79pxowZ5pipU6fq0qVLmjBhgi5cuKCuXbtq27ZtcnFxsWHmAO4UF0zdGS6WAgDg7kDNdGeomYCKicYfgHLDuOapIM9GalrDy9apVEgFV7JkXPvZ1mkAKEMeHh5auHChFi5cWGSMyWTSnDlzNGfOnLJLDIDVccHU7eNiKQAA7h7UTLePmgmouGj8AQAAAEAFwwVTt4+LpQAAuHtQM90+aiag4nK4dQgAAAAAAAAAAACA8o7GHwAAAAAAAAAAAGAHaPwBAAAAAAAAAAAAdoDGHwAAAAAAAAAAAGAHaPwBAAAAAAAAAAAAdoDGHwAAAAAAAAAAAGAHaPwBAAAAAAAAAAAAdoDGHwAAAAAAAAAAAGAHaPwBAAAAAAAAAAAAdoDGHwAAAAAAAAAAAGAHaPwBAAAAAAAAAAAAdoDGHwAAAAAAAAAAAGAHaPwBAAAAAAAAAAAAdoDGHwAAAAAAAAAAAGAHaPwBAAAAAAAAAAAAdoDGHwAAAAAAAAAAAGAHaPwBAAAAAAAAAAAAdoDGHwAAAAAAAAAAAGAHaPwBAAAAAAAAAAAAdoDGHwAAAAAAAOzGkiVL1LJlS3l6esrT01PBwcHaunXrTeesW7dOjRs3louLi1q0aKFPP/20jLIFAAAoXeWi8bdnzx4NGDBA/v7+MplM2rhx403j4+PjZTKZbtgyMjLKJmEAAAAAAACUS7Vr19Yrr7yipKQkHTx4UPfff78GDhyo48ePFxq/b98+DR8+XGPHjtXhw4c1aNAgDRo0SMeOHSvjzAEAAO5cuWj8Xbp0Sa1atdLbb79donkpKSlKT083b97e3lbKEAAAAAAAABXBgAED1K9fPzVo0EANGzbUSy+9JHd3d+3fv7/Q+EWLFqlPnz569tln1aRJE82dO1dt27bV4sWLyzhzAACAO+do6wQkqW/fvurbt2+J53l7e6tq1aqlnxAAAAAAAAAqvPz8fK1bt06XLl1ScHBwoTEJCQmaMmWKxVhoaOgtn0iVm5ur3Nxc8352dvYd5wsAAHCnysUdf7erdevW8vPz0wMPPKC9e/faOh0AAIAy9+OPP+qxxx5TjRo15OrqqhYtWujgwYPm44ZhaMaMGfLz85Orq6tCQkL03Xff2TBjAAAA6zt69Kjc3d3l7OysJ554Qhs2bFDTpk0Ljc3IyJCPj4/FmI+Pzy1fKRMVFSUvLy/zFhAQUGr5AwAA3K4K2fjz8/PT0qVL9cknn+iTTz5RQECAevTooUOHDt10Xm5urrKzsy02AACAiur8+fPq0qWLKleurK1bt+rrr7/W/PnzVa1aNXPMq6++qjfffFNLly7VgQMH5ObmptDQUF25csWGmQMAAFhXo0aNlJycrAMHDmjixIkaNWqUvv7661L9jMjISGVlZZm3tLS0Ul0fAADgdpSLR32WVKNGjdSoUSPzfufOnXXq1CktWLBAH3zwQZHzoqKiNHv27LJIEQAAwOrmzZungIAArVq1yjwWFBRk/rNhGFq4cKGmT5+ugQMHSpLef/99+fj4aOPGjXrkkUfKPGcAAICy4OTkpPr160uS2rVrp8TERC1atEjLli27IdbX11eZmZkWY5mZmfL19b3pZzg7O8vZ2bn0kgYAACgFFfKOv8Lcd999Onny5E1juBILAADYk3//+99q3769hg4dKm9vb7Vp00YrVqwwHz99+rQyMjIUEhJiHvPy8lLHjh2VkJBgi5QBAABsoqCgwOJ9fH8UHBysuLg4i7HY2Ngi3wkIAABQnlXIO/4Kk5ycLD8/v5vGcCUWAACwJ//973+1ZMkSTZkyRc8//7wSExP11FNPycnJSaNGjTK/l6ak76zJzc21+GGMx6MDAICKJDIyUn379lWdOnV08eJFxcTEKD4+Xtu3b5ckjRw5UrVq1VJUVJQkadKkSerevbvmz5+v/v37a+3atTp48KCWL19uy9MAAAC4LeWi8ZeTk2Nxt97p06eVnJys6tWrq06dOoqMjNSPP/6o999/X5K0cOFCBQUFqVmzZrpy5Yreffdd7dy5U5999pmtTgEAAKDMFRQUqH379nr55ZclSW3atNGxY8e0dOlSjRo16rbX5fHoAACgIjt79qxGjhyp9PR0eXl5qWXLltq+fbseeOABSVJqaqocHP7vIVidO3dWTEyMpk+frueff14NGjTQxo0b1bx5c1udAgAAwG0rF42/gwcPqmfPnub9KVOmSJJGjRql6OhopaenKzU11Xz86tWrevrpp/Xjjz+qSpUqatmypXbs2GGxBgAAgL3z8/NT06ZNLcaaNGmiTz75RJLM76XJzMy0eDJCZmamWrduXeS6kZGR5npM+v2Ov4CAgFLMHAAAwHree++9mx6Pj4+/YWzo0KEaOnSolTICAAAoO+Wi8dejRw8ZhlHk8ejoaIv9qVOnaurUqVbOCgAAoHzr0qWLUlJSLMa+/fZbBQYGSpKCgoLk6+uruLg4c6MvOztbBw4c0MSJE4tcl8ejAwAAAAAAVEzlovEHAACAkps8ebI6d+6sl19+WcOGDdOXX36p5cuXm99HYzKZFBERoRdffFENGjRQUFCQXnjhBfn7+2vQoEG2TR4AAAAAAACljsYfAABABdWhQwdt2LBBkZGRmjNnjoKCgrRw4UKNGDHCHDN16lRdunRJEyZM0IULF9S1a1dt27ZNLi4uNswcAAAAAAAA1kDjDwAAoAJ78MEH9eCDDxZ53GQyac6cOZozZ04ZZgUAAAAAAABbcLB1AgAAAAAAAAAAAADuHI0/AAAAAAAAAAAAwA7Q+AMAAAAAAAAAAADsAI0/AAAAAAAAAAAAwA7Q+AMAAAAAAAAAAADsAI0/AAAAAAAAAAAAwA7Q+AMAAAAAAAAAAADsgKOtEwAASbqcly9JOvZjlo0zKdqVvHz9cP6yaldzlUvlSrZO5wYnz+bYOgUAAAAAAAAAgA3R+ANQLpz6/02r59YftXEmFZ+bM/9rBwDAnpX3C6a4WAoAAJQH1Ex3hpoJqLj4dRhAudC7ma8kqZ63u1zLYbEj/V7wRHyUrIUPt1Z9b3dbp1MoN2dHBd3jZus0AACAFXHBVOngYikAAOwbNVPpoGYCKh7+qwVQLlR3c9Ij99WxdRrFUt/bXc1redk6DQAAcJcq7xdMcbEUAAAoD6iZ7hw1E1Ax0fgDAAAAgAqkolwwxcVSAADAlqiZANytHGydAAAAAAAAAAAAAIA7R+MPAAAAAAAAAAAAsAM0/gAAAAAAAAAAAAA7QOMPAAAAAAAAAAAAsAM0/gAAAAAAAAAAAAA7QOMPAAAAAAAAAAAAsAM0/gAAAAAAAGA3oqKi1KFDB3l4eMjb21uDBg1SSkrKTedER0fLZDJZbC4uLmWUMQAAQOmh8QcAAAAAAAC7sXv3boWFhWn//v2KjY1VXl6eevfurUuXLt10nqenp9LT083bmTNnyihjAACA0uNo6wQAAAAAAACA0rJt2zaL/ejoaHl7eyspKUndunUrcp7JZJKvr6+10wMAALAq7vgDAAAAAACA3crKypIkVa9e/aZxOTk5CgwMVEBAgAYOHKjjx4/fND43N1fZ2dkWGwAAgK3R+AMAAAAAAIBdKigoUEREhLp06aLmzZsXGdeoUSOtXLlSmzZt0ocffqiCggJ17txZP/zwQ5FzoqKi5OXlZd4CAgKscQoAAAAlQuMPAAAAAAAAdiksLEzHjh3T2rVrbxoXHByskSNHqnXr1urevbvWr1+vmjVratmyZUXOiYyMVFZWlnlLS0sr7fQBAABKjMYfAACAnXjllVdkMpkUERFhHrty5YrCwsJUo0YNubu7a8iQIcrMzLRdkgAAAGUkPDxcmzdv1q5du1S7du0Sza1cubLatGmjkydPFhnj7OwsT09Piw0AAMDWaPwBAADYgcTERC1btkwtW7a0GJ88ebL+85//aN26ddq9e7d++uknPfTQQzbKEgAAwPoMw1B4eLg2bNignTt3KigoqMRr5Ofn6+jRo/Lz87NChgAAANZD4w8AAKCCy8nJ0YgRI7RixQpVq1bNPJ6VlaX33ntPb7zxhu6//361a9dOq1at0r59+7R//34bZgwAAGA9YWFh+vDDDxUTEyMPDw9lZGQoIyNDly9fNseMHDlSkZGR5v05c+bos88+03//+18dOnRIjz32mM6cOaNx48bZ4hQAAABuG40/AACACi4sLEz9+/dXSEiIxXhSUpLy8vIsxhs3bqw6deooISGhrNMEAAAoE0uWLFFWVpZ69OghPz8/8/bRRx+ZY1JTU5Wenm7eP3/+vMaPH68mTZqoX79+ys7O1r59+9S0aVNbnAIAAMBtc7R1AgAAALh9a9eu1aFDh5SYmHjDsYyMDDk5Oalq1aoW4z4+PsrIyChyzdzcXOXm5pr3s7OzSy1fAAAAazMM45Yx8fHxFvsLFizQggULrJQRAABA2eGOPwAAgAoqLS1NkyZN0po1a+Ti4lJq60ZFRcnLy8u8BQQElNraAAAAAAAAsB4afwAAABVUUlKSzp49q7Zt28rR0VGOjo7avXu33nzzTTk6OsrHx0dXr17VhQsXLOZlZmbK19e3yHUjIyOVlZVl3tLS0qx8JgAAAAAAACgNPOoTAACggurVq5eOHj1qMTZmzBg1btxY06ZNU0BAgCpXrqy4uDgNGTJEkpSSkqLU1FQFBwcXua6zs7OcnZ2tmjsAAAAAAABKX7m442/Pnj0aMGCA/P39ZTKZtHHjxlvOiY+PV9u2beXs7Kz69esrOjra6nkCAACUJx4eHmrevLnF5ubmpho1aqh58+by8vLS2LFjNWXKFO3atUtJSUkaM2aMgoOD1alTJ1unDwAAAAAAgFJWLhp/ly5dUqtWrfT2228XK/706dPq37+/evbsqeTkZEVERGjcuHHavn27lTMFAACoWBYsWKAHH3xQQ4YMUbdu3eTr66v169fbOi0AAAAAAABYQbl41Gffvn3Vt2/fYscvXbpUQUFBmj9/viSpSZMm+uKLL7RgwQKFhoZaK00AAIByLz4+3mLfxcVFb7/9drEvsAIAAAAAAEDFVS7u+CuphIQEhYSEWIyFhoYqISHBRhkBAAAAAAAAAAAAtlUu7vgrqYyMDPn4+FiM+fj4KDs7W5cvX5arq2uh83Jzc5Wbm2vez87OtmqeAAAAAAAAAAAAQFmpkHf83a6oqCh5eXmZt4CAAFunBAAAAAAAAAAAAJSKCtn48/X1VWZmpsVYZmamPD09i7zbT5IiIyOVlZVl3tLS0qydKgAAAAAAAAAAAFAmKuSjPoODg/Xpp59ajMXGxio4OPim85ydneXs7GzN1AAAAAAAAAAAAACbKBd3/OXk5Cg5OVnJycmSpNOnTys5OVmpqamSfr9Tb+TIkeb4J554Qv/97381depUffPNN3rnnXf08ccfa/LkybZIHwAAAAAAAAAAALC5ctH4O3jwoNq0aaM2bdpIkqZMmaI2bdpoxowZkqT09HRzE1CSgoKCtGXLFsXGxqpVq1aaP3++3n33XYWGhtokfwAAAAAAAAAAAMDWysWjPnv06CHDMIo8Hh0dXeicw4cPWzErAAAAAAAAAAAAoOIoF3f8AQAAAAAAAAAAALgzNP4AAAAAAAAAAAAAO0DjDwAAAAAAAAAAALADNP4AAAAAAAAAAAAAO0DjDwAAAAAAAAAAALADNP4AAAAAAAAAAAAAO0DjDwAAAAAAAAAAALADNP4AAAAAAAAAAAAAO0DjDwAAAAAAAHYjKipKHTp0kIeHh7y9vTVo0CClpKTcct66devUuHFjubi4qEWLFvr000/LIFsAAIDSReMPAAAAAAAAdmP37t0KCwvT/v37FRsbq7y8PPXu3VuXLl0qcs6+ffs0fPhwjR07VocPH9agQYM0aNAgHTt2rAwzBwAAuHOOtk4AAAAAAAAAKC3btm2z2I+Ojpa3t7eSkpLUrVu3QucsWrRIffr00bPPPitJmjt3rmJjY7V48WItXbrU6jkDAACUFhp/AOzS5av5OvVzTqmuefJsjsU/S0u9mu5ydapUqmsCAAAUV2nXTdRMAMqbrKwsSVL16tWLjElISNCUKVMsxkJDQ7Vx48Yi5+Tm5io3N9e8n52dfWeJAijXqJkAVBQ0/gDYpVM/5+jBt76wytoRHyWX6nqbn+yq5rW8SnVNAACA4rJW3UTNBKA8KCgoUEREhLp06aLmzZsXGZeRkSEfHx+LMR8fH2VkZBQ5JyoqSrNnzy61XAGUb9RMACoKGn8A7FK9mu7a/GTXUl3zSl6+fjh/WbWrucqlculdOVWvpnuprQUAAFBSpV03UTMBKE/CwsJ07NgxffFF6f9YHxkZaXGXYHZ2tgICAkr9cwCUD9RMACoKGn8A7JKrUyWrXN3Uvm6pLwkAAGBT1qibqJkAlAfh4eHavHmz9uzZo9q1a9801tfXV5mZmRZjmZmZ8vX1LXKOs7OznJ2dSyVXAOUfNROAisLB1gkAAAAAAAAApcUwDIWHh2vDhg3auXOngoKCbjknODhYcXFxFmOxsbEKDg62VpoAAABWwR1/AAAAAAAAsBthYWGKiYnRpk2b5OHhYX5Pn5eXl1xdXSVJI0eOVK1atRQVFSVJmjRpkrp376758+erf//+Wrt2rQ4ePKjly5fb7DwAAABuB3f8AQAAVGBRUVHq0KGDPDw85O3trUGDBiklJcUi5sqVKwoLC1ONGjXk7u6uIUOG3PAoKwAAAHuxZMkSZWVlqUePHvLz8zNvH330kTkmNTVV6enp5v3OnTsrJiZGy5cvV6tWrfSvf/1LGzduVPPmzW1xCgAAALeNO/4AAAAqsN27dyssLEwdOnTQtWvX9Pzzz6t37976+uuv5ebmJkmaPHmytmzZonXr1snLy0vh4eF66KGHtHfvXhtnDwAAUPoMw7hlTHx8/A1jQ4cO1dChQ62QEQAAQNmh8QcAAFCBbdu2zWI/Ojpa3t7eSkpKUrdu3ZSVlaX33ntPMTExuv/++yVJq1atUpMmTbR//3516tTJFmkDAAAAAADACu7qxt/1K8Cys7NtnAkAALA31+uL4lxxXpqysrIkSdWrV5ckJSUlKS8vTyEhIeaYxo0bq06dOkpISCi08Zebm6vc3Nwb1qRmAgAApc1WNZM18DsTAACwlpLUTHd14+/ixYuSpICAABtnAgAA7NXFixfl5eVVJp9VUFCgiIgIdenSxfw+moyMDDk5Oalq1aoWsT4+PsrIyCh0naioKM2ePfuGcWomAABgLWVZM1kLvzMBAABrK07NdFc3/vz9/ZWWliYPDw+ZTCZbpwOgnMvOzlZAQIDS0tLk6elp63QAlHOGYejixYvy9/cvs88MCwvTsWPH9MUXX9zROpGRkZoyZYp5v6CgQOfOnVONGjWomQDcEjUTgJKwRc1kLfzOBKAkqJkAlERJaqa7uvHn4OCg2rVr2zoNABWMp6cnBRmAYinLq9bDw8O1efNm7dmzx6K+8fX11dWrV3XhwgWLu/4yMzPl6+tb6FrOzs5ydna2GPvfOwYB4FaomQAUV0W/0+86fmcCcDuomQAUV3FrJgcr5wEAAAArMgxD4eHh2rBhg3bu3KmgoCCL4+3atVPlypUVFxdnHktJSVFqaqqCg4PLOl0AAAAAAABY0V19xx8AAEBFFxYWppiYGG3atEkeHh7m9/Z5eXnJ1dVVXl5eGjt2rKZMmaLq1avL09NTTz75pIKDg9WpUycbZw8AAAAAAIDSROMPAIrJ2dlZM2fOvOHxdwBgS0uWLJEk9ejRw2J81apVGj16tCRpwYIFcnBw0JAhQ5Sbm6vQ0FC98847ZZwpgLsFNRMAAMCtUTMBsBaTYRiGrZMAAAAAAAAAAAAAcGd4xx8AAAAAAAAAAABgB2j8AQAAAAAAAAAAAHaAxh8AAAAAAAAAAABgB2j8AcAtmEwmbdy4scjj8fHxMplMunDhQrHW69GjhyIiIkolNwAAAEmKjo5W1apVbZ1GqbqdmulWdRsAAIAkffPNN+rUqZNcXFzUunXrMvvcunXrauHChWX2eXeCugqouGj8AbCKn3/+WRMnTlSdOnXk7OwsX19fhYaGau/evZLKR/HQo0cPmUymIrcePXoUa53OnTsrPT1dXl5e1k0YAADc1UaPHm2uU5ycnFS/fn3NmTNH165ds8rnff/99zKZTEpOTi72nFmzZhX649ntrLV+/XrNnTu32PHFUdILtgAAgG2MHj1agwYNstr6M2fOlJubm1JSUhQXF1esObt27VK/fv1Uo0YNValSRU2bNtXTTz+tH3/80Wp53g5rf3cAyj9HWycAwD4NGTJEV69e1erVq3XvvfcqMzNTcXFx+vXXX22dmtn69et19epVSVJaWpruu+8+7dixQ82aNZMkOTk5FWsdJycn+fr6Wi1PAACA6/r06aNVq1YpNzdXn376qcLCwlS5cmX5+fnZOrVSV716dVunAAAA7NSpU6fUv39/BQYGFit+2bJl+vvf/65Ro0bpk08+Ud26dZWamqr3339f8+fP1xtvvGHljH939erVYv9eBeDuxR1/AErdhQsX9Pnnn2vevHnq2bOnAgMDdd999ykyMlJ//vOfVbduXUnS4MGDZTKZzPuStGnTJrVt21YuLi669957NXv2bIur2E0mk5YtW6YHH3xQVapUUZMmTZSQkKCTJ0+qR48ecnNzU+fOnXXq1Klb5lm9enX5+vrK19dXNWvWlCTVqFHDPPbHH5t++eUXDR48WFWqVFGDBg3073//23yssCvH9+7dqx49eqhKlSqqVq2aQkNDdf78+ULz2LJli7y8vLRmzRpJ/3dl1uuvvy4/Pz/VqFFDYWFhysvLM8/Jzc3VM888o1q1asnNzU0dO3ZUfHy8+fiZM2c0YMAAVatWTW5ubmrWrJk+/fRTSdL58+c1YsQI1axZU66urmrQoIFWrVp1y+8LAADY3vUnKQQGBmrixIkKCQmxqEuuO3XqlAYOHCgfHx+5u7urQ4cO2rFjh0VM3bp19fLLL+vxxx+Xh4eH6tSpo+XLl5uPBwUFSZLatGlToqchFNexY8fUt29fubu7y8fHR3/961/1yy+/mI//76M+09PT1b9/f7m6uiooKEgxMTGFPi6rqLrt+++/V8+ePSVJ1apVk8lk0ujRo0v1nAAAgPXdqobYtm2bunbtqqpVq6pGjRp68MEHLX4nMplMSkpK0pw5c2QymTRr1qybft4PP/ygp556Sk899ZRWrlypHj16qG7duurWrZveffddzZgxwxz7ySefqFmzZnJ2dlbdunU1f/78m66dmpqqgQMHyt3dXZ6enho2bJgyMzPNx68/TeHdd99VUFCQXFxcSvht/V5TPfXUU5o6dar5t7D/PefvvvtO3bp1k4uLi5o2barY2Ngb1klLS9OwYcNUtWpVVa9eXQMHDtT3338v6fdHp1apUkUxMTHm+I8//liurq76+uuvS5wzgDtD4w9AqXN3d5e7u7s2btyo3NzcG44nJiZKklatWqX09HTz/ueff66RI0dq0qRJ+vrrr7Vs2TJFR0frpZdespg/d+5cjRw5UsnJyWrcuLEeffRR/e1vf1NkZKQOHjwowzAUHh5equc0e/ZsDRs2TF999ZX69eunESNG6Ny5c4XGJicnq1evXmratKkSEhL0xRdfaMCAAcrPz78hNiYmRsOHD9eaNWs0YsQI8/iuXbt06tQp7dq1S6tXr1Z0dLSio6PNx8PDw5WQkKC1a9fqq6++0tChQ9WnTx999913kqSwsDDl5uZqz549Onr0qObNmyd3d3dJ0gsvvKCvv/5aW7du1YkTJ7RkyRLdc889pfhtAQCAsuLq6mp+gsEf5eTkqF+/foqLi9Phw4fVp08fDRgwQKmpqRZx8+fPV/v27XX48GH9/e9/18SJE5WSkiJJ+vLLLyVJO3bsUHp6utavX19qeV+4cEH333+/2rRpo4MHD2rbtm3KzMzUsGHDipwzcuRI/fTTT4qPj9cnn3yi5cuX6+zZszfEFVW3BQQE6JNPPpEkpaSkKD09XYsWLSq1cwIAANZXnBri0qVLmjJlig4ePKi4uDg5ODho8ODBKigokPT7xUTNmjXT008/rfT0dD3zzDM3/cx169bp6tWrmjp1aqHHr79nOSkpScOGDdMjjzyio0ePatasWXrhhRcsfs/5o4KCAg0cOFDnzp3T7t27FRsbq//+9796+OGHLeJOnjypTz75ROvXry/RY9P/aPXq1XJzc9OBAwf06quvas6cOebmXkFBgR566CE5OTnpwIEDWrp0qaZNm2YxPy8vT6GhofLw8NDnn3+uvXv3yt3dXX369NHVq1fVuHFjvf766/r73/+u1NRU/fDDD3riiSc0b948NW3a9LZyBnAHDACwgn/9619GtWrVDBcXF6Nz585GZGSkceTIEfNxScaGDRss5vTq1ct4+eWXLcY++OADw8/Pz2Le9OnTzfsJCQmGJOO9994zj/3zn/80XFxcSpTv6dOnDUnG4cOHbzj2v5+Zk5NjSDK2bt1qGIZh7Nq1y5BknD9/3jAMwxg+fLjRpUuXIj+re/fuxqRJk4zFixcbXl5eRnx8vMXxUaNGGYGBgca1a9fMY0OHDjUefvhhwzAM48yZM0alSpWMH3/80WJer169jMjISMMwDKNFixbGrFmzCv38AQMGGGPGjCkyPwAAUD6NGjXKGDhwoGEYhlFQUGDExsYazs7OxjPPPGOsWrXK8PLyuun8Zs2aGW+99ZZ5PzAw0HjsscfM+wUFBYa3t7exZMkSwzBuXh8VZebMmYaDg4Ph5uZmsVWpUsVirblz5xq9e/e2mJuWlmZIMlJSUgzD+L+ayTAM48SJE4YkIzEx0Rz/3XffGZKMBQsWmMdKWrcBAIDy6Y91zx8Vp4b4Xz///LMhyTh69Kh5rFWrVsbMmTOLlcvEiRMNT0/PW8Y9+uijxgMPPGAx9uyzzxpNmzY17wcGBpprl88++8yoVKmSkZqaaj5+/PhxQ5Lx5ZdfGobxe21VuXJl4+zZs8XK1TBu/O66d+9udO3a1SKmQ4cOxrRp0wzDMIzt27cbjo6OFr8zbd261eK3uw8++MBo1KiRUVBQYI7Jzc01XF1dje3bt5vH+vfvb/zpT38yevXqZfTu3dsiHkDZ4R1/AKxiyJAh6t+/vz7//HPt379fW7du1auvvqp33323yEcqHTlyRHv37rW4wy8/P19XrlzRb7/9pipVqkiSWrZsaT7u4+MjSWrRooXF2JUrV5SdnS1PT89SOZ8/fqabm5s8PT0LvcJc+v2Ov6FDh950vX/96186e/as9u7dqw4dOtxwvFmzZqpUqZJ538/PT0ePHpUkHT16VPn5+WrYsKHFnNzcXNWoUUOS9NRTT2nixIn67LPPFBISoiFDhpjPYeLEiRoyZIgOHTqk3r17a9CgQercuXMxvgUAAGBrmzdvlru7u/Ly8lRQUKBHH31Us2bN0rp16yzicnJyNGvWLG3ZskXp6em6du2aLl++fMMdf3+scUwmk3x9fYuscYqrUaNGNzx+9Mcff7R4VOiRI0e0a9cu8xMJ/ujUqVM31DkpKSlydHRU27ZtzWP169dXtWrVbphfkroNAABULMWpIb777jvNmDFDBw4c0C+//GK+0y81NVXNmzcv8WcahiGTyXTLuBMnTmjgwIEWY126dNHChQuVn59v8TvP9fiAgAAFBASYx5o2baqqVavqxIkT5t+LAgMDza+ouV1/rI+k339nul4fXc/D39/ffDw4ONgi/siRIzp58qQ8PDwsxq9cuWLxGNWVK1eqYcOGcnBw0PHjx4v1vQEofTT+AFiNi4uLHnjgAT3wwAN64YUXNG7cOM2cObPIxl9OTo5mz56thx56qNC1rqtcubL5z9cLiMLGrhd2peGP61//jKLWd3V1veV6bdq00aFDh7Ry5Uq1b9/+hkLoZp+Xk5OjSpUqKSkp6Yai8XrhO27cOIWGhmrLli367LPPFBUVpfnz5+vJJ59U3759debMGX366aeKjY1Vr169FBYWptdff/2WeQMAANvq2bOnlixZIicnJ/n7+8vRsfC/0j3zzDOKjY3V66+/rvr168vV1VV/+ctfbngsaElqnOJycnJS/fr1Lcb+N8+cnBwNGDBA8+bNu2G+n5/fHX2+Nc4JAACUD8WpIQYMGKDAwECtWLFC/v7+KigoUPPmzQt9PHpxNGzYUFlZWUpPT7/jOuV2uLm53fEad1of5eTkqF27dlqzZs0Nx/7YlDxy5IguXbokBwcHm31fAHjHH4Ay1LRpU126dEnS7wXH/77zrm3btkpJSVH9+vVv2BwcKs7/rlq2bKm4uLibxtSrV0+7du3Spk2b9OSTT5Zo/TZt2ig/P19nz5694Xvy9fU1xwUEBOiJJ57Q+vXr9fTTT2vFihXmYzVr1tSoUaP04YcfauHChVq+fHnJThIAANiEm5ub6tevrzp16hTZ9JOkvXv3avTo0Ro8eLBatGghX19fff/99yX6LCcnJ0kq9D3Fd6pt27Y6fvy46tate0M9U9iPW40aNdK1a9d0+PBh89jJkyd1/vz5En2uNc8JAABY361qiF9//VUpKSmaPn26evXqpSZNmpS4Xvhff/nLX+Tk5KRXX3210OMXLlyQJDVp0kR79+61OLZ37141bNjwhgu3r8enpaUpLS3NPPb111/rwoULZfpevOt5pKenm8f2799vEdO2bVt999138vb2vuF79/LykiSdO3dOo0eP1j/+8Q+NHj1aI0aM0OXLl8vsPAD8n4rzSzqACuPXX3/V/fffrw8//FBfffWVTp8+rXXr1unVV181P/Kgbt26iouLU0ZGhrkAmzFjht5//33Nnj1bx48f14kTJ7R27VpNnz7dlqdTYpGRkUpMTNTf//53ffXVV/rmm2+0ZMkS/fLLLxZxDRs21K5du/TJJ58oIiKi2Os3bNhQI0aM0MiRI7V+/XqdPn1aX375paKiorRlyxZJUkREhLZv367Tp0/r0KFD2rVrl5o0aSLp9+9506ZNOnnypI4fP67NmzebjwEAAPvQoEEDrV+/XsnJyTpy5IgeffTREt/15u3tLVdXV23btk2ZmZnKysoqtfzCwsJ07tw5DR8+XImJiTp16pS2b9+uMWPGFNqUa9y4sUJCQjRhwgR9+eWXOnz4sCZMmCBXV9cSPUIqMDBQJpNJmzdv1s8//6ycnJxSOycAAFC6srKylJycbLFNmDDhpjVEtWrVVKNGDS1fvlwnT57Uzp07NWXKlDvKIyAgQAsWLNCiRYs0duxY7d69W2fOnNHevXv1t7/9TXPnzpUkPf3004qLi9PcuXP17bffavXq1Vq8eLGeeeaZQtcNCQlRixYtNGLECB06dEhffvmlRo4cqe7du6t9+/Z3lHNJhISEqGHDhho1apSOHDmizz//XP/4xz8sYkaMGKF77rlHAwcO1Oeff67Tp08rPj5eTz31lH744QdJ0hNPPKGAgABNnz5db7zxhvLz84s8dwDWReMPQKlzd3dXx44dtWDBAnXr1k3NmzfXCy+8oPHjx2vx4sWSpPnz5ys2NlYBAQFq06aNJCk0NFSbN2/WZ599pg4dOqhTp05asGCBAgMDbXk6JdawYUN99tlnOnLkiO677z4FBwdr06ZNhV6V36hRI+3cuVP//Oc/9fTTTxf7M1atWqWRI0fq6aefVqNGjTRo0CAlJiaqTp06kn6/ij0sLExNmjRRnz591LBhQ73zzjuSfr/SPTIyUi1btlS3bt1UqVIlrV27tnROHgAAlAtvvPGGqlWrps6dO2vAgAEKDQ21eD9ecTg6OurNN9/UsmXL5O/vf8M7a+6Ev7+/9u7dq/z8fPXu3VstWrRQRESEqlatWuSTHt5//335+PioW7duGjx4sMaPHy8PDw+LR8LfSq1atTR79mw999xz8vHxUXh4eGmdEgAAKGXx8fFq06aNxTZ37tyb1hAODg5au3atkpKS1Lx5c02ePFmvvfbaHefy97//XZ999pl+/PFHDR48WI0bN9a4cePk6elpbm61bdtWH3/8sdauXavmzZtrxowZmjNnTpGvvDGZTNq0aZOqVaumbt26KSQkRPfee68++uijO863JBwcHLRhwwZdvnxZ9913n8aNG6eXXnrJIqZKlSras2eP6tSpo4ceekhNmjTR2LFjdeXKFXl6eur999/Xp59+qg8++ECOjo5yc3PThx9+qBUrVmjr1q1lej4AJJNhGIatkwAAAAAAoCR++OEHBQQEaMeOHerVq5et0wEAAACAcoHGHwAAAACg3Nu5c6dycnLUokULpaena+rUqfrxxx/17bffqnLlyrZODwAAAADKBR71CcCuNWvWTO7u7oVua9assXV6AAAAFUpRdZW7u7s+//xzq352Xl6enn/+eTVr1kyDBw9WzZo1FR8fT9MPAADckZdffrnI+qZv3762Ts9CamrqTeux1NRUW6cIoBzgjj8Adu3MmTPKy8sr9JiPj488PDzKOCMAAICK6+TJk0Ueq1WrllxdXcswGwAAgDt37tw5nTt3rtBjrq6uqlWrVhlnVLRr167p+++/L/J43bp15ejoWHYJASiXaPwBAAAAAAAAAAAAdoBHfQIAAAAAAAAAAAB2gMYfAAAAAAAAAAAAYAdo/AEAAAAAAAAAAAB2gMYfAAAAAAAAAAAAYAdo/AEAAAAAAAAAAAB2gMYfAAAAAAAAAAAAYAdo/AEAAAAAAAAAAAB2gMYfAAAAAAAAAAAAYAdo/AEAAAAAAAAAAAB2gMYfAAAAAAAAAAAAYAdo/AEAAAAAAAAAAAB2gMYfAAAAAAAAAAAAYAccbZ2ALRUUFOinn36Sh4eHTCaTrdMBAAB2xDAMXbx4Uf7+/nJwqNjXWlEzAQAAa6FmAgAAuLWS1Ex3dePvp59+UkBAgK3TAAAAdiwtLU21a9e2dRp3hJoJAABYGzUTAADArRWnZrqrG38eHh6Sfv+iPD09bZwNAACwJ9nZ2QoICDDXGxUZNRMAALAWaiYAAIBbK0nNdFc3/q4/dsHT05OCDAAAWIU9POaJmgkAAFgbNRMAAMCtFadmqtgPTwcAAAAAAAAAAAAgicYfAAAAAAAAAAAAYBdo/AEAAAAAAOCud/HiRUVERCgwMFCurq7q3LmzEhMTbZ0WAABAidD4AwAAAAAAwF1v3Lhxio2N1QcffKCjR4+qd+/eCgkJ0Y8//mjr1AAAAIqNxh8AAAAAAADuapcvX9Ynn3yiV199Vd26dVP9+vU1a9Ys1a9fX0uWLLF1egAAAMXmaOsEAMAaLl/N16mfc0p1zSt5+frh/GXVruYql8qVSm3dejXd5epUeusBAACURGnXTdRMACqia9euKT8/Xy4uLhbjrq6u+uKLLwqdk5ubq9zcXPN+dna2VXMEYFvUTAAqChp/AOzSqZ9z9OBbhf/lrLzZ/GRXNa/lZes0AADAXaqi1E3UTACsycPDQ8HBwZo7d66aNGkiHx8f/fOf/1RCQoLq169f6JyoqCjNnj27jDMFYCvUTAAqCpNhGIatk7CV7OxseXl5KSsrS56enrZOB0ApssYdfyfP5ijio2QtfLi16nu7l9q6XIkF2Cd7qjPs6VwA3Ki06yZqJgAlUZ7qjFOnTunxxx/Xnj17VKlSJbVt21YNGzZUUlKSTpw4cUN8YXf8BQQElItzAVD6qJkA2FJJaibu+ANgl1ydKlnt6qb63u5cOQUAAOyGteomaiYAFU29evW0e/duXbp0SdnZ2fLz89PDDz+se++9t9B4Z2dnOTs7l3GWAGyFmglAReFg6wQAAAAAAACA8sLNzU1+fn46f/68tm/froEDB9o6JQAAgGLjjj8AAAAAAADc9bZv3y7DMNSoUSOdPHlSzz77rBo3bqwxY8bYOjUAAIBi444/AAAAAAAA3PWysrIUFhamxo0ba+TIkeratau2b9+uypUr2zo1AACAYuOOPwAAAAAAANz1hg0bpmHDhtk6DQAAgDvCHX8AAAAAAAAAAACAHaDxBwAAAAAAAAAAANgBGn8AAAAAAAAAAACAHaDxBwAAAAAAAAAAANgBGn8AAAAAAAAAAACAHaDxBwAAAAAAAAAAANgBGn8AAAAAAAAAAACAHSi3jb+LFy8qIiJCgYGBcnV1VefOnZWYmGg+bhiGZsyYIb//196dx1VV7/sff29ANgiCQ4yGQjibFokpDllJoqUHr1xNM9O04WRmTpl00xxS1GNJWqGVF7FssDTrWA5lR0vEsTQtDyqaODBUClscUGH9/ui6f+0jKCi6NvR6Ph7rIXut7/ru90aSb+uzvt8VFCRPT09FR0dr3759JiYGAAAAAAAAAAAAzOO0hb/HHntMX331ld59913t2rVLXbp0UXR0tI4ePSpJmjlzpubMmaN58+Zp8+bN8vLyUkxMjM6ePWtycgAAAAAAAAAAAODGc8rC35kzZ7R06VLNnDlTd911lxo0aKCJEyeqQYMGSkpKkmEYSkxM1IsvvqjY2Fi1bNlSixYt0rFjx7R8+XKz4wMAAAAAAAAAAAA3nFMW/i5cuKCioiJ5eHg47Pf09NSGDRt08OBBZWdnKzo62n7M19dXbdq0UVpa2o2OCwAAAAAAAAAAAJjOKQt/NWrUUFRUlKZMmaJjx46pqKhI7733ntLS0pSVlaXs7GxJUkBAgMN5AQEB9mMlKSwslM1mc9gAAAAAAAAAAACAqsApC3+S9O6778owDNWtW1dWq1Vz5sxRv3795OJy9ZETEhLk6+tr30JCQiowMQAAAAAAAAAAAGAepy38hYeHa/369SooKNDhw4e1ZcsWnT9/XrfccosCAwMlSTk5OQ7n5OTk2I+VJD4+Xvn5+fbt8OHD1/UzAAAAAAAAAAAAADeK0xb+LvLy8lJQUJBOnDih1atXKzY2VmFhYQoMDNTatWvt7Ww2mzZv3qyoqKhS+7JarfLx8XHYAAAAAAAAAAAAgKrAzewApVm9erUMw1Djxo21f/9+Pffcc2rSpIkeffRRWSwWjRgxQi+//LIaNmyosLAwjR8/XsHBwerZs6fZ0QEAAAAAAAAAAIAbzmkLf/n5+YqPj9eRI0dUu3ZtxcXFaerUqapWrZokaezYsTp16pSeeOIJ5eXlqUOHDlq1apU8PDxMTg4AAAAAAAAAAADceE5b+OvTp4/69OlT6nGLxaLJkydr8uTJNzAVAAAAAAAAAAAA4Jyc/hl/AAAAAAAAAAAAAK6Mwh8AAAAAAAAAAABQBVD4AwAAAAAAwF9aUVGRxo8fr7CwMHl6eio8PFxTpkyRYRhmRwMAACgXp33GHwAAAAAAAHAjzJgxQ0lJSUpJSVHz5s21bds2Pfroo/L19dXw4cPNjgcAAFBmFP4AAAAAAADwl7Zx40bFxsbqgQcekCSFhobqgw8+0JYtW0xOBgAAUD4s9QkAAAAAAIC/tHbt2mnt2rXau3evJGnnzp3asGGDunXrVuo5hYWFstlsDhsAAIDZmPEHAAAAAACAv7Rx48bJZrOpSZMmcnV1VVFRkaZOnar+/fuXek5CQoImTZp0A1MCAABcGTP+AAAAAAAA8Je2ZMkSLV68WO+//76+//57paSkaNasWUpJSSn1nPj4eOXn59u3w4cP38DEAAAAJWPGHwAAAAAAAP7SnnvuOY0bN059+/aVJLVo0UKHDh1SQkKCBg4cWOI5VqtVVqv1RsYEAAC4Igp/AJzGwd9O6VThBbNjlGp/boHDn87Iy+qmsJu8zI4BAAAAAJXK6dOn5eLiuDCWq6uriouLTUoEAABwdSj8AXAKB387pXtmrTM7RpmM+GiH2REu619j7qb4BwAAAADl0KNHD02dOlX16tVT8+bN9cMPP+jVV1/V4MGDzY4GAABQLhT+ADiFizP9Eh+8XQ38vU1OU7Kz54t05MQZ3VzLUx7VXM2Oc4n9uQUa8dEOp541CQAAAADOaO7cuRo/fryGDh2q3NxcBQcH68knn9SECRPMjgYAAFAuFP4AOJUG/t66ta6v2TFKFRlqdgIAAAAAQEWrUaOGEhMTlZiYaHYUAACAa+Jy5SYAAAAAAAAAAAAAnB2FPwAAgEqqqKhI48ePV1hYmDw9PRUeHq4pU6bIMAx7G8MwNGHCBAUFBcnT01PR0dHat2+fiakBAAAAAABwvVD4AwAAqKRmzJihpKQkvf7669qzZ49mzJihmTNnau7cufY2M2fO1Jw5czRv3jxt3rxZXl5eiomJ0dmzZ01MDgAAAAAAgOuBZ/wBAABUUhs3blRsbKweeOABSVJoaKg++OADbdmyRdIfs/0SExP14osvKjY2VpK0aNEiBQQEaPny5erbt69p2QEAAAAAAFDxmPEHAABQSbVr105r167V3r17JUk7d+7Uhg0b1K1bN0nSwYMHlZ2drejoaPs5vr6+atOmjdLS0krtt7CwUDabzWEDAAAAAACA82PGHwAAQCU1btw42Ww2NWnSRK6urioqKtLUqVPVv39/SVJ2drYkKSAgwOG8gIAA+7GSJCQkaNKkSdcvOAAAAAAAAK4LZvwBAABUUkuWLNHixYv1/vvv6/vvv1dKSopmzZqllJSUa+o3Pj5e+fn59u3w4cMVlBgAAAAAAADXEzP+AAAAKqnnnntO48aNsz+rr0WLFjp06JASEhI0cOBABQYGSpJycnIUFBRkPy8nJ0e33357qf1arVZZrdbrmh0AAAAArreDv53SqcILZsco0f7cAoc/nZGX1U1hN3mZHQNAOVH4AwAAqKROnz4tFxfHBRxcXV1VXFwsSQoLC1NgYKDWrl1rL/TZbDZt3rxZTz311I2OCwAAAAA3zMHfTumeWevMjnFFIz7aYXaEy/rXmLsp/gGVDIU/AACASqpHjx6aOnWq6tWrp+bNm+uHH37Qq6++qsGDB0uSLBaLRowYoZdfflkNGzZUWFiYxo8fr+DgYPXs2dPc8ACuCXevXxvuXgcAoOq7OFZKfPB2NfD3NjnNpc6eL9KRE2d0cy1PeVRzNTvOJfbnFmjERzucdswJoHQU/gAAACqpuXPnavz48Ro6dKhyc3MVHBysJ598UhMmTLC3GTt2rE6dOqUnnnhCeXl56tChg1atWiUPDw8TkwO4Fty9XjG4ex0AgL+GBv7eurWur9kxShQZanYCAFURhT8AAIBKqkaNGkpMTFRiYmKpbSwWiyZPnqzJkyffuGAArivuXr823L0OAAAAoCqj8AcAAAAAlRB3rwMAAAAA/pOL2QFKUlRUpPHjxyssLEyenp4KDw/XlClTZBiGvY1hGJowYYKCgoLk6emp6Oho7du3z8TUAAAAAAAAAAAAgHmcsvA3Y8YMJSUl6fXXX9eePXs0Y8YMzZw5U3PnzrW3mTlzpubMmaN58+Zp8+bN8vLyUkxMjM6ePWticgAAAAAAAAAAAMAcTrnU58aNGxUbG6sHHnhAkhQaGqoPPvhAW7ZskfTHbL/ExES9+OKLio2NlSQtWrRIAQEBWr58ufr27WtadgAAAAAAAAAAAMAMTjnjr127dlq7dq327t0rSdq5c6c2bNigbt26SZIOHjyo7OxsRUdH28/x9fVVmzZtlJaWZkpmAAAAAAAAAAAAwExOOeNv3LhxstlsatKkiVxdXVVUVKSpU6eqf//+kqTs7GxJUkBAgMN5AQEB9mMlKSwsVGFhof21zWa7DukBAAAAAAAAAACAG88pZ/wtWbJEixcv1vvvv6/vv/9eKSkpmjVrllJSUq6p34SEBPn6+tq3kJCQCkoMAAAAAAAAAAAAmMspC3/PPfecxo0bp759+6pFixYaMGCARo4cqYSEBElSYGCgJCknJ8fhvJycHPuxksTHxys/P9++HT58+Pp9CAAAAAAAAAAAAOAGcsrC3+nTp+Xi4hjN1dVVxcXFkqSwsDAFBgZq7dq19uM2m02bN29WVFRUqf1arVb5+Pg4bAAAAAAAAEBoaKgsFssl29NPP212NAAAgDJzymf89ejRQ1OnTlW9evXUvHlz/fDDD3r11Vc1ePBgSZLFYtGIESP08ssvq2HDhgoLC9P48eMVHBysnj17mhseAAAAAAAAlc7WrVtVVFRkf717927dd9996t27t4mpAAAAyscpC39z587V+PHjNXToUOXm5io4OFhPPvmkJkyYYG8zduxYnTp1Sk888YTy8vLUoUMHrVq1Sh4eHiYmBwAAAAAAQGXk5+fn8Hr69OkKDw9Xp06dTEoEAABQfk5Z+KtRo4YSExOVmJhYahuLxaLJkydr8uTJNy4YAAAAAAAAqrxz587pvffe06hRo2SxWEpsU1hYqMLCQvtrm812o+IBAACUyimf8QcAAAAAAACYZfny5crLy9OgQYNKbZOQkCBfX1/7FhIScuMCAgAAlMIpZ/wB+GuyuNl00JYuFw9vs6NUSgdtBbK4cYcpAAAAAFyrBQsWqFu3bgoODi61TXx8vEaNGmV/bbPZKP4BAADTUfgD4DSq1dysF7ZMMztGpVatZmdJ95sdAwAAAAAqrUOHDunrr7/WsmXLLtvOarXKarXeoFQAAABlQ+EPgNM4n9dGrzzwkML9mfF3NTJyCzR8cYbZMQAAAACgUktOTpa/v78eeOABs6MAAACUG4U/AE7DuOCjMJ/GalbH1+wolVLx2XwZF341OwYAAAAAVFrFxcVKTk7WwIED5ebGZTMAAFD5uJgdAAAAAAAAAHAGX3/9tTIzMzV48GCzowAAAFwVbl0CAAAAAAAAJHXp0kWGYZgdAwAA4Kox4w8AAAAAAAAAAACoAij8AQAAAAAAAAAAAFUAhT8AAAAAAAAAAACgCqDwBwAAAAAAAAAAAFQBFP4AAAAAAAAAAACAKoDCHwAAAAAAAAAAAFAFUPgDAAAAAAAAAAAAqgAKfwAAAAAAAAAAAEAVQOEPAAAAAAAAAAAAqAIo/AEAAAAAAAAAAABVAIU/AAAAAAAAAAAAoAqg8AcAAAAAAAAAAABUART+AAAAAAAAAAAAgCqAwh8AAAAAAAAAAABQBVD4AwAAAAAAAAAAAKoACn8AAAAAAAAAAABAFUDhDwAAAAAAAAAAAKgCKPwBAAAAAAAAAAAAVQCFPwAAAAAAAAAAAKAKcDM7QGlCQ0N16NChS/YPHTpUb7zxhs6ePavRo0frww8/VGFhoWJiYvTmm28qICDAhLQArtWZ80WSpN1H801OUrqz54t05MQZ3VzLUx7VXM2Oc4n9uQVmRwAAAACASuvo0aN6/vnntXLlSp0+fVoNGjRQcnKyIiMjzY4GAABQZk5b+Nu6dauKiorsr3fv3q377rtPvXv3liSNHDlSX3zxhT7++GP5+vpq2LBh6tWrl1JTU82KDOAaZPxf0Wrcsl0mJ6n8vKxO+087AAAAADilEydOqH379rrnnnu0cuVK+fn5ad++fapVq5bZ0QAAAMrFaa8O+/n5ObyePn26wsPD1alTJ+Xn52vBggV6//33de+990qSkpOT1bRpU23atElt27Y1IzKAa9CleaAkKdzfW55OOJtO+mNG3YiPdijxwdvVwN/b7Dgl8rK6KewmL7NjAAAAAEClMmPGDIWEhCg5Odm+LywszMREAAAAV8dpC39/du7cOb333nsaNWqULBaLtm/frvPnzys6OtrepkmTJqpXr57S0tIo/AGVUG0vd/W9s57ZMcqkgb+3bq3ra3YMAAAAAEAF+fzzzxUTE6PevXtr/fr1qlu3roYOHarHH3/c7GgAAADlUikKf8uXL1deXp4GDRokScrOzpa7u7tq1qzp0C4gIEDZ2dml9lNYWKjCwkL7a5vNdj3iAgAAAAAAoBI5cOCAkpKSNGrUKL3wwgvaunWrhg8fLnd3dw0cOLDEc7jOBDg/i5tNB23pcvFwzpWbnNlBW4Esbvy7BlRGlaLwt2DBAnXr1k3BwcHX1E9CQoImTZpUQakAAAAAwBxcxLp6XMQCUJLi4mJFRkZq2rRpkqSIiAjt3r1b8+bNK7Xwx3UmwPlVq7lZL2yZZnaMSqtazc6S7jc7BoBycvrC36FDh/T1119r2bJl9n2BgYE6d+6c8vLyHGb95eTkKDAwsNS+4uPjNWrUKPtrm82mkJCQ65IbAAAAAK4XLmJdGy5iAfhPQUFBatasmcO+pk2baunSpaWew3UmwPmdz2ujVx54SOH+3CxVXhm5BRq+OMPsGACugtMX/pKTk+Xv768HHnjAvq9Vq1aqVq2a1q5dq7i4OElSenq6MjMzFRUVVWpfVqtVVqv1umcGAAC4UY4eParnn39eK1eu1OnTp9WgQQMlJycrMjJSkmQYhl566SW9/fbbysvLU/v27ZWUlKSGDRuanBzAteAi1tXjIhaAkrRv317p6ekO+/bu3av69euXeg7XmQDnZ1zwUZhPYzWr42t2lEqn+Gy+jAu/mh0DwFVw6sJfcXGxkpOTNXDgQLm5/f+ovr6+GjJkiEaNGqXatWvLx8dHzzzzjKKiotS2bVsTEwMAANw4J06cUPv27XXPPfdo5cqV8vPz0759+1SrVi17m5kzZ2rOnDlKSUlRWFiYxo8fr5iYGP3888/y8PAwMT2Aa8FFrKvHRSwAJRk5cqTatWunadOmqU+fPtqyZYveeustvfXWW2ZHAwAAKBenLvx9/fXXyszM1ODBgy85Nnv2bLm4uCguLk6FhYWKiYnRm2++aUJKAAAAc8yYMUMhISFKTk627wsLC7N/bRiGEhMT9eKLLyo2NlaStGjRIgUEBGj58uXq27fvDc8MAADgjFq3bq1PP/1U8fHxmjx5ssLCwpSYmKj+/fubHQ0AAKBcXMwOcDldunSRYRhq1KjRJcc8PDz0xhtv6Pjx4zp16pSWLVt22ef7AQAAVDWff/65IiMj1bt3b/n7+ysiIkJvv/22/fjBgweVnZ2t6Oho+z5fX1+1adNGaWlpZkQGAABwWt27d9euXbt09uxZ7dmzR48//rjZkQAAAMrNqQt/AAAAKN2BAwfsz+tbvXq1nnrqKQ0fPlwpKSmSpOzsbElSQECAw3kBAQH2YyUpLCyUzWZz2AAAAAAAAOD8nHqpTwAAAJSuuLhYkZGRmjZtmiQpIiJCu3fv1rx58zRw4MCr7jchIUGTJk2qqJgAAAAAAAC4QZjxBwAAUEkFBQWpWbNmDvuaNm2qzMxMSbIvg56Tk+PQJicn57JLpMfHxys/P9++HT58uIKTAwAAAAAA4Hqg8AcAAFBJtW/fXunp6Q779u7dq/r160uSwsLCFBgYqLVr19qP22w2bd68WVFRUaX2a7Va5ePj47ABAAAAAADA+bHUJwAAQCU1cuRItWvXTtOmTVOfPn20ZcsWvfXWW3rrrbckSRaLRSNGjNDLL7+shg0bKiwsTOPHj1dwcLB69uxpbngAAAAAAABUOAp/AAAAlVTr1q316aefKj4+XpMnT1ZYWJgSExPVv39/e5uxY8fq1KlTeuKJJ5SXl6cOHTpo1apV8vDwMDE5AAAAAAAArgcKfwAAAJVY9+7d1b1791KPWywWTZ48WZMnT76BqQAAAAAAAGAGnvEHAAAAAAAAAAAAVAEU/gAAAAAAAAAAAIAqgMIfAAAAAAAAAAAAUAVQ+AMAAAAAAAAAAACqAAp/AAAAAAAAAAAAQBVA4Q8AAAAAAAAAAACoAij8AQAAAAAAAAAAAFUAhT8AAAAAAAAAAACgCqDwBwAAAAAAAAAAAFQBFP4AAAAAAAAAAACAKoDCHwAAAAAAAAAAAFAFUPgDAAAAAAAAAAAAqgAKfwAAAAAAAAAAAEAVQOEPAAAAAAAAf3kTJ06UxWJx2Jo0aWJ2LAAAgHJxMzsAAAAAAAAA4AyaN2+ur7/+2v7azY1LZwAAoHJh9AIAAAAAAADoj0JfYGCg2TEAAACuGkt9AgAAAAAAAJL27dun4OBg3XLLLerfv78yMzNLbVtYWCibzeawAQAAmI3CHwAAAAAAAP7y2rRpo4ULF2rVqlVKSkrSwYMH1bFjR508ebLE9gkJCfL19bVvISEhNzgxAADApSj8AQAAAAAA4C+vW7du6t27t1q2bKmYmBh9+eWXysvL05IlS0psHx8fr/z8fPt2+PDhG5wYAADgUk5b+Dt69Kgefvhh1alTR56enmrRooW2bdtmP24YhiZMmKCgoCB5enoqOjpa+/btMzExAAAAAAAAqoqaNWuqUaNG2r9/f4nHrVarfHx8HDYAAACzOWXh78SJE2rfvr2qVaumlStX6ueff9Yrr7yiWrVq2dvMnDlTc+bM0bx587R582Z5eXkpJiZGZ8+eNTE5AAAAAAAAqoKCggJlZGQoKCjI7CgAAABl5mZ2gJLMmDFDISEhSk5Otu8LCwuzf20YhhITE/Xiiy8qNjZWkrRo0SIFBARo+fLl6tu37w3PDAAAAAAAgMprzJgx6tGjh+rXr69jx47ppZdekqurq/r162d2NAAAgDJzyhl/n3/+uSIjI9W7d2/5+/srIiJCb7/9tv34wYMHlZ2drejoaPs+X19ftWnTRmlpaWZEBgAAAAAAQCV25MgR9evXT40bN1afPn1Up04dbdq0SX5+fmZHAwAAKDOnnPF34MABJSUladSoUXrhhRe0detWDR8+XO7u7ho4cKCys7MlSQEBAQ7nBQQE2I+VpLCwUIWFhfbXNpvt+nwAAAAAAAAAVCoffvih2REAAACumVMW/oqLixUZGalp06ZJkiIiIrR7927NmzdPAwcOvOp+ExISNGnSpIqKCQAAAAAAAAAAADgNp1zqMygoSM2aNXPY17RpU2VmZkqSAgMDJUk5OTkObXJycuzHShIfH6/8/Hz7dvjw4QpODgAAAAAAAAAAAJjDKQt/7du3V3p6usO+vXv3qn79+pKksLAwBQYGau3atfbjNptNmzdvVlRUVKn9Wq1W+fj4OGwAAAAAAAAAAABAVeCUS32OHDlS7dq107Rp09SnTx9t2bJFb731lt566y1JksVi0YgRI/Tyyy+rYcOGCgsL0/jx4xUcHKyePXuaGx4AAAAAAAAAAAAwgVMW/lq3bq1PP/1U8fHxmjx5ssLCwpSYmKj+/fvb24wdO1anTp3SE088oby8PHXo0EGrVq2Sh4eHickBAAAAAAAAAAAAczhl4U+Sunfvru7du5d63GKxaPLkyZo8efINTAUAAAAAAAAAAAA4J6ct/AEAAAAAAAAAcDXOnC+SJO0+mm9ykpKdPV+kIyfO6OZanvKo5mp2nEvszy0wOwKAq0ThDwAAAAAqES5iXRsuYgEA8NeQ8X+/88ct22VyksrNy0oJAahs+K8WAAAAACoRLmJVDC5iAQBQtXVpHihJCvf3lqeT3ow04qMdSnzwdjXw9zY7Tom8rG4Ku8nL7BgAyon/0wEAAACASoSLWNeOi1gAAFR9tb3c1ffOembHuKIG/t66ta6v2TEAVCEU/gAAAACgEuEiFgAAAACgNC5mBwAAAAAAAAAAAE5AfwIAACZfSURBVABw7Sj8AQAAAAAAAAAAAFUAhT8AAAAAAAAAAACgCqDwBwAAAAAAAAAAAFQBFP4AAAAAAAAAAACAKoDCHwAAAAAAAAAAAFAFUPgDAAAAAAAAAAAAqgAKfwAAAAAAAAAAAEAVQOEPAAAAAAAAAAAAqAIo/AEAAAAAAAB/Mn36dFksFo0YMcLsKAAAAOVC4Q8AAAAAAAD4P1u3btX8+fPVsmVLs6MAAACUG4U/AACAKqKkO9PPnj2rp59+WnXq1JG3t7fi4uKUk5NjXkgAAAAnVlBQoP79++vtt99WrVq1zI4DAABQbhT+AAAAqoDS7kwfOXKk/vnPf+rjjz/W+vXrdezYMfXq1cuklAAAAM7t6aef1gMPPKDo6Ogrti0sLJTNZnPYAAAAzEbhDwAAoJIr7c70/Px8LViwQK+++qruvfdetWrVSsnJydq4caM2bdpkYmIAAADn8+GHH+r7779XQkJCmdonJCTI19fXvoWEhFznhAAAAFdG4Q8AAKCSK+3O9O3bt+v8+fMO+5s0aaJ69eopLS3tRscEAABwWocPH9azzz6rxYsXy8PDo0znxMfHKz8/374dPnz4OqcEAAC4MjezAwAAAODqXbwzfevWrZccy87Olru7u2rWrOmwPyAgQNnZ2aX2WVhYqMLCQvtrlq0CAABV3fbt25Wbm6s77rjDvq+oqEjffvutXn/9dRUWFsrV1dXhHKvVKqvVeqOjAgAAXBaFPwAAgErq4p3pX331VZnvTC+LhIQETZo0qcL6AwAAcHadO3fWrl27HPY9+uijatKkiZ5//vlLin4AAADOiqU+AQAAKqk/35nu5uYmNzc3rV+/XnPmzJGbm5sCAgJ07tw55eXlOZyXk5OjwMDAUvtl2SoAAPBXU6NGDd16660Om5eXl+rUqaNbb73V7HgAAABlxow/AACASupKd6aHhISoWrVqWrt2reLi4iRJ6enpyszMVFRUVKn9smwVAAAAAABA5UThDwAAoJK6eGf6n/3nnelDhgzRqFGjVLt2bfn4+OiZZ55RVFSU2rZta0ZkAACASmPdunVmRwAAACg3Cn8AAABV2OzZs+Xi4qK4uDgVFhYqJiZGb775ptmxAAAAAAAAcB045TP+Jk6cKIvF4rA1adLEfvzs2bN6+umnVadOHXl7eysuLk45OTkmJgYAAHAO69atU2Jiov21h4eH3njjDR0/flynTp3SsmXLLvt8PwAAAAAAAFReTln4k6TmzZsrKyvLvm3YsMF+bOTIkfrnP/+pjz/+WOvXr9exY8fUq1cvE9MCAAAAAAAAAAAA5nLapT7d3NxKvBs9Pz9fCxYs0Pvvv697771XkpScnKymTZtq06ZNPK8GAAAAAAAAAAAAf0lOO+Nv3759Cg4O1i233KL+/fsrMzNTkrR9+3adP39e0dHR9rZNmjRRvXr1lJaWdtk+CwsLZbPZHDYAAAAAAAAAAACgKnDKwl+bNm20cOFCrVq1SklJSTp48KA6duyokydPKjs7W+7u7qpZs6bDOQEBAcrOzr5svwkJCfL19bVvISEh1/FTAAAAAAAAAAAAADeOUy712a1bN/vXLVu2VJs2bVS/fn0tWbJEnp6eV91vfHy8Ro0aZX9ts9ko/gFV1JlzRcr4taBC+9yfW+DwZ0UJ9/OWp7trhfYJAAAAAAAAAPjrccrC33+qWbOmGjVqpP379+u+++7TuXPnlJeX5zDrLycnp8RnAv6Z1WqV1Wq9zmkBOIOMXwvUfe6G69L3iI92VGh/K57poFvr+lZonwAAAAAAAACAv55KUfgrKChQRkaGBgwYoFatWqlatWpau3at4uLiJEnp6enKzMxUVFSUyUkBOItwP2+teKZDhfVXVFSkTRs3aO/Bw2oUFqK27TrI1bViZumF+3lXSD8AAAAAAAAAgL82pyz8jRkzRj169FD9+vV17NgxvfTSS3J1dVW/fv3k6+urIUOGaNSoUapdu7Z8fHz0zDPPKCoqSm3btjU7OgAn4enuWmGz6JYtW6ZRo0bp0KFD9n3169fXq6++ql69elXIewAAAAAAAAAAcK2csvB35MgR9evXT7///rv8/PzUoUMHbdq0SX5+fpKk2bNny8XFRXFxcSosLFRMTIzefPNNk1MDqIqWLVumuLi4S54vmpubq7i4OC1dupTiHwAAAAAAAADAKbiYHaAkH374oY4dO6bCwkIdOXJEH374ocLDw+3HPTw89MYbb+j48eM6deqUli1bdsXn+wFAeRUVFenvf/+7JKlz585KS0vTyZMnlZaWps6dO0uSnnrqKRUVFZkZEwAAAAAAAAAASU5a+AMAZ7Bu3Tr9+uuv6tChgz777DO1bdtW3t7eatu2rT777DN16NBBubm5WrdundlRAQAAAAAAAACg8AcApblY0Js0aZJcXBz/uXRxcdFLL73k0A4AAAAAAAAAADNR+AMAAAAAAAAAAACqAAp/AFCKu+++W5L00ksvqbi42OFYcXGxJk6c6NAOAAAAAAAAAAAzuZkdAACc1d133y1/f39t2LBBf/vb39StWzd5enrqzJkzWrlypVJTU+Xv70/hDwAAAAAAAADgFCj8AUApXF1dlZSUpLi4OH355Zf64osv7McsFoskKSkpSa6urmZFBAAAAAAAAADAjqU+AeAKLBaLPDw8HPZ5enrai38AAAAAAAAAADgDCn8AUIqioiKNHj1a3bt31/HjxzV79mwNGzZMs2fP1u+//67u3btrzJgxKioqMjsqAAAAAAAAAAAU/gCgNN99951++eUXtWvXTk2bNtXIkSP1+uuva+TIkWratKmioqJ08OBBfffdd2ZHBQAAAABco6SkJLVs2VI+Pj7y8fFRVFSUVq5caXYsAACAcqHwBwClyMrKkiTFx8erRYsWSktL08mTJ5WWlqYWLVrohRdecGgHAAAAAKi8br75Zk2fPl3bt2/Xtm3bdO+99yo2NlY//fST2dEAAADKzM3sAADgrPz9/SVJHTp00PLly+Xi8se9Em3bttXy5ct11113KTU11d4OAAAAAFB59ejRw+H11KlTlZSUpE2bNql58+YmpQIAACgfCn8AcJUsFovZEQAAAK7ZmXNFyvi1oML6259b4PBnRQn385anu2uF9gkApSkqKtLHH3+sU6dOKSoqqsQ2hYWFKiwstL+22Ww3Kh4AEzBmAlBZUPgDgFLk5uZKklJTU9WzZ0/Fx8fr1ltv1e7du5WQkKDU1FSHdgAAAJVRxq8F6j53Q4X3O+KjHRXa34pnOujWur4V2icA/Kddu3YpKipKZ8+elbe3tz799FM1a9asxLYJCQmaNGnSDU4IwCyMmQBUFhT+AKAUQUFBkqRp06Zp/vz5ateunf1YWFiYpk6dqhdeeMHeDgAAoDIK9/PWimc6VFh/Z88X6ciJM7q5lqc8qlXc3ebhft4V1hcAlKZx48basWOH8vPz9cknn2jgwIFav359icW/+Ph4jRo1yv7aZrMpJCTkRsYFcAMxZgJQWVD4A4BSdOzYUaGhodq4caP27t2r1NRUZWVlKSgoSO3bt1dcXJzCwsLUsWNHs6MCAABcNU931wq/KzwytEK7A4Abxt3dXQ0aNJAktWrVSlu3btVrr72m+fPnX9LWarXKarXe6IgATMKYCUBl4WJ2AABwVq6urnrllVe0YsUKxcXFyWq1qnv37rJarYqLi9OKFSs0a9YsubqybjoAAAAAVEXFxcUOz/EDAABwdsz4A4DL6NWrlz755BONHj36kqU+P/nkE/Xq1cvEdAAAAACAihIfH69u3bqpXr16OnnypN5//32tW7dOq1evNjsaAABAmVH4A4Ar6NWrl2JjY/Xdd9/Zl/rs2LEjM/0AAAAAoArJzc3VI488oqysLPn6+qply5ZavXq17rvvPrOjAQAAlBmFPwAoA1dXV919991mxwAAAAAAXCcLFiwwOwIAAMA14xl/AAAAAAAAAAAAQBXwl57xZxiGJMlms5mcBAAAVDUXxxcXxxuVGWMmAABwvTBmAgAAuLLyjJn+0oW/kydPSpJCQkJMTgIAAKqqkydPytfX1+wY14QxEwAAuN4YMwEAAFxZWcZMFqMq3FJ1lYqLi3Xs2DHVqFFDFovF7DgAnJzNZlNISIgOHz4sHx8fs+MAcHKGYejkyZMKDg6Wi0vlXl2dMROA8mDMBKA8GDMB+KtizASgPMozZvpLF/4AoDxsNpt8fX2Vn5/PgAwAAKAUjJkAAACujDETgOulct9KBQAAAAAAAAAAAEAShT8AAAAAAAAAAACgSqDwBwBlZLVa9dJLL8lqtZodBQAAwGkxZgIAALgyxkwArhee8QcAAAAAAAAAAABUAcz4AwAAAAAAAAAAAKoACn8AAAAAAAAAAABAFUDhDwAAAAAAAAAAAKgCKPwBqPLWrVsni8WivLy8y7YLDQ1VYmLiDckEAABQ2WVnZ+u+++6Tl5eXatasaXYcAAAAu/Je45k4caJuv/32y7YZNGiQevbseU25nNUvv/wii8WiHTt2lPmcqvz9ACo7Cn8ATFPaAKGshbqrtXDhwutycWr9+vW69957Vbt2bVWvXl0NGzbUwIEDde7cuQp/LwAA8Ifs7Gw9++yzatCggTw8PBQQEKD27dsrKSlJp0+fvmE5rvf45VpYLBb75uvrq/bt2+ubb7655n5nz56trKws7dixQ3v37q2ApFXPzp079be//U3+/v7y8PBQaGioHnzwQeXm5podDQCASsswDEVHRysmJuaSY2+++aZq1qyp7777Tk888YQJ6f4waNAg+/jL3d1dDRo00OTJk3XhwoUynX+9rl1dzPaf1+NCQkKUlZWlW2+99bq8J4Abi8IfAFSAn3/+WV27dlVkZKS+/fZb7dq1S3PnzpW7u7uKioquy3sahlHmASMAAFXRgQMHFBERoTVr1mjatGn64YcflJaWprFjx2rFihX6+uuvzY7oNJKTk5WVlaXU1FTddNNN6t69uw4cOHBVfV28qSkjI0OtWrVSw4YN5e/vf019VUW//vqrOnfurNq1a2v16tXas2ePkpOTFRwcrFOnTl239z1//vx16xsAAGdgsViUnJyszZs3a/78+fb9Bw8e1NixYzV37lyFhISoevXqJqaUunbtqqysLO3bt0+jR4/WxIkT9Y9//MPUTKVxdXVVYGCg3NzczI4CoAJQ+APg9DZs2KCOHTvK09NTISEhGj58uMPFknfffVeRkZGqUaOGAgMD9dBDD5V6F/W6dev06KOPKj8/337n1cSJE+3HT58+rcGDB6tGjRqqV6+e3nrrrTJlXLNmjQIDAzVz5kzdeuutCg8PV9euXfX222/L09PT3i41NVV33323qlevrlq1aikmJkYnTpyQJBUWFmr48OH2O8I7dOigrVu3OmS3WCxauXKlWrVqJavVqg0bNqi4uFgJCQkKCwuTp6enbrvtNn3yySfl+RYDAFApDR06VG5ubtq2bZv69Omjpk2b6pZbblFsbKy++OIL9ejRQ5KUl5enxx57TH5+fvLx8dG9996rnTt32vu5uLTTu+++q9DQUPn6+qpv3746efKkvc3lfk//8ssvuueeeyRJtWrVksVi0aBBg7Ro0SLVqVNHhYWFDrl79uypAQMGOLz3/Pnz7Reo+vTpo/z8fIdz3nnnHTVt2lQeHh5q0qSJ3nzzzXJ9r2rWrKnAwEDdeuutSkpK0pkzZ/TVV19Jknbv3q1u3brJ29tbAQEBGjBggH777Tf7uXfffbeGDRumESNG6KabblJMTIxCQ0O1dOlSLVq0yP55JSkzM1OxsbHy9vaWj4+P+vTpo5ycnEu+1++8847CwsLk4eEh6Y8LePPnz1f37t1VvXp1NW3aVGlpadq/f7/uvvtueXl5qV27dsrIyLD3lZGRodjYWAUEBMjb21utW7e+pNgbGhqqadOmXXZ8d+TIEfXr10+1a9eWl5eXIiMjtXnzZvvxzz77THfccYc8PDx0yy23aNKkSWW6+So1NVX5+fl65513FBERobCwMN1zzz2aPXu2wsLC7O1++uknde/eXT4+PqpRo4Y6duxo/5zFxcWaPHmybr75ZlmtVt1+++1atWqV/dyLy3J99NFH6tSpkzw8PLR48WJJ1/4zAwCAMwsJCdFrr72mMWPG6ODBgzIMQ0OGDFGXLl00YMCAS5b6vNJ48D8VFRVp1KhRqlmzpurUqaOxY8fKMIxyZbRarQoMDFT9+vX11FNPKTo6Wp9//rkk6cSJE3rkkUdUq1YtVa9eXd26ddO+ffskXf7aVWFhocaMGaO6devKy8tLbdq00bp16+zveXGm4OrVq9W0aVN5e3vbC5DSH2OxlJQUffbZZ/a+161bd8lSn0VFRRoyZIj9WlPjxo312muvlevzAzAPhT8ATi0jI0Ndu3ZVXFycfvzxR3300UfasGGDhg0bZm9z/vx5TZkyRTt37tTy5cv1yy+/2C8+/ad27dopMTFRPj4+ysrKUlZWlsaMGWM//sorrygyMlI//PCDhg4dqqeeekrp6elXzBkYGKisrCx9++23pbbZsWOHOnfurGbNmiktLU0bNmxQjx497DMCx44dq6VLlyolJUXff/+9GjRooJiYGB0/ftyhn3Hjxmn69Onas2ePWrZsqYSEBC1atEjz5s3TTz/9pJEjR+rhhx/W+vXrr5gbAIDK6vfff9eaNWv09NNPy8vLq8Q2FotFktS7d2/l5uZq5cqV2r59u+644w517tzZ4XdsRkaGli9frhUrVmjFihVav369pk+fbj9+ud/TISEhWrp0qSQpPT1dWVlZeu2119S7d28VFRXZL/BIUm5urr744gsNHjzYvm///v1asmSJ/vnPf2rVqlX2cchFixcv1oQJEzR16lTt2bNH06ZN0/jx45WSknJV37uLNyWdO3dOeXl5uvfeexUREaFt27Zp1apVysnJUZ8+fRzOSUlJkbu7u1JTUzVv3jxt3bpVXbt2VZ8+feyft7i4WLGxsTp+/LjWr1+vr776SgcOHNCDDz7o0Nf+/fu1dOlSLVu2zOE5MlOmTNEjjzyiHTt2qEmTJnrooYf05JNPKj4+Xtu2bZNhGA5jwIKCAt1///1au3atfvjhB3Xt2lU9evRQZmamw/tdbnxXUFCgTp066ejRo/r888+1c+dOjR07VsXFxZKk7777To888oieffZZ/fzzz5o/f74WLlyoqVOnXvH7HBgYqAsXLujTTz8t9ULh0aNHddddd8lqteqbb77R9u3bNXjwYHth8bXXXtMrr7yiWbNm6ccff1RMTIz+9re/2S8MXjRu3Dg9++yz2rNnj2JiYir8ZwYAAGc0cOBAde7cWYMHD9brr7+u3bt3O8wA/LOyjAf/7JVXXtHChQv1v//7v9qwYYOOHz+uTz/99Jryenp62lc7GDRokLZt26bPP/9caWlpMgxD999/v86fP3/Za1fDhg1TWlqaPvzwQ/3444/q3bu3unbt6jA2OH36tGbNmqV3331X3377rTIzM+3njxkzRn369LEXA7OystSuXbtLshYXF+vmm2/Wxx9/rJ9//lkTJkzQCy+8oCVLllzT9wDADWIAgEkGDhxouLq6Gl5eXg6bh4eHIck4ceKEMWTIEOOJJ55wOO+7774zXFxcjDNnzpTY79atWw1JxsmTJw3DMIx//etf9v4MwzCSk5MNX1/fS86rX7++8fDDD9tfFxcXG/7+/kZSUtIVP8uFCxeMQYMGGZKMwMBAo2fPnsbcuXON/Px8e5t+/foZ7du3L/H8goICo1q1asbixYvt+86dO2cEBwcbM2fOdPgcy5cvt7c5e/asUb16dWPjxo0O/Q0ZMsTo16/fFXMDAFBZbdq0yZBkLFu2zGF/nTp17GOKsWPHGt99953h4+NjnD171qFdeHi4MX/+fMMwDOOll14yqlevbthsNvvx5557zmjTpo1hGOX7PX1xvHHRU089ZXTr1s3++pVXXjFuueUWo7i42P7erq6uxpEjR+xtVq5cabi4uBhZWVn2rO+//75Dv1OmTDGioqLK9L2SZHz66aeGYRjGqVOnjKFDhxqurq7Gzp07jSlTphhdunRxaH/48GFDkpGenm4YhmF06tTJiIiIuKTf2NhYY+DAgfbXa9asMVxdXY3MzEz7vp9++smQZGzZssX+eatVq2bk5uZekvHFF1+0v05LSzMkGQsWLLDv++CDDwwPD4/LftbmzZsbc+fOtb++0vhu/vz5Ro0aNYzff/+9xP46d+5sTJs2zWHfu+++awQFBV02x0UvvPCC4ebmZtSuXdvo2rWrMXPmTCM7O9t+PD4+3ggLCzPOnTtX4vnBwcHG1KlTHfa1bt3aGDp0qGEYhnHw4EFDkpGYmOjQ5lp/ZgAAqCxycnKMm266yXBxcbGPdwzjjzHA7NmzDcMwyjwevO222+zHgoKC7OM8wzCM8+fPGzfffLMRGxtbplwDBw60ty0uLja++uorw2q1GmPGjDH27t1rSDJSU1Pt7X/77TfD09PTWLJkiWEYJV+7OnTokOHq6mocPXrUYX/nzp2N+Ph4+3mSjP3799uPv/HGG0ZAQECJ2S66OKb44YcfSv1MTz/9tBEXF3fZfgA4BxbtBWCqe+65R0lJSQ77Nm/erIcffliStHPnTv3444/2JYukP55tV1xcrIMHD6pp06bavn27Jk6cqJ07d+rEiRP2O7QzMzPVrFmzcuVp2bKl/WuLxaLAwMBSlw39M1dXVyUnJ+vll1/WN998o82bN2vatGmaMWOGtmzZoqCgIO3YsUO9e/cu8fyMjAydP39e7du3t++rVq2a7rzzTu3Zs8ehbWRkpP3r/fv36/Tp07rvvvsc2pw7d04RERFl+swAAFQlW7ZsUXFxsfr376/CwkLt3LlTBQUFqlOnjkO7M2fOOCwbGRoaqho1athfBwUF2ccA5fk9/Z8ef/xxtW7dWkePHlXdunW1cOFCDRo0yD4bUZLq1aununXr2l9HRUWpuLhY6enpqlGjhjIyMjRkyBA9/vjj9jYXLlyQr69vmb8v/fr1k6urq86cOSM/Pz8tWLBALVu21JQpU/Svf/1L3t7el5yTkZGhRo0aSZJatWp1xffYs2ePQkJCFBISYt/XrFkz1axZU3v27FHr1q0lSfXr15efn98l5/95HBYQECBJatGihcO+s2fPymazycfHRwUFBZo4caK++OILZWVl6cKFCzpz5swlM/4uN77bsWOHIiIiVLt27RI/086dO5Wamuoww6+oqEhnz57V6dOnr/jsoKlTp2rUqFH28eG8efM0bdo0ffvtt2rRooV27Nihjh07qlq1apeca7PZdOzYMYefO0lq3779JUuT/Xl8eOrUqQr5mQEAoDLw9/fXk08+qeXLl6tnz54ltinrePCi/Px8ZWVlqU2bNvZ9bm5uioyMLNdynytWrJC3t7fOnz+v4uJiPfTQQ5o4caLWrl0rNzc3h/7r1Kmjxo0bX3ZsuWvXLhUVFdnHZxcVFhY6fLbq1asrPDzc/vrP49ryeOONN/S///u/yszM1JkzZ3Tu3Dndfvvt5e4HwI1H4Q+Aqby8vNSgQQOHfUeOHLF/XVBQoCeffFLDhw+/5Nx69erp1KlTiomJsS9p5Ofnp8zMTMXExNiXTyiP/7zoYrFY7IXEsqhbt64GDBigAQMGaMqUKWrUqJHmzZunSZMmOTzr71r8eTmzgoICSdIXX3zhcMFQ+mMteQAAqqoGDRrIYrFcsiT3LbfcIun/L2dZUFCgoKAgh2efXFSzZk3719c6BihNRESEbrvtNi1atEhdunTRTz/9pC+++KLM51/8Xf/22287XByS/rjxqKxmz56t6Oho+fr6OhTdCgoK1KNHD82YMeOSc4KCguxfl7ac6tUora8//x1cLIyWtO/i38uYMWP01VdfadasWWrQoIE8PT313//935eMAS/3d3ul8VlBQYEmTZqkXr16XXLs4vMJr6ROnTrq3bu3evfurWnTpikiIkKzZs1SSkrKdR0fXuvPDAAAlYWbm5vc3Eq/zF3W8WBFu3izu7u7u4KDgy+bsSwKCgrk6uqq7du3X/I7/c83cZU09ilPwVKSPvzwQ40ZM0avvPKKoqKiVKNGDf3jH/9weA4yAOdF4Q+AU7vjjjv0888/X1IcvGjXrl36/fffNX36dPvd5du2bbtsn+7u7vbn6l1PtWrVUlBQkE6dOiXpj7vN165dq0mTJl3SNjw83P7cnPr160v649mFW7du1YgRI0p9j2bNmslqtSozM1OdOnW6Lp8DAABnVKdOHd133316/fXX9cwzz5RaTLrjjjuUnZ0tNzc3hYaGXtV7leX3tLu7uySVOMZ47LHHlJiYqKNHjyo6OtphRpz0xyoFx44dU3BwsCRp06ZNcnFxUePGjRUQEKDg4GAdOHBA/fv3v6r80h/PmytpPHXHHXdo6dKlCg0NveaLUU2bNtXhw4d1+PBh+2f8+eeflZeXV+5VGMoiNTVVgwYN0n/9139J+uNi2C+//FKuPlq2bKl33nlHx48fL3HW3x133KH09PRSx6Ll5e7urvDwcIfxYUpKis6fP3/JRTofHx8FBwcrNTXVYZyXmpqqO++8s9T3qKifGQAAqoryjgd9fX0VFBSkzZs366677pL0x8z5i88GLKuSbnaX/hgzXbhwQZs3b7Y/X+/3339Xenq6fcxU0rWriIgIFRUVKTc3Vx07dixzjv9UlutiqampateuncNzp0uaHQnAObmYHQAALuf555/Xxo0bNWzYMO3YsUP79u3TZ599pmHDhkn6Y9afu7u75s6dqwMHDujzzz/XlClTLttnaGioCgoKtHbtWv322286ffr0NeecP3++nnrqKa1Zs0YZGRn66aef9Pzzz+unn35Sjx49JEnx8fHaunWrhg4dqh9//FH//ve/lZSUpN9++01eXl566qmn9Nxzz2nVqlX6+eef9fjjj+v06dMaMmRIqe9bo0YNjRkzRiNHjlRKSooyMjL0/fffa+7cuUpJSbnmzwUAgDN78803deHCBUVGRuqjjz7Snj17lJ6ervfee0///ve/5erqqujoaEVFRalnz55as2aNfvnlF23cuFH/8z//c8WbhS4qy+/p+vXry2KxaMWKFfr111/ts64k6aGHHtKRI0f09ttva/DgwZf07+HhoYEDB2rnzp367rvvNHz4cPXp00eBgYGSpEmTJikhIUFz5szR3r17tWvXLiUnJ+vVV1+95u/h008/rePHj6tfv37aunWrMjIytHr1aj366KPlvlEqOjpaLVq0UP/+/fX9999ry5YteuSRR9SpUyeHpSgrSsOGDbVs2TLt2LFDO3fu1EMPPVTuWZr9+vVTYGCgevbsqdTUVB04cEBLly5VWlqaJGnChAlatGiRJk2apJ9++kl79uzRhx9+qBdffPGKfa9YsUIPP/ywVqxYob179yo9PV2zZs3Sl19+qdjYWEnSsGHDZLPZ1LdvX23btk379u3Tu+++a5/J+txzz2nGjBn66KOPlJ6ernHjxmnHjh169tlnL/ve1/NnBgCAyuZqxoPPPvuspk+fruXLl+vf//63hg4dqry8vArJ07BhQ8XGxurxxx/Xhg0btHPnTj388MOqW7eufYxQ0rWrRo0aqX///nrkkUe0bNkyHTx4UFu2bFFCQkK5VpQIDQ3Vjz/+qPT0dP322286f/58iRm3bdum1atXa+/evRo/fry2bt1aIZ8fwPVH4Q+AU2vZsqXWr1+vvXv3qmPHjoqIiNCECRPsd8T7+flp4cKF+vjjj9WsWTNNnz5ds2bNumyf7dq109///nc9+OCD8vPz08yZM68555133qmCggL9/e9/V/PmzdWpUydt2rRJy5cvt9+h3ahRI61Zs0Y7d+7UnXfeqaioKH322Wf2u+unT5+uuLg4DRgwQHfccYf279+v1atXq1atWpd97ylTpmj8+PFKSEhQ06ZN1bVrV33xxRcKCwu75s8FAIAzCw8P1w8//KDo6GjFx8frtttuU2RkpObOnasxY8ZoypQpslgs+vLLL3XXXXfp0UcfVaNGjdS3b18dOnTI/hy5srjS7+m6detq0qRJGjdunAICAuw3KUl/3DUeFxcnb2/vEp8906BBA/Xq1Uv333+/unTpopYtW+rNN9+0H3/sscf0zjvvKDk5WS1atFCnTp20cOHCCvldf3FGWVFRkbp06aIWLVpoxIgRqlmzplxcyve/ixaLRZ999plq1aqlu+66S9HR0brlllv00UcfXXPOkrz66quqVauW2rVrpx49eigmJqZcd+FLf9zxvmbNGvn7++v+++9XixYtNH36dPvyWTExMVqxYoXWrFmj1q1bq23btpo9e7Z95uflNGvWTNWrV9fo0aN1++23q23btlqyZIneeecdDRgwQNIfM1e/+eYbFRQUqFOnTmrVqpXefvtt++y/4cOHa9SoURo9erRatGihVatW6fPPP1fDhg0v+97X82cGAIDK5mrGg6NHj9aAAQM0cOBA+1KXF1cZqAjJyclq1aqVunfvrqioKBmGoS+//NI+Bijt2lVycrIeeeQRjR49Wo0bN1bPnj21detW1atXr8zv/fjjj6tx48aKjIyUn5+fUlNTL2nz5JNPqlevXnrwwQfVpk0b/f777w6z/wA4N4tR3gV+AQAAAADl0rlzZzVv3lxz5sxx2D9x4kQtX75cO3bsMCcYAAAAAKBK4Rl/AAAAAHCdnDhxQuvWrdO6descZvEBAAAAAHA9sNQnAJTBtGnT5O3tXeLWrVs3s+MBAAAnFRERoUGDBmnGjBlq3LhxhffPGMU8ixcvLvV737x5c7PjAQCA6yQzM7PUMYC3t7cyMzPNjgjgL46lPgGgDI4fP67jx4+XeMzT01N169a9wYkAAAAYo5jp5MmTysnJKfFYtWrVyvQcQAAAUPlcuHBBv/zyS6nHQ0ND5ebGQnsAzEPhDwAAAAAAAAAAAKgCWOoTAAAAAAAAAAAAqAIo/AEAAAAAAAAAAABVAIU/AAAAAAAAAAAAoAqg8AcAAAAAAAAAAABUART+AAAAAAAAAAAAgCqAwh8AAAAAAAAAAABQBVD4AwAAAAAAAAAAAKoACn8AAAAAAAAAAABAFfD/AHQd8AbALFINAAAAAElFTkSuQmCC",
            "text/plain": [
              "<Figure size 1800x1200 with 15 Axes>"
            ]
          },
          "metadata": {},
          "output_type": "display_data"
        }
      ],
      "source": [
        "#Boxplots and Outliers\n",
        "\n",
        "plt.figure(figsize=(15, 8))\n",
        "df[numeric_columns].plot(kind='box', subplots=True, layout=(len(numeric_columns) // 3 + 1, 3), figsize=(18, 12), sharex=False, sharey=False)\n",
        "plt.tight_layout()\n",
        "plt.suptitle(\"Boxplots for All Numeric Columns\", fontsize=16, y=1.02)\n",
        "plt.show()"
      ]
    },
    {
      "cell_type": "code",
      "execution_count": 86,
      "metadata": {
        "id": "rn10VAuCUvbE"
      },
      "outputs": [],
      "source": [
        "#Handle Outliers\n",
        "\n",
        "for i in numeric_columns:\n",
        "    Q1 = df[i].quantile(0.25)\n",
        "    Q3 = df[i].quantile(0.75)\n",
        "    IQR = Q3 - Q1\n",
        "    lower_bound = Q1 - 1.5 * IQR\n",
        "    upper_bound = Q3 + 1.5 * IQR\n",
        "    df[i] = df[i].clip(lower=lower_bound, upper=upper_bound)"
<<<<<<< Updated upstream
<<<<<<< Updated upstream
      ],
      "metadata": {
        "id": "rn10VAuCUvbE"
      },
      "execution_count": null,
      "outputs": []
=======
      ]
>>>>>>> Stashed changes
=======
      ]
>>>>>>> Stashed changes
    },
    {
      "cell_type": "code",
      "execution_count": 87,
      "metadata": {
        "colab": {
          "base_uri": "https://localhost:8080/",
          "height": 659
        },
        "id": "RCSmFfJyVOJk",
        "outputId": "cd278094-4047-4638-e98d-9cdd0925e539"
      },
<<<<<<< Updated upstream
<<<<<<< Updated upstream
      "execution_count": null,
=======
>>>>>>> Stashed changes
=======
>>>>>>> Stashed changes
      "outputs": [
        {
          "data": {
            "text/plain": [
              "<Figure size 1500x800 with 0 Axes>"
            ]
          },
          "metadata": {},
          "output_type": "display_data"
        },
        {
          "data": {
            "image/png": "iVBORw0KGgoAAAANSUhEUgAABv4AAAPzCAYAAAB/VXtRAAAAOnRFWHRTb2Z0d2FyZQBNYXRwbG90bGliIHZlcnNpb24zLjEwLjAsIGh0dHBzOi8vbWF0cGxvdGxpYi5vcmcvlHJYcgAAAAlwSFlzAAAPYQAAD2EBqD+naQABAABJREFUeJzs3Xt8z/X///H7e2MHm43JNmNYyHmOYVGRMZJDVlHSnOODYuWwcpZIxShRyPhESR98ihArJJOFoRyKaPrYQcVmY8P2/v3Rb6+vd9uw43t7u10vl/elvZ7P5+v5erzee6/Lw/vxej1fJrPZbBYAAAAAAAAAAACAUs3O2gEAAAAAAAAAAAAAKDgKfwAAAAAAAAAAAIANoPAHAAAAAAAAAAAA2AAKfwAAAAAAAAAAAIANoPAHAAAAAAAAAAAA2AAKfwAAAAAAAAAAAIANoPAHAAAAAAAAAAAA2AAKfwAAAAAAAAAAAIANoPAHAAAAAAAAAAAA2AAKfwAAAICkmjVrymQyZXu5urqqSZMmCgsL059//mntMPMlIiJCJpNJAwYMsHYo+bZixQq1bNlSLi4uxu/m7Nmz1g7LkJCQIAcHB5lMJrVo0eK247M+b/88hwEDBshkMikiIuKOj71z507jPfH29lZqamqO437//Xdj3N3q7NmzMplMqlmzZrEd89y5c5o0aZLatGmjypUrq2zZsqpQoYKaN2+uF198UdHR0YVyHFv4OwcAAABQcBT+AAAAgJu0bdtWISEhCgkJUf/+/dWmTRv98ssvmjNnjvz9/fXrr79aO0SrmzZtmkwmk6ZNm1Ysx9u8ebMGDRqkn376SY888ojx+3F1dS2W49+JVatW6fr165KkgwcP6vDhw1aJIyEhQW+//bZVjo3s5s6dq9q1a2vWrFn66aef1KRJEz355JN68MEH9ddff2nhwoVq1aqVxo8fb+1QAQAAANiIMtYOAAAAAChJhgwZku2Omfj4eD388MP6+eefNX78eH322WfWCe4utW7dOknSwoULNXToUCtHk7MPP/xQklS1alX973//0/Lly7Vw4cJijcHZ2VlpaWl66623NGLECFWuXLlYj18aVK1aVcePH1fZsmWL/FgTJ07UG2+8obJly+qtt97SqFGj5OjoaDFm3759evXVV/Xzzz8XeTwAAAAA7g7c8QcAAADchre3t8aNGydJioyMtHI0d5/Y2FhJUp06dawcSc6+++47nThxQhUrVjQKgKtXr1Z6enqxxuHj46MnnnhCly9f1muvvVasxy4typYtq3r16qlWrVpFepzIyEi98cYbkqS1a9fqpZdeylb0k6Q2bdpox44deumll4o0HgAAAAB3Dwp/AAAAwB3w9vaWJN24cSPH/itXrmjOnDlq3ry5ypcvr3Llyqlhw4aaNGmSLl68aDH2s88+k8lkUuXKlfX7779nm2vbtm2yt7eXu7u7fvnlF6P95ue/HT58WL1791blypXl7Owsf39/LViwQBkZGXk+t/379+upp56Sj4+PHBwc5Onpqe7du2v79u3ZxppMJk2fPl2SNH36dIvnId58p2RcXJxefPFF3XfffXJyclK5cuXk6+urjh076q233rqjuLLO95tvvpEkdejQIcdj5fUcbp47IiJCP/74o/r06aMqVarI3t4+z0uYLlu2TJLUr18/derUSbVr19Zff/2lDRs25GmewjBr1iyVKVNGS5Ys0ZkzZ+54v9s9+699+/YymUzauXNnru379u1Tt27dVKlSJZUvX14PP/ywvv32W2Ps1q1b1bFjR1WsWFGurq7q1KmTDh48mOsxL168qKlTp6pp06bG31Tjxo312muv6cqVK9nG37wEbWxsrAYPHixfX1+VLVvW+Lzc7hl/V65cUXh4uNq1a6eKFSvK0dFRNWrUUPfu3bVmzZrc38B/yCq89ujRQ48//vgtx5pMJj344IPZ2k+cOKGBAweqRo0acnR0lIeHhzp27KhPP/30juOQbv/sv9zek5vbMzMztXDhQvn7+6tcuXKqUqWKhg8frr/++kuSlJ6erpkzZ6pevXpydnaWj4+PXnzxxRyfN3nz7+nChQsaOXKkfH195eDgIF9fX40ePVqXLl3KMdZ169YpMDBQlSpVUtmyZVWpUiU1aNBAQ4cO1ZEjR/L0vgAAAAC2isIfAAAAcAf2798vSWrYsGG2vr/++ktt27ZVWFiYTp8+rUceeUSPPvqoEhMTNWvWLLVo0UJnz541xj/xxBMaPXq0/vjjDz399NMWxcT//e9/6t+/vzIzM7V06dIc73Lbv3+/2rRpo0OHDqljx4566KGHdPLkSY0ZM0Z9+/aV2Wy+4/NaunSpAgICtG7dOnl7e+uJJ55QnTp1tGnTJnXu3Nko8mUJCQlRkyZNJElNmjQxnrcXEhKidu3aSfp7adSWLVtq4cKFSk9PV5cuXdSjRw/5+fkpJibmju9Ga9eunUJCQuTl5SVJCgoKynas/JzDzfbu3auWLVtq//79euihh9StWzeVL1/+jt+/y5cvG0uRDho0SCaTSQMHDpT0f8t/Fqc6depo6NChunbtmiZNmlRsx928ebMefPBBxcXFGcXP3bt3q1OnTtq7d68WLVqkbt26KS0tTZ07d1bVqlW1Y8cOPfzwwzp16lS2+Y4dO6YmTZpoxowZSkxMVLt27RQYGKgLFy5o8uTJatu2rZKSknKM5ZdfflGzZs305ZdfqnXr1urRo4fuueee257DuXPndP/992vs2LE6dOiQ7r//fvXu3Vs1atTQt99+q1deeeWO3otLly5p9+7dkv7+e8mPzZs3q1mzZoqIiJCzs7N69+6tZs2aadeuXerTp48GDx6cr3nz69lnn9XEiRNVtWpVBQUFKTMzU++//74CAwOVmpqqwMBAvfXWW6pbt64CAwN15coVLVy4UE8++WSuc547d07NmzfXf/7zH7Vq1UqdOnXS5cuX9e6776pz587GMzOzzJgxQ0899ZR27dqlRo0a6cknn1SbNm1kb2+v5cuX6+uvvy7qtwEAAAAoHcwAAAAAzDVq1DBLMq9YscJoy8jIMP/+++/md955x+zo6Gi2t7c3f/HFF9n27dOnj1mSuXXr1uY//vjDaL98+bK5a9euZknmBx54wGKf9PR0c6tWrcySzBMmTDCbzWbz9evXze3atTNLMo8cOTLbcUJCQsySzJLM//rXv8zXr183+n788Udz5cqVzZLMS5YssdhvxYoVZknmkJAQi/YjR46Yy5QpYzaZTOZVq1ZZ9H355ZdmBwcHsyTzV199ZdE3depUsyTz1KlTs7+RZrN5+vTpZknmYcOGmTMzMy36rl27Zt6xY0eO++Xm4YcfNksyf/PNN9n68nsON7+XEydONGdkZOQppiwffPCBWZK5adOmRtvvv/9utre3N9vZ2ZnPnj2b435Zn7czZ87kGNfNn8Pb+eabb8ySzLVq1TKbzWZzXFyc2cXFxWwymcyHDh0yxp07d84453/KrT1Lbr+DrHaTyWT+97//bdEXGhpqlmSuW7eu2dXV1eL3fuPGDXNwcLBZknnIkCEW+125csVcq1YtsyTzpEmTzOnp6UZfamqq+emnnzZLMg8cONBiv6zPpSTzs88+a05LS8t2HmfOnDFLMteoUcOiPSMjw9yyZUuzJHPnzp3NiYmJFv1Xr141b968Odf352aRkZFGHLGxsXe0z83i4+PN7u7uZknm1157zeJvKDo62lyxYkWzJPMHH3xgsV9uf+e5tWfJ7T3Jas/6bN38Wf7jjz/MderUMUsyN27c2NyqVSuL//f9+uuvRpx79uyxmPfm39OAAQMsfk+xsbHmqlWrmiWZ16xZY7SnpaWZnZ2dza6uruYTJ05kO4ezZ8+ajx8/nuP5AQAAAHcb7vgDAAAAbjJw4EBj2UN7e3tVq1ZNo0ePlr+/v3bt2qXHHnvMYnxsbKzWrVsnk8mkDz74QJUqVTL6XF1dtXTpUjk5OWnv3r3au3ev0efg4KC1a9eqYsWKmjt3rr788ku9+uqr2rNnj1q0aKG333471xirVKmit99+W2XKlDHaGjZsqClTpkjSLfe92YIFC3Tjxg09/vjj6t+/v0Vf165dNWzYMEnSm2++eUfzZUlISJAkdenSJdvykWXLllXHjh3zNN+tFPQc7rvvPr322muys8vfP42WL18uSRZ3YN18V9SKFSvyNW9BeHt7a+zYsTKbzZo4cWKxHPOJJ57Qs88+a9H26quvSpJOnjypESNGWPze7e3tjTvo/vnczJUrV+r06dN67LHHNHPmTDk4OBh95cqV0wcffCBPT0/9+9//zraMriR5eHjo3XffzfGZern54osv9MMPP6hKlSr6z3/+o8qVK1v0Ozk56dFHH72juS5cuGD87OnpeccxZFm6dKmSkpLUokULvfrqqxZ/Qy1btjTe17z+XRbEwoULVaNGDWO7UqVKGjFihCTpxx9/1PLlyy3+3+fn52d8HnJ7Lmq1atW0aNEii99T1lKfkrRjxw6jPTk5WVevXtW9996runXrZpurRo0aqlevXgHOEAAAALAdFP4AAACAm7Rt29Zi+cpu3brJ19dX0dHRGjt2rMUz9yRp9+7dyszMVLNmzeTv759tvqwikCTjWXVZatasqYiICEnS008/rTfffFPu7u769NNPb1m0eOqpp+Tk5JStPWtZwV9++UXnz5+/7blmPa8tt2d/ZRWzvv322zw9O7BVq1aSpIkTJ2r9+vVKSUm5433zqqDn0KtXL9nb2+fr2D/++KO+//57OTo6ql+/fhZ9gwYNkvT389UyMzPzNX9BjBs3Tvfcc4+2bduW7XNXFHIqinl4eBjFoJz6s5ax/edndfPmzZKkPn365HgsV1dXtWzZUjdu3FB0dHS2/sDAQLm7u+cp/q1bt0qSnnnmGbm6uuZp38KW9ZnObZnQrM/0nf6dF1SZMmXUuXPnbO1Zv7/q1aurUaNGufbnFmPHjh1Vrly5bO3169eX9Peyx1kqV66smjVr6siRI3rppZd07NixvJ8IAAAAcJeg8AcAAADcZMiQIYqIiDBemzZt0q+//qqwsDBFR0fr4Ycf1uXLl43xWV9O+/n55TpnrVq1LMberEePHhoyZIiSk5NlNpv1wQcf6N57771ljLkdq3z58kah5ffff7/1id5B7Flxp6Wl6c8//7ztfFn69++vfv366eeff1ZwcLAqVKggf39//etf/yr053AV9Bxq1qyZ72Nn3e3Xq1cvVaxY0aIv67lyv/32W653PBUlNzc34xl/EyZMyNNzH/OjevXqObZnFdFy6s96lmJ6erpF+6+//irp789R1t23/3x9+eWXkizvrsuSn9/pb7/9JkmFctfYzXcLJiYm5nn/232mK1SoIA8PD0l39ndeUFWqVLG4uzjLrX630v/9ftPS0nLsz20/Nze3HPdbtWqVPD09NW/ePDVs2FCVKlXSo48+qvnz5+uPP/64s5MBAAAA7gLZs3cAAAAAFsqUKaPXXntNS5cuVVxcnFatWqWRI0cWytx//vmntmzZYmzv27dPTz31VIHnLepCz63Y2dnpo48+0iuvvKLNmzfru+++03fffafFixdr8eLF6t69uzZs2JDvO+0Kk7Ozc772u3btmj766CNJUnR0tNq1a5dtTNYdhsuXL1enTp3yH2Q+jRgxQuHh4YqOjtZnn32mgICAfM91u7sWb7dUal6WUs06VpcuXeTl5XXLsTcvP5klv7/TwtKsWTPZ2dkpMzNT0dHR8vX1tWo8t1Ocv9uC7Pfggw/q7Nmz2rx5s3bt2qW9e/dq27Zt2rJli6ZOnaoNGzYU6jLCAAAAQGlF4Q8AAAC4A3Z2dqpZs6b++OMPHT9+3GivWrWqpP+7SyknWX1ZY7OYzWb1799fv//+u3r16qXdu3dr/vz5at++vXr06JHrfGfOnMmx/fLly8ZdbdWqVbvtOVWtWlWnT5/Wr7/+muNSfVlxOzk5GXcY5UWDBg3UoEEDjRs3TmazWV9//bWeeeYZffHFF1q1apUGDhyY5zmL+xxy89///te4y+jXX3+95e9/48aN+uuvvwr1+HfCwcFBM2fOVP/+/fXqq6/qq6++ynVs2bJldf36dV2+fNm4U+tmWXfEFQdfX1+dOHFCgwcP1hNPPFEsx8y6++zEiRMFnqtixYp68MEHtWvXLq1cuVK9e/fO0/5Vq1bViRMncv1MJSUl6a+//jLG3k7WMxJvvlP5ZsX5uy0oZ2dnPfHEE8bn4sKFC5o0aZI++OADDRo0qFSdCwAAAFBUWOoTAAAAuAOZmZk6e/asJFk8A+yhhx6SnZ2dYmJidPjw4Wz7xcXFGc8P69Chg0XfnDlztGXLFtWvX18fffSRVq5cKZPJpAEDBtzyC+x169ZlWx5Rkv79739LkmrXrn1HBYH27dtLkvGcwX/68MMPJf19p83NS/1lFRJu3Lhx22NkMZlM6tixo5555hlJUkxMzB3veyv5PYeCWrZsmaT/W0Yzt1erVq2Unp5u3B1Y3Pr166cmTZrol19+0dKlS3Mdl/V5ubmoneXIkSM6d+5ckcX4T127dpUkffrpp8V2zC5dukiSPv74Y6WmphZ4vldffVWS9Pnnn2vDhg23HGs2m7Vnzx5jO+szvXLlyhzHZ32m69Spc0d/51ljcitqZj1TsTSqXLmy5s6dK0mKjY3VxYsXrRwRAAAAYH0U/gAAAIDbuHHjhiZNmmTc4XXz3XjVq1fXk08+KbPZrOeff97iOXKpqakaNmyY0tLS9MADD+iBBx4w+nbv3q3JkyerXLlyWrdunVxcXPTYY4/ppZde0sWLF/XUU0/p+vXrOcZz/vx5vfzyy8ZSktLfBZsZM2ZIksaOHXtH5/Xiiy+qTJky2rhxY7bC1FdffaX3339fkvTyyy9b9GXdTfjTTz/lOO+qVat04MCBbO2XL1/Wzp07JeW8RGN+5PccCiI2NlY7duyQJIWEhNxy7HPPPSfp/4o1xc1kMmn27NmSpPDw8FzHBQYGSpKmT59uUVQ+e/asQkJCinXp2GHDhqlGjRpat26dJkyYkOOdavHx8bcsZOZVjx491KxZM50/f15PPvlktudBpqWlWSzJezudOnXSSy+9JEnq27ev5s2bl2Ox/sCBAwoKCtJbb71ltA0dOlRubm46ePCgXn/9dYv3/tChQ3rttdckSePGjbujWFq1aiU3NzcdO3bMuDggy7p167Rw4cI7Pi9r+e2337Rs2TIlJydn6/viiy8k/X2nZdbzAQEAAIC7GUt9AgAAADdZtmyZUZyS/n4G3+HDh407nl599VWLAp4kLVq0SCdOnND333+vWrVqqUOHDipTpox27dqlCxcuyM/PT6tXrzbGX7hwQU8//bQyMjK0aNEiNWzY0Oh7/fXXtWfPHu3bt0/jx4/X/Pnzs8U4fPhwLVu2TJs3b1br1q118eJFffPNN7p27Zoef/xxjRgx4o7OtXHjxlq0aJFGjBih/v37a/78+apXr55+++037d27V2azWdOmTVPnzp0t9gsKCpKLi4s2btyodu3aqU6dOrK3t1fbtm01cOBArV+/XiEhIfLx8VHTpk1VsWJFXbx4Ud99952SkpLUqFEjDR069I5iLKpzKIgVK1YoMzNT999/v+rXr3/LsX379lVoaKgOHz6sAwcOqEWLFoUWx53q2rWr2rdvb/G5/qdXXnlFn332mb788kvdd999uv/++3XhwgVFR0erbdu2euCBB7R3795iidfFxUWbN2/WY489prlz5+qDDz6Qv7+/qlWrpitXrujnn3/W8ePH5enpWWifIzs7O23YsEFBQUHasmWLqlevrnbt2qlSpUr63//+p8OHD6tChQrGXb934q233pKHh4emTZuml156SdOmTVPr1q3l6emplJQUHTlyxJhvwoQJxn5eXl5avXq1nnzySb366qv697//rWbNmikxMVG7du3SjRs3NHDgwDs+d2dnZ02fPl1jx47Vc889p8WLF6tq1ao6fvy4jh07pkmTJmnmzJl5ebuK3cWLFzV06FD961//UtOmTeXn5ydJ+uWXX3To0CGZTCa9+eabJeK5oQAAAIC1UfgDAAAAbvLdd9/pu+++M7YdHBxUpUoV9enTR8OHDzeW4btZpUqVtHfvXi1cuFBr167VV199pczMTPn5+Wno0KF6+eWXVbFiRUl/Lxn67LPP6vz58woJCdGAAQMs5ipbtqzWrl2rZs2aKTw8XA8//LB69eplMaZ169YaNmyYpk6dqu3btyslJUV16tTR4MGDNXr0aJlMpjs+32HDhqlJkyZ66623tGfPHh05ckTu7u569NFH9eKLL6pTp07Z9vHy8tKWLVs0Y8YMHThwQFFRUcrMzDQKEi+99JL8/Py0d+9eHTx40Hi+XYMGDfTMM89o4MCBcnFxueMYi+Ic8stsNmvFihWSbn+3n/T3Z+PRRx/Vxo0btXz5cqsU/iTpjTfeUOvWrXPtz/p9TZo0Sd988402bdqkmjVr6tVXX9X48eML9T28Ew0bNtSRI0e0ZMkSbdiwQUeOHFFUVJTuueceVatWTS+//LIef/zxQj1mjRo19MMPP+i9997TZ599pqioKF27dk3e3t56+OGHjWVq8+KVV15Rv3799P7772vHjh06dOiQkpKS5OLionvvvVc9e/ZUSEiImjVrZrHfY489poMHD+qNN95QZGSkPvvsM7m4uOjBBx/U888/rz59+uQpjjFjxsjDw0MLFizQoUOH9NNPP6lly5YKDw9X7dq1S3zhr1atWgoPD9euXbv0448/6ssvv5TZbFbVqlX13HPP6YUXXrDa3xYAAABQ0pjMxblmCwAAAIB8GzBggFauXKkVK1ZkKxgCAAAAAADwjD8AAAAAAAAAAADABlD4AwAAAAAAAAAAAGwAhT8AAAAAAAAAAADABvCMPwAAAAAAAAAAAMAGcMcfAAAAAAAAAAAAYAMo/AEAAAAAAAAAAAA2gMIfAAAAAAAAAAAAYAMo/AEAAAAAAAAAAAA2gMIfAAAAAAAAAAAAYAMo/AEAAAAAAAAAAAA2gMIfAAAAAAAAAAAAYAMo/AEAAAAAAAAAAAA2gMIfAAAAAAAAAAAAYAMo/AEAAAAAAAAAAAA2gMIfAAAAAAAAAAAAYAMo/AEAAAAAAAAAAAA2gMIfAAAAAAAAAAAAYAMo/AEAAAAAAAAAAAA2gMIfAAAAAAAAAAAAYAMo/AEAAAAAAAAAAAA2gMIfAAAAAAAAAAAAYAPKWDsAa8rMzNT58+dVvnx5mUwma4cDAABsiNls1uXLl+Xj4yM7u9J9rRU5EwAAKCrkTAAAALeXl5zpri78nT9/Xr6+vtYOAwAA2LBz586pWrVq1g6jQMiZAABAUSNnAgAAuL07yZnu6sJf+fLlJf39Rrm5uVk5GgAAYEuSk5Pl6+tr5BulGTkTAAAoKuRMAAAAt5eXnOmuLvxlLbvg5uZGQgYAAIqELSzzRM4EAACKGjkTAADA7d1JzlS6F08HAAAAAAAAAAAAIInCHwAAAAAAAAAAAGATSmThb/HixfL39zeWRggICNCWLVuM/vbt28tkMlm8hg8fbsWIAQAArIO8CQAA4PYyMjI0efJk+fn5ydnZWbVq1dLMmTNlNpuNMWazWVOmTFGVKlXk7OyswMBA/fLLL1aMGgAAIO9K5DP+qlWrpjlz5qhOnToym81auXKlevbsqUOHDqlhw4aSpKFDh2rGjBnGPuXKlbNWuAAAAFZD3gQAAHB7b7zxhhYvXqyVK1eqYcOG+uGHHzRw4EC5u7vrhRdekCTNnTtXCxcu1MqVK+Xn56fJkycrKChIx44dk5OTk5XPAAAA4M6UyMJf9+7dLbZnzZqlxYsXa9++fcYXWOXKlZO3t7c1wgMAACgxyJsAAABub+/everZs6e6desmSapZs6Y+/vhj7d+/X9Lfd/uFh4dr0qRJ6tmzpyRp1apV8vLy0saNG9W3b1+rxQ4AAJAXJbLwd7OMjAytW7dOqampCggIMNpXr16tjz76SN7e3urevbsmT55826vX09PTlZ6ebmwnJycXWdwArOvqtQydvpBSqHOmXc/Q7xevqlpFZzmVtS+0eWtVdpWzQ+HNB+DuVVh5EzkTcHcp7LyJnAlASfTAAw/ogw8+0M8//6z77rtPhw8f1p49ezRv3jxJ0pkzZxQfH6/AwEBjH3d3d7Vu3VpRUVE5Fv7ImYC7CzkTgNKixBb+jh49qoCAAKWlpcnV1VUbNmxQgwYNJEnPPPOMatSoIR8fHx05ckQTJkzQyZMntX79+lvOOXv2bE2fPr04wgdgZacvpOixd/ZYO4w7sml0OzWq6m7tMACUYoWdN5EzAXeX0pI3kTMBKIiJEycqOTlZ9erVk729vTIyMjRr1iz169dPkhQfHy9J8vLystjPy8vL6Psncibg7kLOBKC0MJlvfopxCXLt2jXFxsYqKSlJn332mZYtW6Zdu3YZX2Ld7Ouvv1bHjh116tQp1apVK9c5c7oSy9fXV0lJSXJzcyuS8wBgHUVxx9+pxBSNWRuj8D5NVdvTtdDm5UoswDYlJyfL3d29WPKMws6byJmAu0th503kTADyorhypk8++UTjxo3Tm2++qYYNGyomJkZjxozRvHnzFBISor1796pt27Y6f/68qlSpYuz31FNPyWQyae3atdnmJGcC7i7kTACsKS85U4m948/BwUG1a9eWJLVo0ULR0dFasGCB3n///WxjW7duLUm3Lfw5OjrK0dGxaAIGUKI4O9gX2dVNtT1duXIKQIlS2HkTORNwdymqvImcCUBJMm7cOE2cONFYsrNx48b67bffNHv2bIWEhBjPQ05ISLAo/CUkJKhp06Y5zknOBNxdyJkAlBZ21g7gTmVmZlpcRXWzmJgYSbJIzAAAAO5W5E0AAACWrly5Ijs7y6/B7O3tlZmZKUny8/OTt7e3IiMjjf7k5GR9//33Fs9OBgAAKOlK5B1/YWFh6tq1q6pXr67Lly9rzZo12rlzp7Zt26bTp09rzZo1evTRR1WpUiUdOXJEY8eO1UMPPSR/f39rhw4AAFCsyJsAAABur3v37po1a5aqV6+uhg0b6tChQ5o3b54GDRokSTKZTBozZoxee+011alTR35+fpo8ebJ8fHzUq1cv6wYPAACQByWy8JeYmKjnnntOcXFxcnd3l7+/v7Zt26ZOnTrp3Llz2rFjh8LDw5WamipfX18FBwdr0qRJ1g4bAACg2JE3AQAA3N4777yjyZMn61//+pcSExPl4+Oj559/XlOmTDHGjB8/XqmpqRo2bJguXbqkdu3aaevWrXJycrJi5AAAAHlTIgt/y5cvz7XP19dXu3btKsZoAAAASi7yJgAAgNsrX768wsPDFR4enusYk8mkGTNmaMaMGcUXGAAAQCErNc/4AwAAAAAAAAAAAJA7Cn8AAAAAAAAAAACADaDwBwAAAAAAAAAAANgACn8AAAAAAAAAAACADaDwBwAAAAAAAAAAANgACn8AAAAAAAAAAACADaDwBwAAAAAAAAAAANgACn8AAAAAAAAAAACADaDwBwAAAAAAAAAAANgACn8AAAAAAAAAAACADaDwBwAAAAAAAAAAANgACn8AAAAAAAAAAACADaDwBwAAAAAAAAAAANgACn8AAAAAAAAAAACADaDwBwAAAAAAAAAAANgACn8AAAAAAAAAAACADaDwBwAAAAAAAAAAANgACn8AAAAAAAAAAACADaDwBwAAAAAAAAAAANgACn8AAAAAAAAAAACADaDwBwAAAAAAAAAAANgACn8AAAAAAAAAAACADaDwBwAAAAAAAAAAANgACn8AAAAAAAAAAACADaDwBwAAAAAAAAAAANgACn8AAAAAAAAAAACADaDwBwAAAAAAAAAAANgACn8AAAAAAAAAAACADaDwBwAAAAAAAAAAANgACn8AAAAAAAAAAACADaDwBwAAAAAAAAAAANgACn8AAAAAAAAAAACADaDwBwAAAAAAAAAAANgACn8AAAAAAAAAAACADaDwBwAAAAAAAAAAANiAEln4W7x4sfz9/eXm5iY3NzcFBARoy5YtRn9aWppGjhypSpUqydXVVcHBwUpISLBixAAAANZB3gQAAHB7NWvWlMlkyvYaOXKkJHImAABgO0pk4a9atWqaM2eODhw4oB9++EGPPPKIevbsqZ9++kmSNHbsWH3xxRdat26ddu3apfPnz6t3795WjhoAAKD4kTcBAADcXnR0tOLi4ozX9u3bJUlPPvmkJHImAABgO8pYO4CcdO/e3WJ71qxZWrx4sfbt26dq1app+fLlWrNmjR555BFJ0ooVK1S/fn3t27dPbdq0sUbIAAAAVkHeBAAAcHuVK1e22J4zZ45q1aqlhx9+WElJSeRMAADAZpTIO/5ulpGRoU8++USpqakKCAjQgQMHdP36dQUGBhpj6tWrp+rVqysqKuqWc6Wnpys5OdniBQAAYCsKK28iZwIAALbs2rVr+uijjzRo0CCZTCZyJgAAYFNK5B1/knT06FEFBAQoLS1Nrq6u2rBhgxo0aKCYmBg5ODioQoUKFuO9vLwUHx9/yzlnz56t6dOnF2HUAArizB+pSk2/Ye0wcnUqMcXivyWRi2MZ+d3jYu0wABSzws6byJkAAIAt27hxoy5duqQBAwZIkuLj48mZABtVkr9r4nsmAEWlxBb+6tatq5iYGCUlJemzzz5TSEiIdu3aVaA5w8LCFBoaamwnJyfL19e3oKECKARn/khVh7d2WjuMOzJmbYy1Q7ilb15uT1IG3GUKO28iZwIAALZs+fLl6tq1q3x8fAo0DzkTULKVlu+a+J4JQGErsYU/BwcH1a5dW5LUokULRUdHa8GCBerTp4+uXbumS5cuWVyJlZCQIG9v71vO6ejoKEdHx6IMG0A+ZV19Fd6nqWp7ulo5mpylXc/Q7xevqlpFZzmVtbd2ONmcSkzRmLUxJfZKNgBFp7DzJnImAABgq3777Tft2LFD69evN9q8vb3JmQAbVNK/a+J7JgBFpcQW/v4pMzNT6enpatGihcqWLavIyEgFBwdLkk6ePKnY2FgFBARYOUoABVXb01WNqrpbO4xctaxp7QgA4PbImwAAAHK2YsUKeXp6qlu3bkYbORNg20ryd018zwSgKJTIwl9YWJi6du2q6tWr6/Lly1qzZo127typbdu2yd3dXYMHD1ZoaKg8PDzk5uam0aNHKyAgQG3atLF26AAAAMWKvAkAAODOZGZmasWKFQoJCVGZMv/3lRg5EwAAsCUlsvCXmJio5557TnFxcXJ3d5e/v7+2bdumTp06SZLmz58vOzs7BQcHKz09XUFBQXrvvfesHDUAAEDxI28CAAC4Mzt27FBsbKwGDRqUrY+cCQAA2IoSWfhbvnz5LfudnJy0aNEiLVq0qJgiAgAAKJnImwAAAO5M586dZTabc+wjZwIAALaiRBb+AAAAAAC5O/NHqlLTb1g7jBydSkyx+G9J5OJYRn73uFg7DAAAAAAodBT+AAAAAKAUOfNHqjq8tdPaYdzWmLUx1g7hlr55uT3FPwAAAAA2h8IfAAAAAJQiWXf6hfdpqtqerlaOJru06xn6/eJVVavoLKey9tYOJ5tTiSkaszamxN4xCQAAAAAFQeEPAAAAAEqh2p6ualTV3dph5KhlTWtHAAAAAAB3JztrBwAAAAAAAAAAAACg4Cj8AQAAAAAAAAAAADaAwh8AAAAAAAAAAABgAyj8AQAAAAAAAAAAADaAwh8AAAAAAAAAAABgAyj8AQAAAAAAAAAAADaAwh8AAAAAAAAAAABgAyj8AQAAAAAAAAAAADaAwh8AAAAAAAAAAABgAyj8AQAAAAAAAAAAADaAwh8AAAAAAAAAAABgAyj8AQAAAAAAAAAAADaAwh8AAAAAAAAAAABgAyj8AQAAAAAAAAAAADaAwh8AAAAAAAAAAABgAyj8AQAAAAAAAAAAADaAwh8AAAAAAAAAAABgAyj8AQAAAAAAAAAAADaAwh8AAAAAAAAAAABgAyj8AQAAAAAAAAAAADaAwh8AAAAAAAAAAABgAyj8AQAAAAAAAAAAADaAwh8AAAAAAAAAAABgAyj8AQAAAAAAAAAAADaAwh8AAAAAAAAAAABgAyj8AQAAAAAAAAAAADaAwh8AAAAAAAAAAABgAyj8AQAAAAAAAAAAADaAwh8AAAAAAAAAAABgAyj8AQAAAAAAAAAAADagjLUDAAAAAADkjalMss4kn5Sdk6u1Qyl1ziSnyFQm2dphAAAAAECRKJGFv9mzZ2v9+vU6ceKEnJ2d9cADD+iNN95Q3bp1jTHt27fXrl27LPZ7/vnntWTJkuIOFwAAwGrIm4C7U9kK3+uV/a9bO4xSq2yFjpIetXYYAIrZ//73P02YMEFbtmzRlStXVLt2ba1YsUItW7aUJJnNZk2dOlVLly7VpUuX1LZtWy1evFh16tSxcuQAAAB3rkQW/nbt2qWRI0fq/vvv140bN/TKK6+oc+fOOnbsmFxcXIxxQ4cO1YwZM4ztcuXKWSNcAAAAqyFvAu5O1y+11tvdnlEtT+74y6vTiSl6YfVpa4cBoJhdvHhRbdu2VYcOHbRlyxZVrlxZv/zyiypWrGiMmTt3rhYuXKiVK1fKz89PkydPVlBQkI4dOyYnJycrRg8AAHDnSmThb+vWrRbbERER8vT01IEDB/TQQw8Z7eXKlZO3t3dxhwcAAFBikDcBdyfzDTf5udVVg0ru1g6l1MlMS5L5xgVrhwGgmL3xxhvy9fXVihUrjDY/Pz/jZ7PZrPDwcE2aNEk9e/aUJK1atUpeXl7auHGj+vbtW+wxAwAA5IedtQO4E0lJSZIkDw8Pi/bVq1frnnvuUaNGjRQWFqYrV67ccp709HQlJydbvAAAAGxJYeRN5EwAAMDWfP7552rZsqWefPJJeXp6qlmzZlq6dKnRf+bMGcXHxyswMNBoc3d3V+vWrRUVFZXjnORMAACgJCqRd/zdLDMzU2PGjFHbtm3VqFEjo/2ZZ55RjRo15OPjoyNHjmjChAk6efKk1q9fn+tcs2fP1vTp04sjbAD5YCqTrDPJJ2XnxJJV+XEmOUWmMvxDE7ibFVbeRM4EAABsza+//qrFixcrNDRUr7zyiqKjo/XCCy/IwcFBISEhio+PlyR5eXlZ7Ofl5WX0/RM5E1Dy8V1T/vE9E1B6lfjC38iRI/Xjjz9qz549Fu3Dhg0zfm7cuLGqVKmijh076vTp06pVq1aOc4WFhSk0NNTYTk5Olq+vb9EEDiDPylb4Xq/sf93aYZRqZSt0lPSotcMAYCWFlTeRMwEAAFuTmZmpli1b6vXX//43Z7NmzfTjjz9qyZIlCgkJydec5ExAycd3TQXD90xA6VSiC3+jRo3Spk2btHv3blWrVu2WY1u3bi1JOnXqVK6FP0dHRzk6OhZ6nAAKx/VLrfV2t2dUy5OrsPLjdGKKXlh92tphALCSwsybyJkAAICtqVKliho0aGDRVr9+ff3nP/+RJONZyAkJCapSpYoxJiEhQU2bNs1xTnImoOTju6b843smoPQqkYU/s9ms0aNHa8OGDdq5c6fFw5ZzExMTI0kWyRmA0sV8w01+bnXVoJK7tUMplTLTkmS+ccHaYQAoZuRNAAAAt9e2bVudPHnSou3nn39WjRo1JEl+fn7y9vZWZGSkUehLTk7W999/rxEjRhR3uAAKCd815R/fMwGlV4ks/I0cOVJr1qzRf//7X5UvX95YS93d3V3Ozs46ffq01qxZo0cffVSVKlXSkSNHNHbsWD300EPy9/e3cvQAAADFh7wJAADg9saOHasHHnhAr7/+up566int379fH3zwgT744ANJkslk0pgxY/Taa6+pTp068vPz0+TJk+Xj46NevXpZN3gAAIA8KJGFv8WLF0uS2rdvb9G+YsUKDRgwQA4ODtqxY4fCw8OVmpoqX19fBQcHa9KkSVaIFgAAwHrImwAAAG7v/vvv14YNGxQWFqYZM2bIz89P4eHh6tevnzFm/PjxSk1N1bBhw3Tp0iW1a9dOW7dulZOTkxUjBwAAyJsSWfgzm8237Pf19dWuXbuKKRoAAICSi7wJAADgzjz22GN67LHHcu03mUyaMWOGZsyYUYxRAQAAFC47awcAAAAAAAAAAAAAoOAo/AEAAAAAAAAAAAA2gMIfAAAAAAAAAAAAYAMo/AEAAAAAAAAAAAA2gMIfAAAAAAAAAAAAYAMo/AEAAAAAAAAAAAA2gMIfAAAAAAAAAAAAYAMo/AEAAAAAAAAAAAA2gMIfAAAAAAAAAAAAYAMo/AEAAAAAAAAAAAA2gMIfAAAAAAAAAAAAYAMo/AEAAAAAAAAAAAA2gMIfAAAAAAAAAAAAYAMo/AEAAAAAAAAAAAA2gMIfAAAAAAAAAAAAYAMo/AEAAAAAAAAAAAA2gMIfAAAAAAAAAAAAYAMo/AEAAAAAAAAAAAA2gMIfAAAAAAAAAAAAYAMo/AEAAAAAAAAAAAA2gMIfAAAAAAAAAAAAYAMo/AEAAAAAAAAAAAA2oIy1AwAAAAAA3Lmr1zMkST/+L8nKkeQs7XqGfr94VdUqOsuprL21w8nmVGKKtUMAAAAAgCJD4Q8AAAAASpHT/79wNXH9UStHUrq5OPLPYQAAAAC2h3/pAAAAAEAp0rmhtySplqernEvoHXVj1sYovE9T1fZ0tXY4OXJxLCO/e1ysHQYAAAAAFDoKfwAAAABQini4OKhvq+rWDuO2anu6qlFVd2uHAQAAAAB3FTtrBwAAAAAAAAAAAACg4Cj8AQAAAAAAAAAAADaAwh8AAAAAAAAAAABgAyj8AQAAAAAAAAAAADaAwh8AAAAAAAAAAABgAyj8AQAAAAAAAAAAADaAwh8AAAAAAAAAAABgAyj8AQAAAAAAAAAAADaAwh8AAAAAAAAAAABgA0pk4W/27Nm6//77Vb58eXl6eqpXr146efKkxZi0tDSNHDlSlSpVkqurq4KDg5WQkGCliAEAAKyDvAkAAOD2pk2bJpPJZPGqV6+e0U++BAAAbEWJLPzt2rVLI0eO1L59+7R9+3Zdv35dnTt3VmpqqjFm7Nix+uKLL7Ru3Trt2rVL58+fV+/eva0YNQAAQPEjbwIAALgzDRs2VFxcnPHas2eP0Ue+BAAAbEUZaweQk61bt1psR0REyNPTUwcOHNBDDz2kpKQkLV++XGvWrNEjjzwiSVqxYoXq16+vffv2qU2bNtYIGwAAoNiRNwEAANyZMmXKyNvbO1s7+RIAALAlJfKOv39KSkqSJHl4eEiSDhw4oOvXryswMNAYU69ePVWvXl1RUVG5zpOenq7k5GSLFwAAgC0pjLyJnAkAANiiX375RT4+Prr33nvVr18/xcbGSuJ7JgAAYFtK5B1/N8vMzNSYMWPUtm1bNWrUSJIUHx8vBwcHVahQwWKsl5eX4uPjc51r9uzZmj59elGGCwAAYDWFlTeRMwEAAFvTunVrRUREqG7duoqLi9P06dP14IMP6scff+R7JsBGXb2eIUn68X9JVo4kZ2nXM/T7xauqVtFZTmXtrR1ONqcSU6wdAoB8KvGFv5EjR+rHH3+0WHc9v8LCwhQaGmpsJycny9fXt8DzAii4kp6MSSRkAEq+wsqbyJkAAICt6dq1q/Gzv7+/WrdurRo1aujTTz+Vs7NzvuYkZwJKttP//3uSieuPWjmS0s3FscSXEAD8Q4n+qx01apQ2bdqk3bt3q1q1aka7t7e3rl27pkuXLllcjZWQkJDjWu1ZHB0d5ejoWJQhA8gnkrHCQ0IG3J0KM28iZwIAALauQoUKuu+++3Tq1Cl16tSJ75kAG9S54d9/v7U8XeVcQi/gHrM2RuF9mqq2p6u1w8mRi2MZ+d3jYu0wAORRifx22Gw2a/To0dqwYYN27twpPz8/i/4WLVqobNmyioyMVHBwsCTp5MmTio2NVUBAgDVCBlBAJT0Zk0jIAJRM5E0AAAB5l5KSotOnT6t///7kS4CN8nBxUN9W1a0dxm3V9nRVo6ru1g4DgA0pkYW/kSNHas2aNfrvf/+r8uXLG+upu7u7y9nZWe7u7ho8eLBCQ0Pl4eEhNzc3jR49WgEBAWrTpo2VoweQH6UlGZNIyACULORNAAAAt/fyyy+re/fuqlGjhs6fP6+pU6fK3t5eTz/9NPkSAACwKSWy8Ld48WJJUvv27S3aV6xYoQEDBkiS5s+fLzs7OwUHBys9PV1BQUF67733ijlSAAAA6yJvAgAAuL3ff/9dTz/9tP78809VrlxZ7dq10759+1S5cmVJ5EsAAMB2lMjCn9lsvu0YJycnLVq0SIsWLSqGiAAAAEom8iYAAIDb++STT27ZT74EAABshZ21AwAAAAAAAAAAAABQcBT+AAAAAAAAAAAAABtA4Q8AAAAAAAAAAACwART+AAAAAAAAAAAAABtA4Q8AAAAAAAAAAACwART+AAAAAAAAAAAAABtA4Q8AAAAAAAAAAACwART+AAAAAAAAAAAAABtA4Q8AAAAAAAAAAACwART+AAAAAAAAAAAAABtA4Q8AAAAAAAAAAACwART+AAAAAAAAAAAAABtA4Q8AAAAAAAAAAACwART+AAAAAAAAAAAAABtA4Q8AAAAAAAAAAACwART+AAAAAAAAAAAAABtA4Q8AAAAAAAAAAACwART+AAAAAAAAAAAAABtA4Q8AAAAAAAAAAACwART+AAAAAAAAAAAAABtA4Q8AAAAAAAAAAACwART+AAAAAAAAAAAAABtA4Q8AAAAAAAAAAACwART+AAAAAAAAAAAAABtA4Q8AAAAAAAAAAACwART+AAAAAAAAAAAAABtA4Q8AAAAAAAAAAACwART+AAAAAAAAAAAAABtA4Q8AAAAAAAAAAACwART+AAAAAAAAAAAAABtA4Q8AAAAAAAAAAACwART+AAAAAAAAAAAAABtA4Q8AAAAAAAAAAACwART+AAAAAAAAAAAAABtA4Q8AAAAAAAAAAACwASW28Ld79251795dPj4+MplM2rhxo0X/gAEDZDKZLF5dunSxTrAAAABWQs4EAACQN3PmzJHJZNKYMWOMtrS0NI0cOVKVKlWSq6urgoODlZCQYL0gAQAA8qnEFv5SU1PVpEkTLVq0KNcxXbp0UVxcnPH6+OOPizFCAAAA6yNnAgAAuHPR0dF6//335e/vb9E+duxYffHFF1q3bp127dql8+fPq3fv3laKEgAAIP/KWDuA3HTt2lVdu3a95RhHR0d5e3sXU0QAAAAlDzkTAADAnUlJSVG/fv20dOlSvfbaa0Z7UlKSli9frjVr1uiRRx6RJK1YsUL169fXvn371KZNG2uFDAAAkGcl9o6/O7Fz5055enqqbt26GjFihP78809rhwQAAFDikDMBAABII0eOVLdu3RQYGGjRfuDAAV2/ft2ivV69eqpevbqioqKKO0wAAIACKbF3/N1Oly5d1Lt3b/n5+en06dN65ZVX1LVrV0VFRcne3j7HfdLT05Wenm5sJycnF1e4AIrZ1WsZOn0hpVDnPJWYYvHfwlKrsqucHXL+/xYAFBQ5E4DbKey8iZwJQEn0ySef6ODBg4qOjs7WFx8fLwcHB1WoUMGi3cvLS/Hx8bnOSc4E3F3ImQCUFqW28Ne3b1/j58aNG8vf31+1atXSzp071bFjxxz3mT17tqZPn15cIQKwotMXUvTYO3uKZO4xa2MKdb5No9upUVX3Qp0TALKQMwG4naLKm8iZAJQU586d04svvqjt27fLycmp0OYlZwLuLuRMAEqLUlv4+6d7771X99xzj06dOpXrl1hhYWEKDQ01tpOTk+Xr61tcIQIoRrUqu2rT6HaFOmfa9Qz9fvGqqlV0llPZwrtyqlZl10KbCwBuh5wJwD8Vdt5EzgSgpDlw4IASExPVvHlzoy0jI0O7d+/Wu+++q23btunatWu6dOmSxV1/CQkJt3xOMjkTcHchZwJQWthM4e/333/Xn3/+qSpVquQ6xtHRUY6OjsUYFQBrcXawL5Krm1rWLPQpAaBYkTMB+KeiyJvImQCUJB07dtTRo0ct2gYOHKh69eppwoQJ8vX1VdmyZRUZGang4GBJ0smTJxUbG6uAgIBc5yVnAu4u5EwASosSW/hLSUnRqVOnjO0zZ84oJiZGHh4e8vDw0PTp0xUcHCxvb2+dPn1a48ePV+3atRUUFGTFqAEAAIoXORMAAMCtlS9fXo0aNbJoc3FxUaVKlYz2wYMHKzQ0VB4eHnJzc9Po0aMVEBCgNm3aWCNkAACAfCuxhb8ffvhBHTp0MLazlk4ICQnR4sWLdeTIEa1cuVKXLl2Sj4+POnfurJkzZ3KlFQAAuKuQMwEAABTc/PnzZWdnp+DgYKWnpysoKEjvvfeetcMCAADIM5PZbDZbOwhrSU5Olru7u5KSkuTm5mbtcAAAgA2xpTzDls4FAACULLaUZ9jSuQAAgJIlL3mGXTHFBAAAAAAAAAAAAKAIUfgDAAAAAAAAAAAAbECJfcZfccha5TQ5OdnKkQAAAFuTlV/Ywqrq5EwAAKCokDMBAADcXl5ypru68Hf58mVJkq+vr5UjAQAAtury5ctyd3e3dhgFQs4EAACKGjkTAADA7d1JzmQy28IlVfmUmZmp8+fPq3z58jKZTNYOB0AJl5ycLF9fX507d44HtQO4LbPZrMuXL8vHx0d2dqV7dXVyJgB5Qc4EIC/ImQDcrciZAORFXnKmu7rwBwB5kZycLHd3dyUlJZGQAQAA5IKcCQAA4PbImQAUldJ9KRUAAAAAAAAAAAAASRT+AAAAAAAAAAAAAJtA4Q8A7pCjo6OmTp0qR0dHa4cCAABQYpEzAQAA3B45E4CiwjP+AAAAAAAAAAAAABvAHX8AAAAAAAAAAACADaDwBwAAAAAAAAAAANgACn8AAAAAAAAAAACADaDwB6BUmzZtmpo2bWpsDxgwQL169bJKLDt37pTJZNKlS5escnwAAAAAAACULmfPnpXJZFJMTEyuY/75nVNERIQqVKhQLPEBKH0o/AGwqgsXLmjEiBGqXr26HB0d5e3traCgIH333Xd3tP/LL7+syMjIfB17wIABMplMGj58eLa+kSNHymQyacCAAXc83wMPPKC4uDi5u7vfdixFQgAAkBcmk+mWr2nTplk7xEJXs2ZNhYeHWzsMAABwF8jtQvLi+P7G19dXcXFxatSo0R3v06dPH/3888/G9j8vjAdwdytj7QAA3N2Cg4N17do1rVy5Uvfee68SEhIUGRmpP//88472d3V1laura76P7+vrq08++UTz58+Xs7OzJCktLU1r1qxR9erV8zSXg4ODvL298x1Lfl2/fl1ly5Yt9uMCAIDiExcXZ/y8du1aTZkyRSdPnjTaCpIPFSez2ayMjAyVKVN8/xS9du2aHBwciu14AAAAeWFvb5/n75OcnZ2N77EA4J+44w+A1Vy6dEnffvut3njjDXXo0EE1atRQq1atFBYWph49ekiSYmNj1bNnT7m6usrNzU1PPfWUEhISjDkKekVT8+bN5evrq/Xr1xtt69evV/Xq1dWsWTOLsenp6XrhhRfk6ekpJycntWvXTtHR0Ub/P68C++2339S9e3dVrFhRLi4uatiwob788kudPXtWHTp0kCRVrFjR4s7CnK5sb9q0qcVV/CaTSYsXL1aPHj3k4uKiWbNmSZL++9//qnnz5nJyctK9996r6dOn68aNG/l+bwAAQMnh7e1tvNzd3WUymSzaPvnkE9WvX19OTk6qV6+e3nvvPWPfrOWjPv30Uz344INydnbW/fffr59//lnR0dFq2bKlXF1d1bVrV124cMHYL+vK9+nTp6ty5cpyc3PT8OHDde3aNWNMZmamZs+eLT8/Pzk7O6tJkyb67LPPjP6s/GjLli1q0aKFHB0dtWfPHp0+fVo9e/aUl5eXXF1ddf/992vHjh3Gfu3bt9dvv/2msWPHGnc1SjnnfuHh4apZs2a2uGfNmiUfHx/VrVtXknTu3Dk99dRTqlChgjw8PNSzZ0+dPXu2MH49AADgLpCXPOT111+Xl5eXKlSooBkzZujGjRsaN26cPDw8VK1aNa1YscLYJ6elPr/88kvdd999cnZ2VocOHbLlLDcv9RkREaHp06fr8OHDRt4UERGhQYMG6bHHHrPY7/r16/L09NTy5csL4y0BUEJR+ANgNVl3623cuFHp6enZ+jMzM9WzZ0/99ddf2rVrl7Zv365ff/1Vffr0KdQ4Bg0aZJFwffjhhxo4cGC2cePHj9d//vMfrVy5UgcPHlTt2rUVFBSkv/76K8d5R44cqfT0dO3evVtHjx7VG2+8IVdXV/n6+uo///mPJOnkyZOKi4vTggUL8hTztGnT9Pjjj+vo0aMaNGiQvv32Wz333HN68cUXdezYMb3//vuKiIgwioIAAMB2rV69WlOmTNGsWbN0/Phxvf7665o8ebJWrlxpMW7q1KmaNGmSDh48qDJlyuiZZ57R+PHjtWDBAn377bc6deqUpkyZYrFPZGSkjh8/rp07d+rjjz/W+vXrNX36dKN/9uzZWrVqlZYsWaKffvpJY8eO1bPPPqtdu3ZZzDNx4kTNmTNHx48fl7+/v1JSUvToo48qMjJShw4dUpcuXdS9e3fFxsZK+vtCrGrVqmnGjBmKi4uzuOPxTkRGRurkyZPavn27Nm3apOvXrysoKEjly5fXt99+q++++06urq7q0qWLRSETAACgoL7++mudP39eu3fv1rx58zR16lQ99thjqlixor7//nsNHz5czz//vH7//fcc9z937px69+6t7t27KyYmRkOGDNHEiRNzPV6fPn300ksvqWHDhkbe1KdPHw0ZMkRbt261yKM2bdqkK1euFPp3awBKFpb6BGA1ZcqUUUREhIYOHaolS5aoefPmevjhh9W3b1/5+/srMjJSR48e1ZkzZ+Tr6ytJWrVqlRo2bKjo6Gjdf//9hRLHs88+q7CwMP3222+SpO+++06ffPKJdu7caYxJTU3V4sWLFRERoa5du0qSli5dqu3bt2v58uUaN25ctnljY2MVHBysxo0bS5Luvfdeo8/Dw0OS5Onpma+HMT/zzDMWxclBgwZp4sSJCgkJMY41c+ZMjR8/XlOnTs3z/AAAoPSYOnWq3n77bfXu3VuS5OfnZ1wIlJUbSH8/GzkoKEiS9OKLL+rpp59WZGSk2rZtK0kaPHiwIiIiLOZ2cHDQhx9+qHLlyqlhw4aaMWOGxo0bp5kzZ+r69et6/fXXtWPHDgUEBEj6OwfZs2eP3n//fT388MPGPDNmzFCnTp2MbQ8PDzVp0sTYnjlzpjZs2KDPP/9co0aNkoeHh+zt7VW+fPl8LaXu4uKiZcuWGUt8fvTRR8rMzNSyZcuMuwdXrFihChUqaOfOnercuXOejwEAAGzLpk2bsi2fnpGRked5PDw8tHDhQtnZ2alu3bqaO3eurly5oldeeUWSFBYWpjlz5mjPnj3q27dvtv0XL16sWrVq6e2335Yk1a1b17igPCfOzs5ydXVVmTJlLPKmBx54QHXr1tW///1vjR8/XtLf+c+TTz5ZapaJB5A/FP4AWFVwcLC6deumb7/9Vvv27dOWLVs0d+5cLVu2TMnJyfL19TWKfpLUoEEDVahQQcePHy+0wl/lypXVrVs3RUREyGw2q1u3brrnnnssxpw+fVrXr183vhiTpLJly6pVq1Y6fvx4jvO+8MILGjFihL766isFBgYqODhY/v7+hRJzy5YtLbYPHz6s7777zuIOv4yMDKWlpenKlSsqV65coRwXAACULKmpqTp9+rQGDx6soUOHGu03btyQu7u7xdib8xAvLy9JMi5QympLTEy02KdJkyYWeURAQIBSUlJ07tw5paSk6MqVKxYFPenvZ+r9c8n0f+YuKSkpmjZtmjZv3qy4uDjduHFDV69eNe74K6jGjRtbPNfv8OHDOnXqlMqXL28xLi0tTadPny6UYwIAgNKtQ4cOWrx4sUXb999/r2effTZP8zRs2FB2dv+30J6Xl5caNWpkbNvb26tSpUrZ8q4sx48fV+vWrS3asi6yyqshQ4bogw8+0Pjx45WQkKAtW7bo66+/ztdcAEoPCn8ArM7JyUmdOnVSp06dNHnyZA0ZMkRTp07VSy+9VGwxDBo0SKNGjZIkLVq0qFDmHDJkiIKCgrR582Z99dVXmj17tt5++22NHj06133s7OxkNpst2q5fv55tnIuLi8V2SkqKpk+fblzpfzMnJ6d8ngEAACjpUlJSJP29EsE/vyCyt7e32C5btqzxc9Zdb/9sy8zMzPOxN2/erKpVq1r0OTo6Wmz/M3d5+eWXtX37dr311luqXbu2nJ2d9cQTT9x22c2C5EotWrTQ6tWrs42tXLnyLY8JAADuDi4uLqpdu7ZF283Lcd5pHnJzfiX9nWPl1JaXvCu/nnvuOU2cOFFRUVHau3ev/Pz89OCDDxb5cQFYF4U/ACVOgwYNtHHjRtWvX1/nzp3TuXPnjLv+jh07pkuXLqlBgwaFesys57uYTCZjCayb1apVSw4ODvruu+9Uo0YNSX8nd9HR0RozZkyu8/r6+mr48OEaPny4wsLCtHTpUo0ePdq4Av2fS0ZUrlzZYu315ORknTlz5rbxN2/eXCdPnsyWoAIAANvm5eUlHx8f/frrr+rXr1+hz3/48GFdvXpVzs7OkqR9+/YZzyz28PCQo6OjYmNjLZb1vBPfffedBgwYoMcff1zS34W5s2fPWoxxcHDIMVeKj4+X2Ww2ipcxMTG3PV7z5s21du1aeXp6ys3NLU+xAgAASPnPQ/Kqfv36+vzzzy3a9u3bd8t9csqbJKlSpUrq1auXVqxYoaioKIvHxgCwXXa3HwIARePPP//UI488oo8++khHjhzRmTNntG7dOs2dO1c9e/ZUYGCgGjdurH79+ungwYPav3+/nnvuOT388MPZlosqKHt7ex0/flzHjh3LdnW89PdVXyNGjNC4ceO0detWHTt2TEOHDtWVK1c0ePDgHOccM2aMtm3bpjNnzujgwYP65ptvVL9+fUlSjRo1ZDKZtGnTJl24cMG4Yv6RRx7Rv//9b3377bc6evSoQkJCcoznn6ZMmaJVq1Zp+vTp+umnn3T8+HF98sknmjRpUgHeFQAAUBpMnz5ds2fP1sKFC/Xzzz/r6NGjWrFihebNm1fgua9du6bBgwfr2LFj+vLLLzV16lSNGjVKdnZ2Kl++vF5++WWNHTtWK1eu1OnTp3Xw4EG98847Wrly5S3nrVOnjtavX6+YmBgdPnxYzzzzTLar3mvWrKndu3frf//7n/744w9JUvv27XXhwgXNnTtXp0+f1qJFi7Rly5bbnke/fv10zz33qGfPnvr222915swZ7dy5Uy+88ILFlfwAAAC5yW8eklfDhw/XL7/8onHjxunkyZNas2ZNtucw/1PNmjV15swZxcTE6I8//lB6errRN2TIEK1cuVLHjx+3eP4zANtF4Q+A1bi6uqp169aaP3++HnroITVq1EiTJ0/W0KFD9e6778pkMum///2vKlasqIceekiBgYG69957tXbt2iKJx83N7ZZXgM+ZM0fBwcHq37+/mjdvrlOnTmnbtm2qWLFijuMzMjI0cuRI1a9fX126dNF9992n9957T5JUtWpVTZ8+XRMnTpSXl5exzGhYWJgefvhhPfbYY+rWrZt69eqlWrVq3Tb2oKAgbdq0SV999ZXuv/9+tWnTRvPnzzfuTgQAALZryJAhWrZsmVasWKHGjRvr4YcfVkREhPz8/Ao8d8eOHVWnTh099NBD6tOnj3r06KFp06YZ/TNnztTkyZM1e/ZsI+fZvHnzbY89b948VaxYUQ888IC6d++uoKAgNW/e3GLMjBkzdPbsWdWqVctYjrN+/fp67733tGjRIjVp0kT79+/Xyy+/fNvzKFeunHbv3q3q1aurd+/eql+/vgYPHqy0tDTuAAQAAHckv3lIXlWvXl3/+c9/tHHjRjVp0kRLlizR66+/fst9goOD1aVLF3Xo0EGVK1fWxx9/bPQFBgaqSpUqCgoKko+PT6HHC6DkMZn/uTAxAAAAAOCuN2DAAF26dEkbN260digAAADIp5SUFFWtWlUrVqxQ7969rR0OgGLAM/4AAAAAAAAAALAhmZmZ+uOPP/T222+rQoUK6tGjh7VDAlBMKPwBsEmxsbFq0KBBrv3Hjh1T9erVizEiAAAAAAAAoHjExsbKz89P1apVU0REhMqUoRQA3C1Y6hOATbpx44bOnj2ba3/NmjVJeAAAAAAAAAAANoXCHwAAAAAAAAAAAGAD7KwdAAAAAAAAAAAAAICCo/AHAAAAAAAAAAAA2AAKfwAAAAAAAAAAAIANoPAHAAAAAAAAAAAA2AAKfwAAAAAAAAAAAIANoPAHAAAAAAAAAAAA2AAKfwAAAAAAAAAAAIANoPAHAAAAAAAAAAAA2AAKfwAAAAAAAAAAAIANoPAHAAAAAAAAAAAA2AAKfwAAAAAAACi1du/ere7du8vHx0cmk0kbN2606DeZTDm+3nzzTWNMzZo1s/XPmTOnmM8EAACg4Cj8AQAAAAAAoNRKTU1VkyZNtGjRohz74+LiLF4ffvihTCaTgoODLcbNmDHDYtzo0aOLI3wAAIBCVcbaAVhTZmamzp8/r/Lly8tkMlk7HAAAYEPMZrMuX74sHx8f2dmV7mutyJkAAEBRKYycqWvXruratWuu/d7e3hbb//3vf9WhQwfde++9Fu3ly5fPNjYvyJkAAEBRyUvOdFcX/s6fPy9fX19rhwEAAGzYuXPnVK1aNWuHUSDkTAAAoKgVV86UkJCgzZs3a+XKldn65syZo5kzZ6p69ep65plnNHbsWJUpc+dfnZEzAQCAonYnOdNdXfgrX768pL/fKDc3NytHAwAAbElycrJ8fX2NfKM0I2cCAABFpbhzppUrV6p8+fLq3bu3RfsLL7yg5s2by8PDQ3v37lVYWJji4uI0b968XOdKT09Xenq6sW02myWRMwEAgMKXl5zpri78ZS274ObmRkIGAACKhC0s80TOBAAAilpx5Uwffvih+vXrJycnJ4v20NBQ42d/f385ODjo+eef1+zZs+Xo6JjjXLNnz9b06dOztZMzAQCAonInOVPpfuAMAAAAAAAAcAe+/fZbnTx5UkOGDLnt2NatW+vGjRs6e/ZsrmPCwsKUlJRkvM6dO1eI0QIAAORPgQp/c+bMkclk0pgxY4y29u3by2QyWbyGDx9usV9sbKy6deumcuXKydPTU+PGjdONGzcsxuzcuVPNmzeXo6OjateurYiIiGzHX7RokWrWrCknJye1bt1a+/fvL8jpAAAAlDq7d+9W9+7d5ePjI5PJpI0bNxp9169f14QJE9S4cWO5uLjIx8dHzz33nM6fP2+9gAEAAKxk+fLlatGihZo0aXLbsTExMbKzs5Onp2euYxwdHY27+7jLDwAAlBT5LvxFR0fr/fffl7+/f7a+oUOHKi4uznjNnTvX6MvIyFC3bt107do17d27VytXrlRERISmTJlijDlz5oy6deumDh06KCYmRmPGjNGQIUO0bds2Y8zatWsVGhqqqVOn6uDBg2rSpImCgoKUmJiY31MCAAAodVJTU9WkSRMtWrQoW9+VK1d08OBBTZ48WQcPHtT69et18uRJ9ejRwwqRAgAAFI2UlBTFxMQoJiZG0t/fK8XExCg2NtYYk5ycrHXr1uV4t19UVJTCw8N1+PBh/frrr1q9erXGjh2rZ599VhUrViyu0wAAACgUJnPWk4fzICUlRc2bN9d7772n1157TU2bNlV4eLikv+/4u3n7n7Zs2aLHHntM58+fl5eXlyRpyZIlmjBhgi5cuCAHBwdNmDBBmzdv1o8//mjs17dvX126dElbt26V9PeSC/fff7/effddSVJmZqZ8fX01evRoTZw48Y7OIzk5We7u7kpKSuKqLAAAUKiskWeYTCZt2LBBvXr1ynVMdHS0WrVqpd9++03Vq1e/o3nJmQAAQFEpjDxj586d6tChQ7b2kJAQYwWpDz74QGPGjFFcXJzc3d0txh08eFD/+te/dOLECaWnp8vPz0/9+/dXaGhors/3K6pzAQAAyEle8ox83fE3cuRIdevWTYGBgTn2r169Wvfcc48aNWqksLAwXblyxeiLiopS48aNjaKfJAUFBSk5OVk//fSTMeafcwcFBSkqKkqSdO3aNR04cMBijJ2dnQIDA40xAAAAyC4pKUkmk0kVKlSwdigAAACFon379jKbzdleNz82ZtiwYbpy5Uq2op8kNW/eXPv27dOlS5d09epVHTt2TGFhYXkq+gEAAJQUZfK6wyeffKKDBw8qOjo6x/5nnnlGNWrUkI+Pj44cOaIJEybo5MmTWr9+vSQpPj7eougnydiOj4+/5Zjk5GRdvXpVFy9eVEZGRo5jTpw4kWvs6enpSk9PN7aTk5Pv8KwBlDZXr2Xo9IWUQp0z7XqGfr94VdUqOsuprH2hzVursqucHQpvPgDITVpamiZMmKCnn376lleHkTMBd5fCzpvImQAAgC0iZwJQWuSp8Hfu3Dm9+OKL2r59u5ycnHIcM2zYMOPnxo0bq0qVKurYsaNOnz6tWrVqFSzaApo9e7amT59u1RgAFI/TF1L02Dt7rB3GHdk0up0aVc1+1SkAFKbr16/rqaeektls1uLFi285lpwJuLuUlryJnAkAAFgTOROA0iJPhb8DBw4oMTFRzZs3N9oyMjK0e/duvfvuu0pPT5e9veXVBK1bt5YknTp1SrVq1ZK3t7f2799vMSYhIUGS5O3tbfw3q+3mMW5ubnJ2dpa9vb3s7e1zHJM1R07CwsIUGhpqbCcnJ8vX1/dOTx9AKVKrsqs2jW5XqHOeSkzRmLUxCu/TVLU9XQtt3lqVC28uAMhJVtHvt99+09dff33bteDJmYC7S2HnTeRMAADAFpEzASgt8lT469ixo44ePWrRNnDgQNWrV08TJkzIVvSTpJiYGElSlSpVJEkBAQGaNWuWEhMT5enpKUnavn273Nzc1KBBA2PMl19+aTHP9u3bFRAQIElycHBQixYtFBkZqV69ekmSMjMzFRkZqVGjRuUav6OjI+uzA3cJZwf7Iru6qbanK1dOASg1sop+v/zyi7755htVqlTptvuQMwF3l6LKm8iZAACALSFnAlBa5KnwV758eTVq1MiizcXFRZUqVVKjRo10+vRprVmzRo8++qgqVaqkI0eOaOzYsXrooYfk7+8vSercubMaNGig/v37a+7cuYqPj9ekSZM0cuRI4wum4cOH691339X48eM1aNAgff311/r000+1efNm47ihoaEKCQlRy5Yt1apVK4WHhys1NVUDBw4s6HsCAABQaqSkpOjUqVPG9pkzZxQTEyMPDw9VqVJFTzzxhA4ePKhNmzYpIyPDeKayh4eHHBwcrBU2AAAAAAAAikCeCn+34+DgoB07dhhFOF9fXwUHB2vSpEnGGHt7e23atEkjRoxQQECAXFxcFBISohkzZhhj/Pz8tHnzZo0dO1YLFixQtWrVtGzZMgUFBRlj+vTpowsXLmjKlCmKj49X06ZNtXXrVnl5eRXmKQEAAJRoP/zwgzp06GBsZy3RGRISomnTpunzzz+XJDVt2tRiv2+++Ubt27cvrjABAAAAAABQDApc+Nu5c6fxs6+vr3bt2nXbfWrUqJFtKc9/at++vQ4dOnTLMaNGjbrl0p4AAAC2rn379jKbzbn236oPAAAAAAAAtsXO2gEAAAAAAAAAAAAAKDgKfwAAAAAAAAAAAIANoPAHAAAAAAAAAAAA2AAKfwAAAAAAAAAAAIANoPAHAAAAAAAAAAAA2AAKfwAAAAAAAAAAAIANoPAHAAAAAAAAAAAA2AAKfwAAAAAAAAAAAIANoPAHAAAAAAAAAAAA2AAKfwAAAAAAAAAAAIANoPAHAAAAAAAAAAAA2AAKfwAAAAAAAAAAAIANoPAHAAAAAAAAAAAA2AAKfwAAAAAAAAAAAIANoPAHAAAAAAAAAAAA2AAKfwAAAAAAAAAAAIANoPAHAAAAAAAAAAAA2AAKfwAAAAAAAAAAAIANoPAHAAAAAACAUmv37t3q3r27fHx8ZDKZtHHjRov+AQMGyGQyWby6dOliMeavv/5Sv3795ObmpgoVKmjw4MFKSUkpxrMAAAAoHBT+AAAAAAAAUGqlpqaqSZMmWrRoUa5junTpori4OOP18ccfW/T369dPP/30k7Zv365NmzZp9+7dGjZsWFGHDgAAUOgKVPibM2eOTCaTxowZY7SlpaVp5MiRqlSpklxdXRUcHKyEhASL/WJjY9WtWzeVK1dOnp6eGjdunG7cuGExZufOnWrevLkcHR1Vu3ZtRUREZDv+okWLVLNmTTk5Oal169bav39/QU4HAAAAAAAApUzXrl312muv6fHHH891jKOjo7y9vY1XxYoVjb7jx49r69atWrZsmVq3bq127drpnXfe0SeffKLz588XxykAAAAUmnwX/qKjo/X+++/L39/fon3s2LH64osvtG7dOu3atUvnz59X7969jf6MjAx169ZN165d0969e7Vy5UpFRERoypQpxpgzZ86oW7du6tChg2JiYjRmzBgNGTJE27ZtM8asXbtWoaGhmjp1qg4ePKgmTZooKChIiYmJ+T0lAAAAAAAA2KCdO3fK09NTdevW1YgRI/Tnn38afVFRUapQoYJatmxptAUGBsrOzk7ff/99rnOmp6crOTnZ4gUAAGBt+Sr8paSkqF+/flq6dKnFFVJJSUlavny55s2bp0ceeUQtWrTQihUrtHfvXu3bt0+S9NVXX+nYsWP66KOP1LRpU3Xt2lUzZ87UokWLdO3aNUnSkiVL5Ofnp7ffflv169fXqFGj9MQTT2j+/PnGsebNm6ehQ4dq4MCBatCggZYsWaJy5crpww8/LMj7AQAAAAAAABvSpUsXrVq1SpGRkXrjjTe0a9cude3aVRkZGZKk+Ph4eXp6WuxTpkwZeXh4KD4+Ptd5Z8+eLXd3d+Pl6+tbpOcBAABwJ/JV+Bs5cqS6deumwMBAi/YDBw7o+vXrFu316tVT9erVFRUVJenvq6gaN24sLy8vY0xQUJCSk5P1008/GWP+OXdQUJAxx7Vr13TgwAGLMXZ2dgoMDDTGAAAAAAAAAH379lWPHj3UuHFj9erVS5s2bVJ0dLR27txZoHnDwsKUlJRkvM6dO1c4AQMAABRAmbzu8Mknn+jgwYOKjo7O1hcfHy8HBwdVqFDBot3Ly8u4Qio+Pt6i6JfVn9V3qzHJycm6evWqLl68qIyMjBzHnDhxItfY09PTlZ6ebmyzBAMAAAAAAMDd5d5779U999yjU6dOqWPHjvL29s726JgbN27or7/+kre3d67zODo6ytHRsajDBQAAyJM83fF37tw5vfjii1q9erWcnJyKKqYiwxIMAAAAAAAAd7fff/9df/75p6pUqSJJCggI0KVLl3TgwAFjzNdff63MzEy1bt3aWmECAADkS54KfwcOHFBiYqKaN2+uMmXKqEyZMtq1a5cWLlyoMmXKyMvLS9euXdOlS5cs9ktISDCukPL29lZCQkK2/qy+W41xc3OTs7Oz7rnnHtnb2+c45lZXYrEEAwAAAAAAgG1JSUlRTEyMYmJiJElnzpxRTEyMYmNjlZKSonHjxmnfvn06e/asIiMj1bNnT9WuXVtBQUGSpPr166tLly4aOnSo9u/fr++++06jRo1S37595ePjY8UzAwAAyLs8Ff46duyoo0ePGslUTEyMWrZsqX79+hk/ly1bVpGRkcY+J0+eVGxsrAICAiT9fRXV0aNHLZZQ2L59u9zc3NSgQQNjzM1zZI3JmsPBwUEtWrSwGJOZmanIyEhjTE4cHR3l5uZm8QIAAAAAAEDp9cMPP6hZs2Zq1qyZJCk0NFTNmjXTlClTZG9vryNHjqhHjx667777NHjwYLVo0ULffvutxTKdq1evVr169dSxY0c9+uijateunT744ANrnRIAAEC+5ekZf+XLl1ejRo0s2lxcXFSpUiWjffDgwQoNDZWHh4fc3Nw0evRoBQQEqE2bNpKkzp07q0GDBurfv7/mzp2r+Ph4TZo0SSNHjjQSruHDh+vdd9/V+PHjNWjQIH399df69NNPtXnzZuO4oaGhCgkJUcuWLdWqVSuFh4crNTVVAwcOLNAbAgAAAAAAgNKjffv2MpvNufZv27bttnN4eHhozZo1hRkWAACAVeSp8Hcn5s+fLzs7OwUHBys9PV1BQUF67733jH57e3tt2rRJI0aMUEBAgFxcXBQSEqIZM2YYY/z8/LR582aNHTtWCxYsULVq1bRs2TJjCQZJ6tOnjy5cuKApU6YoPj5eTZs21datW+Xl5VXYpwQAAAAAAAAAAACUeAUu/O3cudNi28nJSYsWLdKiRYty3adGjRr68ssvbzlv+/btdejQoVuOGTVqlEaNGnXHsQIAANia3bt3680339SBAwcUFxenDRs2qFevXka/2WzW1KlTtXTpUl26dElt27bV4sWLVadOHesFDQAAAAAAgCKRp2f8AQAAoGRJTU1VkyZNcr3oau7cuVq4cKGWLFmi77//Xi4uLgoKClJaWloxRwoAAAAAAICiVuhLfQIAAKD4dO3aVV27ds2xz2w2Kzw8XJMmTVLPnj0lSatWrZKXl5c2btyovn37FmeoAAAAAAAAKGLc8QcAAGCjzpw5o/j4eAUGBhpt7u7uat26taKioqwYGQAAAAAAAIoCd/wBAADYqPj4eEmSl5eXRbuXl5fRl5P09HSlp6cb28nJyUUTIAAAAAAAAAoVd/wBAADAwuzZs+Xu7m68fH19rR0SAAAAAAAA7gCFPwAAABvl7e0tSUpISLBoT0hIMPpyEhYWpqSkJON17ty5Io0TAAAAAAAAhYPCHwAAgI3y8/OTt7e3IiMjjbbk5GR9//33CggIyHU/R0dHubm5WbwAAAAAAABQ8vGMPwAlxpk/UpWafsPaYeTqVGKKxX9LIhfHMvK7x8XaYQAoRikpKTp16pSxfebMGcXExMjDw0PVq1fXmDFj9Nprr6lOnTry8/PT5MmT5ePjo169elkvaAAFVpLzJnImAAAAALAeCn8ASoQzf6Sqw1s7rR3GHRmzNsbaIdzSNy+354ss4C7yww8/qEOHDsZ2aGioJCkkJEQREREaP368UlNTNWzYMF26dEnt2rXT1q1b5eTkZK2QARRQacmbyJkAAAAAoPhR+ANQImRdsR7ep6lqe7paOZqcpV3P0O8Xr6paRWc5lbW3djjZnEpM0Zi1MSX26n8ARaN9+/Yym8259ptMJs2YMUMzZswoxqgAFKWSnjeRMwEAgJKCVRIKhlUSgNKJwh+AEqW2p6saVXW3dhi5alnT2hEAAAD8rSTnTeRMAADA2lgloXCwSgJQ+lD4AwAAAAAAAADYFFZJKBhWSQBKLwp/AAAAAAAAAACbxCoJAO42dtYOAAAAAAAAAAAAAEDBUfgDAAAAAAAAAAAAbACFPwAAAAAAAAAAAMAGUPgDAAAAAAAAAAAAbACFPwAAAAAAAAAAAMAGUPgDAAAAAAAAAAAAbACFPwAAAAAAAAAAAMAG5Knwt3jxYvn7+8vNzU1ubm4KCAjQli1bjP727dvLZDJZvIYPH24xR2xsrLp166Zy5crJ09NT48aN040bNyzG7Ny5U82bN5ejo6Nq166tiIiIbLEsWrRINWvWlJOTk1q3bq39+/fn5VQAAAAAAAAAAAAAm5Knwl+1atU0Z84cHThwQD/88IMeeeQR9ezZUz/99JMxZujQoYqLizNec+fONfoyMjLUrVs3Xbt2TXv37tXKlSsVERGhKVOmGGPOnDmjbt26qUOHDoqJidGYMWM0ZMgQbdu2zRizdu1ahYaGaurUqTp48KCaNGmioKAgJSYmFuS9AAAAAAAAAAAAAEqtPBX+unfvrkcffVR16tTRfffdp1mzZsnV1VX79u0zxpQrV07e3t7Gy83Nzej76quvdOzYMX300Udq2rSpunbtqpkzZ2rRokW6du2aJGnJkiXy8/PT22+/rfr162vUqFF64oknNH/+fGOeefPmaejQoRo4cKAaNGigJUuWqFy5cvrwww8L+n4AAAAAAACgFNm9e7e6d+8uHx8fmUwmbdy40ei7fv26JkyYoMaNG8vFxUU+Pj567rnndP78eYs5atasmW0Vqzlz5hTzmQAAABRcvp/xl5GRoU8++USpqakKCAgw2levXq177rlHjRo1UlhYmK5cuWL0RUVFqXHjxvLy8jLagoKClJycbNw1GBUVpcDAQItjBQUFKSoqSpJ07do1HThwwGKMnZ2dAgMDjTG5SU9PV3JyssULAAAAAAAApVdqaqqaNGmiRYsWZeu7cuWKDh48qMmTJ+vgwYNav369Tp48qR49emQbO2PGDItVrEaPHl0c4QMAABSqMnnd4ejRowoICFBaWppcXV21YcMGNWjQQJL0zDPPqEaNGvLx8dGRI0c0YcIEnTx5UuvXr5ckxcfHWxT9JBnb8fHxtxyTnJysq1ev6uLFi8rIyMhxzIkTJ24Z++zZszV9+vS8njIAAAAAAABKqK5du6pr16459rm7u2v79u0Wbe+++65atWql2NhYVa9e3WgvX768vL29izRWAACAopbnO/7q1q2rmJgYff/99xoxYoRCQkJ07NgxSdKwYcMUFBSkxo0bq1+/flq1apU2bNig06dPF3rg+REWFqakpCTjde7cOWuHBAAAAAAAgGKUlJQkk8mkChUqWLTPmTNHlSpVUrNmzfTmm2/qxo0b1gkQAACgAPJ8x5+Dg4Nq164tSWrRooWio6O1YMECvf/++9nGtm7dWpJ06tQp1apVS97e3tq/f7/FmISEBEkyrqjy9vY22m4e4+bmJmdnZ9nb28ve3j7HMbe7KsvR0VGOjo55OFsAAAAAAADYirS0NE2YMEFPP/203NzcjPYXXnhBzZs3l4eHh/bu3auwsDDFxcVp3rx5uc6Vnp6u9PR0Y5tHygAAgJIg38/4y5KZmWmR5NwsJiZGklSlShVJUkBAgI4eParExERjzPbt2+Xm5mYsFxoQEKDIyEiLebZv3248R9DBwUEtWrSwGJOZmanIyEiLZw0CAAAAAAAAWa5fv66nnnpKZrNZixcvtugLDQ1V+/bt5e/vr+HDh+vtt9/WO++8k+t3XtLfj5Rxd3c3Xr6+vkV9CgAAALeVp8JfWFiYdu/erbNnz+ro0aMKCwvTzp071a9fP50+fVozZ87UgQMHdPbsWX3++ed67rnn9NBDD8nf31+S1LlzZzVo0ED9+/fX4cOHtW3bNk2aNEkjR4407sQbPny4fv31V40fP14nTpzQe++9p08//VRjx4414ggNDdXSpUu1cuVKHT9+XCNGjFBqaqoGDhxYiG8NAAAAAAAAbEFW0e+3334zLkK/ldatW+vGjRs6e/ZsrmN4pAwAACiJ8rTUZ2Jiop577jnFxcXJ3d1d/v7+2rZtmzp16qRz585px44dCg8PV2pqqnx9fRUcHKxJkyYZ+9vb22vTpk0aMWKEAgIC5OLiopCQEM2YMcMY4+fnp82bN2vs2LFasGCBqlWrpmXLlikoKMgY06dPH124cEFTpkxRfHy8mjZtqq1bt8rLy6sQ3hIAAAAAAADYiqyi3y+//KJvvvlGlSpVuu0+MTExsrOzk6enZ65jeKQMAAAoifJU+Fu+fHmufb6+vtq1a9dt56hRo4a+/PLLW45p3769Dh06dMsxo0aN0qhRo257PAAAAAAAANiulJQUnTp1ytg+c+aMYmJi5OHhoSpVquiJJ57QwYMHtWnTJmVkZCg+Pl6S5OHhIQcHB0VFRen7779Xhw4dVL58eUVFRWns2LF69tlnVbFiRWudFgAAQL7kqfAHAAAAAAAAlCQ//PCDOnToYGyHhoZKkkJCQjRt2jR9/vnnkqSmTZta7PfNN9+offv2cnR01CeffKJp06YpPT1dfn5+Gjt2rDEPAABAaULhDwAAAAAAAKVW+/btZTabc+2/VZ8kNW/eXPv27SvssAAAAKzCztoBAAAAAAAAAAAAACg4Cn8AAAAAAAAAAACADaDwBwAAAAAAAAAAANgACn8AAAAAAAAAAACADaDwBwAAAAAAAAAAANgACn8AAAAAAAAAAACADaDwBwAAAAAAAAAAANgACn8AAAA2LCMjQ5MnT5afn5+cnZ1Vq1YtzZw5U2az2dqhAQAAAAAAoJCVsXYAAAAAKDpvvPGGFi9erJUrV6phw4b64YcfNHDgQLm7u+uFF16wdngAAAAAAAAoRBT+AAAAbNjevXvVs2dPdevWTZJUs2ZNffzxx9q/f7+VIwMAAAAAAEBhY6lPAAAAG/bAAw8oMjJSP//8syTp8OHD2rNnj7p27WrlyAAAAAAAAFDYuOMPAADAhk2cOFHJycmqV6+e7O3tlZGRoVmzZqlfv3657pOenq709HRjOzk5uThCBQAAAAAAQAFxxx8AAIAN+/TTT7V69WqtWbNGBw8e1MqVK/XWW29p5cqVue4ze/Zsubu7Gy9fX99ijBgAAAAAAAD5ReEPAADAho0bN04TJ05U37591bhxY/Xv319jx47V7Nmzc90nLCxMSUlJxuvcuXPFGDEAAAAAAADyi6U+AQAAbNiVK1dkZ2d5rZe9vb0yMzNz3cfR0VGOjo5FHRoAAAAAAAAKGYU/AAAAG9a9e3fNmjVL1atXV8OGDXXo0CHNmzdPgwYNsnZoAAAAAAAAKGQU/gAAAGzYO++8o8mTJ+tf//qXEhMT5ePjo+eff15TpkyxdmgAAAAAAAAoZBT+AAAAbFj58uUVHh6u8PBwa4cCAAAAAACAImZ3+yH/Z/HixfL395ebm5vc3NwUEBCgLVu2GP1paWkaOXKkKlWqJFdXVwUHByshIcFijtjYWHXr1k3lypWTp6enxo0bpxs3bliM2blzp5o3by5HR0fVrl1bERER2WJZtGiRatasKScnJ7Vu3Vr79+/Py6kAAAAAAAAAAAAANiVPhb9q1appzpw5OnDggH744Qc98sgj6tmzp3766SdJ0tixY/XFF19o3bp12rVrl86fP6/evXsb+2dkZKhbt266du2a9u7dq5UrVyoiIsJiqakzZ86oW7du6tChg2JiYjRmzBgNGTJE27ZtM8asXbtWoaGhmjp1qg4ePKgmTZooKChIiYmJBX0/AAAAAAAAAAAAgFIpT0t9du/e3WJ71qxZWrx4sfbt26dq1app+fLlWrNmjR555BFJ0ooVK1S/fn3t27dPbdq00VdffaVjx45px44d8vLyUtOmTTVz5kxNmDBB06ZNk4ODg5YsWSI/Pz+9/fbbkqT69etrz549mj9/voKCgiRJ8+bN09ChQzVw4EBJ0pIlS7R582Z9+OGHmjhxYoHfFADWYSqTrDPJJ2Xn5GrtUEqlM8kpMpVJtnYYAAAAAAAAAAAryfcz/jIyMrRu3TqlpqYqICBABw4c0PXr1xUYGGiMqVevnqpXr66oqCi1adNGUVFRaty4sby8vIwxQUFBGjFihH766Sc1a9ZMUVFRFnNkjRkzZowk6dq1azpw4IDCwsKMfjs7OwUGBioqKuqWMaenpys9Pd3YTk7mC3KgJClb4Xu9sv91a4dRqpWt0FHSo9YOAwAAAAAAwOq4yDz/uMAcKL3yXPg7evSoAgIClJaWJldXV23YsEENGjRQTEyMHBwcVKFCBYvxXl5eio+PlyTFx8dbFP2y+rP6bjUmOTlZV69e1cWLF5WRkZHjmBMnTtwy9tmzZ2v69Ol5PWUAxeT6pdZ6u9szquVJMpYfpxNT9MLq09YOAwAAAAAAoETgIvOC4QJzoHTKc+Gvbt26iomJUVJSkj777DOFhIRo165dRRFboQsLC1NoaKixnZycLF9fXytGBOBm5htu8nOrqwaV3K0dSqmUmZYk840L1g4DAAAUA65ezz+uXgcA4O7BReb5xwXmQOmV58Kfg4ODateuLUlq0aKFoqOjtWDBAvXp00fXrl3TpUuXLO76S0hIkLe3tyTJ29tb+/fvt5gvISHB6Mv6b1bbzWPc3Nzk7Owse3t72dvb5zgma47cODo6ytHRMa+nDAAAAAAlClevFwxXrwMAcHfgIvP84wJzoPTK9zP+smRmZio9PV0tWrRQ2bJlFRkZqeDgYEnSyZMnFRsbq4CAAElSQECAZs2apcTERHl6ekqStm/fLjc3NzVo0MAY8+WXX1ocY/v27cYcDg4OatGihSIjI9WrVy8jhsjISI0aNaqgpwMAAAAAJR5Xr+cfV68Dtmf37t168803deDAAcXFxWnDhg3Gd0aSZDabNXXqVC1dulSXLl1S27ZttXjxYtWpU8cY89dff2n06NH64osvZGdnp+DgYC1YsECurvx/FgAAlC55KvyFhYWpa9euql69ui5fvqw1a9Zo586d2rZtm9zd3TV48GCFhobKw8NDbm5uGj16tAICAtSmTRtJUufOndWgQQP1799fc+fOVXx8vCZNmqSRI0cad+INHz5c7777rsaPH69Bgwbp66+/1qeffqrNmzcbcYSGhiokJEQtW7ZUq1atFB4ertTUVA0cOLAQ3xoAAAAAKJm4ej3/uHodsD2pqalq0qSJBg0apN69e2frnzt3rhYuXKiVK1fKz89PkydPVlBQkI4dOyYnJydJUr9+/RQXF6ft27fr+vXrGjhwoIYNG6Y1a9YU9+kAAAAUSJ4Kf4mJiXruuecUFxcnd3d3+fv7a9u2berUqZMkaf78+cZVUenp6QoKCtJ7771n7G9vb69NmzZpxIgRCggIkIuLi0JCQjRjxgxjjJ+fnzZv3qyxY8dqwYIFqlatmpYtW6agoCBjTJ8+fXThwgVNmTJF8fHxatq0qbZu3SovL6+Cvh8AAAAAAAAoRbp27aquXbvm2Gc2mxUeHq5JkyapZ8+ekqRVq1bJy8tLGzduVN++fXX8+HFt3bpV0dHRatmypSTpnXfe0aOPPqq33npLPj4+xXYuAAAABZWnwt/y5ctv2e/k5KRFixZp0aJFuY6pUaNGtqU8/6l9+/Y6dOjQLceMGjWKpT0BAAAAAACQqzNnzig+Pl6BgYFGm7u7u1q3bq2oqCj17dtXUVFRqlChglH0k6TAwEDZ2dnp+++/1+OPP57j3Onp6UpPTze2k5OTi+5EAAAA7pCdtQMAAAAAAAAAikJ8fLwkZVslysvLy+iLj4+Xp6enRX+ZMmXk4eFhjMnJ7Nmz5e7ubrx8fX0LOXoAAIC8o/AHAAAAAAAA5FFYWJiSkpKM17lz56wdEgAAAIU/AAAAAAAA2CZvb29JUkJCgkV7QkKC0eft7a3ExESL/hs3buivv/4yxuTE8f+xd+dhVdb5/8dfB5FFNpdkU0Ry3/cUdRSTxCVHzdEyG5dcJgdKtNJozLUiK1PLcivFSsZycpnR1BBFS9EUxdSM0jGhAqxUEFNEuH9/9PN8OyMoKIcDx+fjuu4r78/9/nzO+z5ddb0973txdpanp6fFBgAAYGs0/gAAAAAAAGCXgoKC5Ovrq/j4ePNYdna29u/fr+DgYElScHCwLly4oKSkJHPMjh07VFBQoI4dO5Z5zgAAAHfC0dYJAAAAAAAAALcrJydHJ0+eNO+fPn1aycnJql69uurUqaPIyEi9+OKLatCggYKCgvTCCy/I399fAwcOlCQ1adJEvXv31rhx47RkyRLl5eUpIiJCjzzyiPz9/W10VgAAALeHxh8AAAAAAAAqrIMHD6pHjx7m/cmTJ0uSRo4cqZiYGE2ZMkWXLl3S+PHjdeHCBXXt2lVbt26Vi4uLec7q1asVERGhnj17ysHBQYMHD9abb75Z5ucCAABwp2j8AQAAAAAAoMIKCQmRYRhFHjeZTJo9e7Zmz55dZEz16tUVGxtrjfQAAADKFO/4AwAAAAAAAAAAAOwAjT8AAAAAAAAAAADADtD4AwAAAAAAAAAAAOwAjT8AAAAAAAAAAADADtD4AwAAAAAAAAAAAOwAjT8AAAAAAAAAAADADtD4AwAAAAAAAAAAAOwAjT8AAAAAAAAAAADADtD4AwAAAAAAAAAAAOwAjT8AAAAAAAAAAADADtD4AwAAAAAAAAAAAOwAjT8AAAAAAAAAAADADpSo8RcdHa0OHTrIw8ND3t7eGjhwoFJSUixiQkJCZDKZLLYnnnjCIiY1NVX9+vVTlSpV5O3trWeffVbXrl2ziElISFDbtm3l7Oys+vXrKyYm5oZ83n77bdWtW1cuLi7q2LGjvvzyy5KcDgAAwF3hxx9/1GOPPaYaNWrI1dVVLVq00MGDB22dFgAAAAAAAEpZiRp/u3btUnh4uPbt26e4uDjl5eWpV69eunTpkkXcuHHjlJ6ebt5effVV87H8/Hz169dPV69e1d69e7Vq1SrFxMRo+vTp5pjTp0+rX79+6tGjh5KTkxUZGamxY8dq27Zt5piPPvpIkydP1owZM3To0CG1atVKYWFhOnv27O1+FwAAAHbn/Pnz6tKliypXrqwtW7bo66+/1rx581StWjVbpwYAAAAAAIBS5liS4K1bt1rsx8TEyNvbW0lJSerWrZt5vEqVKvL19S10jc8++0xff/21tm/fLh8fH7Vu3Vpz5szR1KlTNXPmTDk5OWnJkiUKCgrSvHnzJElNmjTRF198ofnz5yssLEyS9MYbb2jcuHEaPXq0JGnJkiXavHmzVqxYoeeee64kpwUAAGC35s6dq4CAAK1cudI8FhQUZMOMAAAAAAAAYC139I6/rKwsSVL16tUtxlevXq177rlHzZs3V1RUlH777TfzscTERLVo0UI+Pj7msbCwMGVnZ+v48ePmmNDQUIs1w8LClJiYKEm6evWqkpKSLGIcHBwUGhpqjgEAAID073//W+3bt9eQIUPk7e2tNm3aaPny5bZOCwAAAAAAAFZQojv+/qigoECRkZHq0qWLmjdvbh5/9NFHFRgYKH9/f3311VeaOnWqUlJStG7dOklSRkaGRdNPknk/IyPjpjHZ2dm6fPmyzp8/r/z8/EJjvvnmmyJzzs3NVW5urnk/Ozv7Ns4cAACg4vjvf/+rxYsXa/LkyXr++ed14MABPfXUU3JyctLIkSMLnUPNBAAAAAAAUDHdduMvPDxcx44d0xdffGExPn78ePOfW7RoIT8/P/Xs2VOnTp1SvXr1bj/TUhAdHa1Zs2bZNAcAAICyVFBQoPbt2+vll1+WJLVp00bHjh3TkiVLimz8UTMBAAAAAABUTLf1qM+IiAht2rRJO3fuVO3atW8a27FjR0nSyZMnJUm+vr7KzMy0iLm+f/29gEXFeHp6ytXVVffcc48qVapUaExR7xaUpKioKGVlZZm3tLS0YpwtAABAxeXn56emTZtajDVp0kSpqalFzqFmAgAAAAAAqJhK1PgzDEMRERFav369duzYoaCgoFvOSU5OlvT7j06SFBwcrKNHj+rs2bPmmLi4OHl6epp/lAoODlZ8fLzFOnFxcQoODpYkOTk5qV27dhYxBQUFio+PN8cUxtnZWZ6enhYbAACAPevSpYtSUlIsxr799lsFBgYWOYeaCQAAAAAAoGIqUeMvPDxcH374oWJjY+Xh4aGMjAxlZGTo8uXLkqRTp05pzpw5SkpK0vfff69///vfGjFihLp166aWLVtKknr16qWmTZvqr3/9q44cOaJt27Zp2rRpCg8Pl7OzsyTpiSee0H//+19NmTJF33zzjd555x19/PHHmjRpkjmXyZMna/ny5Vq1apVOnDihCRMm6NKlSxo9enRpfTcAAAAV3qRJk7Rv3z69/PLLOnnypGJjY7Vs2TKFh4fbOjUAAAAAAACUshK942/x4sWSpJCQEIvxlStXatSoUXJyctL27du1YMECXbp0SQEBARo8eLCmTZtmjq1UqZI2bdqkCRMmKDg4WG5ubho5cqRmz55tjgkKCtLmzZs1adIkLVy4ULVr19a7776rsLAwc8zDDz+sn3/+WdOnT1dGRoZat26trVu3ysfH53a+BwAAALvUoUMHrV+/XlFRUZo9e7aCgoK0YMECDR8+3NapAQAAAAAAoJSVqPFnGMZNjwcEBGjXrl23XCcwMFCffvrpTWNCQkJ0+PDhm8ZEREQoIiLilp8HAABwN3vwwQf14IMP2joNAAAAAAAAWFmJHvUJAAAAAAAAAAAAoHyi8QcAAAAAAAC7VrduXZlMphu26+89DgkJueHYE088YeOsAQAASq5Ej/oEAAAAAAAAKpoDBw4oPz/fvH/s2DE98MADGjJkiHls3Lhxmj17tnm/SpUqZZojAABAaaDxBwAAAAAAALtWs2ZNi/1XXnlF9erVU/fu3c1jVapUka+vb1mnBgAAUKp41CcAAAAAAADuGlevXtWHH36oxx9/XCaTyTy+evVq3XPPPWrevLmioqL022+/2TBLAACA28MdfwAAAAAAALhrbNiwQRcuXNCoUaPMY48++qgCAwPl7++vr776SlOnTlVKSorWrVtX5Dq5ubnKzc0172dnZ1szbQAAgGKh8QcAAAAAAIC7xnvvvac+ffrI39/fPDZ+/Hjzn1u0aCE/Pz/17NlTp06dUr169QpdJzo6WrNmzbJ6vgAAACXBoz4BAAAAAABwVzhz5oy2b9+usWPH3jSuY8eOkqSTJ08WGRMVFaWsrCzzlpaWVqq5AgAA3A7u+AMAAAAAAMBdYeXKlfL29la/fv1uGpecnCxJ8vPzKzLG2dlZzs7OpZkeAADAHaPxB6BcuJyXL0k69mOWjTMp2pW8fP1w/rJqV3OVS+VKtk7nBifP5tg6BQAAUAbKe91EzQSgvCooKNDKlSs1cuRIOTr+309ip06dUmxsrPr27asaNWroq6++0qRJk9StWze1bNnShhkDuBPUTHeGmgmouGj8ASgXTv3/YuK5dUdtnEnF5+bM/9oBALBn1E2lg5oJuPts375dqampevzxxy3GnZyctH37di1YsECXLl1SQECABg8erGnTptkoUwClgZqpdFAzARUP/9UCKBd6NfOVJNXzdpdrObzKSfr9SqfIj5K14OHWqu/tbut0CuXm7Kige9xsnQYAALCi8l43UTMBKK969eolwzBuGA8ICNCuXbtskBEAa6JmunPUTEDFROMPQLlQ3c1Jj9xXx9ZpFEt9b3c1r+Vl6zQAAMBdqqLUTdRMAADAlqiZANytHGydAAAAAAAAAAAAAIA7R+MPAAAAAAAAAAAAsAM0/gAAAAAAAAAAAAA7QOMPAAAAAAAAAAAAsAM0/gAAAAAAAAAAAAA7QOMPAAAAAAAAAAAAsAM0/gAAAAAAAAAAAAA7UKLGX3R0tDp06CAPDw95e3tr4MCBSklJsYi5cuWKwsPDVaNGDbm7u2vw4MHKzMy0iElNTVW/fv1UpUoVeXt769lnn9W1a9csYhISEtS2bVs5Ozurfv36iomJuSGft99+W3Xr1pWLi4s6duyoL7/8siSnAwAAAAAAAAAAANiNEjX+du3apfDwcO3bt09xcXHKy8tTr169dOnSJXPMpEmT9J///Edr167Vrl279NNPP+mhhx4yH8/Pz1e/fv109epV7d27V6tWrVJMTIymT59ujjl9+rT69eunHj16KDk5WZGRkRo7dqy2bdtmjvnoo480efJkzZgxQ4cOHVKrVq0UFhams2fP3sn3AQAAAAAAAAAAAFRIjiUJ3rp1q8V+TEyMvL29lZSUpG7duikrK0vvvfeeYmNjdf/990uSVq5cqSZNmmjfvn3q1KmTPvvsM3399dfavn27fHx81Lp1a82ZM0dTp07VzJkz5eTkpCVLligoKEjz5s2TJDVp0kRffPGF5s+fr7CwMEnSG2+8oXHjxmn06NGSpCVLlmjz5s1asWKFnnvuuTv+YgAAAAAAAAAAAICK5I7e8ZeVlSVJql69uiQpKSlJeXl5Cg0NNcc0btxYderUUWJioiQpMTFRLVq0kI+PjzkmLCxM2dnZOn78uDnmj2tcj7m+xtWrV5WUlGQR4+DgoNDQUHMMAAAAAAAAAAAAcDcp0R1/f1RQUKDIyEh16dJFzZs3lyRlZGTIyclJVatWtYj18fFRRkaGOeaPTb/rx68fu1lMdna2Ll++rPPnzys/P7/QmG+++abInHNzc5Wbm2vez87OLsEZAwAAAAAAAAAAAOXXbd/xFx4ermPHjmnNmjWlmY9VRUdHy8vLy7wFBATYOiUAAAAAAAAAAACgVNxW4y8iIkKbNm3Szp07Vbt2bfO4r6+vrl69qgsXLljEZ2ZmytfX1xyTmZl5w/Hrx24W4+npKVdXV91zzz2qVKlSoTHX1yhMVFSUsrKyzFtaWlrJThwAAAAAAAAAAAAop0rU+DMMQxEREVq/fr127NihoKAgi+Pt2rVT5cqVFR8fbx5LSUlRamqqgoODJUnBwcE6evSozp49a46Ji4uTp6enmjZtao754xrXY66v4eTkpHbt2lnEFBQUKD4+3hxTGGdnZ3l6elpsAAAAAAAAAAAAgD0o0Tv+wsPDFRsbq40bN8rDw8P8Tj4vLy+5urrKy8tLY8aM0eTJk1W9enV5enrqySefVHBwsDp16iRJ6tWrl5o2baq//vWvevXVV5WRkaFp06YpPDxczs7OkqQnnnhCixYt0pQpU/T4449rx44d+vjjj7V582ZzLpMnT9bIkSPVvn173XfffVqwYIEuXbqk0aNHl9Z3AwAAAAAAAAAAAFQYJWr8LV68WJIUEhJiMb5y5UqNGjVKkjR//nw5ODho8ODBys3NVVhYmN555x1zbKVKlbRp0yZNmDBBwcHBcnNz08iRIzV79mxzTFBQkDZv3qxJkyZp4cKFql27tt59912FhYWZYx5++GH9/PPPmj59ujIyMtS6dWtt3bpVPj4+Jf0OAAAAAAAAAAAAgAqvRI0/wzBuGePi4qK3335bb7/9dpExgYGB+vTTT2+6TkhIiA4fPnzTmIiICEVERNwyJwAAAPzulVdeUVRUlCZOnKgFCxbYOh0AAAAAAACUohK94w8AAAAV14EDB7R06VK1bNnS1qkAAAAAAADACmj8AQAA3AVycnI0fPhwLV++XNWqVbN1OgAAAAAAALACGn8AAAB3gfDwcPXr10+hoaG2TgUAAAAAAABWUqJ3/AEAAKDiWbNmjQ4dOqQDBw4UKz43N1e5ubnm/ezsbGulBgAAAAAAgFLEHX8AAAB2LC0tTRMnTtTq1avl4uJSrDnR0dHy8vIybwEBAVbOEgAAAAAAAKWBxh8AAIAdS0pK0tmzZ9W2bVs5OjrK0dFRu3bt0ptvvilHR0fl5+ffMCcqKkpZWVnmLS0tzQaZAwAAAAAAoKRo/AEAANixnj176ujRo0pOTjZv7du31/Dhw5WcnKxKlSrdMMfZ2Vmenp4WGwAAQEU2c+ZMmUwmi61x48bm41euXFF4eLhq1Kghd3d3DR48WJmZmTbMGAAA4Pbwjj8AAAA75uHhoebNm1uMubm5qUaNGjeMAwAA2LNmzZpp+/bt5n1Hx//7WWzSpEnavHmz1q5dKy8vL0VEROihhx7Snj17bJEqAADAbaPxBwAAAAAAALvn6OgoX1/fG8azsrL03nvvKTY2Vvfff78kaeXKlWrSpIn27dunTp06lXWqAAAAt43GHwAAwF0mISHB1ikAAACUue+++07+/v5ycXFRcHCwoqOjVadOHSUlJSkvL0+hoaHm2MaNG6tOnTpKTEwssvGXm5ur3Nxc8352drbVzwEAAOBWeMcfAAAAAAAA7FrHjh0VExOjrVu3avHixTp9+rT+9Kc/6eLFi8rIyJCTk5OqVq1qMcfHx0cZGRlFrhkdHS0vLy/zFhAQYOWzAAAAuDXu+AMAAAAAAIBd69Onj/nPLVu2VMeOHRUYGKiPP/5Yrq6ut7VmVFSUJk+ebN7Pzs6m+QcAAGyOO/4AAAAAAABwV6lataoaNmyokydPytfXV1evXtWFCxcsYjIzMwt9J+B1zs7O8vT0tNgAAABsjcYfAAAAAAAA7io5OTk6deqU/Pz81K5dO1WuXFnx8fHm4ykpKUpNTVVwcLANswQAACg5HvUJAAAAAAAAu/bMM8+of//+CgwM1E8//aQZM2aoUqVKGjZsmLy8vDRmzBhNnjxZ1atXl6enp5588kkFBwerU6dOtk4dAACgRGj8AQAAAAAAwK798MMPGjZsmH799VfVrFlTXbt21b59+1SzZk1J0vz58+Xg4KDBgwcrNzdXYWFheuedd2ycNQAAQMnR+AMAAAAAAIBdW7NmzU2Pu7i46O2339bbb79dRhkBAABYB+/4AwAAAAAAAAAAAOwAjT8AAAAAAAAAAADADtD4AwAAAAAAAAAAAOxAiRt/u3fvVv/+/eXv7y+TyaQNGzZYHB81apRMJpPF1rt3b4uYc+fOafjw4fL09FTVqlU1ZswY5eTkWMR89dVX+tOf/iQXFxcFBATo1VdfvSGXtWvXqnHjxnJxcVGLFi306aeflvR0AAAAAAAAAAAAALtQ4sbfpUuX1KpVq5u+7Lh3795KT083b//85z8tjg8fPlzHjx9XXFycNm3apN27d2v8+PHm49nZ2erVq5cCAwOVlJSk1157TTNnztSyZcvMMXv37tWwYcM0ZswYHT58WAMHDtTAgQN17Nixkp4SAAAAAAAAAAAAUOE5lnRCnz591KdPn5vGODs7y9fXt9BjJ06c0NatW3XgwAG1b99ekvTWW2+pb9++ev311+Xv76/Vq1fr6tWrWrFihZycnNSsWTMlJyfrjTfeMDcIFy5cqN69e+vZZ5+VJM2ZM0dxcXFatGiRlixZUtLTAgAAAAAAAAAAACq0Ejf+iiMhIUHe3t6qVq2a7r//fr344ouqUaOGJCkxMVFVq1Y1N/0kKTQ0VA4ODtq/f78GDRqkxMREdevWTU5OTuaYsLAwzZ07V+fPn1e1atWUmJioyZMnW3xuWFjYDY8e/aPc3Fzl5uaa97Ozs0vpjAGUN5ev5uvUzzm3DiyBk2dzLP5ZWurVdJerU6VSXRMAAKC4SrtuomYCAAD2iJoJQEVR6o2/3r1766GHHlJQUJBOnTql559/Xn369FFiYqIqVaqkjIwMeXt7Wybh6Kjq1asrIyNDkpSRkaGgoCCLGB8fH/OxatWqKSMjwzz2x5jraxQmOjpas2bNKo3TBFDOnfo5Rw++9YVV1o78KLlU19v0ZFc1r+VVqmsCAAAUl7XqJmomAABgT6iZAFQUpd74e+SRR8x/btGihVq2bKl69eopISFBPXv2LO2PK5GoqCiLuwSzs7MVEBBgw4wAWEu9mu7a9GTXUl3zSl6+fjh/WbWrucqlculdOVWvpnuprQUAAFBSpV03UTMBAAB7RM0EoKKwyqM+/+jee+/VPffco5MnT6pnz57y9fXV2bNnLWKuXbumc+fOmd8L6Ovrq8zMTIuY6/u3iinq3YLS7+8edHZ2vuNzAlD+uTpVssrVTe3rlvqSAAAANmWNuomaCQAA2BtqJgAVhYO1P+CHH37Qr7/+Kj8/P0lScHCwLly4oKSkJHPMjh07VFBQoI4dO5pjdu/erby8PHNMXFycGjVqpGrVqplj4uPjLT4rLi5OwcHB1j4lAAAAAAAAAAAAoNwpceMvJydHycnJSk5OliSdPn1aycnJSk1NVU5Ojp599lnt27dP33//veLj4zVgwADVr19fYWFhkqQmTZqod+/eGjdunL788kvt2bNHEREReuSRR+Tv7y9JevTRR+Xk5KQxY8bo+PHj+uijj7Rw4UKLx3ROnDhRW7du1bx58/TNN99o5syZOnjwoCIiIkrhawEAAAAAAAAAAAAqlhI3/g4ePKg2bdqoTZs2kqTJkyerTZs2mj59uipVqqSvvvpKf/7zn9WwYUONGTNG7dq10+eff27xiM3Vq1ercePG6tmzp/r27auuXbtq2bJl5uNeXl767LPPdPr0abVr105PP/20pk+frvHjx5tjOnfurNjYWC1btkytWrXSv/71L23YsEHNmze/k+8DAAAAAAAAAAAAqJBMhmEYtk7CVrKzs+Xl5aWsrCx5enraOh0AAGBH7KnOsKdzAQAA5Ys91Rn2dC4AAKB8KUmdYfV3/AEAAAAAAAAAAACwPhp/AAAAAAAAAAAAgB1wtHUCtnT9KafZ2dk2zgQAANib6/WFPTxVnZoJAABYCzUTAADArZWkZrqrG38XL16UJAUEBNg4EwAAYK8uXrwoLy8vW6dxR6iZAACAtVEzAQAA3FpxaiaTYQ+XVN2mgoIC/fTTT/Lw8JDJZLJ1OgDKuezsbAUEBCgtLY0XtQO4JcMwdPHiRfn7+8vBoWI/XZ2aCUBJUDMBKAlqJgB3K2omACVRkprprm78AUBJZGdny8vLS1lZWRRkAAAARaBmAgAAuDVqJgDWUrEvpQIAAAAAAAAAAAAgicYfAAAAAAAAAAAAYBdo/AFAMTk7O2vGjBlydna2dSoAAADlFjUTAADArVEzAbAW3vEHAAAAAAAAAAAA2AHu+AMAAAAAAAAAAADsAI0/AAAAAAAAAAAAwA7Q+AMAAAAAAAAAAADsAI0/ADZnMpm0YcOGYscnJCTIZDLpwoULVsupPIuJiVHVqlVtnQYAACgHZs6cqdatW5fJZ40aNUoDBw4sk88qL0JCQhQZGWnrNAAAQAX0zTffqFOnTnJxcSmzeg0AJBp/AMrIzX4oSk9PV58+fUr1827nR7C6detqwYIFxY63VQPy4Ycf1rfffmveL8sf/AAAgHXcblPtmWeeUXx8fKnm8v3338tkMik5OdlifOHChYqJiSnVz7oZLnYCAADWZO2LmmbMmCE3NzelpKSUqF7729/+pkqVKmnt2rVWyw2AfaPxB8DmfH195ezsbOs0KgxXV1d5e3vbOg0AAFBGrl69esOYYRi6du2a3N3dVaNGjTLJw8vLi0YcAABAMZ06dUpdu3ZVYGBgseu13377TWvWrNGUKVO0YsWKW8YXVicCAI0/ADb3v4/63Lt3r1q3bi0XFxe1b99eGzZsKPSq86SkJLVv315VqlRR586dlZKSIun3q8NnzZqlI0eOyGQyyWQy3dbV6SaTSe+++64GDRqkKlWqqEGDBvr3v/8t6fcr4Xv06CFJqlatmkwmk0aNGiVJKigoUHR0tIKCguTq6qpWrVrpX//6l3nd63cKxsfHF5q/JB05ckQ9evSQh4eHPD091a5dOx08eNB8ftd/dCvqXB9//HE9+OCDFueTl5cnb29vvffeeyX+LgAAQNkJCQlRRESEIiMjdc899ygsLMxcP2zZskXt2rWTs7Ozvvjiixvu/L927ZqeeuopVa1aVTVq1NDUqVM1cuRIi6vZt27dqq5du5pjHnzwQZ06dcp8PCgoSJLUpk0bmUwmhYSESLrxqvjc3Fw99dRT8vb2louLi7p27aoDBw6Yjxen5rkTFy5c0NixY1WzZk15enrq/vvv15EjRyRJ3377rUwmk7755huLOfPnz1e9evXM+8eOHVOfPn3k7u4uHx8f/fWvf9Uvv/xSKvkBAICK61Y1wq3qKZPJpKSkJM2ePVsmk0kzZ84s1ueuXbtWTZs21XPPPafdu3crLS3N4vj1euyll16Sv7+/GjVqJElKS0vT0KFDVbVqVVWvXl0DBgzQ999/b5534MABPfDAA7rnnnvk5eWl7t2769ChQ7f/BQEo12j8AShXsrOz1b9/f7Vo0UKHDh3SnDlzNHXq1EJj//GPf2jevHk6ePCgHB0d9fjjj0v6/VGYTz/9tJo1a6b09HSlp6fr4Ycfvq18Zs2apaFDh+qrr75S3759NXz4cJ07d04BAQH65JNPJEkpKSlKT0/XwoULJUnR0dF6//33tWTJEh0/flyTJk3SY489pl27dhUrf0kaPny4ateurQMHDigpKUnPPfecKleufEN+RZ3r2LFjtXXrVqWnp5tjN23apN9+++22vwsAAFB2Vq1aJScnJ+3Zs0dLliwxjz/33HN65ZVXdOLECbVs2fKGeXPnztXq1au1cuVK7dmzR9nZ2Te8S/nSpUuaPHmyDh48qPj4eDk4OGjQoEEqKCiQJH355ZeSpO3btys9PV3r1q0rNMcpU6bok08+0apVq3To0CHVr19fYWFhOnfunEXczWqeOzFkyBCdPXtWW7ZsUVJSktq2bauePXvq3Llzatiwodq3b6/Vq1dbzFm9erUeffRRSb83Du+//361adNGBw8e1NatW5WZmamhQ4eWSn4AAKBiKk6NcKt6Kj09Xc2aNdPTTz+t9PR0PfPMM8X67Pfee0+PPfaYvLy81KdPn0IvZI+Pj1dKSori4uK0adMm5eXlKSwsTB4eHvr888+1Z88eubu7q3fv3uY7Ai9evKiRI0fqiy++0L59+9SgQQP17dtXFy9evPMvDED5YwBAGRg5cqQxYMCAQo9JMtavX28YhmEsXrzYqFGjhnH58mXz8eXLlxuSjMOHDxuGYRg7d+40JBnbt283x2zevNmQZJ43Y8YMo1WrViXKMTAw0Jg/f75FXtOmTTPv5+TkGJKMLVu2WORx/vx5c8yVK1eMKlWqGHv37rVYe8yYMcawYcOKnb+Hh4cRExNTaJ4rV640vLy8zPtFnWvTpk2NuXPnmvf79+9vjBo16uZfAgAAsIk/1krdu3c32rRpY3H8ev2wYcMGi/H/rQN8fHyM1157zbx/7do1o06dOkXWYYZhGD///LMhyTh69KhhGIZx+vRpi9qrsBxzcnKMypUrG6tXrzYfv3r1quHv72+8+uqrFjnfrOa5mf+tef7o888/Nzw9PY0rV65YjNerV89YunSpYRiGMX/+fKNevXrmYykpKYYk48SJE4ZhGMacOXOMXr16WcxPS0szJBkpKSmGYfz+72LixIm3zBUAAFQ8Rf1WVZwa4X/9bz1lGIbRqlUrY8aMGcXO59tvvzUqV65s/Pzzz4ZhGMb69euNoKAgo6CgwCJnHx8fIzc31zz2wQcfGI0aNbKIy83NNVxdXY1t27YV+ln5+fmGh4eH8Z///KfY+QGoOLjjD0C5kpKSopYtW8rFxcU8dt999xUa+8er3P38/CRJZ8+eLdV8/vgZbm5u8vT0vOlnnDx5Ur/99pseeOABubu7m7f333/f4pEPt8p/8uTJGjt2rEJDQ/XKK6/cMLc4xo4dq5UrV0qSMjMztWXLllK7wh4AAFhXu3btCh1v3759kXOysrKUmZlpUTtVqlTphrW+++47DRs2TPfee688PT1Vt25dSVJqamqx8zt16pTy8vLUpUsX81jlypV133336cSJExax1qjZjhw5opycHNWoUcOi5jp9+rS5bnrkkUf0/fffa9++fZJ+v9uvbdu2aty4sXmNnTt3Wsy/fux2ai8AAGAfilMjlEY99b9WrFihsLAw3XPPPZKkvn37KisrSzt27LCIa9GihZycnCzyPXnypDw8PMz5Vq9eXVeuXDHnm5mZqXHjxqlBgwby8vKSp6encnJy7ihfAOWXo60TAIDb9cdHX5pMJkkyP1LBGp9x/XNu9hk5OTmSpM2bN6tWrVoWx5ydnYtc+3/znzlzph599FFt3rxZW7Zs0YwZM7RmzRoNGjSo2LmPGDFCzz33nBITE7V3714FBQXpT3/6U7HnAwAA23FzcyvReEn0799fgYGBWr58ufz9/VVQUKDmzZubHwVV2qxRs+Xk5MjPz08JCQk3HLv+LmRfX1/df//9io2NVadOnRQbG6sJEyZYrNG/f3/NnTv3hjWuNygBAMDdpzg1QmnXU/n5+Vq1apUyMjLk6OhoMb5ixQr17NnTPPa/9WBOTo7atWt3wyPOJalmzZqSpJEjR+rXX3/VwoULFRgYKGdnZwUHB1ut/gNgWzT+AJQrjRo10ocffqjc3Fxzo+zAgQMlXsfJyUn5+fmlnd4NnyHJ4nOaNm0qZ2dnpaamqnv37ne0fsOGDdWwYUNNmjRJw4YN08qVKwtt/BV1rjVq1NDAgQO1cuVKJSYmavTo0XeUDwAAKN+8vLzk4+OjAwcOqFu3bpJ+r1MOHTqk1q1bS5J+/fVXpaSkaPny5eYLgr744guLdQqrcf5XvXr1zO8gDAwMlCTl5eXpwIEDioyMLOUzu1Hbtm3NP4xdv8K+MMOHD9eUKVM0bNgw/fe//9UjjzxiscYnn3yiunXrWvzABgAA7m63qhGKU0+V1KeffqqLFy/q8OHDqlSpknn82LFjGj16tC5cuGC+uKmwfD/66CN5e3vL09Oz0Jg9e/bonXfeUd++fSVJaWlp+uWXX+4oZwDlF4/6BFBmsrKylJycbLGlpaVZxDz66KMqKCjQ+PHjdeLECW3btk2vv/66pP+7Qrw46tatq9OnTys5OVm//PKLcnNzS/VcJCkwMFAmk0mbNm3Szz//rJycHHl4eOiZZ57RpEmTtGrVKp06dUqHDh3SW2+9pVWrVhVr3cuXLysiIkIJCQk6c+aM9uzZowMHDqhJkyaFxt/sXMeOHatVq1bpxIkTGjlyZKmcNwAAKL+efPJJRUdHa+PGjUpJSdHEiRN1/vx5cx1VrVo11ahRQ8uWLdPJkye1Y8cOTZ482WINb29vubq6auvWrcrMzFRWVtYNn+Pm5qYJEybo2Wef1datW/X1119r3Lhx+u233zRmzJhSO5/8/Pwb6scTJ04oNDRUwcHBGjhwoD777DN9//332rt3r/7xj3/o4MGD5vkPPfSQLl68qAkTJqhHjx7y9/c3HwsPD9e5c+c0bNgwHThwQKdOndK2bds0evRoq19ABgAAyofCfqsaP378TWuE4tRTJfXee++pX79+atWqlZo3b27ehg4dqqpVqxZ6N991w4cP1z333KMBAwbo888/1+nTp5WQkKCnnnpKP/zwgySpQYMG+uCDD3TixAnt379fw4cPl6ur6x3lDKD8ovEHoMwkJCSoTZs2FtusWbMsYjw9PfWf//xHycnJat26tf7xj39o+vTpkmTx3r9bGTx4sHr37q0ePXqoZs2a+uc//1mq5yJJtWrV0qxZs/Tcc8/Jx8dHERERkqQ5c+bohRdeUHR0tJo0aaLevXtr8+bNCgoKKta6lSpV0q+//qoRI0aoYcOGGjp0qPr06XPDd3Xdzc41NDRUfn5+CgsLs/ihCwAA2KepU6dq2LBhGjFihIKDg+Xu7q6wsDBzHeXg4KA1a9YoKSlJzZs316RJk/Taa69ZrOHo6Kg333xTS5culb+/vwYMGFDoZ73yyisaPHiw/vrXv6pt27Y6efKktm3bpmrVqpXa+eTk5NxQP/bv318mk0mffvqpunXrptGjR6thw4Z65JFHdObMGfn4+Jjne3h4qH///jpy5IiGDx9usba/v7/27Nmj/Px89erVSy1atFBkZKSqVq0qBwf+qgwAwN2gsN+q5syZc9MaoTj1VElkZmZq8+bNGjx48A3HHBwcNGjQIL333ntFzq9SpYp2796tOnXq6KGHHlKTJk00ZswYXblyxXwH4Hvvvafz58+rbdu2+utf/6qnnnpK3t7et50zgPLNZBiGYeskAOBmVq9erdGjRysrK4urkUooJydHtWrV0sqVK/XQQw/ZOh0AAFDGCgoK1KRJEw0dOlRz5syxdToAAAAAACvjRQYAyp33339f9957r2rVqqUjR45o6tSpGjp0KE2/EigoKNAvv/yiefPmqWrVqvrzn/9s65QAAEAZOHPmjD777DN1795dubm5WrRokU6fPq1HH33U1qkBAAAAAMoAzy8BUO5kZGToscceU5MmTTRp0iQNGTJEy5Ytu6M1V69eLXd390K3Zs2alVLm5Udqaqp8fHwUGxurFStWFPoyagAAYH8cHBwUExOjDh06qEuXLjp69Ki2b99e5LuCbalZs2ZF1mc3e48NAABARfPyyy8XWff06dPH1ukBsDM86hPAXeHixYvKzMws9FjlypUVGBhYxhkBAADc3c6cOaO8vLxCj/n4+MjDw6OMMwIAALCOc+fO6dy5c4Uec3V1Va1atco4IwD2jMYfAAAAAAAAAAAAYAd41CcAAAAAAAAAAABgB2j8AQAAAAAAAAAAAHaAxh8AAAAAAAAAAABgB2j8AQAAAAAAAAAAAHaAxh8AAAAAAAAAAABgB2j8AQAAAAAAAAAAAHaAxh8AAAAAAAAAAABgB2j8AQAAAAAAAAAAAHaAxh8AAAAAAAAAAABgB2j8AQAAAAAAAAAAAHaAxh8AAAAAAAAAAABgBxxtnYAtFRQU6KeffpKHh4dMJpOt0wEAAHbEMAxdvHhR/v7+cnCo2NdaUTMBAABroWYCAAC4tZLUTHd14++nn35SQECArdMAAAB2LC0tTbVr17Z1GneEmgkAAFgbNRMAAMCtFadmuqsbfx4eHpJ+/6I8PT1tnA0AALAn2dnZCggIMNcbFRk1EwAAsBZqJgAAgFsrSc10Vzf+rj92wdPTk4IMAABYhT085omaCQAAWBs1EwAAwK0Vp2aq2A9PBwAAAAAAAAAAACCJxh8AAAAAAAAAAABgF2j8AQAAAAAAAAAAAHaAxh8AAAAAAAAAAABgB2j8AQAAAAAAAAAAAHaAxh8AAAAAAAAAAABgBxxtnQAAWMPlq/k69XNOqa55JS9fP5y/rNrVXOVSuVKprVuvprtcnUpvPQAAgJIo7bqJmgkAANgjaiYAFQWNPwB26dTPOXrwrS9snUaxbHqyq5rX8rJ1GgAA4C5VUeomaiYAAGBL1EwAKgoafwDsUr2a7tr0ZNdSXfPk2RxFfpSsBQ+3Vn1v91Jbt17N0lsLAACgpEq7bqJmAgAA9oiaCUBFQeMPgF1ydapktaub6nu7c+UUAACwG9aqm6iZAACAPaFmAlBRONg6AQAAAAAAAAAAAAB3jsYfAAAAAAAAAAAAYAdo/AEAAAAAAAAAAAB2gMYfAAAAAAAAAAAAYAdo/AEAAAAAAAAAAAB2gMYfAAAAAAAAAAAAYAdo/AEAAAAAAAAAAAB2gMYfAAAAAAAAAAAAYAdo/AEAAAAAAAAAAAB2gMYfAAAAAAAAAAAAYAdo/AEAAJRTu3fvVv/+/eXv7y+TyaQNGzaYj+Xl5Wnq1Klq0aKF3Nzc5O/vrxEjRuinn36yWOPcuXMaPny4PD09VbVqVY0ZM0Y5OTllfCYAAAAAAAAoCzT+AAAAyqlLly6pVatWevvtt2849ttvv+nQoUN64YUXdOjQIa1bt04pKSn685//bBE3fPhwHT9+XHFxcdq0aZN2796t8ePHl9UpAAAAAAAAoAzR+AMAACin+vTpoxdffFGDBg264ZiXl5fi4uI0dOhQNWrUSJ06ddKiRYuUlJSk1NRUSdKJEye0detWvfvuu+rYsaO6du2qt956S2vWrLnhzkAAAAB79corr8hkMikyMrLImJiYGJlMJovNxcWl7JIEAAAoJY62TgAAAAClIysrSyaTSVWrVpUkJSYmqmrVqmrfvr05JjQ0VA4ODtq/f3+hDUVJys3NVW5urnk/OzvbqnkDAABYy4EDB7R06VK1bNnylrGenp5KSUkx75tMJmumBgAAYBXc8QcAAGAHrly5oqlTp2rYsGHy9PSUJGVkZMjb29siztHRUdWrV1dGRkaRa0VHR8vLy8u8BQQEWDV3AAAAa8jJydHw4cO1fPlyVatW7ZbxJpNJvr6+5s3Hx6cMsgQAAChdNP4AAAAquLy8PA0dOlSGYWjx4sV3vF5UVJSysrLMW1paWilkCQAAULbCw8PVr18/hYaGFis+JydHgYGBCggI0IABA3T8+PGbxufm5io7O9tiAwAAsDUe9QkAAFCBXW/6nTlzRjt27DDf7SdJvr6+Onv2rEX8tWvXdO7cOfn6+ha5prOzs5ydna2WMwAAgLWtWbNGhw4d0oEDB4oV36hRI61YsUItW7ZUVlaWXn/9dXXu3FnHjx9X7dq1C50THR2tWbNmlWbaAAAAd4w7/gAAACqo602/7777Ttu3b1eNGjUsjgcHB+vChQtKSkoyj+3YsUMFBQXq2LFjWacLAABQJtLS0jRx4kStXr1aLi4uxZoTHBysESNGqHXr1urevbvWrVunmjVraunSpUXO4SkJAACgPOKOPwAAgHIqJydHJ0+eNO+fPn1aycnJql69uvz8/PSXv/xFhw4d0qZNm5Sfn29+b1/16tXl5OSkJk2aqHfv3ho3bpyWLFmivLw8RURE6JFHHpG/v7+tTgsAAMCqkpKSdPbsWbVt29Y8lp+fr927d2vRokXKzc1VpUqVbrpG5cqV1aZNG4ta7H/xlAQAAFAe0fgDAAAopw4ePKgePXqY9ydPnixJGjlypGbOnKl///vfkqTWrVtbzNu5c6dCQkIkSatXr1ZERIR69uwpBwcHDR48WG+++WaZ5A8AAGALPXv21NGjRy3GRo8ercaNG2vq1Km3bPpJvzcKjx49qr59+1orTQAAAKsoF42/6OhorVu3Tt98841cXV3VuXNnzZ07V40aNSpyTkxMjEaPHm0x5uzsrCtXrlg7XQAAgDIREhIiwzCKPH6zY9dVr15dsbGxpZkWAABAuebh4aHmzZtbjLm5ualGjRrm8REjRqhWrVqKjo6WJM2ePVudOnVS/fr1deHCBb322ms6c+aMxo4dW+b5AwAA3Ily0fjbtWuXwsPD1aFDB127dk3PP/+8evXqpa+//lpubm5FzvP09FRKSop532QylUW6AAAAAAAAqMBSU1Pl4OBg3j9//rzGjRunjIwMVatWTe3atdPevXvVtGlTG2YJAABQcuWi8bd161aL/ZiYGHl7eyspKUndunUrcp7JZJKvr6+10wMAAAAAAEAFlpCQcNP9+fPna/78+WWXEAAAgJU43Dqk7GVlZUn6/dFUN5OTk6PAwEAFBARowIABOn78+E3jc3NzlZ2dbbEBAAAAAAAAAAAA9qDcNf4KCgoUGRmpLl263PA89j9q1KiRVqxYoY0bN+rDDz9UQUGBOnfurB9++KHIOdHR0fLy8jJvAQEB1jgFAAAAAAAAAAAAoMyVu8ZfeHi4jh07pjVr1tw0Ljg4WCNGjFDr1q3VvXt3rVu3TjVr1tTSpUuLnBMVFaWsrCzzlpaWVtrpAwAAAAAAAAAAADZRLt7xd11ERIQ2bdqk3bt3q3bt2iWaW7lyZbVp00YnT54sMsbZ2VnOzs53miYAAAAAAAAAAABQ7pSLO/4Mw1BERITWr1+vHTt2KCgoqMRr5Ofn6+jRo/Lz87NChgAAAAAAAAAAAED5Vi7u+AsPD1dsbKw2btwoDw8PZWRkSJK8vLzk6uoqSRoxYoRq1aql6OhoSdLs2bPVqVMn1a9fXxcuXNBrr72mM2fOaOzYsTY7DwAAAAAAAAAAAMBWykXjb/HixZKkkJAQi/GVK1dq1KhRkqTU1FQ5OPzfDYrnz5/XuHHjlJGRoWrVqqldu3bau3evmjZtWlZpAwAAAAAAAAAAAOVGuWj8GYZxy5iEhASL/fnz52v+/PlWyggAAAAAAAAAAACoWMrFO/4AAAAAAAAAAAAA3BkafwAAAAAAAAAAAIAdoPEHAAAAAAAAAAAA2AEafwAAAAAAAAAAAIAdoPEHAAAAAAAAAAAA2AEafwAAAAAAAAAAAIAdoPEHAAAAAAAAAAAA2AEafwAAAAAAAAAAAIAdoPEHAAAAAAAAAAAA2AEafwAAAAAAAAAAAIAdoPEHAAAAAAAAAAAA2AFHWycAANed/uWSLuVes3UaRTp5Nsfin+WRm7Ojgu5xs3UaAADAyspz3UTNBAAAygtqpjtDzQRUTDT+AJQLp3+5pB6vJ9g6jWKJ/CjZ1inc1M5nQijKAACwYxWlbqJmAgAAtkTNVDqomYCKh8YfgHLh+tVXCx5urfre7jbOpnBX8vL1w/nLql3NVS6VK9k6nRucPJujyI+Sy+2VbAAAoHSU97qJmgkAAJQH1Ex3hpoJqLho/AEoV+p7u6t5LS9bp1Gk9nVtnQGAu8nu3bv12muvKSkpSenp6Vq/fr0GDhxoPm4YhmbMmKHly5frwoUL6tKlixYvXqwGDRqYY86dO6cnn3xS//nPf+Tg4KDBgwdr4cKFcncvf3/xBVAy5bluomYCUJ688sorioqK0sSJE7VgwYIi49auXasXXnhB33//vRo0aKC5c+eqb9++ZZcoAKugZgJwt3GwdQIAAAAo3KVLl9SqVSu9/fbbhR5/9dVX9eabb2rJkiXav3+/3NzcFBYWpitXrphjhg8fruPHjysuLk6bNm3S7t27NX78+LI6BQAAAJs6cOCAli5dqpYtW940bu/evRo2bJjGjBmjw4cPa+DAgRo4cKCOHTtWRpkCAACUDhp/AAAA5VSfPn304osvatCgQTccMwxDCxYs0LRp0zRgwAC1bNlS77//vn766Sdt2LBBknTixAlt3bpV7777rjp27KiuXbvqrbfe0po1a/TTTz+V8dkAAACUrZycHA0fPlzLly9XtWrVbhq7cOFC9e7dW88++6yaNGmiOXPmqG3btlq0aFEZZQsAAFA6aPwBAABUQKdPn1ZGRoZCQ0PNY15eXurYsaMSExMlSYmJiapatarat29vjgkNDZWDg4P2799f5Nq5ubnKzs622AAAACqa8PBw9evXz6JeKkpiYuINcWFhYea6qjDUTAAAoDyi8QcAAFABZWRkSJJ8fHwsxn18fMzHMjIy5O3tbXHc0dFR1atXN8cUJjo6Wl5eXuYtICCglLMHAACwrjVr1ujQoUOKjo4uVnxGRsZN66rCUDMBAIDyiMYfAAAALERFRSkrK8u8paWl2TolAACAYktLS9PEiRO1evVqubi4WO1zqJkAAEB55GjrBAAAAFByvr6+kqTMzEz5+fmZxzMzM9W6dWtzzNmzZy3mXbt2TefOnTPPL4yzs7OcnZ1LP2kAAIAykJSUpLNnz6pt27bmsfz8fO3evVuLFi1Sbm6uKlWqZDHH19dXmZmZFmOZmZnUTAAAoMLhjj8AAIAKKCgoSL6+voqPjzePZWdna//+/QoODpYkBQcH68KFC0pKSjLH7NixQwUFBerYsWOZ5wwAAFAWevbsqaNHjyo5Odm8tW/fXsOHD1dycvINTT/p97rpj3WVJMXFxZnrKgAAgIqCO/4AAADKqZycHJ08edK8f/r0aSUnJ6t69eqqU6eOIiMj9eKLL6pBgwYKCgrSCy+8IH9/fw0cOFCS1KRJE/Xu3Vvjxo3TkiVLlJeXp4iICD3yyCPy9/e30VkBAABYl4eHh5o3b24x5ubmpho1apjHR4wYoVq1apnfAThx4kR1795d8+bNU79+/bRmzRodPHhQy5YtK/P8AQAA7gSNPwAAgHLq4MGD6tGjh3l/8uTJkqSRI0cqJiZGU6ZM0aVLlzR+/HhduHBBXbt21datWy3eZbN69WpFRESoZ8+ecnBw0ODBg/Xmm2+W+bkAAACUJ6mpqXJw+L8HYXXu3FmxsbGaNm2ann/+eTVo0EAbNmy4oYEIAABQ3tH4AwAAKKdCQkJkGEaRx00mk2bPnq3Zs2cXGVO9enXFxsZaIz0AAIAKIyEh4ab7kjRkyBANGTKkbBICAACwEt7xBwAAAAAAAAAAANgBGn8AAAAAAAAAAACAHaDxBwAAAAAAAAAAANgBGn8AAAAAAAAAAACAHaDxBwAAAAAAAAAAANgBGn8AAAAAAAAAAACAHaDxBwAAAAAAAAAAANgBGn8AAAAAAAAAAACAHaDxBwAAAAAAAAAAANgBGn8AAAAAAAAAAACAHSgXjb/o6Gh16NBBHh4e8vb21sCBA5WSknLLeWvXrlXjxo3l4uKiFi1a6NNPPy2DbAEAAAAAAAAAAIDyp1w0/nbt2qXw8HDt27dPcXFxysvLU69evXTp0qUi5+zdu1fDhg3TmDFjdPjwYQ0cOFADBw7UsWPHyjBzAAAAAAAAAAAAoHxwtHUCkrR161aL/ZiYGHl7eyspKUndunUrdM7ChQvVu3dvPfvss5KkOXPmKC4uTosWLdKSJUusnjMAAAAAAAAAAABQnpSLO/7+V1ZWliSpevXqRcYkJiYqNDTUYiwsLEyJiYlFzsnNzVV2drbFBgAAAAAAAAAAANiDctf4KygoUGRkpLp06aLmzZsXGZeRkSEfHx+LMR8fH2VkZBQ5Jzo6Wl5eXuYtICCg1PIGAAAAAAAAAAAAbKncNf7Cw8N17NgxrVmzptTXjoqKUlZWlnlLS0sr9c8AAAAAAAAAAAAAbKFcvOPvuoiICG3atEm7d+9W7dq1bxrr6+urzMxMi7HMzEz5+voWOcfZ2VnOzs6lkisAAAAAAAAAAABQnpSLO/4Mw1BERITWr1+vHTt2KCgo6JZzgoODFR8fbzEWFxen4OBga6UJAAAAAAAAAAAAlFvl4o6/8PBwxcbGauPGjfLw8DC/p8/Ly0uurq6SpBEjRqhWrVqKjo6WJE2cOFHdu3fXvHnz1K9fP61Zs0YHDx7UsmXLbHYeAAAAAAAAAAAAgK2Uizv+Fi9erKysLIWEhMjPz8+8ffTRR+aY1NRUpaenm/c7d+6s2NhYLVu2TK1atdK//vUvbdiwQc2bN7fFKQAAAAAAAAAAAAA2VS7u+DMM45YxCQkJN4wNGTJEQ4YMsUJGAAAAAAAAAAAAQMVSLu74AwAAAAAAAAAAAHBnaPwBAAAAAADAbixevFgtW7aUp6enPD09FRwcrC1bthQZHxMTI5PJZLG5uLiUYcYAAAClp1w86hMAAAAAAAAoDbVr19Yrr7yiBg0ayDAMrVq1SgMGDNDhw4fVrFmzQud4enoqJSXFvG8ymcoqXQAAgFLFHX8AAAAVVH5+vl544QUFBQXJ1dVV9erV05w5cyzen2wYhqZPny4/Pz+5uroqNDRU3333nQ2zBgAAsK7+/furb9++atCggRo2bKiXXnpJ7u7u2rdvX5FzTCaTfH19zZuPj08ZZgwAAFB6aPwBAABUUHPnztXixYu1aNEinThxQnPnztWrr76qt956yxzz6quv6s0339SSJUu0f/9+ubm5KSwsTFeuXLFh5gAAAGUjPz9fa9as0aVLlxQcHFxkXE5OjgIDAxUQEKABAwbo+PHjt1w7NzdX2dnZFhsAAICt0fgDAACooPbu3asBAwaoX79+qlu3rv7yl7+oV69e+vLLLyX9frffggULNG3aNA0YMEAtW7bU+++/r59++kkbNmywbfIAAABWdPToUbm7u8vZ2VlPPPGE1q9fr6ZNmxYa26hRI61YsUIbN27Uhx9+qIKCAnXu3Fk//PDDTT8jOjpaXl5e5i0gIMAapwIAAFAiNP4AAAAqqM6dOys+Pl7ffvutJOnIkSP64osv1KdPH0nS6dOnlZGRodDQUPMcLy8vdezYUYmJiUWuy9XrAACgomvUqJGSk5O1f/9+TZgwQSNHjtTXX39daGxwcLBGjBih1q1bq3v37lq3bp1q1qyppUuX3vQzoqKilJWVZd7S0tKscSoAAAAl4mjrBAAAAHB7nnvuOWVnZ6tx48aqVKmS8vPz9dJLL2n48OGSpIyMDEm64R01Pj4+5mOFiY6O1qxZs6yXOAAAgJU5OTmpfv36kqR27drpwIEDWrhw4S2beZJUuXJltWnTRidPnrxpnLOzs5ydnUslXwAAgNLCHX8AAAAV1Mcff6zVq1crNjZWhw4d0qpVq/T6669r1apVd7QuV68DAAB7U1BQoNzc3GLF5ufn6+jRo/Lz87NyVgAAAKWPO/4AAAAqqGeffVbPPfecHnnkEUlSixYtdObMGUVHR2vkyJHy9fWVJGVmZlr8cJWZmanWrVsXuS5XrwMAgIosKipKffr0UZ06dXTx4kXFxsYqISFB27ZtkySNGDFCtWrVUnR0tCRp9uzZ6tSpk+rXr68LFy7otdde05kzZzR27FhbngYAAMBtofEHoNwwOWbrdHaKHFzcbZ1KhXQ6O0cmR97DBdxNfvvtNzk4WD7AoVKlSiooKJAkBQUFydfXV/Hx8eZGX3Z2tvldNwAAAPbo7NmzGjFihNLT0+Xl5aWWLVtq27ZteuCBByRJqampFjXU+fPnNW7cOGVkZKhatWpq166d9u7dq6ZNm9rqFAAAAG4bjT8A5Ublqvv1/Jcv2zqNCq1y1Z6S+to6DQBlpH///nrppZdUp04dNWvWTIcPH9Ybb7yhxx9/XJJkMpkUGRmpF198UQ0aNFBQUJBeeOEF+fv7a+DAgbZNHsAd4YKp28fFUoD9e++99256PCEhwWJ//vz5mj9/vhUzAmAr1Ey3j5oJqLho/AEoN/IudNS8fo+qnjfF2O04dTZHT60+Zes0AJSht956Sy+88IL+/ve/6+zZs/L399ff/vY3TZ8+3RwzZcoUXbp0SePHj9eFCxfUtWtXbd26VS4uLjbMHMCd4oKpO8PFUgAA3B2ome4MNRNQMdH4A1BuGNc8FeTZSE1reNk6lQqp4EqWjGs/2zoNAGXIw8NDCxYs0IIFC4qMMZlMmj17tmbPnl12iQGwOi6Yun1cLAUAwN2Dmun2UTMBFReNPwAAAACoYLhg6vZxsRQAAHcPaqbbR80EVFwOtw4BAAAAAAAAAAAAUN7R+AMAAAAAAAAAAADsAI0/AAAAAAAAAAAAwA7Q+AMAAAAAAAAAAADsAI0/AAAAAAAAAAAAwA7Q+AMAAAAAAAAAAADsAI0/AAAAAAAAAAAAwA7Q+AMAAAAAAAAAAADsAI0/AAAAAAAAAAAAwA7Q+AMAAAAAAAAAAADsAI0/AAAAAAAAAAAAwA7Q+AMAAAAAAAAAAADsAI0/AAAAAAAAAAAAwA7Q+AMAAAAAAAAAAADsAI0/AAAAAAAAAAAAwA7Q+AMAAAAAAAAAAADsAI0/AAAAAAAAAAAAwA7Q+AMAAAAAAAAAAADsAI0/AAAAAAAAAAAAwA7Q+AMAAAAAAIDdWLx4sVq2bClPT095enoqODhYW7ZsuemctWvXqnHjxnJxcVGLFi306aefllG2AAAApatcNP52796t/v37y9/fXyaTSRs2bLhpfEJCgkwm0w1bRkZG2SQMAAAAAACAcql27dp65ZVXlJSUpIMHD+r+++/XgAEDdPz48ULj9+7dq2HDhmnMmDE6fPiwBg4cqIEDB+rYsWNlnDkAAMCdKxeNv0uXLqlVq1Z6++23SzQvJSVF6enp5s3b29tKGQIAAAAAAKAi6N+/v/r27asGDRqoYcOGeumll+Tu7q59+/YVGr9w4UL17t1bzz77rJo0aaI5c+aobdu2WrRoURlnDgAAcOccbZ2AJPXp00d9+vQp8Txvb29VrVq19BMCAAAAAABAhZefn6+1a9fq0qVLCg4OLjQmMTFRkydPthgLCwu75ROpcnNzlZuba97Pzs6+43wBAADuVLm44+92tW7dWn5+fnrggQe0Z88eW6cDAABQ5n788Uc99thjqlGjhlxdXdWiRQsdPHjQfNwwDE2fPl1+fn5ydXVVaGiovvvuOxtmDAAAYH1Hjx6Vu7u7nJ2d9cQTT2j9+vVq2rRpobEZGRny8fGxGPPx8bnlK2Wio6Pl5eVl3gICAkotfwAAgNtVIRt/fn5+WrJkiT755BN98sknCggIUEhIiA4dOnTTebm5ucrOzrbYAAAAKqrz58+rS5cuqly5srZs2aKvv/5a8+bNU7Vq1cwxr776qt58800tWbJE+/fvl5ubm8LCwnTlyhUbZg4AAGBdjRo1UnJysvbv368JEyZo5MiR+vrrr0v1M6KiopSVlWXe0tLSSnV9AACA21EuHvVZUo0aNVKjRo3M+507d9apU6c0f/58ffDBB0XOi46O1qxZs8oiRQAAAKubO3euAgICtHLlSvNYUFCQ+c+GYWjBggWaNm2aBgwYIEl6//335ePjow0bNuiRRx4p85wBAADKgpOTk+rXry9JateunQ4cOKCFCxdq6dKlN8T6+voqMzPTYiwzM1O+vr43/QxnZ2c5OzuXXtIAAACloELe8VeY++67TydPnrxpDFdiAQAAe/Lvf/9b7du315AhQ+Tt7a02bdpo+fLl5uOnT59WRkaGQkNDzWNeXl7q2LGjEhMTbZEyAACATRQUFFi8j++PgoODFR8fbzEWFxdX5DsBAQAAyrMKecdfYZKTk+Xn53fTGK7EAgAA9uS///2vFi9erMmTJ+v555/XgQMH9NRTT8nJyUkjR440v5empO+syc3NtfhhjMejAwCAiiQqKkp9+vRRnTp1dPHiRcXGxiohIUHbtm2TJI0YMUK1atVSdHS0JGnixInq3r275s2bp379+mnNmjU6ePCgli1bZsvTAAAAuC3lovGXk5Njcbfe6dOnlZycrOrVq6tOnTqKiorSjz/+qPfff1+StGDBAgUFBalZs2a6cuWK3n33Xe3YsUOfffaZrU4BAACgzBUUFKh9+/Z6+eWXJUlt2rTRsWPHtGTJEo0cOfK21+Xx6AAAoCI7e/asRowYofT0dHl5eally5batm2bHnjgAUlSamqqHBz+7yFYnTt3VmxsrKZNm6bnn39eDRo00IYNG9S8eXNbnQIAAMBtKxeNv4MHD6pHjx7m/cmTJ0uSRo4cqZiYGKWnpys1NdV8/OrVq3r66af1448/qkqVKmrZsqW2b99usQYAAIC98/PzU9OmTS3GmjRpok8++USSzO+lyczMtHgyQmZmplq3bl3kulFRUeZ6TPr9jr+AgIBSzBwAAMB63nvvvZseT0hIuGFsyJAhGjJkiJUyAgAAKDvlovEXEhIiwzCKPB4TE2OxP2XKFE2ZMsXKWQEAAJRvXbp0UUpKisXYt99+q8DAQElSUFCQfH19FR8fb270ZWdna//+/ZowYUKR6/J4dAAAAAAAgIqpXDT+AAAAUHKTJk1S586d9fLLL2vo0KH68ssvtWzZMvP7aEwmkyIjI/Xiiy+qQYMGCgoK0gsvvCB/f38NHDjQtskDAAAAAACg1NH4AwAAqKA6dOig9evXKyoqSrNnz1ZQUJAWLFig4cOHm2OmTJmiS5cuafz48bpw4YK6du2qrVu3ysXFxYaZAwAAAAAAwBpo/AEAAFRgDz74oB588MEij5tMJs2ePVuzZ88uw6wAAAAAAABgCw62TgAAAAAAAAAAAADAnaPxBwAAAAAAAAAAANgBGn8AAAAAAAAAAACAHaDxBwAAAAAAAAAAANgBGn8AAAAAAAAAAACAHaDxBwAAAAAAAAAAANgBGn8AAAAAAAAAAACAHXC0dQIAIEmX8/IlScd+zLJxJkW7kpevH85fVu1qrnKpXMnW6dzg5NkcW6cAAAAAAAAAALAhGn8AyoVT/79p9dy6ozbOpOJzc+Z/7QAA2LPyfsEUF0sBAIDygJrpzlAzARUXvw4DKBd6NfOVJNXzdpdrOSx2pN8LnsiPkrXg4daq7+1u63QK5ebsqKB73GydBgAAsCIumCodXCwFAIB9o2YqHdRMQMXDf7UAyoXqbk565L46tk6jWOp7u6t5LS9bpwEAAO5S5f2CKS6WAgAA5QE1052jZgIqJhp/AAAAAFCBVJQLprhYCgAA2BI1E4C7lYOtEwAAAAAAAAAAAABw52j8AQAAAAAAAAAAAHaAxh8AAAAAAAAAAABgB2j8AQAAAAAAAAAAAHaAxh8AAAAAAAAAAABgB2j8AQAAAAAAAAAAAHaAxh8AAAAAAADsRnR0tDp06CAPDw95e3tr4MCBSklJuemcmJgYmUwmi83FxaWMMgYAACg9NP4AAAAAAABgN3bt2qXw8HDt27dPcXFxysvLU69evXTp0qWbzvP09FR6erp5O3PmTBllDAAAUHocbZ0AAAAAAAAAUFq2bt1qsR8TEyNvb28lJSWpW7duRc4zmUzy9fW1dnoAAABWxR1/AAAAAAAAsFtZWVmSpOrVq980LicnR4GBgQoICNCAAQN0/Pjxm8bn5uYqOzvbYgMAALA1Gn8AAAAAAACwSwUFBYqMjFSXLl3UvHnzIuMaNWqkFStWaOPGjfrwww9VUFCgzp0764cffihyTnR0tLy8vMxbQECANU4BAACgRGj8AQAAAAAAwC6Fh4fr2LFjWrNmzU3jgoODNWLECLVu3Vrdu3fXunXrVLNmTS1durTIOVFRUcrKyjJvaWlppZ0+AABAidH4AwAAsBOvvPKKTCaTIiMjzWNXrlxReHi4atSoIXd3dw0ePFiZmZm2SxIAAKCMREREaNOmTdq5c6dq165dormVK1dWmzZtdPLkySJjnJ2d5enpabEBAADYGo0/AAAAO3DgwAEtXbpULVu2tBifNGmS/vOf/2jt2rXatWuXfvrpJz300EM2yhIAAMD6DMNQRESE1q9frx07digoKKjEa+Tn5+vo0aPy8/OzQoYAAADWQ+MPAACggsvJydHw4cO1fPlyVatWzTyelZWl9957T2+88Ybuv/9+tWvXTitXrtTevXu1b98+G2YMAABgPeHh4frwww8VGxsrDw8PZWRkKCMjQ5cvXzbHjBgxQlFRUeb92bNn67PPPtN///tfHTp0SI899pjOnDmjsWPH2uIUAAAAbhuNPwAAgAouPDxc/fr1U2hoqMV4UlKS8vLyLMYbN26sOnXqKDExsazTBAAAKBOLFy9WVlaWQkJC5OfnZ94++ugjc0xqaqrS09PN++fPn9e4cePUpEkT9e3bV9nZ2dq7d6+aNm1qi1MAAAC4bY62TgAAAAC3b82aNTp06JAOHDhww7GMjAw5OTmpatWqFuM+Pj7KyMgocs3c3Fzl5uaa97Ozs0stXwAAAGszDOOWMQkJCRb78+fP1/z5862UEQAAQNnhjj8AAIAKKi0tTRMnTtTq1avl4uJSautGR0fLy8vLvAUEBJTa2gAAAAAAALAeGn8AAAAVVFJSks6ePau2bdvK0dFRjo6O2rVrl9588005OjrKx8dHV69e1YULFyzmZWZmytfXt8h1o6KilJWVZd7S0tKsfCYAAAAAAAAoDTzqEwAAoILq2bOnjh49ajE2evRoNW7cWFOnTlVAQIAqV66s+Ph4DR48WJKUkpKi1NRUBQcHF7mus7OznJ2drZo7AAAAAAAASl+5uONv9+7d6t+/v/z9/WUymbRhw4ZbzklISFDbtm3l7Oys+vXrKyYmxup5AgAAlCceHh5q3ry5xebm5qYaNWqoefPm8vLy0pgxYzR58mTt3LlTSUlJGj16tIKDg9WpUydbpw8AAAAAAIBSVi4af5cuXVKrVq309ttvFyv+9OnT6tevn3r06KHk5GRFRkZq7Nix2rZtm5UzBQAAqFjmz5+vBx98UIMHD1a3bt3k6+urdevW2TotAAAAAAAAWEG5eNRnnz591KdPn2LHL1myREFBQZo3b54kqUmTJvriiy80f/58hYWFWStNAACAci8hIcFi38XFRW+//XaxL7ACAAAAAABAxVUu7vgrqcTERIWGhlqMhYWFKTEx0UYZAQAAAAAAAAAAALZVLu74K6mMjAz5+PhYjPn4+Cg7O1uXL1+Wq6trofNyc3OVm5tr3s/OzrZqngAAAAAAAAAAAEBZqZB3/N2u6OhoeXl5mbeAgABbpwQAAAAAAAAAAACUigrZ+PP19VVmZqbFWGZmpjw9PYu820+SoqKilJWVZd7S0tKsnSoAAAAAAAAAAABQJirkoz6Dg4P16aefWozFxcUpODj4pvOcnZ3l7OxszdQAAAAAAAAAAAAAmygXd/zl5OQoOTlZycnJkqTTp08rOTlZqampkn6/U2/EiBHm+CeeeEL//e9/NWXKFH3zzTd655139PHHH2vSpEm2SB8AAAAAAAAAAACwuXLR+Dt48KDatGmjNm3aSJImT56sNm3aaPr06ZKk9PR0cxNQkoKCgrR582bFxcWpVatWmjdvnt59912FhYXZJH8AAAAAAAAAAADA1srFoz5DQkJkGEaRx2NiYgqdc/jwYStmBQAAAAAAAAAAAFQc5eKOPwAAAAAAAAAAAAB3hsYfAAAAAAAAAAAAYAdo/AEAAAAAAAAAAAB2gMYfAAAAAAAAAAAAYAdo/AEAAAAAAAAAAAB2gMYfAAAAAAAAAAAAYAdo/AEAAAAAAAAAAAB2gMYfAAAAAAAAAAAAYAdo/AEAAAAAAMBuREdHq0OHDvLw8JC3t7cGDhyolJSUW85bu3atGjduLBcXF7Vo0UKffvppGWQLAABQumj8AQAAAAAAwG7s2rVL4eHh2rdvn+Li4pSXl6devXrp0qVLRc7Zu3evhg0bpjFjxujw4cMaOHCgBg4cqGPHjpVh5gAAAHfO0dYJAAAAAAAAAKVl69atFvsxMTHy9vZWUlKSunXrVuichQsXqnfv3nr22WclSXPmzFFcXJwWLVqkJUuWWD1nAACA0kLjD4Bdunw1X6d+zinVNU+ezbH4Z2mpV9Ndrk6VSnVNAACA4irtuomaCUB5k5WVJUmqXr16kTGJiYmaPHmyxVhYWJg2bNhQ5Jzc3Fzl5uaa97Ozs+8sUQDlGjUTgIqCxh8Au3Tq5xw9+NYXVlk78qPkUl1v05Nd1byWV6muCQAAUFzWqpuomQCUBwUFBYqMjFSXLl3UvHnzIuMyMjLk4+NjMebj46OMjIwi50RHR2vWrFmlliuA8o2aCUBFQeMPgF2qV9Ndm57sWqprXsnL1w/nL6t2NVe5VC69K6fq1XQvtbUAAABKqrTrJmomAOVJeHi4jh07pi++KP0f66OioizuEszOzlZAQECpfw6A8oGaCUBFQeMPgF1ydapklaub2tct9SUBAABsyhp1EzUTgPIgIiJCmzZt0u7du1W7du2bxvr6+iozM9NiLDMzU76+vkXOcXZ2lrOzc6nkCqD8o2YCUFE42DoBAAAAAAAAoLQYhqGIiAitX79eO3bsUFBQ0C3nBAcHKz4+3mIsLi5OwcHB1koTAADAKrjjDwAAAAAAAHYjPDxcsbGx2rhxozw8PMzv6fPy8pKrq6skacSIEapVq5aio6MlSRMnTlT37t01b9489evXT2vWrNHBgwe1bNkym50HAADA7eCOPwAAgAosOjpaHTp0kIeHh7y9vTVw4EClpKRYxFy5ckXh4eGqUaOG3N3dNXjw4BseZQUAAGAvFi9erKysLIWEhMjPz8+8ffTRR+aY1NRUpaenm/c7d+6s2NhYLVu2TK1atdK//vUvbdiwQc2bN7fFKQAAANw27vgDAACowHbt2qXw8HB16NBB165d0/PPP69evXrp66+/lpubmyRp0qRJ2rx5s9auXSsvLy9FRETooYce0p49e2ycPQAAQOkzDOOWMQkJCTeMDRkyREOGDLFCRgAAAGWHxh8AAEAFtnXrVov9mJgYeXt7KykpSd26dVNWVpbee+89xcbG6v7775ckrVy5Uk2aNNG+ffvUqVMnW6QNAAAAAAAAK7irG3/XrwDLzs62cSYAAMDeXK8vinPFeWnKysqSJFWvXl2SlJSUpLy8PIWGhppjGjdurDp16igxMbHQxl9ubq5yc3NvWJOaCQAAlDZb1UzWwO9MAADAWkpSM93Vjb+LFy9KkgICAmycCQAAsFcXL16Ul5dXmXxWQUGBIiMj1aVLF/P7aDIyMuTk5KSqVataxPr4+CgjI6PQdaKjozVr1qwbxqmZAACAtZRlzWQt/M4EAACsrTg1013d+PP391daWpo8PDxkMplsnQ6Aci47O1sBAQFKS0uTp6enrdMBUM4ZhqGLFy/K39+/zD4zPDxcx44d0xdffHFH60RFRWny5Mnm/YKCAp07d041atSgZgJwS9RMAErCFjWTtfA7E4CSoGYCUBIlqZnu6safg4ODateubes0AFQwnp6eFGQAiqUsr1qPiIjQpk2btHv3bov6xtfXV1evXtWFCxcs7vrLzMyUr69voWs5OzvL2dnZYux/7xgEgFuhZgJQXBX9Tr/r+J0JwO2gZgJQXMWtmRysnAcAAACsyDAMRUREaP369dqxY4eCgoIsjrdr106VK1dWfHy8eSwlJUWpqakKDg4u63QBAAAAAABgRXf1HX8AAAAVXXh4uGJjY7Vx40Z5eHiY39vn5eUlV1dXeXl5acyYMZo8ebKqV68uT09PPfnkkwoODlanTp1snD0AAAAAAABKE40/ACgmZ2dnzZgx44bH3wGALS1evFiSFBISYjG+cuVKjRo1SpI0f/58OTg4aPDgwcrNzVVYWJjeeeedMs4UwN2CmgkAAODWqJkAWIvJMAzD1kkAAAAAAAAAAAAAuDO84w8AAAAAAAAAAACwAzT+AAAAAAAAAAAAADtA4w8AAAAAAAAAAACwAzT+AOAWTCaTNmzYUOTxhIQEmUwmXbhwoVjrhYSEKDIyslRyAwAAkKSYmBhVrVrV1mmUqtupmW5VtwEAAEjSN998o06dOsnFxUWtW7cus8+tW7euFixYUGafdyeoq4CKi8YfAKv4+eefNWHCBNWpU0fOzs7y9fVVWFiY9uzZI6l8FA8hISEymUxFbiEhIcVap3PnzkpPT5eXl5d1EwYAAHe1UaNGmesUJycn1a9fX7Nnz9a1a9es8nnff/+9TCaTkpOTiz1n5syZhf54djtrrVu3TnPmzCl2fHGU9IItAABgG6NGjdLAgQOttv6MGTPk5uamlJQUxcfHF2vOzp071bdvX9WoUUNVqlRR06ZN9fTTT+vHH3+0Wp63w9rfHYDyz9HWCQCwT4MHD9bVq1e1atUq3XvvvcrMzFR8fLx+/fVXW6dmtm7dOl29elWSlJaWpvvuu0/bt29Xs2bNJElOTk7FWsfJyUm+vr5WyxMAAOC63r17a+XKlcrNzdWnn36q8PBwVa5cWX5+frZOrdRVr17d1ikAAAA7derUKfXr10+BgYHFil+6dKn+/ve/a+TIkfrkk09Ut25dpaam6v3339e8efP0xhtvWDnj3129erXYv1cBuHtxxx+AUnfhwgV9/vnnmjt3rnr06KHAwEDdd999ioqK0p///GfVrVtXkjRo0CCZTCbzviRt3LhRbdu2lYuLi+69917NmjXL4ip2k8mkpUuX6sEHH1SVKlXUpEkTJSYm6uTJkwoJCZGbm5s6d+6sU6dO3TLP6tWry9fXV76+vqpZs6YkqUaNGuaxP/7Y9Msvv2jQoEGqUqWKGjRooH//+9/mY4VdOb5nzx6FhISoSpUqqlatmsLCwnT+/PlC89i8ebO8vLy0evVqSf93Zdbrr78uPz8/1ahRQ+Hh4crLyzPPyc3N1TPPPKNatWrJzc1NHTt2VEJCgvn4mTNn1L9/f1WrVk1ubm5q1qyZPv30U0nS+fPnNXz4cNWsWVOurq5q0KCBVq5cecvvCwAA2N71JykEBgZqwoQJCg0NtahLrjt16pQGDBggHx8fubu7q0OHDtq+fbtFTN26dfXyyy/r8ccfl4eHh+rUqaNly5aZjwcFBUmS2rRpU6KnIRTXsWPH1KdPH7m7u8vHx0d//etf9csvv5iP/++jPtPT09WvXz+5uroqKChIsbGxhT4uq6i67fvvv1ePHj0kSdWqVZPJZNKoUaNK9ZwAAID13aqG2Lp1q7p27aqqVauqRo0aevDBBy1+JzKZTEpKStLs2bNlMpk0c+bMm37eDz/8oKeeekpPPfWUVqxYoZCQENWtW1fdunXTu+++q+nTp5tjP/nkEzVr1kzOzs6qW7eu5s2bd9O1U1NTNWDAALm7u8vT01NDhw5VZmam+fj1pym8++67CgoKkouLSwm/rd9rqqeeekpTpkwx/xb2v+f83XffqVu3bnJxcVHTpk0VFxd3wzppaWkaOnSoqlatqurVq2vAgAH6/vvvJf3+6NQqVaooNjbWHP/xxx/L1dVVX3/9dYlzBnBnaPwBKHXu7u5yd3fXhg0blJube8PxAwcOSJJWrlyp9PR08/7nn3+uESNGaOLEifr666+1dOlSxcTE6KWXXrKYP2fOHI0YMULJyclq3LixHn30Uf3tb39TVFSUDh48KMMwFBERUarnNGvWLA0dOlRfffWV+vbtq+HDh+vcuXOFxiYnJ6tnz55q2rSpEhMT9cUXX6h///7Kz8+/ITY2NlbDhg3T6tWrNXz4cPP4zp07derUKe3cuVOrVq1STEyMYmJizMcjIiKUmJioNWvW6KuvvtKQIUPUu3dvfffdd5Kk8PBw5ebmavfu3Tp69Kjmzp0rd3d3SdILL7ygr7/+Wlu2bNGJEye0ePFi3XPPPaX4bQEAgLLi6upqfoLBH+Xk5Khv376Kj4/X4cOH1bt3b/Xv31+pqakWcfPmzVP79u11+PBh/f3vf9eECROUkpIiSfryyy8lSdu3b1d6errWrVtXanlfuHBB999/v9q0aaODBw9q69atyszM1NChQ4ucM2LECP30009KSEjQJ598omXLluns2bM3xBVVtwUEBOiTTz6RJKWkpCg9PV0LFy4stXMCAADWV5wa4tKlS5o8ebIOHjyo+Ph4OTg4aNCgQSooKJD0+8VEzZo109NPP6309HQ988wzN/3MtWvX6urVq5oyZUqhx6+/ZzkpKUlDhw7VI488oqNHj2rmzJl64YUXLH7P+aOCggINGDBA586d065duxQXF6f//ve/evjhhy3iTp48qU8++UTr1q0r0WPT/2jVqlVyc3PT/v379eqrr2r27Nnm5l5BQYEeeughOTk5af/+/VqyZImmTp1qMT8vL09hYWHy8PDQ559/rj179sjd3V29e/fW1atX1bhxY73++uv6+9//rtTUVP3www964oknNHfuXDVt2vS2cgZwBwwAsIJ//etfRrVq1QwXFxejc+fORlRUlHHkyBHzcUnG+vXrLeb07NnTePnlly3GPvjgA8PPz89i3rRp08z7iYmJhiTjvffeM4/985//NFxcXEqU7+nTpw1JxuHDh2849r+fmZOTY0gytmzZYhiGYezcudOQZJw/f94wDMMYNmyY0aVLlyI/q3v37sbEiRONRYsWGV5eXkZCQoLF8ZEjRxqBgYHGtWvXzGNDhgwxHn74YcMwDOPMmTNGpUqVjB9//NFiXs+ePY2oqCjDMAyjRYsWxsyZMwv9/P79+xujR48uMj8AAFA+jRw50hgwYIBhGIZRUFBgxMXFGc7OzsYzzzxjrFy50vDy8rrp/GbNmhlvvfWWeT8wMNB47LHHzPsFBQWGt7e3sXjxYsMwbl4fFWXGjBmGg4OD4ebmZrFVqVLFYq05c+YYvXr1spiblpZmSDJSUlIMw/i/mskwDOPEiROGJOPAgQPm+O+++86QZMyfP988VtK6DQAAlE9/rHv+qDg1xP/6+eefDUnG0aNHzWOtWrUyZsyYUaxcJkyYYHh6et4y7tFHHzUeeOABi7Fnn33WaNq0qXk/MDDQXLt89tlnRqVKlYzU1FTz8ePHjxuSjC+//NIwjN9rq8qVKxtnz54tVq6GceN31717d6Nr164WMR06dDCmTp1qGIZhbNu2zXB0dLT4nWnLli0Wv9198MEHRqNGjYyCggJzTG5uruHq6mps27bNPNavXz/jT3/6k9GzZ0+jV69eFvEAyg7v+ANgFYMHD1a/fv30+eefa9++fdqyZYteffVVvfvuu0U+UunIkSPas2ePxR1++fn5unLlin777TdVqVJFktSyZUvzcR8fH0lSixYtLMauXLmi7OxseXp6lsr5/PEz3dzc5OnpWegV5tLvd/wNGTLkpuv961//0tmzZ7Vnzx516NDhhuPNmjVTpUqVzPt+fn46evSoJOno0aPKz89Xw4YNLebk5uaqRo0akqSnnnpKEyZM0GeffabQ0FANHjzYfA4TJkzQ4MGDdejQIfXq1UsDBw5U586di/EtAAAAW9u0aZPc3d2Vl5engoICPfroo5o5c6bWrl1rEZeTk6OZM2dq8+bNSk9P17Vr13T58uUb7vj7Y41jMpnk6+tbZI1TXI0aNbrh8aM//vijxaNCjxw5op07d5qfSPBHp06duqHOSUlJkaOjo9q2bWseq1+/vqpVq3bD/JLUbQAAoGIpTg3x3Xffafr06dq/f79++eUX851+qampat68eYk/0zAMmUymW8adOHFCAwYMsBjr0qWLFixYoPz8fIvfea7HBwQEKCAgwDzWtGlTVa1aVSdOnDD/XhQYGGh+Rc3t+mN9JP3+O9P1+uh6Hv7+/ubjwcHBFvFHjhzRyZMn5eHhYTF+5coVi8eorlixQg0bNpSDg4OOHz9erO8NQOmj8QfAalxcXPTAAw/ogQce0AsvvKCxY8dqxowZRTb+cnJyNGvWLD300EOFrnVd5cqVzX++XkAUNna9sCsNf1z/+mcUtb6rq+st12vTpo0OHTqkFStWqH379jcUQjf7vJycHFWqVElJSUk3FI3XC9+xY8cqLCxMmzdv1meffabo6GjNmzdPTz75pPr06aMzZ87o008/VVxcnHr27Knw8HC9/vrrt8wbAADYVo8ePbR48WI5OTnJ399fjo6F/5XumWeeUVxcnF5//XXVr19frq6u+stf/nLDY0FLUuMUl5OTk+rXr28x9r955uTkqH///po7d+4N8/38/O7o861xTgAAoHwoTg3Rv39/BQYGavny5fL391dBQYGaN29e6OPRi6Nhw4bKyspSenr6Hdcpt8PNze2O17jT+ignJ0ft2rXT6tWrbzj2x6bkkSNHdOnSJTk4ONjs+wLAO/4AlKGmTZvq0qVLkn4vOP73nXdt27ZVSkqK6tevf8Pm4FBx/nfVsmVLxcfH3zSmXr162rlzpzZu3Kgnn3yyROu3adNG+fn5Onv27A3fk6+vrzkuICBATzzxhNatW6enn35ay5cvNx+rWbOmRo4cqQ8//FALFizQsmXLSnaSAADAJtzc3FS/fn3VqVOnyKafJO3Zs0ejRo3SoEGD1KJFC/n6+ur7778v0Wc5OTlJUqHvKb5Tbdu21fHjx1W3bt0b6pnCftxq1KiRrl27psOHD5vHTp48qfPnz5foc615TgAAwPpuVUP8+uuvSklJ0bRp09SzZ081adKkxPXC//rLX/4iJycnvfrqq4Uev3DhgiSpSZMm2rNnj8WxPXv2qGHDhjdcuH09Pi0tTWlpaeaxr7/+WhcuXCjT9+JdzyM9Pd08tm/fPouYtm3b6rvvvpO3t/cN37uXl5ck6dy5cxo1apT+8Y9/aNSoURo+fLguX75cZucB4P9UnF/SAVQYv/76q+6//359+OGH+uqrr3T69GmtXbtWr776qvmRB3Xr1lV8fLwyMjLMBdj06dP1/vvva9asWTp+/LhOnDihNWvWaNq0abY8nRKLiorSgQMH9Pe//11fffWVvvnmGy1evFi//PKLRVzDhg21c+dOffLJJ4qMjCz2+g0bNtTw4cM1YsQIrVu3TqdPn9aXX36p6Ohobd68WZIUGRmpbdu26fTp0zp06JB27typJk2aSPr9e964caNOnjyp48ePa9OmTeZjAADAPjRo0EDr1q1TcnKyjhw5okcffbTEd715e3vL1dVVW7duVWZmprKyskotv/DwcJ07d07Dhg3TgQMHdOrUKW3btk2jR48utCnXuHFjhYaGavz48fryyy91+PBhjR8/Xq6uriV6hFRgYKBMJpM2bdqkn3/+WTk5OaV2TgAAoHRlZWUpOTnZYhs/fvxNa4hq1aqpRo0aWrZsmU6ePKkdO3Zo8uTJd5RHQECA5s+fr4ULF2rMmDHatWuXzpw5oz179uhvf/ub5syZI0l6+umnFR8frzlz5ujbb7/VqlWrtGjRIj3zzDOFrhsaGqoWLVpo+PDhOnTokL788kuNGDFC3bt3V/v27e8o55IIDQ1Vw4YNNXLkSB05ckSff/65/vGPf1jEDB8+XPfcc48GDBigzz//XKdPn1ZCQoKeeuop/fDDD5KkJ554QgEBAZo2bZreeOMN5efnF3nuAKyLxh+AUufu7q6OHTtq/vz56tatm5o3b64XXnhB48aN06JFiyRJ8+bNU1xcnAICAtSmTRtJUlhYmDZt2qTPPvtMHTp0UKdOnTR//nwFBgba8nRKrGHDhvrss8905MgR3XfffQoODtbGjRsLvSq/UaNG2rFjh/75z3/q6aefLvZnrFy5UiNGjNDTTz+tRo0aaeDAgTpw4IDq1Kkj6fer2MPDw9WkSRP17t1bDRs21DvvvCPp9yvdo6Ki1LJlS3Xr1k2VKlXSmjVrSufkAQBAufDGG2+oWrVq6ty5s/r376+wsDCL9+MVh6Ojo958800tXbpU/v7+N7yz5k74+/trz549ys/PV69evdSiRQtFRkaqatWqRT7p4f3335ePj4+6deumQYMGady4cfLw8LB4JPyt1KpVS7NmzdJzzz0nHx8fRURElNYpAQCAUpaQkKA2bdpYbHPmzLlpDeHg4KA1a9YoKSlJzZs316RJk/Taa6/dcS5///vf9dlnn+nHH3/UoEGD1LhxY40dO1aenp7m5lbbtm318ccfa82aNWrevLmmT5+u2bNnF/nKG5PJpI0bN6patWrq1q2bQkNDde+99+qjjz6643xLwsHBQevXr9fly5d13333aezYsXrppZcsYqpUqaLdu3erTp06euihh9SkSRONGTNGV65ckaenp95//319+umn+uCDD+To6Cg3Nzd9+OGHWr58ubZs2VKm5wNAMhmGYdg6CQAAAAAASuKHH35QQECAtm/frp49e9o6HQAAAAAoF2j8AQAAAADKvR07dignJ0ctWrRQenq6pkyZoh9//FHffvutKleubOv0AAAAAKBc4FGfAOxas2bN5O7uXui2evVqW6cHAABQoRRVV7m7u+vzzz+36mfn5eXp+eefV7NmzTRo0CDVrFlTCQkJNP0AAMAdefnll4usb/r06WPr9CykpqbetB5LTU21dYoAygHu+ANg186cOaO8vLxCj/n4+MjDw6OMMwIAAKi4Tp48WeSxWrVqydXVtQyzAQAAuHPnzp3TuXPnCj3m6uqqWrVqlXFGRbt27Zq+//77Io/XrVtXjo6OZZcQgHKJxh8AAAAAAAAAAABgB3jUJwAAAAAAAAAAAGAHaPwBAAAAAAAAAAAAdoDGHwAAAAAAAAAAAGAHaPwBAAAAAAAAAAAAdoDGHwAAAAAAAAAAAGAHaPwBAAAAAAAAAAAAdoDGHwAAAAAAAAAAAGAHaPwBAAAAAAAAAAAAdoDGHwAAAAAAAAAAAGAHaPwBAAAAAAAAAAAAdoDGHwAAAAAAAAAAAGAHaPwBAAAAAAAAAAAAdsDR1gnYUkFBgX766Sd5eHjIZDLZOh0AAGBHDMPQxYsX5e/vLweHin2tFTUTAACwFmomAACAWytJzXRXN/5++uknBQQE2DoNAABgx9LS0lS7dm1bp3FHqJkAAIC1UTMBAADcWnFqpru68efh4SHp9y/K09PTxtkAAAB7kp2drYCAAHO9UZFRMwEAAGuhZgIAALi1ktRMd3Xj7/pjFzw9PSnIAACAVdjDY56omQAAgLVRMwEAANxacWqmiv3wdAAAAAAAAAAAAACSaPwBAAAAAAAAAAAAdoHGHwAAAAAAAO56Fy9eVGRkpAIDA+Xq6qrOnTvrwIEDtk4LAACgRGj8AQAAAAAA4K43duxYxcXF6YMPPtDRo0fVq1cvhYaG6scff7R1agAAAMVG4w8AAAAAAAB3tcuXL+uTTz7Rq6++qm7duql+/fqaOXOm6tevr8WLF9s6PQAAgGJztHUCAGANl6/m69TPOaW65pW8fP1w/rJqV3OVS+VKpbZuvZrucnUqvfUAAABKorTrJmomABXRtWvXlJ+fLxcXF4txV1dXffHFF4XOyc3NVW5urnk/OzvbqjkCsC1qJgAVBY0/AHbp1M85evCtwv9yVt5serKrmtfysnUaAADgLlVR6iZqJgDW5OHhoeDgYM2ZM0dNmjSRj4+P/vnPfyoxMVH169cvdE50dLRmzZpVxpkCsBVqJgAVhckwDMPWSdhKdna2vLy8lJWVJU9PT1unA6AUWeOOv5NncxT5UbIWPNxa9b3dS21drsQC7JM91Rn2dC4AblTadRM1E4CSKE91xqlTp/T4449r9+7dqlSpktq2bauGDRsqKSlJJ06cuCG+sDv+AgICysW5ACh91EwAbKkkNRN3/AGwS65Olax2dVN9b3eunAIAAHbDWnUTNROAiqZevXratWuXLl26pOzsbPn5+enhhx/WvffeW2i8s7OznJ2dyzhLALZCzQSgonCwdQIAAAAAAABAeeHm5iY/Pz+dP39e27Zt04ABA2ydEgAAQLFxxx8AAAAAAADuetu2bZNhGGrUqJFOnjypZ599Vo0bN9bo0aNtnRoAAECxcccfAAAAAAAA7npZWVkKDw9X48aNNWLECHXt2lXbtm1T5cqVbZ0aAABAsXHHHwAAAAAAAO56Q4cO1dChQ22dBgAAwB3hjj8AAAAAAAAAAADADtD4AwAAAAAAAAAAAOwAjT8AAAAAAAAAAADADtD4AwAAAAAAAAAAAOwAjT8AAAAAAAAAAADADtD4AwAAAAAAAAAAAOwAjT8AAAAAAAAAAADADtD4AwAAAAAAAAAAAOwAjT8AwP9r7/7je673/4/f3zb7YbP50eyHxub3j8jPNJRTllGcOTlE8iOiT5QkyfoiJoajLMpIzkxxoqPkKD9qHQrDiCWcYWR+bHMq28yPYXt9//Dx/vTOxma213tvt+vl8rq09+v1fL3e9/fa6f08r8fz+XwBAAAAAAAAAByA3Rb+zp07p9GjR6t27dpyd3dX+/btlZiYaD1uGIYmTZokf39/ubu7KzQ0VIcPHzYxMQAAAAAAAAAAAGAeuy38Pffcc/r666/10Ucfad++ferSpYtCQ0N16tQpSdKsWbM0d+5cLViwQDt27JCHh4fCwsJ06dIlk5MDAAAAAAAAAAAAZc8uC38XL17UqlWrNGvWLD388MOqV6+eJk+erHr16ikmJkaGYSg6OloTJkxQeHi4mjdvrqVLl+r06dNavXq12fEBAAAAAAAAAACAMmeXhb+rV68qLy9Pbm5uNvvd3d21ZcsWHTt2TOnp6QoNDbUe8/b2Vrt27ZSQkFDodXNzc5WdnW2zAQAAAAAAAAAAAI7ALgt/lStXVkhIiKZOnarTp08rLy9PH3/8sRISEpSWlqb09HRJkq+vr815vr6+1mMFiYqKkre3t3ULDAws1c8BAAAAAAAAAAAAlBW7LPxJ0kcffSTDMFSzZk25urpq7ty56tevnypUuP3IERERysrKsm4nTpy4g4kBAAAAAAAAAAAA89ht4a9u3bravHmzcnJydOLECe3cuVNXrlxRnTp15OfnJ0nKyMiwOScjI8N6rCCurq7y8vKy2QAAAAAAAAAAAABHYLeFv+s8PDzk7++vs2fPasOGDQoPD1dwcLD8/PwUHx9vbZedna0dO3YoJCTExLQAAAAAAAAAAACAOZzNDlCYDRs2yDAMNWzYUEeOHNFrr72mRo0a6dlnn5XFYtHo0aP11ltvqX79+goODtbEiRMVEBCgnj17mh0dAAAAAAAAAAAAKHN2W/jLyspSRESETp48qWrVqqlXr16aNm2aKlasKEkaN26czp8/r+HDhyszM1MdO3bU+vXr5ebmZnJyAAAAAAAAAAAAoOzZbeGvT58+6tOnT6HHLRaLIiMjFRkZWYapAAAAAAAAAAAAAPtk98/4AwAAAAAAAEpTXl6eJk6cqODgYLm7u6tu3bqaOnWqDMMwOxoAAECx2O2MPwAAAAAAAKAszJw5UzExMYqLi1PTpk21a9cuPfvss/L29taoUaPMjgcAAFBkFP4AAAAAAABwV9u2bZvCw8P1xBNPSJKCgoL0j3/8Qzt37jQ5GQAAQPGw1CcAAAAAAADuau3bt1d8fLwOHTokSUpKStKWLVvUrVu3Qs/Jzc1Vdna2zQYAAGA2ZvwBAAAAAADgrjZ+/HhlZ2erUaNGcnJyUl5enqZNm6b+/fsXek5UVJSmTJlShikBAABujRl/AAAAAAAAuKutXLlSy5Yt0/Lly/XDDz8oLi5Os2fPVlxcXKHnREREKCsry7qdOHGiDBMDAAAUjBl/AAAAAAAAuKu99tprGj9+vPr27StJatasmY4fP66oqCgNGjSowHNcXV3l6upaljEBAABuiRl/AAAAAAAAuKtduHBBFSrY3iZzcnJSfn6+SYkAAABuDzP+AAAAAAAAcFfr0aOHpk2bplq1aqlp06bas2eP3nnnHQ0ZMsTsaAAAAMVC4Q8AAAAAAAB3tXnz5mnixIkaMWKEzpw5o4CAAD3//POaNGmS2dEAAACKhcIfALtx7JfzOp971ewYhTpyJsfmn/bIw9VZwfd4mB0DAAAAAMqVypUrKzo6WtHR0WZHAQAAKBEKfwDswrFfzuuR2ZvMjlEko1fsNTvCTf177J8o/gEAAAAAAADAXYjCHwC7cH2mX/RTLVSvhqfJaQp26UqeTp69qHurusutopPZcW5w5EyORq/Ya9ezJgHcWXl5eZo8ebI+/vhjpaenKyAgQIMHD9aECRNksVgkSYZh6M0339SiRYuUmZmpDh06KCYmRvXr1zc5PQAAAAAAAO40Cn8A7Eq9Gp66r6a32TEK1SbI7AQA8H9mzpypmJgYxcXFqWnTptq1a5eeffZZeXt7a9SoUZKkWbNmae7cuYqLi1NwcLAmTpyosLAwHThwQG5ubiZ/AgAAAAAAANxJFP4AAADKqW3btik8PFxPPPGEJCkoKEj/+Mc/tHPnTknXZvtFR0drwoQJCg8PlyQtXbpUvr6+Wr16tfr27WtadgAAAAAAANx5FcwOAAAAgNvTvn17xcfH69ChQ5KkpKQkbdmyRd26dZMkHTt2TOnp6QoNDbWe4+3trXbt2ikhIaHQ6+bm5io7O9tmAwAAAAAAgP1jxh8AAEA5NX78eGVnZ6tRo0ZycnJSXl6epk2bpv79+0uS0tPTJUm+vr425/n6+lqPFSQqKkpTpkwpveAAAAAAAAAoFcz4AwAAKKdWrlypZcuWafny5frhhx8UFxen2bNnKy4urkTXjYiIUFZWlnU7ceLEHUoMAAAAAACA0sSMPwAAgHLqtdde0/jx463P6mvWrJmOHz+uqKgoDRo0SH5+fpKkjIwM+fv7W8/LyMhQixYtCr2uq6urXF1dSzU7AAAAAJS2Y7+c1/ncq2bHKNCRMzk2/7RHHq7OCr7Hw+wYAIqJwh8AAEA5deHCBVWoYLuAg5OTk/Lz8yVJwcHB8vPzU3x8vLXQl52drR07duiFF14o67gAAAAAUGaO/XJej8zeZHaMWxq9Yq/ZEW7q32P/RPEPKGco/AEAAJRTPXr00LRp01SrVi01bdpUe/bs0TvvvKMhQ4ZIkiwWi0aPHq233npL9evXV3BwsCZOnKiAgAD17NnT3PAASoTR6yXD6HUAABzf9b5S9FMtVK+Gp8lpbnTpSp5Onr2oe6u6y62ik9lxbnDkTI5Gr9hrt31OAIWj8AcAAFBOzZs3TxMnTtSIESN05swZBQQE6Pnnn9ekSZOsbcaNG6fz589r+PDhyszMVMeOHbV+/Xq5ubmZmBxASTB6/c5g9DoAAHeHejU8dV9Nb7NjFKhNkNkJADgiCn8AAADlVOXKlRUdHa3o6OhC21gsFkVGRioyMrLsggEoVYxeLxlGrwMAAABwZBT+AAAAAKAcYvQ6AAAAAOCPKpgdAAAAAAAAAAAAAEDJUfgDAAAAAAAAAAAAHACFPwAAAAAAAAAAAMABUPgDAAAAAAAAAAAAHACFPwAAAAAAAAAAAMAB2GXhLy8vTxMnTlRwcLDc3d1Vt25dTZ06VYZhWNsYhqFJkybJ399f7u7uCg0N1eHDh01MDQAAAAAAAAAAAJjHLgt/M2fOVExMjN577z0dPHhQM2fO1KxZszRv3jxrm1mzZmnu3LlasGCBduzYIQ8PD4WFhenSpUsmJgcAAAAAAAAAAADMYZeFv23btik8PFxPPPGEgoKC9Ne//lVdunTRzp07JV2b7RcdHa0JEyYoPDxczZs319KlS3X69GmtXr3a3PAAAAAAAAAod4KCgmSxWG7YRo4caXY0AACAIrPLwl/79u0VHx+vQ4cOSZKSkpK0ZcsWdevWTZJ07NgxpaenKzQ01HqOt7e32rVrp4SEhEKvm5ubq+zsbJsNAAAAAAAASExMVFpamnX7+uuvJUm9e/c2ORkAAEDROZsdoCDjx49Xdna2GjVqJCcnJ+Xl5WnatGnq37+/JCk9PV2S5Ovra3Oer6+v9VhBoqKiNGXKlNILDgAAAAAAgHLJx8fH5vWMGTNUt25dderUyaREAAAAxWeXM/5WrlypZcuWafny5frhhx8UFxen2bNnKy4urkTXjYiIUFZWlnU7ceLEHUoMAAAAAAAAR3H58mV9/PHHGjJkiCwWS4FtWFkKAADYI7uc8ffaa69p/Pjx6tu3rySpWbNmOn78uKKiojRo0CD5+flJkjIyMuTv7289LyMjQy1atCj0uq6urnJ1dS3V7AAAAAAAACjfVq9erczMTA0ePLjQNqwsBQAA7JFdzvi7cOGCKlSwjebk5KT8/HxJUnBwsPz8/BQfH289np2drR07digkJKRMswIAAAAAAMCxLF68WN26dVNAQEChbVhZCgAA2CO7nPHXo0cPTZs2TbVq1VLTpk21Z88evfPOOxoyZIgkyWKxaPTo0XrrrbdUv359BQcHa+LEiQoICFDPnj3NDQ8AAAAAAIBy6/jx4/rmm2/02Wef3bQdK0sBAAB7ZJeFv3nz5mnixIkaMWKEzpw5o4CAAD3//POaNGmStc24ceN0/vx5DR8+XJmZmerYsaPWr18vNzc3E5MDAAAAAACgPIuNjVWNGjX0xBNPmB0FAACg2Oyy8Fe5cmVFR0crOjq60DYWi0WRkZGKjIwsu2AAAAAAAABwWPn5+YqNjdWgQYPk7GyXt80AAABuyi6f8QcAAAAAAACUtW+++UapqanWx80AAACUNwxdAmA3LM7ZOpadrApunmZHKZeOZefI4pxtdgwAAAAAKLe6dOkiwzDMjgEAAHDbKPwBsBsVq+zQGzunmx2jXKtYpbOkx82OAQAAAAAAAAAwAYU/AHbjSmY7vf3E06pbgxl/tyPlTI5GLUsxOwYAAAAAAAAAwCQU/gDYDeOql4K9GqpJdW+zo5RL+ZeyZFz9r9kxAAAAAAAAAAAmqWB2AAAAAAAAAAAAAAAlR+EPAAAAAAAAAAAAcAAU/gAAAAAAAAAAAAAHQOEPAAAAAAAAAAAAcAAU/gAAAAAAAAAAAAAHQOEPAAAAAAAAAAAAcAAU/gAAAAAAAAAAAAAHQOEPAAAAAAAAAAAAcAAU/gAAAAAAAAAAAAAHQOEPAAAAAAAAAAAAcAAU/gAAAAAAAAAAAAAHQOEPAAAAAAAAAAAAcAAU/gAAAAAAAAAAAAAHQOEPAAAAAAAAAAAAcAAU/gAAAAAAAAAAAAAHQOEPAAAAAAAAAAAAcAAU/gAAAAAAAHDXO3XqlJ555hlVr15d7u7uatasmXbt2mV2LAAAgGJxNjsAAAAAAAAAYKazZ8+qQ4cOeuSRR7Ru3Tr5+Pjo8OHDqlq1qtnRAAAAioXCHwAAAAAAAO5qM2fOVGBgoGJjY637goODTUwEAABwe1jqEwAAAAAAAHe1NWvWqE2bNurdu7dq1Kihli1batGiRWbHAgAAKDZm/AEAAAAAAOCudvToUcXExGjMmDF64403lJiYqFGjRsnFxUWDBg0q8Jzc3Fzl5uZaX2dnZ5dVXABFZHHO1rHsZFVw8zQ7SrlzLDtHFmf+uwaURxT+AAAAAKCc4SbW7eMmFoCC5Ofnq02bNpo+fbokqWXLlvrpp5+0YMGCQgt/UVFRmjJlSlnGBFBMFavs0Bs7p5sdo9yqWKWzpMfNjgGgmCj8AQAAAEA5w02skuEmFoA/8vf3V5MmTWz2NW7cWKtWrSr0nIiICI0ZM8b6Ojs7W4GBgaWWEUDxXclsp7efeFp1azBYqrhSzuRo1LIUs2MAuA0U/gAAAMqxU6dO6fXXX9e6det04cIF1atXT7GxsWrTpo0kyTAMvfnmm1q0aJEyMzPVoUMHxcTEqH79+iYnB1AS3MS6fdzEAlCQDh06KDk52WbfoUOHVLt27ULPcXV1laura2lHA1ACxlUvBXs1VJPq3mZHKXfyL2XJuPpfs2MAuA12W/gLCgrS8ePHb9g/YsQIvf/++7p06ZJeffVVffLJJ8rNzVVYWJjmz58vX19fE9ICKKmLV/IkST+dyjI5SeEuXcnTybMXdW9Vd7lVdDI7zg2OnMkxOwKAMnb27Fl16NBBjzzyiNatWycfHx8dPnxYVatWtbaZNWuW5s6dq7i4OAUHB2vixIkKCwvTgQMH5ObmZmJ6ACXBTazbx00sAAV55ZVX1L59e02fPl19+vTRzp079cEHH+iDDz4wOxoAAECx2G3hLzExUXl5edbXP/30kx577DH17t1b0rUO2ZdffqlPP/1U3t7eevHFF/Xkk09q69atZkUGUAIp/1u0Gv/ZPpOTlH8ernb7n3YAd9jMmTMVGBio2NhY677g4GDrz4ZhKDo6WhMmTFB4eLgkaenSpfL19dXq1avVt2/fMs8MAABgj9q2bavPP/9cERERioyMVHBwsKKjo9W/f3+zowEAABSL3d4d9vHxsXk9Y8YM1a1bV506dVJWVpYWL16s5cuX69FHH5UkxcbGqnHjxtq+fbsefPBBMyIDKIEuTf0kSXVreMrdDmfTSddm1I1esVfRT7VQPTtdVsvD1VnB93iYHQNAGVmzZo3CwsLUu3dvbd68WTVr1tSIESM0bNgwSdKxY8eUnp6u0NBQ6zne3t5q166dEhISKPwBAAD8Tvfu3dW9e3ezYwAAAJSI3Rb+fu/y5cv6+OOPNWbMGFksFu3evVtXrlyxuYnVqFEj1apVSwkJCYUW/nJzc5Wbm2t9nZ2dXerZARRNNQ8X9X2gltkxiqReDU/dV5NltQCY7+jRo4qJidGYMWP0xhtvKDExUaNGjZKLi4sGDRqk9PR0SbphKXRfX1/rsYLQZwIAAAAAACifKpgdoChWr16tzMxMDR48WJKUnp4uFxcXValSxabdrW5iRUVFydvb27oFBgaWYmoAAIDSlZ+fr1atWmn69Olq2bKlhg8frmHDhmnBggUlui59JgAAAAAAgPKpXBT+Fi9erG7duikgIKBE14mIiFBWVpZ1O3HixB1KCAAAUPb8/f3VpEkTm32NGzdWamqqJMnP79oyyhkZGTZtMjIyrMcKQp8JAAAAAACgfLL7pT6PHz+ub775Rp999pl1n5+fny5fvqzMzEybWX+3uonl6uoqV1fX0owLAABQZjp06KDk5GSbfYcOHVLt2rUlScHBwfLz81N8fLxatGgh6dqynTt27NALL7xQ6HXpMwEAAAAAAJRPdj/jLzY2VjVq1NATTzxh3de6dWtVrFhR8fHx1n3JyclKTU1VSEiIGTEBAADK3CuvvKLt27dr+vTpOnLkiJYvX64PPvhAI0eOlCRZLBaNHj1ab731ltasWaN9+/Zp4MCBCggIUM+ePc0NDwAAAAAAgDvOrmf85efnKzY2VoMGDZKz8/9F9fb21tChQzVmzBhVq1ZNXl5eeumllxQSEqIHH3zQxMQAAABlp23btvr8888VERGhyMhIBQcHKzo6Wv3797e2GTdunM6fP6/hw4crMzNTHTt21Pr16+Xm5mZicgAAAAAAAJQGuy78ffPNN0pNTdWQIUNuODZnzhxVqFBBvXr1Um5ursLCwjR//nwTUgIAAJine/fu6t69e6HHLRaLIiMjFRkZWYapAAAAAAAAYAa7Lvx16dJFhmEUeMzNzU3vv/++3n///TJOBQAAAAAAAAAAANgfu3/GHwAAAAAAAAAAAIBbo/AHAAAAAAAAAAAAOAAKfwAAAAAAAAAAAIADoPAHAAAAAAAAAAAAOAAKfwAAAAAAAAAAAIADoPAHAAAAAAAAAAAAOAAKfwAAAAAAAAAAAIADoPAHAAAAAAAAAAAAOAAKfwAAAAAAAAAAAIADoPAHAAAAAAAAAAAAOAAKfwAAAAAAAAAAAIADoPAHAAAAAAAAAAAAOAAKfwAAAAAAALjrTZ48WRaLxWZr1KiR2bEAAACKxdnsAAAAAAAAAIA9aNq0qb755hvra2dnbp0BAIDyhd4LAAAAAAAAoGuFPj8/P7NjAAAA3DaW+gQAAAAAAAAkHT58WAEBAapTp4769++v1NTUQtvm5uYqOzvbZgMAADAbhT8AAAAAAADc9dq1a6clS5Zo/fr1iomJ0bFjx/TQQw/p3LlzBbaPioqSt7e3dQsMDCzjxAAAADei8AcAAAAAAIC7Xrdu3dS7d281b95cYWFh+uqrr5SZmamVK1cW2D4iIkJZWVnW7cSJE2WcGAAA4EY84w8AAAAAAAD4gypVqqhBgwY6cuRIgcddXV3l6upaxqkAAABujhl/AAAAAAAAwB/k5OQoJSVF/v7+ZkcBAAAoMgp/AAAAAAAAuOuNHTtWmzdv1s8//6xt27bpL3/5i5ycnNSvXz+zowEAABQZS30CAAAAAADgrnfy5En169dPv/76q3x8fNSxY0dt375dPj4+ZkcDAAAoMgp/AAAAAAAAuOt98sknZkcAAAAoMZb6BAAAAAAAAAAAABwAhT8AAAAAAAAAAADAAVD4AwAAAAAAAAAAABwAhT8AAAAAAAAAAADAAVD4AwAAAAAAAAAAABwAhT8AAAAAAAAAAADAATibHaAwp06d0uuvv65169bpwoULqlevnmJjY9WmTRtJkmEYevPNN7Vo0SJlZmaqQ4cOiomJUf369U1ODgAAAAAAAAAw08UreZKkn05lmZykYJeu5Onk2Yu6t6q73Co6mR3nBkfO5JgdAcBtssvC39mzZ9WhQwc98sgjWrdunXx8fHT48GFVrVrV2mbWrFmaO3eu4uLiFBwcrIkTJyosLEwHDhyQm5ubiekBAAAAoPRwE6tkuIkFAMDdIeV/v/PHf7bP5CTlm4erXZYQANyEXf6vdubMmQoMDFRsbKx1X3BwsPVnwzAUHR2tCRMmKDw8XJK0dOlS+fr6avXq1erbt2+ZZwYAAACAssBNrDuDm1gAADi2Lk39JEl1a3jK3U4HI41esVfRT7VQvRqeZscpkIers4Lv8TA7BoBissv/p7NmzRqFhYWpd+/e2rx5s2rWrKkRI0Zo2LBhkqRjx44pPT1doaGh1nO8vb3Vrl07JSQkFFr4y83NVW5urvV1dnZ26X4QAAAAALjDuIlVctzEAgDA8VXzcFHfB2qZHeOW6tXw1H01vc2OAcCB2GXh7+jRo4qJidGYMWP0xhtvKDExUaNGjZKLi4sGDRqk9PR0SZKvr6/Neb6+vtZjBYmKitKUKVNKNTsAAAAAlCZuYgEAAAAAClPB7AAFyc/PV6tWrTR9+nS1bNlSw4cP17Bhw7RgwYISXTciIkJZWVnW7cSJE3coMQAAAAAAAAAAAGAuuyz8+fv7q0mTJjb7GjdurNTUVEmSn9+1pW0yMjJs2mRkZFiPFcTV1VVeXl42GwAAAAAAAAAAAOAI7LLw16FDByUnJ9vsO3TokGrXri1JCg4Olp+fn+Lj463Hs7OztWPHDoWEhJRpVgAAAAAAAAAAAMAe2OUz/l555RW1b99e06dPV58+fbRz50598MEH+uCDDyRJFotFo0eP1ltvvaX69esrODhYEydOVEBAgHr27GlueAAAAAAAAAAAAMAEdln4a9u2rT7//HNFREQoMjJSwcHBio6OVv/+/a1txo0bp/Pnz2v48OHKzMxUx44dtX79erm5uZmYHAAAAAAAAAAAADCHXRb+JKl79+7q3mq7QUoAACMfSURBVL17occtFosiIyMVGRlZhqkAAAAAAAAAAAAA+2SXz/gDAAAAAAAAAAAAUDwU/gAAAAAAAAAAAAAHQOEPAAAAAAAAAAAAcAAU/gAAAAAAAIDfmTFjhiwWi0aPHm12FAAAgGKh8AcAAAAAAAD8r8TERC1cuFDNmzc3OwoAAECxUfgDAABwEAWNTL906ZJGjhyp6tWry9PTU7169VJGRoZ5IQEAAOxYTk6O+vfvr0WLFqlq1apmxwEAACg2Cn8AAAAOoLCR6a+88or+9a9/6dNPP9XmzZt1+vRpPfnkkyalBAAAsG8jR47UE088odDQ0Fu2zc3NVXZ2ts0GAABgNgp/AAAA5VxhI9OzsrK0ePFivfPOO3r00UfVunVrxcbGatu2bdq+fbuJiQEAAOzPJ598oh9++EFRUVFFah8VFSVvb2/rFhgYWMoJAQAAbo3CHwAAQDlX2Mj03bt368qVKzb7GzVqpFq1aikhIaGsYwIAANitEydO6OWXX9ayZcvk5uZWpHMiIiKUlZVl3U6cOFHKKQEAAG7N2ewAAAAAuH3XR6YnJibecCw9PV0uLi6qUqWKzX5fX1+lp6cXes3c3Fzl5uZaX7NsFQAAcHS7d+/WmTNn1KpVK+u+vLw8fffdd3rvvfeUm5srJycnm3NcXV3l6upa1lEBAABuisIfAABAOXV9ZPrXX39d5JHpRREVFaUpU6bcsesBAADYu86dO2vfvn02+5599lk1atRIr7/++g1FPwAAAHvFUp8AAADl1O9Hpjs7O8vZ2VmbN2/W3Llz5ezsLF9fX12+fFmZmZk252VkZMjPz6/Q67JsFQAAuNtUrlxZ9913n83m4eGh6tWr67777jM7HgAAQJEx4w8AAKCcutXI9MDAQFWsWFHx8fHq1auXJCk5OVmpqakKCQkp9LosWwUAAAAAAFA+UfgDAAAop66PTP+9P45MHzp0qMaMGaNq1arJy8tLL730kkJCQvTggw+aERkAAKDc2LRpk9kRAAAAio3CHwAAgAObM2eOKlSooF69eik3N1dhYWGaP3++2bEAAAAAAABQCij8AQAAOJA/jkx3c3PT+++/r/fff9+cQAAAAAAAACgzFcwOAAAAAAAAAAAAAKDkKPwBAAAAAAAAAAAADoDCHwAAAAAAAAAAAOAAKPwBAAAAAAAAAAAADoDCHwAAAAAAAAAAAOAAKPwBAAAAAAAAAAAADoDCHwAAAAAAAAAAAOAAKPwBAAAAAAAAAAAADoDCHwAAAAAAAAAAAOAAKPwBAAAAAAAAAAAADoDCHwAAAAAAAAAAAOAAKPwBAAAAAAAAAAAADoDCHwAAAAAAAAAAAOAA7LLwN3nyZFksFputUaNG1uOXLl3SyJEjVb16dXl6eqpXr17KyMgwMTEAAAAAAAAAAABgLrss/ElS06ZNlZaWZt22bNliPfbKK6/oX//6lz799FNt3rxZp0+f1pNPPmliWgAAAAAAAAAAAMBczmYHKIyzs7P8/Pxu2J+VlaXFixdr+fLlevTRRyVJsbGxaty4sbZv364HH3ywrKMCAAAAAAAAAAAAprPbGX+HDx9WQECA6tSpo/79+ys1NVWStHv3bl25ckWhoaHWto0aNVKtWrWUkJBw02vm5uYqOzvbZgMAAAAAAAAAAAAcgV0W/tq1a6clS5Zo/fr1iomJ0bFjx/TQQw/p3LlzSk9Pl4uLi6pUqWJzjq+vr9LT02963aioKHl7e1u3wMDAUvwUAAAAAAAAAAAAQNmxy8Jft27d1Lt3bzVv3lxhYWH66quvlJmZqZUrV5bouhEREcrKyrJuJ06cuEOJAQAAAAAAUJ7FxMSoefPm8vLykpeXl0JCQrRu3TqzYwEAABSLXRb+/qhKlSpq0KCBjhw5Ij8/P12+fFmZmZk2bTIyMgp8JuDvubq6Wjtv1zcAAAAAAADg3nvv1YwZM7R7927t2rVLjz76qMLDw7V//36zowEAABRZuSj85eTkKCUlRf7+/mrdurUqVqyo+Ph46/Hk5GSlpqYqJCTExJQAAAAAAAAor3r06KHHH39c9evXV4MGDTRt2jR5enpq+/btZkcDAAAoMmezAxRk7Nix6tGjh2rXrq3Tp0/rzTfflJOTk/r16ydvb28NHTpUY8aMUbVq1eTl5aWXXnpJISEhevDBB82ODsBOXLycp5T/5tzRax45k2Pzzzulro+n3F2c7ug1AQAAiupO95voMwFwBHl5efr00091/vz5Qgea5+bmKjc31/o6Ozu7rOIBMAF9JgDlhV0W/k6ePKl+/frp119/lY+Pjzp27Kjt27fLx8dHkjRnzhxVqFBBvXr1Um5ursLCwjR//nyTUwOwJyn/zVH3eVtK5dqjV+y9o9db+1JH3VfT+45eEwAAoKhKq99EnwlAebRv3z6FhITo0qVL8vT01Oeff64mTZoU2DYqKkpTpkwp44QAzEKfCUB5YTEMwzA7hFmys7Pl7e2trKwsnvcHOJjSmPF36UqeTp69qHurusut4p0bOcVILMAxOVI/w5E+C4Ab3el+E30mAMVhb/2My5cvKzU1VVlZWfrnP/+pDz/8UJs3by6w+FfQjL/AwEC7+SwA7iz6TADMVJw+E4U/O+pcAgAAx+FI/QxH+iwAAMC+2Hs/IzQ0VHXr1tXChQtv2dbePwsAACi/itPPqFBGmQAAAAAAAIByJT8/32ZWHwAAgL2zy2f8AQAAAAAAAGUpIiJC3bp1U61atXTu3DktX75cmzZt0oYNG8yOBgAAUGQU/gAAAAAAAHDXO3PmjAYOHKi0tDR5e3urefPm2rBhgx577DGzowEAABQZhT8AAAAAAADc9RYvXmx2BAAAgBLjGX8AAAAAAAAAAACAA7irZ/wZhiFJys7ONjkJAABwNNf7F9f7G+UZfSYAAFBa6DMBAADcWnH6THd14e/cuXOSpMDAQJOTAAAAR3Xu3Dl5e3ubHaNE6DMBAIDSRp8JAADg1orSZ7IYjjCk6jbl5+fr9OnTqly5siwWi9lxANi57OxsBQYG6sSJE/Ly8jI7DgA7ZxiGzp07p4CAAFWoUL5XV6fPBKA46DMBKA76TADuVvSZABRHcfpMd3XhDwCKIzs7W97e3srKyqJDBgAAUAj6TAAAALdGnwlAaSnfQ6kAAAAAAAAAAAAASKLwBwAAAAAAAAAAADgECn8AUESurq5688035erqanYUAAAAu0WfCQAA4NboMwEoLTzjDwAAAAAAAAAAAHAAzPgDAAAAAAAAAAAAHACFPwAAAAAAAAAAAMABUPgDAAAAAAAAAAAAHACFPwAOb9OmTbJYLMrMzLxpu6CgIEVHR5dJJgAAgPIuPT1djz32mDw8PFSlShWz4wAAAFgV9x7P5MmT1aJFi5u2GTx4sHr27FmiXPbq559/lsVi0d69e4t8jiP/PoDyjsIfANMU1kEoaqHudi1ZsqRUbk5t3rxZjz76qKpVq6ZKlSqpfv36GjRokC5fvnzH3wsAAFyTnp6ul19+WfXq1ZObm5t8fX3VoUMHxcTE6MKFC2WWo7T7LyVhsVism7e3tzp06KBvv/22xNedM2eO0tLStHfvXh06dOgOJHU8SUlJ+vOf/6waNWrIzc1NQUFBeuqpp3TmzBmzowEAUG4ZhqHQ0FCFhYXdcGz+/PmqUqWKvv/+ew0fPtyEdNcMHjzY2v9ycXFRvXr1FBkZqatXrxbp/NK6d3U92x/vxwUGBiotLU333XdfqbwngLJF4Q8A7oADBw6oa9euatOmjb777jvt27dP8+bNk4uLi/Ly8krlPQ3DKHKHEQAAR3T06FG1bNlSGzdu1PTp07Vnzx4lJCRo3LhxWrt2rb755huzI9qN2NhYpaWlaevWrbrnnnvUvXt3HT169LaudX1QU0pKilq3bq369eurRo0aJbqWI/rvf/+rzp07q1q1atqwYYMOHjyo2NhYBQQE6Pz586X2vleuXCm1awMAYA8sFotiY2O1Y8cOLVy40Lr/2LFjGjdunObNm6fAwEBVqlTJxJRS165dlZaWpsOHD+vVV1/V5MmT9be//c3UTIVxcnKSn5+fnJ2dzY4C4A6g8AfA7m3ZskUPPfSQ3N3dFRgYqFGjRtncLPnoo4/Upk0bVa5cWX5+fnr66acLHUW9adMmPfvss8rKyrKOvJo8ebL1+IULFzRkyBBVrlxZtWrV0gcffFCkjBs3bpSfn59mzZql++67T3Xr1lXXrl21aNEiubu7W9tt3bpVf/rTn1SpUiVVrVpVYWFhOnv2rCQpNzdXo0aNso4I79ixoxITE22yWywWrVu3Tq1bt5arq6u2bNmi/Px8RUVFKTg4WO7u7rr//vv1z3/+szi/YgAAyqURI0bI2dlZu3btUp8+fdS4cWPVqVNH4eHh+vLLL9WjRw9JUmZmpp577jn5+PjIy8tLjz76qJKSkqzXub6000cffaSgoCB5e3urb9++OnfunLXNzb6nf/75Zz3yyCOSpKpVq8pisWjw4MFaunSpqlevrtzcXJvcPXv21IABA2zee+HChdYbVH369FFWVpbNOR9++KEaN24sNzc3NWrUSPPnzy/W76pKlSry8/PTfffdp5iYGF28eFFff/21JOmnn35St27d5OnpKV9fXw0YMEC//PKL9dw//elPevHFFzV69Gjdc889CgsLU1BQkFatWqWlS5daP68kpaamKjw8XJ6envLy8lKfPn2UkZFxw+/6ww8/VHBwsNzc3CRdu4G3cOFCde/eXZUqVVLjxo2VkJCgI0eO6E9/+pM8PDzUvn17paSkWK+VkpKi8PBw+fr6ytPTU23btr2h2BsUFKTp06fftH938uRJ9evXT9WqVZOHh4fatGmjHTt2WI9/8cUXatWqldzc3FSnTh1NmTKlSIOvtm7dqqysLH344Ydq2bKlgoOD9cgjj2jOnDkKDg62ttu/f7+6d+8uLy8vVa5cWQ899JD1c+bn5ysyMlL33nuvXF1d1aJFC61fv9567vVluVasWKFOnTrJzc1Ny5Ytk1TyvxkAAOxZYGCg3n33XY0dO1bHjh2TYRgaOnSounTpogEDBtyw1Oet+oN/lJeXpzFjxqhKlSqqXr26xo0bJ8MwipXR1dVVfn5+ql27tl544QWFhoZqzZo1kqSzZ89q4MCBqlq1qipVqqRu3brp8OHDkm5+7yo3N1djx45VzZo15eHhoXbt2mnTpk3W97w+U3DDhg1q3LixPD09rQVI6VpfLC4uTl988YX12ps2bbphqc+8vDwNHTrUeq+pYcOGevfdd4v1+QGYh8IfALuWkpKirl27qlevXvrxxx+1YsUKbdmyRS+++KK1zZUrVzR16lQlJSVp9erV+vnnn603n/6offv2io6OlpeXl9LS0pSWlqaxY8daj7/99ttq06aN9uzZoxEjRuiFF15QcnLyLXP6+fkpLS1N3333XaFt9u7dq86dO6tJkyZKSEjQli1b1KNHD+uMwHHjxmnVqlWKi4vTDz/8oHr16iksLEy//fabzXXGjx+vGTNm6ODBg2revLmioqK0dOlSLViwQPv379crr7yiZ555Rps3b75lbgAAyqtff/1VGzdu1MiRI+Xh4VFgG4vFIknq3bu3zpw5o3Xr1mn37t1q1aqVOnfubPMdm5KSotWrV2vt2rVau3atNm/erBkzZliP3+x7OjAwUKtWrZIkJScnKy0tTe+++6569+6tvLw86w0eSTpz5oy+/PJLDRkyxLrvyJEjWrlypf71r39p/fr11n7IdcuWLdOkSZM0bdo0HTx4UNOnT9fEiRMVFxd3W7+764OSLl++rMzMTD366KNq2bKldu3apfXr1ysjI0N9+vSxOScuLk4uLi7aunWrFixYoMTERHXt2lV9+vSxft78/HyFh4frt99+0+bNm/X111/r6NGjeuqpp2yudeTIEa1atUqfffaZzXNkpk6dqoEDB2rv3r1q1KiRnn76aT3//POKiIjQrl27ZBiGTR8wJydHjz/+uOLj47Vnzx517dpVPXr0UGpqqs373ax/l5OTo06dOunUqVNas2aNkpKSNG7cOOXn50uSvv/+ew0cOFAvv/yyDhw4oIULF2rJkiWaNm3aLX/Pfn5+unr1qj7//PNCbxSeOnVKDz/8sFxdXfXtt99q9+7dGjJkiLWw+O677+rtt9/W7Nmz9eOPPyosLEx//vOfrTcGrxs/frxefvllHTx4UGFhYXf8bwYAAHs0aNAgde7cWUOGDNF7772nn376yWYG4O8VpT/4e2+//baWLFmiv//979qyZYt+++03ff755yXK6+7ubl3tYPDgwdq1a5fWrFmjhIQEGYahxx9/XFeuXLnpvasXX3xRCQkJ+uSTT/Tjjz+qd+/e6tq1q03f4MKFC5o9e7Y++ugjfffdd0pNTbWeP3bsWPXp08daDExLS1P79u1vyJqfn697771Xn376qQ4cOKBJkybpjTfe0MqVK0v0OwBQRgwAMMmgQYMMJycnw8PDw2Zzc3MzJBlnz541hg4dagwfPtzmvO+//96oUKGCcfHixQKvm5iYaEgyzp07ZxiGYfz73/+2Xs8wDCM2Ntbw9va+4bzatWsbzzzzjPV1fn6+UaNGDSMmJuaWn+Xq1avG4MGDDUmGn5+f0bNnT2PevHlGVlaWtU2/fv2MDh06FHh+Tk6OUbFiRWPZsmXWfZcvXzYCAgKMWbNm2XyO1atXW9tcunTJqFSpkrFt2zab6w0dOtTo16/fLXMDAFBebd++3ZBkfPbZZzb7q1evbu1TjBs3zvj+++8NLy8v49KlSzbt6tatayxcuNAwDMN48803jUqVKhnZ2dnW46+99prRrl07wzCK9z19vb9x3QsvvGB069bN+vrtt9826tSpY+Tn51vf28nJyTh58qS1zbp164wKFSoYaWlp1qzLly+3ue7UqVONkJCQIv2uJBmff/65YRiGcf78eWPEiBGGk5OTkZSUZEydOtXo0qWLTfsTJ04Ykozk5GTDMAyjU6dORsuWLW+4bnh4uDFo0CDr640bNxpOTk5Gamqqdd/+/fsNScbOnTutn7dixYrGmTNnbsg4YcIE6+uEhARDkrF48WLrvn/84x+Gm5vbTT9r06ZNjXnz5llf36p/t3DhQqNy5crGr7/+WuD1OnfubEyfPt1m30cffWT4+/vfNMd1b7zxhuHs7GxUq1bN6Nq1qzFr1iwjPT3dejwiIsIIDg42Ll++XOD5AQEBxrRp02z2tW3b1hgxYoRhGIZx7NgxQ5IRHR1t06akfzMAAJQXGRkZxj333GNUqFDB2t8xjGt9gDlz5hiGYRS5P3j//fdbj/n7+1v7eYZhGFeuXDHuvfdeIzw8vEi5Bg0aZG2bn59vfP3114arq6sxduxY49ChQ4YkY+vWrdb2v/zyi+Hu7m6sXLnSMIyC710dP37ccHJyMk6dOmWzv3PnzkZERIT1PEnGkSNHrMfff/99w9fXt8Bs113vU+zZs6fQzzRy5EijV69eN70OAPvAor0ATPXII48oJibGZt+OHTv0zDPPSJKSkpL0448/Wpcskq492y4/P1/Hjh1T48aNtXv3bk2ePFlJSUk6e/asdYR2amqqmjRpUqw8zZs3t/5ssVjk5+dX6LKhv+fk5KTY2Fi99dZb+vbbb7Vjxw5Nnz5dM2fO1M6dO+Xv76+9e/eqd+/eBZ6fkpKiK1euqEOHDtZ9FStW1AMPPKCDBw/atG3Tpo315yNHjujChQt67LHHbNpcvnxZLVu2LNJnBgDAkezcuVP5+fnq37+/cnNzlZSUpJycHFWvXt2m3cWLF22WjQwKClLlypWtr/39/a19gOJ8T//RsGHD1LZtW506dUo1a9bUkiVLNHjwYOtsREmqVauWatasaX0dEhKi/Px8JScnq3LlykpJSdHQoUM1bNgwa5urV6/K29u7yL+Xfv36ycnJSRcvXpSPj48WL16s5s2ba+rUqfr3v/8tT0/PG85JSUlRgwYNJEmtW7e+5XscPHhQgYGBCgwMtO5r0qSJqlSpooMHD6pt27aSpNq1a8vHx+eG83/fD/P19ZUkNWvWzGbfpUuXlJ2dLS8vL+Xk5Gjy5Mn68ssvlZaWpqtXr+rixYs3zPi7Wf9u7969atmypapVq1bgZ0pKStLWrVttZvjl5eXp0qVLunDhwi2fHTRt2jSNGTPG2j9csGCBpk+fru+++07NmjXT3r179dBDD6lixYo3nJudna3Tp0/b/N1JUocOHW5Ymuz3/cPz58/fkb8ZAADKgxo1auj555/X6tWr1bNnzwLbFLU/eF1WVpbS0tLUrl076z5nZ2e1adOmWMt9rl27Vp6enrpy5Yry8/P19NNPa/LkyYqPj5ezs7PN9atXr66GDRvetG+5b98+5eXlWftn1+Xm5tp8tkqVKqlu3brW17/v1xbH+++/r7///e9KTU3VxYsXdfnyZbVo0aLY1wFQ9ij8ATCVh4eH6tWrZ7Pv5MmT1p9zcnL0/PPPa9SoUTecW6tWLZ0/f15hYWHWJY18fHyUmpqqsLAw6/IJxfHHmy4Wi8VaSCyKmjVrasCAARowYICmTp2qBg0aaMGCBZoyZYrNs/5K4vfLmeXk5EiSvvzyS5sbhtK1teQBAHBU9erVk8ViuWFJ7jp16kj6v+Usc3Jy5O/vb/Psk+uqVKli/bmkfYDCtGzZUvfff7+WLl2qLl26aP/+/fryyy+LfP717/pFixbZ3BySrg08Kqo5c+YoNDRU3t7eNkW3nJwc9ejRQzNnzrzhHH9/f+vPhS2nejsKu9bv/x1cL4wWtO/6v5exY8fq66+/1uzZs1WvXj25u7vrr3/96w19wJv9u71V/ywnJ0dTpkzRk08+ecOx688nvJXq1aurd+/e6t27t6ZPn66WLVtq9uzZiouLK9X+YUn/ZgAAKC+cnZ3l7Fz4be6i9gfvtOuD3V1cXBQQEHDTjEWRk5MjJycn7d69+4bv9N8P4iqo71OcgqUkffLJJxo7dqzefvtthYSEqHLlyvrb3/5m8xxkAPaLwh8Au9aqVSsdOHDghuLgdfv27dOvv/6qGTNmWEeX79q166bXdHFxsT5XrzRVrVpV/v7+On/+vKRro83j4+M1ZcqUG9rWrVvX+tyc2rVrS7r27MLExESNHj260Pdo0qSJXF1dlZqaqk6dOpXK5wAAwB5Vr15djz32mN577z299NJLhRaTWrVqpfT0dDk7OysoKOi23qso39MuLi6SVGAf47nnnlN0dLROnTql0NBQmxlx0rVVCk6fPq2AgABJ0vbt21WhQgU1bNhQvr6+CggI0NGjR9W/f//byi9de95cQf2pVq1aadWqVQoKCirxzajGjRvrxIkTOnHihPUzHjhwQJmZmcVehaEotm7dqsGDB+svf/mLpGs3w37++ediXaN58+b68MMP9dtvvxU4669Vq1ZKTk4utC9aXC4uLqpbt65N/zAuLk5Xrly54Sadl5eXAgICtHXrVpt+3tatW/XAAw8U+h536m8GAABHUdz+oLe3t/z9/bVjxw49/PDDkq7NnL/+bMCiKmiwu3Stz3T16lXt2LHD+ny9X3/9VcnJydY+U0H3rlq2bKm8vDydOXNGDz30UJFz/FFR7ott3bpV7du3t3nudEGzIwHYpwpmBwCAm3n99de1bds2vfjii9q7d68OHz6sL774Qi+++KKka7P+XFxcNG/ePB09elRr1qzR1KlTb3rNoKAg5eTkKD4+Xr/88osuXLhQ4pwLFy7UCy+8oI0bNyolJUX79+/X66+/rv3796tHjx6SpIiICCUmJmrEiBH68ccf9Z///EcxMTH65Zdf5OHhoRdeeEGvvfaa1q9frwMHDmjYsGG6cOGChg4dWuj7Vq5cWWPHjtUrr7yiuLg4paSk6IcfftC8efMUFxdX4s8FAIA9mz9/vq5evao2bdpoxYoVOnjwoJKTk/Xxxx/rP//5j5ycnBQaGqqQkBD17NlTGzdu1M8//6xt27bp//2//3fLwULXFeV7unbt2rJYLFq7dq3++9//WmddSdLTTz+tkydPatGiRRoyZMgN13dzc9OgQYOUlJSk77//XqNGjVKfPn3k5+cnSZoyZYqioqI0d+5cHTp0SPv27VNsbKzeeeedEv8OR44cqd9++039+vVTYmKiUlJStGHDBj377LPFHigVGhqqZs2aqX///vrhhx+0c+dODRw4UJ06dbJZivJOqV+/vj777DPt3btXSUlJevrpp4s9S7Nfv37y8/NTz549tXXrVh09elSrVq1SQkKCJGnSpElaunSppkyZov379+vgwYP65JNPNGHChFtee+3atXrmmWe0du1aHTp0SMnJyZo9e7a++uorhYeHS5JefPFFZWdnq2/fvtq1a5cOHz6sjz76yDqT9bXXXtPMmTO1YsUKJScna/z48dq7d69efvnlm753af7NAABQ3txOf/Dll1/WjBkztHr1av3nP//RiBEjlJmZeUfy1K9fX+Hh4Ro2bJi2bNmipKQkPfPMM6pZs6a1j1DQvasGDRqof//+GjhwoD777DMdO3ZMO3fuVFRUVLFWlAgKCtKPP/6o5ORk/fLLL7py5UqBGXft2qUNGzbo0KFDmjhxohITE+/I5wdQ+ij8AbBrzZs31+bNm3Xo0CE99NBDatmypSZNmmQdEe/j46MlS5bo008/VZMmTTRjxgzNnj37ptds3769/ud//kdPPfWUfHx8NGvWrBLnfOCBB5STk6P/+Z//UdOmTdWpUydt375dq1evto7QbtCggTZu3KikpCQ98MADCgkJ0RdffGEdXT9jxgz16tVLAwYMUKtWrXTkyBFt2LBBVatWvel7T506VRMnTlRUVJQaN26srl276ssvv1RwcHCJPxcAAPasbt262rNnj0JDQxUREaH7779fbdq00bx58zR27FhNnTpVFotFX331lR5++GE9++yzatCggfr27avjx49bnyNXFLf6nq5Zs6amTJmi8ePHy9fX1zpISbo2arxXr17y9PQs8Nkz9erV05NPPqnHH39cXbp0UfPmzTV//nzr8eeee04ffvihYmNj1axZM3Xq1ElLliy5I9/112eU5eXlqUuXLmrWrJlGjx6tKlWqqEKF4v3fRYvFoi+++EJVq1bVww8/rNDQUNWpU0crVqwocc6CvPPOO6patarat2+vHj16KCwsrFij8KVrI943btyoGjVq6PHHH1ezZs00Y8YM6/JZYWFhWrt2rTZu3Ki2bdvqwQcf1Jw5c6wzP2+mSZMmqlSpkl599VW1aNFCDz74oFauXKkPP/xQAwYMkHRt5uq3336rnJwcderUSa1bt9aiRYuss/9GjRqlMWPG6NVXX1WzZs20fv16rVmzRvXr17/pe5fm3wwAAOXN7fQHX331VQ0YMECDBg2yLnV5fZWBOyE2NlatW7dW9+7dFRISIsMw9NVXX1n7AIXdu4qNjdXAgQP16quvqmHDhurZs6cSExNVq1atIr/3sGHD1LBhQ7Vp00Y+Pj7aunXrDW2ef/55Pfnkk3rqqafUrl07/frrrzaz/wDYN4tR3AV+AQAAAADF0rlzZzVt2lRz58612T958mStXr1ae/fuNScYAAAAAMCh8Iw/AAAAACglZ8+e1aZNm7Rp0yabWXwAAAAAAJQGlvoEgCKYPn26PD09C9y6detmdjwAAGCnWrZsqcGDB2vmzJlq2LDhHb8+fRTzLFu2rNDffdOmTc2OBwAASklqamqhfQBPT0+lpqaaHRHAXY6lPgGgCH777Tf99ttvBR5zd3dXzZo1yzgRAAAAfRQznTt3ThkZGQUeq1ixYpGeAwgAAMqfq1ev6ueffy70eFBQkJydWWgPgHko/AEAAAAAAAAAAAAOgKU+AQAAAAAAAAAAAAdA4Q8AAAAAAAAAAABwABT+AAAAAAAAAAAAAAdA4Q8AAAAAAAAAAABwABT+AAAAAAAAAAAAAAdA4Q8AAAAAAAAAAABwABT+AAAAAAAAAAAAAAdA4Q8AAAAAAAAAAABwAP8fXA5vXeAvAocAAAAASUVORK5CYII=",
            "text/plain": [
              "<Figure size 1800x1200 with 15 Axes>"
            ]
          },
          "metadata": {},
          "output_type": "display_data"
        }
      ],
      "source": [
        "#Boxplots after handling Outliers\n",
        "\n",
        "plt.figure(figsize=(15, 8))\n",
        "df[numeric_columns].plot(kind='box', subplots=True, layout=(len(numeric_columns) // 3 + 1, 3), figsize=(18, 12), sharex=False, sharey=False)\n",
        "plt.tight_layout()\n",
        "plt.suptitle(\"Boxplots for All Numeric Columns\", fontsize=16, y=1.02)\n",
        "plt.show()"
      ]
    },
    {
      "cell_type": "code",
<<<<<<< Updated upstream
<<<<<<< Updated upstream
      "source": [
        "import bpy\n",
        "\n",
        "# Sample values\n",
        "leaf_area = 120\n",
        "stem_thickness = 2.5\n",
        "plant_height = 35\n",
        "\n",
        "# Add a simple leaf (plane mesh)\n",
        "bpy.ops.mesh.primitive_plane_add(size=1)\n",
        "leaf = bpy.context.active_object\n",
        "leaf.scale = (leaf_area / 100, leaf_area / 100, 0.1)\n",
        "\n",
        "# Add stem (cylinder)\n",
        "bpy.ops.mesh.primitive_cylinder_add(radius=stem_thickness / 10, depth=plant_height)\n",
        "stem = bpy.context.active_object\n",
        "stem.location = (0, 0, plant_height / 2)"
      ],
      "metadata": {
        "id": "5bwUhaOKVYD0"
      },
      "execution_count": null,
      "outputs": []
    },
    {
      "cell_type": "code",
      "source": [],
      "metadata": {
        "id": "zVZWTmQvYhK9"
      },
      "execution_count": null,
      "outputs": []
=======
      "execution_count": null,
      "metadata": {
        "id": "5bwUhaOKVYD0"
      },
      "outputs": [],
      "source": []
>>>>>>> Stashed changes
=======
      "execution_count": null,
      "metadata": {
        "id": "5bwUhaOKVYD0"
      },
      "outputs": [],
      "source": []
>>>>>>> Stashed changes
    }
  ],
  "metadata": {
    "colab": {
      "authorship_tag": "ABX9TyNSgTiD+Q6yBFTB8Yksmd+H",
      "gpuType": "T4",
      "include_colab_link": true,
      "provenance": []
    },
    "kernelspec": {
      "display_name": "Python 3",
      "name": "python3"
    },
    "language_info": {
      "name": "python"
    }
  },
  "nbformat": 4,
  "nbformat_minor": 0
}
